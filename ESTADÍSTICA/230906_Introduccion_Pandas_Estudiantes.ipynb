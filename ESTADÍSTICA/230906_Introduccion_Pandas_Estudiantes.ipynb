{
  "cells": [
    {
      "cell_type": "markdown",
      "metadata": {
        "id": "ZPWtiJHL8sGl"
      },
      "source": [
        "# **Introducción a Pandas, MatPlotLib, Seaborn :**\n",
        "#    **Dataframe: Demografia 2022**"
      ]
    },
    {
      "cell_type": "markdown",
      "metadata": {
        "id": "LL4M1BjJ6Un_"
      },
      "source": [
        "*Preparado* por: Leandro González Támara <br>\n",
        "Utilizando: <br>\n",
        "![](https://www.python.org/static/community_logos/python-logo-generic.svg)"
      ]
    },
    {
      "cell_type": "markdown",
      "metadata": {
        "id": "9diTOPshu7RW"
      },
      "source": [
        "#***Pasos 1, 2, 3 y 4 para comenzar:*** <br>\n"
      ]
    },
    {
      "cell_type": "code",
      "execution_count": 1,
      "metadata": {
        "id": "_aoJP1sqrobl"
      },
      "outputs": [],
      "source": [
        "# 2. Importar la libreria Pandas ;)\n",
        "import pandas as pd"
      ]
    },
    {
      "cell_type": "code",
      "execution_count": null,
      "metadata": {
        "id": "IsNE9S8_J_Hn"
      },
      "outputs": [],
      "source": [
        "# 3. Importar un archivo csv, si el delimitador es tabulación usar /t   si solo se quiere importar 2000 casos nrows=2000\n",
        "# df=pd.read_csv('/content/drive/My Drive/Demografia2022/Demografia2022.csv', delimiter=';', encoding = 'unicode_escape' )"
      ]
    },
    {
      "cell_type": "code",
      "execution_count": 2,
      "metadata": {
        "id": "GxM9QKeZDuUb"
      },
      "outputs": [],
      "source": [
        "# 4. Importar un archivo de Excel (index_col=0 para escoger un columna predeterminada como index)\n",
        "df=pd.read_excel(\"Demografia2022.xlsx\", sheet_name=\"Demografia2022\")"
      ]
    },
    {
      "cell_type": "markdown",
      "metadata": {
        "id": "i3jQcfFOwojk"
      },
      "source": [
        "#***Pasos 5 a 11 para explorar el dataframe***"
      ]
    },
    {
      "cell_type": "code",
      "execution_count": 3,
      "metadata": {
        "id": "MDhH7AH4MFQk"
      },
      "outputs": [
        {
          "name": "stdout",
          "output_type": "stream",
          "text": [
            "Index(['Country_name', 'TPopulation1Jan', 'TPopulation1July',\n",
            "       'TPopulationMale1July', 'TPopulationFemale1July', 'PopDensity',\n",
            "       'PopSexRatio', 'MedianAgePop', 'NatChange', 'NatChangeRT', 'PopChange',\n",
            "       'PopGrowthRate', 'DoublingTime', 'Births', 'Births1519', 'CBR', 'TFR',\n",
            "       'NRR', 'MAC', 'SRB', 'Deaths', 'DeathsMale', 'DeathsFemale', 'CDR',\n",
            "       'LEx', 'LExMale', 'LExFemale', 'LE15', 'LE15Male', 'LE15Female', 'LE65',\n",
            "       'LE65Male', 'LE65Female', 'LE80', 'LE80Male', 'LE80Female',\n",
            "       'InfantDeaths', 'IMR', 'LBsurvivingAge1', 'Under5Deaths', 'Q5', 'Q0040',\n",
            "       'Q0040Male', 'Q0040Female', 'Q0060', 'Q0060Male', 'Q0060Female',\n",
            "       'Q1550', 'Q1550Male', 'Q1550Female', 'Q1560', 'Q1560Male',\n",
            "       'Q1560Female', 'NetMigrations', 'CNMR', 'CCode', 'Region',\n",
            "       'IncomeGroup', 'GDPpp2020', 'Country', 'Continent'],\n",
            "      dtype='object')\n"
          ]
        }
      ],
      "source": [
        "# 5. Ver las variables en el archivo\n",
        "print(df.columns)"
      ]
    },
    {
      "cell_type": "code",
      "execution_count": 4,
      "metadata": {
        "colab": {
          "base_uri": "https://localhost:8080/"
        },
        "id": "khurHrkeMOvq",
        "outputId": "673c434c-8949-4c94-bc7e-8395bd0d6eca"
      },
      "outputs": [
        {
          "data": {
            "text/plain": [
              "(237, 61)"
            ]
          },
          "execution_count": 4,
          "metadata": {},
          "output_type": "execute_result"
        }
      ],
      "source": [
        "# 6. Ver el tamaño del dataframe\n",
        "df.shape\n",
        "#df.shape[0]\n",
        "#df.shape[1]"
      ]
    },
    {
      "cell_type": "code",
      "execution_count": 5,
      "metadata": {
        "id": "Fv0LeJPHONz9"
      },
      "outputs": [
        {
          "data": {
            "text/plain": [
              "Country_name               0\n",
              "TPopulation1Jan            0\n",
              "TPopulation1July           0\n",
              "TPopulationMale1July       0\n",
              "TPopulationFemale1July     0\n",
              "                          ..\n",
              "Region                     0\n",
              "IncomeGroup               23\n",
              "GDPpp2020                 37\n",
              "Country                    0\n",
              "Continent                  0\n",
              "Length: 61, dtype: int64"
            ]
          },
          "execution_count": 5,
          "metadata": {},
          "output_type": "execute_result"
        }
      ],
      "source": [
        "# 7. Ver NULL\n",
        "df.isnull().sum(axis = 0)"
      ]
    },
    {
      "cell_type": "code",
      "execution_count": 6,
      "metadata": {
        "id": "1jZVVLxfM-3h"
      },
      "outputs": [
        {
          "data": {
            "text/html": [
              "<div>\n",
              "<style scoped>\n",
              "    .dataframe tbody tr th:only-of-type {\n",
              "        vertical-align: middle;\n",
              "    }\n",
              "\n",
              "    .dataframe tbody tr th {\n",
              "        vertical-align: top;\n",
              "    }\n",
              "\n",
              "    .dataframe thead th {\n",
              "        text-align: right;\n",
              "    }\n",
              "</style>\n",
              "<table border=\"1\" class=\"dataframe\">\n",
              "  <thead>\n",
              "    <tr style=\"text-align: right;\">\n",
              "      <th></th>\n",
              "      <th>Country_name</th>\n",
              "      <th>TPopulation1Jan</th>\n",
              "      <th>TPopulation1July</th>\n",
              "      <th>TPopulationMale1July</th>\n",
              "      <th>TPopulationFemale1July</th>\n",
              "      <th>PopDensity</th>\n",
              "      <th>PopSexRatio</th>\n",
              "      <th>MedianAgePop</th>\n",
              "      <th>NatChange</th>\n",
              "      <th>NatChangeRT</th>\n",
              "      <th>...</th>\n",
              "      <th>Q1560Male</th>\n",
              "      <th>Q1560Female</th>\n",
              "      <th>NetMigrations</th>\n",
              "      <th>CNMR</th>\n",
              "      <th>CCode</th>\n",
              "      <th>Region</th>\n",
              "      <th>IncomeGroup</th>\n",
              "      <th>GDPpp2020</th>\n",
              "      <th>Country</th>\n",
              "      <th>Continent</th>\n",
              "    </tr>\n",
              "  </thead>\n",
              "  <tbody>\n",
              "    <tr>\n",
              "      <th>0</th>\n",
              "      <td>Afghanistan</td>\n",
              "      <td>40580.490</td>\n",
              "      <td>41128.771</td>\n",
              "      <td>20766.442</td>\n",
              "      <td>20362.329</td>\n",
              "      <td>63.3436</td>\n",
              "      <td>101.9846</td>\n",
              "      <td>16.8702</td>\n",
              "      <td>1162.402</td>\n",
              "      <td>28.237</td>\n",
              "      <td>...</td>\n",
              "      <td>329.5630</td>\n",
              "      <td>203.0171</td>\n",
              "      <td>-65.846</td>\n",
              "      <td>-1.600</td>\n",
              "      <td>AFG</td>\n",
              "      <td>South Asia</td>\n",
              "      <td>Low income</td>\n",
              "      <td>2078.479082</td>\n",
              "      <td>Afghanistan</td>\n",
              "      <td>Asia</td>\n",
              "    </tr>\n",
              "    <tr>\n",
              "      <th>1</th>\n",
              "      <td>Albania</td>\n",
              "      <td>2847.853</td>\n",
              "      <td>2842.321</td>\n",
              "      <td>1417.813</td>\n",
              "      <td>1424.507</td>\n",
              "      <td>103.7419</td>\n",
              "      <td>99.5301</td>\n",
              "      <td>37.5806</td>\n",
              "      <td>-3.068</td>\n",
              "      <td>-1.078</td>\n",
              "      <td>...</td>\n",
              "      <td>118.0304</td>\n",
              "      <td>60.3632</td>\n",
              "      <td>-8.000</td>\n",
              "      <td>-2.810</td>\n",
              "      <td>ALB</td>\n",
              "      <td>Europe &amp; Central Asia</td>\n",
              "      <td>Upper middle income</td>\n",
              "      <td>15646.041523</td>\n",
              "      <td>Albania</td>\n",
              "      <td>Europe</td>\n",
              "    </tr>\n",
              "    <tr>\n",
              "      <th>2</th>\n",
              "      <td>Algeria</td>\n",
              "      <td>44543.592</td>\n",
              "      <td>44903.225</td>\n",
              "      <td>22862.237</td>\n",
              "      <td>22040.987</td>\n",
              "      <td>18.8531</td>\n",
              "      <td>103.7260</td>\n",
              "      <td>28.0155</td>\n",
              "      <td>729.261</td>\n",
              "      <td>16.243</td>\n",
              "      <td>...</td>\n",
              "      <td>91.6019</td>\n",
              "      <td>63.7084</td>\n",
              "      <td>-9.999</td>\n",
              "      <td>-0.223</td>\n",
              "      <td>DZA</td>\n",
              "      <td>Middle East &amp; North Africa</td>\n",
              "      <td>Lower middle income</td>\n",
              "      <td>12037.481235</td>\n",
              "      <td>Algeria</td>\n",
              "      <td>Africa</td>\n",
              "    </tr>\n",
              "    <tr>\n",
              "      <th>3</th>\n",
              "      <td>American Samoa</td>\n",
              "      <td>44.446</td>\n",
              "      <td>44.272</td>\n",
              "      <td>21.873</td>\n",
              "      <td>22.400</td>\n",
              "      <td>221.3625</td>\n",
              "      <td>97.6495</td>\n",
              "      <td>28.2539</td>\n",
              "      <td>0.454</td>\n",
              "      <td>10.153</td>\n",
              "      <td>...</td>\n",
              "      <td>173.9059</td>\n",
              "      <td>103.5929</td>\n",
              "      <td>-0.810</td>\n",
              "      <td>-18.130</td>\n",
              "      <td>ASM</td>\n",
              "      <td>East Asia &amp; Pacific</td>\n",
              "      <td>Upper middle income</td>\n",
              "      <td>NaN</td>\n",
              "      <td>American Samoa</td>\n",
              "      <td>Asia</td>\n",
              "    </tr>\n",
              "    <tr>\n",
              "      <th>4</th>\n",
              "      <td>Andorra</td>\n",
              "      <td>79.688</td>\n",
              "      <td>79.824</td>\n",
              "      <td>40.786</td>\n",
              "      <td>39.038</td>\n",
              "      <td>169.8383</td>\n",
              "      <td>104.4777</td>\n",
              "      <td>42.9263</td>\n",
              "      <td>0.073</td>\n",
              "      <td>0.911</td>\n",
              "      <td>...</td>\n",
              "      <td>46.7542</td>\n",
              "      <td>28.6944</td>\n",
              "      <td>0.200</td>\n",
              "      <td>2.505</td>\n",
              "      <td>AND</td>\n",
              "      <td>Europe &amp; Central Asia</td>\n",
              "      <td>High income</td>\n",
              "      <td>40897.330000</td>\n",
              "      <td>Andorra</td>\n",
              "      <td>Europe</td>\n",
              "    </tr>\n",
              "  </tbody>\n",
              "</table>\n",
              "<p>5 rows × 61 columns</p>\n",
              "</div>"
            ],
            "text/plain": [
              "     Country_name  TPopulation1Jan  TPopulation1July  TPopulationMale1July  \\\n",
              "0     Afghanistan        40580.490         41128.771             20766.442   \n",
              "1         Albania         2847.853          2842.321              1417.813   \n",
              "2         Algeria        44543.592         44903.225             22862.237   \n",
              "3  American Samoa           44.446            44.272                21.873   \n",
              "4         Andorra           79.688            79.824                40.786   \n",
              "\n",
              "   TPopulationFemale1July  PopDensity  PopSexRatio  MedianAgePop  NatChange  \\\n",
              "0               20362.329     63.3436     101.9846       16.8702   1162.402   \n",
              "1                1424.507    103.7419      99.5301       37.5806     -3.068   \n",
              "2               22040.987     18.8531     103.7260       28.0155    729.261   \n",
              "3                  22.400    221.3625      97.6495       28.2539      0.454   \n",
              "4                  39.038    169.8383     104.4777       42.9263      0.073   \n",
              "\n",
              "   NatChangeRT  ...  Q1560Male  Q1560Female  NetMigrations    CNMR  CCode  \\\n",
              "0       28.237  ...   329.5630     203.0171        -65.846  -1.600    AFG   \n",
              "1       -1.078  ...   118.0304      60.3632         -8.000  -2.810    ALB   \n",
              "2       16.243  ...    91.6019      63.7084         -9.999  -0.223    DZA   \n",
              "3       10.153  ...   173.9059     103.5929         -0.810 -18.130    ASM   \n",
              "4        0.911  ...    46.7542      28.6944          0.200   2.505    AND   \n",
              "\n",
              "                       Region          IncomeGroup     GDPpp2020  \\\n",
              "0                  South Asia           Low income   2078.479082   \n",
              "1       Europe & Central Asia  Upper middle income  15646.041523   \n",
              "2  Middle East & North Africa  Lower middle income  12037.481235   \n",
              "3         East Asia & Pacific  Upper middle income           NaN   \n",
              "4       Europe & Central Asia          High income  40897.330000   \n",
              "\n",
              "          Country  Continent  \n",
              "0     Afghanistan       Asia  \n",
              "1         Albania     Europe  \n",
              "2         Algeria     Africa  \n",
              "3  American Samoa       Asia  \n",
              "4         Andorra     Europe  \n",
              "\n",
              "[5 rows x 61 columns]"
            ]
          },
          "execution_count": 6,
          "metadata": {},
          "output_type": "execute_result"
        }
      ],
      "source": [
        "# 8. Ver el encabezado del dataframe\n",
        "df.head()"
      ]
    },
    {
      "cell_type": "code",
      "execution_count": 7,
      "metadata": {
        "id": "hCikPSNvNIB4"
      },
      "outputs": [
        {
          "data": {
            "text/html": [
              "<div>\n",
              "<style scoped>\n",
              "    .dataframe tbody tr th:only-of-type {\n",
              "        vertical-align: middle;\n",
              "    }\n",
              "\n",
              "    .dataframe tbody tr th {\n",
              "        vertical-align: top;\n",
              "    }\n",
              "\n",
              "    .dataframe thead th {\n",
              "        text-align: right;\n",
              "    }\n",
              "</style>\n",
              "<table border=\"1\" class=\"dataframe\">\n",
              "  <thead>\n",
              "    <tr style=\"text-align: right;\">\n",
              "      <th></th>\n",
              "      <th>Country_name</th>\n",
              "      <th>TPopulation1Jan</th>\n",
              "      <th>TPopulation1July</th>\n",
              "      <th>TPopulationMale1July</th>\n",
              "      <th>TPopulationFemale1July</th>\n",
              "      <th>PopDensity</th>\n",
              "      <th>PopSexRatio</th>\n",
              "      <th>MedianAgePop</th>\n",
              "      <th>NatChange</th>\n",
              "      <th>NatChangeRT</th>\n",
              "      <th>...</th>\n",
              "      <th>Q1560Male</th>\n",
              "      <th>Q1560Female</th>\n",
              "      <th>NetMigrations</th>\n",
              "      <th>CNMR</th>\n",
              "      <th>CCode</th>\n",
              "      <th>Region</th>\n",
              "      <th>IncomeGroup</th>\n",
              "      <th>GDPpp2020</th>\n",
              "      <th>Country</th>\n",
              "      <th>Continent</th>\n",
              "    </tr>\n",
              "  </thead>\n",
              "  <tbody>\n",
              "    <tr>\n",
              "      <th>232</th>\n",
              "      <td>Wallis and Futuna Islands</td>\n",
              "      <td>11.613</td>\n",
              "      <td>11.572</td>\n",
              "      <td>5.552</td>\n",
              "      <td>6.021</td>\n",
              "      <td>82.6607</td>\n",
              "      <td>92.2183</td>\n",
              "      <td>36.2699</td>\n",
              "      <td>0.058</td>\n",
              "      <td>4.974</td>\n",
              "      <td>...</td>\n",
              "      <td>66.5377</td>\n",
              "      <td>62.1912</td>\n",
              "      <td>-0.136</td>\n",
              "      <td>-11.680</td>\n",
              "      <td>WLF</td>\n",
              "      <td>East Asia &amp; Pacific</td>\n",
              "      <td>NaN</td>\n",
              "      <td>NaN</td>\n",
              "      <td>Wallis and Futuna Islands</td>\n",
              "      <td>Oceania</td>\n",
              "    </tr>\n",
              "    <tr>\n",
              "      <th>233</th>\n",
              "      <td>Western Sahara</td>\n",
              "      <td>570.311</td>\n",
              "      <td>575.986</td>\n",
              "      <td>317.891</td>\n",
              "      <td>258.094</td>\n",
              "      <td>2.1654</td>\n",
              "      <td>123.1685</td>\n",
              "      <td>31.2718</td>\n",
              "      <td>5.746</td>\n",
              "      <td>10.026</td>\n",
              "      <td>...</td>\n",
              "      <td>166.2455</td>\n",
              "      <td>119.5720</td>\n",
              "      <td>5.600</td>\n",
              "      <td>9.770</td>\n",
              "      <td>ESH</td>\n",
              "      <td>Sub-Saharan Africa</td>\n",
              "      <td>Low income</td>\n",
              "      <td>NaN</td>\n",
              "      <td>Western Sahara</td>\n",
              "      <td>Africa</td>\n",
              "    </tr>\n",
              "    <tr>\n",
              "      <th>234</th>\n",
              "      <td>Yemen, Rep.</td>\n",
              "      <td>33322.321</td>\n",
              "      <td>33696.614</td>\n",
              "      <td>17023.203</td>\n",
              "      <td>16673.411</td>\n",
              "      <td>63.8230</td>\n",
              "      <td>102.0979</td>\n",
              "      <td>18.8385</td>\n",
              "      <td>778.579</td>\n",
              "      <td>23.095</td>\n",
              "      <td>...</td>\n",
              "      <td>296.0545</td>\n",
              "      <td>171.0778</td>\n",
              "      <td>-29.998</td>\n",
              "      <td>-0.890</td>\n",
              "      <td>YEM</td>\n",
              "      <td>Middle East &amp; North Africa</td>\n",
              "      <td>Low income</td>\n",
              "      <td>3688.519409</td>\n",
              "      <td>Yemen</td>\n",
              "      <td>Asia</td>\n",
              "    </tr>\n",
              "    <tr>\n",
              "      <th>235</th>\n",
              "      <td>Zambia</td>\n",
              "      <td>19745.738</td>\n",
              "      <td>20017.675</td>\n",
              "      <td>9877.642</td>\n",
              "      <td>10140.033</td>\n",
              "      <td>26.9276</td>\n",
              "      <td>97.4123</td>\n",
              "      <td>17.0874</td>\n",
              "      <td>548.867</td>\n",
              "      <td>27.411</td>\n",
              "      <td>...</td>\n",
              "      <td>359.5575</td>\n",
              "      <td>242.3784</td>\n",
              "      <td>-5.000</td>\n",
              "      <td>-0.250</td>\n",
              "      <td>ZMB</td>\n",
              "      <td>Sub-Saharan Africa</td>\n",
              "      <td>Low income</td>\n",
              "      <td>3623.854913</td>\n",
              "      <td>Zambia</td>\n",
              "      <td>Africa</td>\n",
              "    </tr>\n",
              "    <tr>\n",
              "      <th>236</th>\n",
              "      <td>Zimbabwe</td>\n",
              "      <td>16152.942</td>\n",
              "      <td>16320.537</td>\n",
              "      <td>7705.602</td>\n",
              "      <td>8614.936</td>\n",
              "      <td>42.1883</td>\n",
              "      <td>89.4447</td>\n",
              "      <td>18.2356</td>\n",
              "      <td>345.195</td>\n",
              "      <td>21.143</td>\n",
              "      <td>...</td>\n",
              "      <td>449.3632</td>\n",
              "      <td>325.3865</td>\n",
              "      <td>-9.999</td>\n",
              "      <td>-0.612</td>\n",
              "      <td>ZWE</td>\n",
              "      <td>Sub-Saharan Africa</td>\n",
              "      <td>Lower middle income</td>\n",
              "      <td>2444.478237</td>\n",
              "      <td>Zimbabwe</td>\n",
              "      <td>Africa</td>\n",
              "    </tr>\n",
              "  </tbody>\n",
              "</table>\n",
              "<p>5 rows × 61 columns</p>\n",
              "</div>"
            ],
            "text/plain": [
              "                  Country_name  TPopulation1Jan  TPopulation1July  \\\n",
              "232  Wallis and Futuna Islands           11.613            11.572   \n",
              "233             Western Sahara          570.311           575.986   \n",
              "234                Yemen, Rep.        33322.321         33696.614   \n",
              "235                     Zambia        19745.738         20017.675   \n",
              "236                   Zimbabwe        16152.942         16320.537   \n",
              "\n",
              "     TPopulationMale1July  TPopulationFemale1July  PopDensity  PopSexRatio  \\\n",
              "232                 5.552                   6.021     82.6607      92.2183   \n",
              "233               317.891                 258.094      2.1654     123.1685   \n",
              "234             17023.203               16673.411     63.8230     102.0979   \n",
              "235              9877.642               10140.033     26.9276      97.4123   \n",
              "236              7705.602                8614.936     42.1883      89.4447   \n",
              "\n",
              "     MedianAgePop  NatChange  NatChangeRT  ...  Q1560Male  Q1560Female  \\\n",
              "232       36.2699      0.058        4.974  ...    66.5377      62.1912   \n",
              "233       31.2718      5.746       10.026  ...   166.2455     119.5720   \n",
              "234       18.8385    778.579       23.095  ...   296.0545     171.0778   \n",
              "235       17.0874    548.867       27.411  ...   359.5575     242.3784   \n",
              "236       18.2356    345.195       21.143  ...   449.3632     325.3865   \n",
              "\n",
              "     NetMigrations    CNMR  CCode                      Region  \\\n",
              "232         -0.136 -11.680    WLF         East Asia & Pacific   \n",
              "233          5.600   9.770    ESH          Sub-Saharan Africa   \n",
              "234        -29.998  -0.890    YEM  Middle East & North Africa   \n",
              "235         -5.000  -0.250    ZMB          Sub-Saharan Africa   \n",
              "236         -9.999  -0.612    ZWE          Sub-Saharan Africa   \n",
              "\n",
              "             IncomeGroup    GDPpp2020                    Country  Continent  \n",
              "232                  NaN          NaN  Wallis and Futuna Islands    Oceania  \n",
              "233           Low income          NaN             Western Sahara     Africa  \n",
              "234           Low income  3688.519409                      Yemen       Asia  \n",
              "235           Low income  3623.854913                     Zambia     Africa  \n",
              "236  Lower middle income  2444.478237                   Zimbabwe     Africa  \n",
              "\n",
              "[5 rows x 61 columns]"
            ]
          },
          "execution_count": 7,
          "metadata": {},
          "output_type": "execute_result"
        }
      ],
      "source": [
        "# 9. Ver la finalización del dataframe\n",
        "df.tail()"
      ]
    },
    {
      "cell_type": "code",
      "execution_count": 8,
      "metadata": {
        "id": "10-7aCL1NSGf"
      },
      "outputs": [
        {
          "data": {
            "text/html": [
              "<div>\n",
              "<style scoped>\n",
              "    .dataframe tbody tr th:only-of-type {\n",
              "        vertical-align: middle;\n",
              "    }\n",
              "\n",
              "    .dataframe tbody tr th {\n",
              "        vertical-align: top;\n",
              "    }\n",
              "\n",
              "    .dataframe thead th {\n",
              "        text-align: right;\n",
              "    }\n",
              "</style>\n",
              "<table border=\"1\" class=\"dataframe\">\n",
              "  <thead>\n",
              "    <tr style=\"text-align: right;\">\n",
              "      <th></th>\n",
              "      <th>Country_name</th>\n",
              "      <th>TPopulation1Jan</th>\n",
              "      <th>TPopulation1July</th>\n",
              "      <th>TPopulationMale1July</th>\n",
              "      <th>TPopulationFemale1July</th>\n",
              "      <th>PopDensity</th>\n",
              "      <th>PopSexRatio</th>\n",
              "      <th>MedianAgePop</th>\n",
              "      <th>NatChange</th>\n",
              "      <th>NatChangeRT</th>\n",
              "      <th>...</th>\n",
              "      <th>Q1560Male</th>\n",
              "      <th>Q1560Female</th>\n",
              "      <th>NetMigrations</th>\n",
              "      <th>CNMR</th>\n",
              "      <th>CCode</th>\n",
              "      <th>Region</th>\n",
              "      <th>IncomeGroup</th>\n",
              "      <th>GDPpp2020</th>\n",
              "      <th>Country</th>\n",
              "      <th>Continent</th>\n",
              "    </tr>\n",
              "  </thead>\n",
              "  <tbody>\n",
              "    <tr>\n",
              "      <th>100</th>\n",
              "      <td>Isle of Man</td>\n",
              "      <td>84.434</td>\n",
              "      <td>84.519</td>\n",
              "      <td>41.859</td>\n",
              "      <td>42.660</td>\n",
              "      <td>147.7614</td>\n",
              "      <td>98.1235</td>\n",
              "      <td>45.4210</td>\n",
              "      <td>-0.158</td>\n",
              "      <td>-1.877</td>\n",
              "      <td>...</td>\n",
              "      <td>82.0652</td>\n",
              "      <td>52.2210</td>\n",
              "      <td>0.340</td>\n",
              "      <td>4.030</td>\n",
              "      <td>IMN</td>\n",
              "      <td>Europe &amp; Central Asia</td>\n",
              "      <td>High income</td>\n",
              "      <td>NaN</td>\n",
              "      <td>Isle of Man</td>\n",
              "      <td>Europe</td>\n",
              "    </tr>\n",
              "    <tr>\n",
              "      <th>101</th>\n",
              "      <td>Israel</td>\n",
              "      <td>8970.733</td>\n",
              "      <td>9038.309</td>\n",
              "      <td>4508.098</td>\n",
              "      <td>4530.212</td>\n",
              "      <td>417.6089</td>\n",
              "      <td>99.5119</td>\n",
              "      <td>29.0905</td>\n",
              "      <td>125.154</td>\n",
              "      <td>13.855</td>\n",
              "      <td>...</td>\n",
              "      <td>67.2107</td>\n",
              "      <td>34.4114</td>\n",
              "      <td>9.999</td>\n",
              "      <td>1.107</td>\n",
              "      <td>ISR</td>\n",
              "      <td>Middle East &amp; North Africa</td>\n",
              "      <td>High income</td>\n",
              "      <td>43721.623039</td>\n",
              "      <td>Israel</td>\n",
              "      <td>Asia</td>\n",
              "    </tr>\n",
              "    <tr>\n",
              "      <th>102</th>\n",
              "      <td>Italy</td>\n",
              "      <td>59119.400</td>\n",
              "      <td>59037.474</td>\n",
              "      <td>28788.875</td>\n",
              "      <td>30248.598</td>\n",
              "      <td>199.4678</td>\n",
              "      <td>95.1742</td>\n",
              "      <td>47.2653</td>\n",
              "      <td>-222.349</td>\n",
              "      <td>-3.768</td>\n",
              "      <td>...</td>\n",
              "      <td>56.2494</td>\n",
              "      <td>32.7781</td>\n",
              "      <td>58.496</td>\n",
              "      <td>0.991</td>\n",
              "      <td>ITA</td>\n",
              "      <td>Europe &amp; Central Asia</td>\n",
              "      <td>High income</td>\n",
              "      <td>45935.996554</td>\n",
              "      <td>Italy</td>\n",
              "      <td>Europe</td>\n",
              "    </tr>\n",
              "    <tr>\n",
              "      <th>103</th>\n",
              "      <td>Jamaica</td>\n",
              "      <td>2828.991</td>\n",
              "      <td>2827.377</td>\n",
              "      <td>1402.379</td>\n",
              "      <td>1424.998</td>\n",
              "      <td>261.0690</td>\n",
              "      <td>98.4126</td>\n",
              "      <td>31.2957</td>\n",
              "      <td>7.773</td>\n",
              "      <td>2.744</td>\n",
              "      <td>...</td>\n",
              "      <td>211.6839</td>\n",
              "      <td>141.6682</td>\n",
              "      <td>-10.999</td>\n",
              "      <td>-3.883</td>\n",
              "      <td>JAM</td>\n",
              "      <td>Latin America &amp; Caribbean</td>\n",
              "      <td>Upper middle income</td>\n",
              "      <td>10025.904795</td>\n",
              "      <td>Jamaica</td>\n",
              "      <td>America</td>\n",
              "    </tr>\n",
              "    <tr>\n",
              "      <th>104</th>\n",
              "      <td>Japan</td>\n",
              "      <td>124278.310</td>\n",
              "      <td>123951.692</td>\n",
              "      <td>60239.861</td>\n",
              "      <td>63711.831</td>\n",
              "      <td>328.9379</td>\n",
              "      <td>94.5505</td>\n",
              "      <td>48.7449</td>\n",
              "      <td>-753.228</td>\n",
              "      <td>-6.079</td>\n",
              "      <td>...</td>\n",
              "      <td>62.3703</td>\n",
              "      <td>33.4175</td>\n",
              "      <td>99.994</td>\n",
              "      <td>0.807</td>\n",
              "      <td>JPN</td>\n",
              "      <td>East Asia &amp; Pacific</td>\n",
              "      <td>High income</td>\n",
              "      <td>42940.405252</td>\n",
              "      <td>Japan</td>\n",
              "      <td>Asia</td>\n",
              "    </tr>\n",
              "    <tr>\n",
              "      <th>105</th>\n",
              "      <td>Jersey</td>\n",
              "      <td>110.273</td>\n",
              "      <td>110.778</td>\n",
              "      <td>54.682</td>\n",
              "      <td>56.096</td>\n",
              "      <td>954.9871</td>\n",
              "      <td>97.4785</td>\n",
              "      <td>39.9244</td>\n",
              "      <td>0.207</td>\n",
              "      <td>1.870</td>\n",
              "      <td>...</td>\n",
              "      <td>64.6759</td>\n",
              "      <td>40.3982</td>\n",
              "      <td>0.800</td>\n",
              "      <td>7.247</td>\n",
              "      <td>JEY</td>\n",
              "      <td>Europe &amp; Central Asia</td>\n",
              "      <td>NaN</td>\n",
              "      <td>NaN</td>\n",
              "      <td>Jersey</td>\n",
              "      <td>Europe</td>\n",
              "    </tr>\n",
              "    <tr>\n",
              "      <th>106</th>\n",
              "      <td>Jordan</td>\n",
              "      <td>11256.190</td>\n",
              "      <td>11285.868</td>\n",
              "      <td>5846.915</td>\n",
              "      <td>5438.953</td>\n",
              "      <td>127.1017</td>\n",
              "      <td>107.5007</td>\n",
              "      <td>23.7162</td>\n",
              "      <td>200.547</td>\n",
              "      <td>17.659</td>\n",
              "      <td>...</td>\n",
              "      <td>125.8263</td>\n",
              "      <td>79.8405</td>\n",
              "      <td>-141.192</td>\n",
              "      <td>-12.432</td>\n",
              "      <td>JOR</td>\n",
              "      <td>Middle East &amp; North Africa</td>\n",
              "      <td>Upper middle income</td>\n",
              "      <td>10952.010609</td>\n",
              "      <td>Jordan</td>\n",
              "      <td>Asia</td>\n",
              "    </tr>\n",
              "    <tr>\n",
              "      <th>107</th>\n",
              "      <td>Kazakhstan</td>\n",
              "      <td>19295.502</td>\n",
              "      <td>19397.998</td>\n",
              "      <td>9335.100</td>\n",
              "      <td>10062.898</td>\n",
              "      <td>7.1852</td>\n",
              "      <td>92.7675</td>\n",
              "      <td>29.5377</td>\n",
              "      <td>204.996</td>\n",
              "      <td>10.570</td>\n",
              "      <td>...</td>\n",
              "      <td>268.8189</td>\n",
              "      <td>125.8188</td>\n",
              "      <td>0.000</td>\n",
              "      <td>0.000</td>\n",
              "      <td>KAZ</td>\n",
              "      <td>Europe &amp; Central Asia</td>\n",
              "      <td>Upper middle income</td>\n",
              "      <td>28599.985878</td>\n",
              "      <td>Kazakhstan</td>\n",
              "      <td>Europe</td>\n",
              "    </tr>\n",
              "    <tr>\n",
              "      <th>108</th>\n",
              "      <td>Kenya</td>\n",
              "      <td>53499.879</td>\n",
              "      <td>54027.487</td>\n",
              "      <td>26777.549</td>\n",
              "      <td>27249.938</td>\n",
              "      <td>93.0341</td>\n",
              "      <td>98.2665</td>\n",
              "      <td>19.3816</td>\n",
              "      <td>1065.212</td>\n",
              "      <td>19.710</td>\n",
              "      <td>...</td>\n",
              "      <td>407.9282</td>\n",
              "      <td>301.5383</td>\n",
              "      <td>-10.000</td>\n",
              "      <td>-0.185</td>\n",
              "      <td>KEN</td>\n",
              "      <td>Sub-Saharan Africa</td>\n",
              "      <td>Lower middle income</td>\n",
              "      <td>5023.511272</td>\n",
              "      <td>Kenya</td>\n",
              "      <td>Africa</td>\n",
              "    </tr>\n",
              "    <tr>\n",
              "      <th>109</th>\n",
              "      <td>Kiribati</td>\n",
              "      <td>130.077</td>\n",
              "      <td>131.232</td>\n",
              "      <td>63.943</td>\n",
              "      <td>67.289</td>\n",
              "      <td>180.7596</td>\n",
              "      <td>95.0267</td>\n",
              "      <td>22.0339</td>\n",
              "      <td>2.699</td>\n",
              "      <td>20.541</td>\n",
              "      <td>...</td>\n",
              "      <td>209.4785</td>\n",
              "      <td>159.9510</td>\n",
              "      <td>-0.400</td>\n",
              "      <td>-3.043</td>\n",
              "      <td>KIR</td>\n",
              "      <td>East Asia &amp; Pacific</td>\n",
              "      <td>Lower middle income</td>\n",
              "      <td>2171.867943</td>\n",
              "      <td>Kiribati</td>\n",
              "      <td>Oceania</td>\n",
              "    </tr>\n",
              "  </tbody>\n",
              "</table>\n",
              "<p>10 rows × 61 columns</p>\n",
              "</div>"
            ],
            "text/plain": [
              "    Country_name  TPopulation1Jan  TPopulation1July  TPopulationMale1July  \\\n",
              "100  Isle of Man           84.434            84.519                41.859   \n",
              "101       Israel         8970.733          9038.309              4508.098   \n",
              "102        Italy        59119.400         59037.474             28788.875   \n",
              "103      Jamaica         2828.991          2827.377              1402.379   \n",
              "104        Japan       124278.310        123951.692             60239.861   \n",
              "105       Jersey          110.273           110.778                54.682   \n",
              "106       Jordan        11256.190         11285.868              5846.915   \n",
              "107   Kazakhstan        19295.502         19397.998              9335.100   \n",
              "108        Kenya        53499.879         54027.487             26777.549   \n",
              "109     Kiribati          130.077           131.232                63.943   \n",
              "\n",
              "     TPopulationFemale1July  PopDensity  PopSexRatio  MedianAgePop  NatChange  \\\n",
              "100                  42.660    147.7614      98.1235       45.4210     -0.158   \n",
              "101                4530.212    417.6089      99.5119       29.0905    125.154   \n",
              "102               30248.598    199.4678      95.1742       47.2653   -222.349   \n",
              "103                1424.998    261.0690      98.4126       31.2957      7.773   \n",
              "104               63711.831    328.9379      94.5505       48.7449   -753.228   \n",
              "105                  56.096    954.9871      97.4785       39.9244      0.207   \n",
              "106                5438.953    127.1017     107.5007       23.7162    200.547   \n",
              "107               10062.898      7.1852      92.7675       29.5377    204.996   \n",
              "108               27249.938     93.0341      98.2665       19.3816   1065.212   \n",
              "109                  67.289    180.7596      95.0267       22.0339      2.699   \n",
              "\n",
              "     NatChangeRT  ...  Q1560Male  Q1560Female  NetMigrations    CNMR  CCode  \\\n",
              "100       -1.877  ...    82.0652      52.2210          0.340   4.030    IMN   \n",
              "101       13.855  ...    67.2107      34.4114          9.999   1.107    ISR   \n",
              "102       -3.768  ...    56.2494      32.7781         58.496   0.991    ITA   \n",
              "103        2.744  ...   211.6839     141.6682        -10.999  -3.883    JAM   \n",
              "104       -6.079  ...    62.3703      33.4175         99.994   0.807    JPN   \n",
              "105        1.870  ...    64.6759      40.3982          0.800   7.247    JEY   \n",
              "106       17.659  ...   125.8263      79.8405       -141.192 -12.432    JOR   \n",
              "107       10.570  ...   268.8189     125.8188          0.000   0.000    KAZ   \n",
              "108       19.710  ...   407.9282     301.5383        -10.000  -0.185    KEN   \n",
              "109       20.541  ...   209.4785     159.9510         -0.400  -3.043    KIR   \n",
              "\n",
              "                         Region          IncomeGroup     GDPpp2020  \\\n",
              "100       Europe & Central Asia          High income           NaN   \n",
              "101  Middle East & North Africa          High income  43721.623039   \n",
              "102       Europe & Central Asia          High income  45935.996554   \n",
              "103   Latin America & Caribbean  Upper middle income  10025.904795   \n",
              "104         East Asia & Pacific          High income  42940.405252   \n",
              "105       Europe & Central Asia                  NaN           NaN   \n",
              "106  Middle East & North Africa  Upper middle income  10952.010609   \n",
              "107       Europe & Central Asia  Upper middle income  28599.985878   \n",
              "108          Sub-Saharan Africa  Lower middle income   5023.511272   \n",
              "109         East Asia & Pacific  Lower middle income   2171.867943   \n",
              "\n",
              "         Country  Continent  \n",
              "100  Isle of Man     Europe  \n",
              "101       Israel       Asia  \n",
              "102        Italy     Europe  \n",
              "103      Jamaica    America  \n",
              "104        Japan       Asia  \n",
              "105       Jersey     Europe  \n",
              "106       Jordan       Asia  \n",
              "107   Kazakhstan     Europe  \n",
              "108        Kenya     Africa  \n",
              "109     Kiribati    Oceania  \n",
              "\n",
              "[10 rows x 61 columns]"
            ]
          },
          "execution_count": 8,
          "metadata": {},
          "output_type": "execute_result"
        }
      ],
      "source": [
        "# 10. Ver un casos del df\n",
        "df.iloc[100:110]"
      ]
    },
    {
      "cell_type": "code",
      "execution_count": 9,
      "metadata": {
        "id": "K9Xw6Ca5yvPi"
      },
      "outputs": [
        {
          "data": {
            "text/html": [
              "<div>\n",
              "<style scoped>\n",
              "    .dataframe tbody tr th:only-of-type {\n",
              "        vertical-align: middle;\n",
              "    }\n",
              "\n",
              "    .dataframe tbody tr th {\n",
              "        vertical-align: top;\n",
              "    }\n",
              "\n",
              "    .dataframe thead th {\n",
              "        text-align: right;\n",
              "    }\n",
              "</style>\n",
              "<table border=\"1\" class=\"dataframe\">\n",
              "  <thead>\n",
              "    <tr style=\"text-align: right;\">\n",
              "      <th></th>\n",
              "      <th>Country</th>\n",
              "      <th>Continent</th>\n",
              "      <th>Births</th>\n",
              "    </tr>\n",
              "  </thead>\n",
              "  <tbody>\n",
              "    <tr>\n",
              "      <th>95</th>\n",
              "      <td>India</td>\n",
              "      <td>Asia</td>\n",
              "      <td>23056.027</td>\n",
              "    </tr>\n",
              "    <tr>\n",
              "      <th>42</th>\n",
              "      <td>China</td>\n",
              "      <td>Asia</td>\n",
              "      <td>10757.794</td>\n",
              "    </tr>\n",
              "    <tr>\n",
              "      <th>154</th>\n",
              "      <td>Nigeria</td>\n",
              "      <td>Africa</td>\n",
              "      <td>8002.758</td>\n",
              "    </tr>\n",
              "    <tr>\n",
              "      <th>160</th>\n",
              "      <td>Pakistan</td>\n",
              "      <td>Asia</td>\n",
              "      <td>6424.944</td>\n",
              "    </tr>\n",
              "    <tr>\n",
              "      <th>96</th>\n",
              "      <td>Indonesia</td>\n",
              "      <td>Asia</td>\n",
              "      <td>4462.212</td>\n",
              "    </tr>\n",
              "    <tr>\n",
              "      <th>45</th>\n",
              "      <td>Congo, The Democratic Republic of</td>\n",
              "      <td>Africa</td>\n",
              "      <td>4133.987</td>\n",
              "    </tr>\n",
              "    <tr>\n",
              "      <th>66</th>\n",
              "      <td>Ethiopia</td>\n",
              "      <td>Africa</td>\n",
              "      <td>3928.445</td>\n",
              "    </tr>\n",
              "    <tr>\n",
              "      <th>224</th>\n",
              "      <td>United States</td>\n",
              "      <td>America</td>\n",
              "      <td>3726.867</td>\n",
              "    </tr>\n",
              "    <tr>\n",
              "      <th>16</th>\n",
              "      <td>Bangladesh</td>\n",
              "      <td>Asia</td>\n",
              "      <td>2994.966</td>\n",
              "    </tr>\n",
              "    <tr>\n",
              "      <th>28</th>\n",
              "      <td>Brazil</td>\n",
              "      <td>America</td>\n",
              "      <td>2723.266</td>\n",
              "    </tr>\n",
              "  </tbody>\n",
              "</table>\n",
              "</div>"
            ],
            "text/plain": [
              "                                Country Continent     Births\n",
              "95                                India      Asia  23056.027\n",
              "42                                China      Asia  10757.794\n",
              "154                             Nigeria    Africa   8002.758\n",
              "160                            Pakistan      Asia   6424.944\n",
              "96                            Indonesia      Asia   4462.212\n",
              "45   Congo, The Democratic Republic of     Africa   4133.987\n",
              "66                             Ethiopia    Africa   3928.445\n",
              "224                       United States   America   3726.867\n",
              "16                           Bangladesh      Asia   2994.966\n",
              "28                               Brazil   America   2723.266"
            ]
          },
          "execution_count": 9,
          "metadata": {},
          "output_type": "execute_result"
        }
      ],
      "source": [
        "# 11. Ordenar la base de datos por variables ascendente o descendente\n",
        "#df.sort_values(by=['Births'],ascending=False).head() # Ordena todo el df\n",
        "df[['Country','Continent','Births']].sort_values(by=['Births'],ascending=False).head(10) # Selecciona unas variables y ordena"
      ]
    },
    {
      "cell_type": "markdown",
      "metadata": {
        "id": "HmKCLdaB6qFm"
      },
      "source": [
        "### **Ejercicio 1:**<br>\n",
        "Ordenar la base de datos de menor a mayor por 'IMR' solo seleccionar la variables Country, Region e IMR"
      ]
    },
    {
      "cell_type": "code",
      "execution_count": 10,
      "metadata": {
        "id": "Z3q7MT_p65zL"
      },
      "outputs": [
        {
          "data": {
            "text/html": [
              "<div>\n",
              "<style scoped>\n",
              "    .dataframe tbody tr th:only-of-type {\n",
              "        vertical-align: middle;\n",
              "    }\n",
              "\n",
              "    .dataframe tbody tr th {\n",
              "        vertical-align: top;\n",
              "    }\n",
              "\n",
              "    .dataframe thead th {\n",
              "        text-align: right;\n",
              "    }\n",
              "</style>\n",
              "<table border=\"1\" class=\"dataframe\">\n",
              "  <thead>\n",
              "    <tr style=\"text-align: right;\">\n",
              "      <th></th>\n",
              "      <th>Country</th>\n",
              "      <th>Region</th>\n",
              "      <th>IMR</th>\n",
              "    </tr>\n",
              "  </thead>\n",
              "  <tbody>\n",
              "    <tr>\n",
              "      <th>141</th>\n",
              "      <td>Montenegro</td>\n",
              "      <td>Europe &amp; Central Asia</td>\n",
              "      <td>1.2045</td>\n",
              "    </tr>\n",
              "    <tr>\n",
              "      <th>92</th>\n",
              "      <td>Hong Kong</td>\n",
              "      <td>East Asia &amp; Pacific</td>\n",
              "      <td>1.3795</td>\n",
              "    </tr>\n",
              "    <tr>\n",
              "      <th>94</th>\n",
              "      <td>Iceland</td>\n",
              "      <td>Europe &amp; Central Asia</td>\n",
              "      <td>1.4157</td>\n",
              "    </tr>\n",
              "    <tr>\n",
              "      <th>193</th>\n",
              "      <td>Slovenia</td>\n",
              "      <td>Europe &amp; Central Asia</td>\n",
              "      <td>1.4177</td>\n",
              "    </tr>\n",
              "    <tr>\n",
              "      <th>70</th>\n",
              "      <td>Finland</td>\n",
              "      <td>Europe &amp; Central Asia</td>\n",
              "      <td>1.6280</td>\n",
              "    </tr>\n",
              "    <tr>\n",
              "      <th>...</th>\n",
              "      <td>...</td>\n",
              "      <td>...</td>\n",
              "      <td>...</td>\n",
              "    </tr>\n",
              "    <tr>\n",
              "      <th>195</th>\n",
              "      <td>Somalia</td>\n",
              "      <td>Sub-Saharan Africa</td>\n",
              "      <td>66.1650</td>\n",
              "    </tr>\n",
              "    <tr>\n",
              "      <th>39</th>\n",
              "      <td>Central African Republic</td>\n",
              "      <td>Sub-Saharan Africa</td>\n",
              "      <td>67.6984</td>\n",
              "    </tr>\n",
              "    <tr>\n",
              "      <th>118</th>\n",
              "      <td>Lesotho</td>\n",
              "      <td>Sub-Saharan Africa</td>\n",
              "      <td>69.0136</td>\n",
              "    </tr>\n",
              "    <tr>\n",
              "      <th>189</th>\n",
              "      <td>Sierra Leone</td>\n",
              "      <td>Sub-Saharan Africa</td>\n",
              "      <td>69.9620</td>\n",
              "    </tr>\n",
              "    <tr>\n",
              "      <th>154</th>\n",
              "      <td>Nigeria</td>\n",
              "      <td>Sub-Saharan Africa</td>\n",
              "      <td>71.8710</td>\n",
              "    </tr>\n",
              "  </tbody>\n",
              "</table>\n",
              "<p>237 rows × 3 columns</p>\n",
              "</div>"
            ],
            "text/plain": [
              "                      Country                 Region      IMR\n",
              "141                Montenegro  Europe & Central Asia   1.2045\n",
              "92                  Hong Kong    East Asia & Pacific   1.3795\n",
              "94                    Iceland  Europe & Central Asia   1.4157\n",
              "193                  Slovenia  Europe & Central Asia   1.4177\n",
              "70                    Finland  Europe & Central Asia   1.6280\n",
              "..                        ...                    ...      ...\n",
              "195                   Somalia     Sub-Saharan Africa  66.1650\n",
              "39   Central African Republic     Sub-Saharan Africa  67.6984\n",
              "118                   Lesotho     Sub-Saharan Africa  69.0136\n",
              "189              Sierra Leone     Sub-Saharan Africa  69.9620\n",
              "154                   Nigeria     Sub-Saharan Africa  71.8710\n",
              "\n",
              "[237 rows x 3 columns]"
            ]
          },
          "execution_count": 10,
          "metadata": {},
          "output_type": "execute_result"
        }
      ],
      "source": [
        "# Solución:\n",
        "df[['Country', 'Region', 'IMR']].sort_values(by=['IMR'], ascending=True)"
      ]
    },
    {
      "cell_type": "markdown",
      "metadata": {
        "id": "KhO7EN-NyyKH"
      },
      "source": [
        "#***Paso 12 para filtrar por variables o por casos***"
      ]
    },
    {
      "cell_type": "code",
      "execution_count": 11,
      "metadata": {
        "id": "EpXi7UXJyxin"
      },
      "outputs": [
        {
          "data": {
            "text/html": [
              "<div>\n",
              "<style scoped>\n",
              "    .dataframe tbody tr th:only-of-type {\n",
              "        vertical-align: middle;\n",
              "    }\n",
              "\n",
              "    .dataframe tbody tr th {\n",
              "        vertical-align: top;\n",
              "    }\n",
              "\n",
              "    .dataframe thead th {\n",
              "        text-align: right;\n",
              "    }\n",
              "</style>\n",
              "<table border=\"1\" class=\"dataframe\">\n",
              "  <thead>\n",
              "    <tr style=\"text-align: right;\">\n",
              "      <th></th>\n",
              "      <th>Country</th>\n",
              "      <th>GDPpp2020</th>\n",
              "      <th>IMR</th>\n",
              "    </tr>\n",
              "  </thead>\n",
              "  <tbody>\n",
              "    <tr>\n",
              "      <th>118</th>\n",
              "      <td>Lesotho</td>\n",
              "      <td>2682.235528</td>\n",
              "      <td>69.0136</td>\n",
              "    </tr>\n",
              "    <tr>\n",
              "      <th>189</th>\n",
              "      <td>Sierra Leone</td>\n",
              "      <td>1816.170271</td>\n",
              "      <td>69.9620</td>\n",
              "    </tr>\n",
              "    <tr>\n",
              "      <th>154</th>\n",
              "      <td>Nigeria</td>\n",
              "      <td>5459.158598</td>\n",
              "      <td>71.8710</td>\n",
              "    </tr>\n",
              "  </tbody>\n",
              "</table>\n",
              "</div>"
            ],
            "text/plain": [
              "          Country    GDPpp2020      IMR\n",
              "118       Lesotho  2682.235528  69.0136\n",
              "189  Sierra Leone  1816.170271  69.9620\n",
              "154       Nigeria  5459.158598  71.8710"
            ]
          },
          "execution_count": 11,
          "metadata": {},
          "output_type": "execute_result"
        }
      ],
      "source": [
        "# 12. Filtro por variables\n",
        "df[['Country', 'GDPpp2020','IMR']].sort_values(by=['IMR'], ascending=True).tail(3)"
      ]
    },
    {
      "cell_type": "code",
      "execution_count": 12,
      "metadata": {
        "id": "eYXWA7uuG--A"
      },
      "outputs": [
        {
          "data": {
            "text/html": [
              "<div>\n",
              "<style scoped>\n",
              "    .dataframe tbody tr th:only-of-type {\n",
              "        vertical-align: middle;\n",
              "    }\n",
              "\n",
              "    .dataframe tbody tr th {\n",
              "        vertical-align: top;\n",
              "    }\n",
              "\n",
              "    .dataframe thead th {\n",
              "        text-align: right;\n",
              "    }\n",
              "</style>\n",
              "<table border=\"1\" class=\"dataframe\">\n",
              "  <thead>\n",
              "    <tr style=\"text-align: right;\">\n",
              "      <th></th>\n",
              "      <th>Country_name</th>\n",
              "      <th>TPopulation1Jan</th>\n",
              "      <th>TPopulation1July</th>\n",
              "      <th>TPopulationMale1July</th>\n",
              "      <th>TPopulationFemale1July</th>\n",
              "      <th>PopDensity</th>\n",
              "      <th>PopSexRatio</th>\n",
              "      <th>MedianAgePop</th>\n",
              "      <th>NatChange</th>\n",
              "      <th>NatChangeRT</th>\n",
              "      <th>...</th>\n",
              "      <th>Q1560Male</th>\n",
              "      <th>Q1560Female</th>\n",
              "      <th>NetMigrations</th>\n",
              "      <th>CNMR</th>\n",
              "      <th>CCode</th>\n",
              "      <th>Region</th>\n",
              "      <th>IncomeGroup</th>\n",
              "      <th>GDPpp2020</th>\n",
              "      <th>Country</th>\n",
              "      <th>Continent</th>\n",
              "    </tr>\n",
              "  </thead>\n",
              "  <tbody>\n",
              "    <tr>\n",
              "      <th>43</th>\n",
              "      <td>Colombia</td>\n",
              "      <td>51788.827</td>\n",
              "      <td>51874.024</td>\n",
              "      <td>25575.607</td>\n",
              "      <td>26298.417</td>\n",
              "      <td>46.1641</td>\n",
              "      <td>97.2515</td>\n",
              "      <td>31.1710</td>\n",
              "      <td>338.317</td>\n",
              "      <td>6.512</td>\n",
              "      <td>...</td>\n",
              "      <td>195.5519</td>\n",
              "      <td>101.5067</td>\n",
              "      <td>-167.924</td>\n",
              "      <td>-3.232</td>\n",
              "      <td>COL</td>\n",
              "      <td>Latin America &amp; Caribbean</td>\n",
              "      <td>Upper middle income</td>\n",
              "      <td>16893.817185</td>\n",
              "      <td>Colombia</td>\n",
              "      <td>America</td>\n",
              "    </tr>\n",
              "    <tr>\n",
              "      <th>194</th>\n",
              "      <td>Solomon Islands</td>\n",
              "      <td>716.218</td>\n",
              "      <td>724.272</td>\n",
              "      <td>369.900</td>\n",
              "      <td>354.373</td>\n",
              "      <td>25.1518</td>\n",
              "      <td>104.3814</td>\n",
              "      <td>19.3731</td>\n",
              "      <td>17.717</td>\n",
              "      <td>24.434</td>\n",
              "      <td>...</td>\n",
              "      <td>182.7229</td>\n",
              "      <td>140.5665</td>\n",
              "      <td>-1.600</td>\n",
              "      <td>-2.206</td>\n",
              "      <td>SLB</td>\n",
              "      <td>East Asia &amp; Pacific</td>\n",
              "      <td>Lower middle income</td>\n",
              "      <td>2656.100603</td>\n",
              "      <td>Solomon Islands</td>\n",
              "      <td>Oceania</td>\n",
              "    </tr>\n",
              "  </tbody>\n",
              "</table>\n",
              "<p>2 rows × 61 columns</p>\n",
              "</div>"
            ],
            "text/plain": [
              "        Country_name  TPopulation1Jan  TPopulation1July  TPopulationMale1July  \\\n",
              "43          Colombia        51788.827         51874.024             25575.607   \n",
              "194  Solomon Islands          716.218           724.272               369.900   \n",
              "\n",
              "     TPopulationFemale1July  PopDensity  PopSexRatio  MedianAgePop  NatChange  \\\n",
              "43                26298.417     46.1641      97.2515       31.1710    338.317   \n",
              "194                 354.373     25.1518     104.3814       19.3731     17.717   \n",
              "\n",
              "     NatChangeRT  ...  Q1560Male  Q1560Female  NetMigrations   CNMR  CCode  \\\n",
              "43         6.512  ...   195.5519     101.5067       -167.924 -3.232    COL   \n",
              "194       24.434  ...   182.7229     140.5665         -1.600 -2.206    SLB   \n",
              "\n",
              "                        Region          IncomeGroup     GDPpp2020  \\\n",
              "43   Latin America & Caribbean  Upper middle income  16893.817185   \n",
              "194        East Asia & Pacific  Lower middle income   2656.100603   \n",
              "\n",
              "             Country  Continent  \n",
              "43          Colombia    America  \n",
              "194  Solomon Islands    Oceania  \n",
              "\n",
              "[2 rows x 61 columns]"
            ]
          },
          "execution_count": 12,
          "metadata": {},
          "output_type": "execute_result"
        }
      ],
      "source": [
        "# 12.1 para filtrar por texto en columna\n",
        "df[df['Country'].str.contains('olo')]"
      ]
    },
    {
      "cell_type": "markdown",
      "metadata": {
        "id": "Gqz9rGM_076A"
      },
      "source": [
        "### **Ejercicio 2:**<br>\n",
        "Filtrar la base de datos por 'Country' y por 'IMR' y decir el top 5 de países según tasa de mortalidad infantil"
      ]
    },
    {
      "cell_type": "code",
      "execution_count": 13,
      "metadata": {
        "id": "o298W6Hm1faY"
      },
      "outputs": [
        {
          "data": {
            "text/html": [
              "<div>\n",
              "<style scoped>\n",
              "    .dataframe tbody tr th:only-of-type {\n",
              "        vertical-align: middle;\n",
              "    }\n",
              "\n",
              "    .dataframe tbody tr th {\n",
              "        vertical-align: top;\n",
              "    }\n",
              "\n",
              "    .dataframe thead th {\n",
              "        text-align: right;\n",
              "    }\n",
              "</style>\n",
              "<table border=\"1\" class=\"dataframe\">\n",
              "  <thead>\n",
              "    <tr style=\"text-align: right;\">\n",
              "      <th></th>\n",
              "      <th>Country</th>\n",
              "      <th>IMR</th>\n",
              "    </tr>\n",
              "  </thead>\n",
              "  <tbody>\n",
              "    <tr>\n",
              "      <th>154</th>\n",
              "      <td>Nigeria</td>\n",
              "      <td>71.8710</td>\n",
              "    </tr>\n",
              "    <tr>\n",
              "      <th>189</th>\n",
              "      <td>Sierra Leone</td>\n",
              "      <td>69.9620</td>\n",
              "    </tr>\n",
              "    <tr>\n",
              "      <th>118</th>\n",
              "      <td>Lesotho</td>\n",
              "      <td>69.0136</td>\n",
              "    </tr>\n",
              "    <tr>\n",
              "      <th>39</th>\n",
              "      <td>Central African Republic</td>\n",
              "      <td>67.6984</td>\n",
              "    </tr>\n",
              "    <tr>\n",
              "      <th>195</th>\n",
              "      <td>Somalia</td>\n",
              "      <td>66.1650</td>\n",
              "    </tr>\n",
              "  </tbody>\n",
              "</table>\n",
              "</div>"
            ],
            "text/plain": [
              "                      Country      IMR\n",
              "154                   Nigeria  71.8710\n",
              "189              Sierra Leone  69.9620\n",
              "118                   Lesotho  69.0136\n",
              "39   Central African Republic  67.6984\n",
              "195                   Somalia  66.1650"
            ]
          },
          "execution_count": 13,
          "metadata": {},
          "output_type": "execute_result"
        }
      ],
      "source": [
        "# Solución:\n",
        "df[['Country', 'IMR']].sort_values(by=['IMR'], ascending=False).head(5)"
      ]
    },
    {
      "cell_type": "markdown",
      "metadata": {
        "id": "v_g6u6BX3U14"
      },
      "source": [
        "### **Ejercicio 3:**<br>\n",
        "Decir el top 5 de países según tasa de mortalidad infantil en Latin America & Caribbean"
      ]
    },
    {
      "cell_type": "code",
      "execution_count": 14,
      "metadata": {
        "id": "FnyVHVX4zn8X"
      },
      "outputs": [
        {
          "data": {
            "text/html": [
              "<div>\n",
              "<style scoped>\n",
              "    .dataframe tbody tr th:only-of-type {\n",
              "        vertical-align: middle;\n",
              "    }\n",
              "\n",
              "    .dataframe tbody tr th {\n",
              "        vertical-align: top;\n",
              "    }\n",
              "\n",
              "    .dataframe thead th {\n",
              "        text-align: right;\n",
              "    }\n",
              "</style>\n",
              "<table border=\"1\" class=\"dataframe\">\n",
              "  <thead>\n",
              "    <tr style=\"text-align: right;\">\n",
              "      <th></th>\n",
              "      <th>Country</th>\n",
              "      <th>IMR</th>\n",
              "    </tr>\n",
              "  </thead>\n",
              "  <tbody>\n",
              "    <tr>\n",
              "      <th>90</th>\n",
              "      <td>Haiti</td>\n",
              "      <td>43.3752</td>\n",
              "    </tr>\n",
              "    <tr>\n",
              "      <th>24</th>\n",
              "      <td>Bolivia</td>\n",
              "      <td>24.9386</td>\n",
              "    </tr>\n",
              "    <tr>\n",
              "      <th>58</th>\n",
              "      <td>Dominican Republic</td>\n",
              "      <td>24.3508</td>\n",
              "    </tr>\n",
              "    <tr>\n",
              "      <th>89</th>\n",
              "      <td>Guyana</td>\n",
              "      <td>23.5595</td>\n",
              "    </tr>\n",
              "    <tr>\n",
              "      <th>85</th>\n",
              "      <td>Guatemala</td>\n",
              "      <td>19.8249</td>\n",
              "    </tr>\n",
              "  </tbody>\n",
              "</table>\n",
              "</div>"
            ],
            "text/plain": [
              "               Country      IMR\n",
              "90               Haiti  43.3752\n",
              "24             Bolivia  24.9386\n",
              "58  Dominican Republic  24.3508\n",
              "89              Guyana  23.5595\n",
              "85           Guatemala  19.8249"
            ]
          },
          "execution_count": 14,
          "metadata": {},
          "output_type": "execute_result"
        }
      ],
      "source": [
        "# Solución\n",
        "df[(df['Region'] == 'Latin America & Caribbean')].sort_values(by=['IMR'], ascending=False)[['Country', 'IMR']].head(5)"
      ]
    },
    {
      "cell_type": "markdown",
      "metadata": {
        "id": "KmdaxKEFb_wE"
      },
      "source": [
        "### **Ejercicio 4:**<br>\n",
        "Filtrar los datos de Colombia"
      ]
    },
    {
      "cell_type": "code",
      "execution_count": 15,
      "metadata": {
        "id": "eUPLiEkecFS_"
      },
      "outputs": [
        {
          "data": {
            "text/plain": [
              "43    10.886\n",
              "Name: IMR, dtype: float64"
            ]
          },
          "execution_count": 15,
          "metadata": {},
          "output_type": "execute_result"
        }
      ],
      "source": [
        "#Solución\n",
        "df[df['Country'] == 'Colombia']['IMR']"
      ]
    },
    {
      "cell_type": "markdown",
      "metadata": {
        "id": "AJ4AU7zYx5eM"
      },
      "source": [
        "#***Pasos 13 y 14 para hacer consultas básicas***"
      ]
    },
    {
      "cell_type": "code",
      "execution_count": 16,
      "metadata": {
        "id": "emSYplSvKvHc"
      },
      "outputs": [
        {
          "name": "stderr",
          "output_type": "stream",
          "text": [
            "/tmp/ipykernel_108334/2798186124.py:2: FutureWarning: pandas.value_counts is deprecated and will be removed in a future version. Use pd.Series(obj).value_counts() instead.\n",
            "  pd.value_counts(df['IncomeGroup'])\n"
          ]
        },
        {
          "data": {
            "text/plain": [
              "IncomeGroup\n",
              "High income            78\n",
              "Upper middle income    54\n",
              "Lower middle income    53\n",
              "Low income             29\n",
              "Name: count, dtype: int64"
            ]
          },
          "execution_count": 16,
          "metadata": {},
          "output_type": "execute_result"
        }
      ],
      "source": [
        "# 13.Tabular una variable cualitativa (frecuencias absolutas)\n",
        "pd.value_counts(df['IncomeGroup'])"
      ]
    },
    {
      "cell_type": "markdown",
      "metadata": {
        "id": "YOHwI4S9_Y9T"
      },
      "source": [
        "### **Ejercicio 5:**<br>\n",
        "Tabular la variable 'Region':"
      ]
    },
    {
      "cell_type": "code",
      "execution_count": 17,
      "metadata": {
        "id": "I5vncnHu_iW7"
      },
      "outputs": [
        {
          "data": {
            "text/plain": [
              "Region\n",
              "Europe & Central Asia              60\n",
              "Sub-Saharan Africa                 52\n",
              "Latin America & Caribbean          50\n",
              "East Asia & Pacific                42\n",
              "Middle East & North Africa         20\n",
              "South Asia                          8\n",
              "North America                       4\n",
              "Middle East and Northern Africa     1\n",
              "Name: count, dtype: int64"
            ]
          },
          "execution_count": 17,
          "metadata": {},
          "output_type": "execute_result"
        }
      ],
      "source": [
        "# Solución:\n",
        "df['Region'].value_counts()"
      ]
    },
    {
      "cell_type": "markdown",
      "metadata": {
        "id": "1goaAG7GxlJU"
      },
      "source": [
        "### **Ejercicio 6:**<br>\n",
        "Tabular la variable Region en América:"
      ]
    },
    {
      "cell_type": "code",
      "execution_count": 35,
      "metadata": {
        "id": "VoVaDCa3xwlx"
      },
      "outputs": [
        {
          "data": {
            "text/plain": [
              "Country_name              TPopulation1Jan  TPopulation1July  TPopulationMale1July  TPopulationFemale1July  PopDensity  PopSexRatio  MedianAgePop  NatChange  NatChangeRT  PopChange  PopGrowthRate  DoublingTime  Births    Births1519  CBR     TFR     NRR     MAC     SRB    Deaths   DeathsMale  DeathsFemale  CDR    LEx      LExMale  LExFemale  LE15     LE15Male  LE15Female  LE65     LE65Male  LE65Female  LE80     LE80Male  LE80Female  InfantDeaths  IMR      LBsurvivingAge1  Under5Deaths  Q5       Q0040     Q0040Male  Q0040Female  Q0060     Q0060Male  Q0060Female  Q1550     Q1550Male  Q1550Female  Q1560     Q1560Male  Q1560Female  NetMigrations  CNMR     CCode  Region                     IncomeGroup          GDPpp2020     Country                   Continent\n",
              "Antigua and Barbuda       93.488           93.763            44.782                48.981                  213.0977    91.4273      35.0890       0.553      5.890        0.550      0.587          118.0830      1.124     0.101       11.984  1.5801  0.7694  28.052  103.2  0.571    0.293       0.278         6.094  79.2361  76.5065  81.6454    64.8136  62.1165   67.1826     18.7000  16.8317   20.1920     8.9639   7.7374    9.7562      0.006         4.9533   1.119            0.007         6.1276   22.3466   28.4763    16.2641      88.4138   112.2292   67.0361      31.5481   41.6180    22.0019      81.5653   104.9126   60.7274       0.000          0.000   ATG    Latin America & Caribbean  High income          19837.650142  Antigua and Barbuda       America      1\n",
              "Guyana                    806.572          808.726           395.982               412.743                 4.1083      95.9390      25.7127       8.216      10.135       4.307      0.533          130.0464      16.129    2.313       19.897  2.3692  1.1122  27.288  103.7  7.913    4.418       3.495         9.762  65.9885  62.7784  69.3994    53.1050  50.0448   56.3373     12.8709  11.3381   14.3107     6.4615   5.6303    7.0851      0.381         23.5595  15.790           0.465         28.7572  89.3255   108.1701   70.9652      290.3495  355.0967   225.4025     127.7621  162.4887   94.6800      267.0740  331.2498   203.3131     -3.900         -4.811   GUY    Latin America & Caribbean  Upper middle income  24493.714070  Guyana                    America      1\n",
              "Turks and Caicos Islands  45.529           45.702            23.006                22.696                  48.1079     101.3636     37.7102       0.148      3.230        0.347      0.759          91.3237       0.560     0.022       12.270  1.6576  0.7945  30.714  104.9  0.412    0.231       0.181         9.040  74.9252  72.1651  77.9863    61.1030  58.6006   63.8803     15.5835  13.9076   17.2980     6.7024   5.9084    7.3921      0.006         11.3894  0.554            0.008         13.6390  34.3300   44.7970    23.7771      120.9629  151.2381   88.0371      43.1393   54.2449    31.1548      106.7923  133.8915   77.3317       0.200          4.386   TCA    Latin America & Caribbean  High income          23390.473672  Turks and Caicos Islands  America      1\n",
              "Suriname                  615.644          618.040           307.625               310.416                 3.9618      99.1010      28.0497       5.781      9.346        4.793      0.776          89.3231       11.123    1.499       17.983  2.3217  1.1048  27.872  104.0  5.342    2.952       2.391         8.637  70.2891  67.1890  73.5769    56.7194  53.7155   59.8931     14.5219  12.5433   16.2509     6.9588   5.8106    7.7599      0.179         16.1175  10.965           0.201         18.0443  59.4147   70.2716    48.0500      218.1030  264.6324   168.1987     90.0551   110.3424   68.6506      201.8363  247.5468   152.9870     -1.000         -1.617   SUR    Latin America & Caribbean  Upper middle income  16675.638383  Suriname                  America      1\n",
              "Peru                      33911.712        34049.588         16857.086             17192.503               26.5995     98.0490      28.4460       336.401    9.871        275.753    0.810          85.5737       592.156   81.305      17.376  2.1637  1.0332  28.298  104.1  255.755  137.326     118.429       7.505  73.3853  71.3318  75.4954    59.5126  57.4950   61.5810     15.9848  14.9882   16.9378     6.6542   6.2109    7.0319      5.750         9.7046   587.155          7.176         12.1127  50.3383   61.5470    39.2876      169.3026  200.7716   137.2994     74.1550   92.3359    56.0817      156.0264  187.2031   124.4025     -60.652        -1.780   PER    Latin America & Caribbean  Upper middle income  13895.275816  Peru                      America      1\n",
              "Paraguay                  6743.247         6780.744          3402.132              3378.612                16.7648     100.6961     25.8983       87.489     12.891       74.994     1.106          62.6715       137.960   20.516      20.328  2.4440  1.1564  27.923  105.0  50.471   28.468      22.003        7.437  70.4745  67.6452  73.5714    57.0391  54.3121   60.0165     14.2264  12.8394   15.6377     6.4508   5.7532    7.0486      2.258         16.3578  135.965          2.692         19.4919  59.7978   74.5218    44.3736      203.3646  250.4983   154.4274     83.2077   106.4233   58.9744      185.2253  231.5265   137.4213     -12.499        -1.842   PRY    Latin America & Caribbean  Upper middle income  13975.858227  Paraguay                  America      1\n",
              "Panama                    4379.282         4408.580          2204.410              2204.170                59.4333     100.0109     29.0813       50.633     11.496       58.597     1.329          52.1555       76.637    12.082      17.400  2.2972  1.0900  27.022  105.5  26.004   14.753      11.250        5.904  76.8262  73.7259  80.0907    63.3464  60.3785   66.4538     19.0283  17.4633   20.5181     9.5048   8.6141    10.2274     0.975         12.7112  75.783           1.285         16.7210  57.4748   76.2578    37.8245      136.3575  173.2128   97.9487      64.5033   87.4479    40.6571      118.7512  154.0666   82.1820       7.967          1.809   PAN    Latin America & Caribbean  High income          31680.186011  Panama                    America      1\n",
              "Nicaragua                 6898.994         6948.392          3423.787              3524.605                57.7397     97.1396      24.8934       106.805    15.363       98.796     1.422          48.7445       139.164   26.977      20.018  2.2840  1.0974  26.636  103.5  32.359   18.113      14.246        4.655  74.6150  71.6129  77.5564    60.8968  58.0148   63.6968     16.6638  15.3184   17.7935     6.8536   6.1853    7.3171      1.709         12.2711  137.669          2.047         14.6641  51.3554   68.6395    34.0289      150.4362  196.3448   105.1498     68.5804   96.6476    41.0256      135.4447  180.1833   91.6302      -8.000         -1.151   NIC    Latin America & Caribbean  Lower middle income  6331.672499   Nicaragua                 America      1\n",
              "Mexico                    127024.134       127504.125        62194.954             65309.171               65.0781     95.2316      29.3867       1011.377   7.931        959.983    0.753          92.0514       1866.399  288.302     14.636  1.8029  0.8658  26.972  103.9  855.022  480.241     374.782       6.705  74.8315  71.5475  78.1613    60.9760  57.7758   64.2047     17.4030  16.1585   18.5537     8.0726   7.4101    8.6257      20.340        10.8873  1848.667         24.240        12.8809  56.0969   79.6130    32.7837      158.5056  210.9098   106.8465     76.6216   112.1958   41.7728      145.2564  196.9388   94.5937      -51.399        -0.403   MEX    Latin America & Caribbean  Upper middle income  20036.455388  Mexico                    America      1\n",
              "Honduras                  10354.955        10432.860         5267.354              5165.506                95.6494     101.9717     23.7777       161.194    15.446       155.809    1.493          46.4265       217.590   37.198      20.850  2.3403  1.1112  27.202  105.1  56.396   31.483      24.913        5.404  70.7277  68.4614  73.1568    57.0309  54.8566   59.3546     13.3957  12.0311   14.7636     5.7085   5.0628    6.1827      2.775         12.7628  215.156          3.340         15.3912  50.5430   59.0730    41.5884      182.5498  215.1928   149.6639     71.9485   84.7404    58.6686      166.9990  198.6704   135.2948     -5.374         -0.515   HND    Latin America & Caribbean  Lower middle income  6252.569135   Honduras                  America      1\n",
              "Haiti                     11516.043        11584.996         5738.710              5846.286                420.2182    98.1599      23.2466       170.149    14.666       137.905    1.190          58.2477       268.523   29.646      23.146  2.7726  1.2491  29.489  103.0  98.374   54.048      44.326        8.480  63.7283  60.8921  66.6955    53.2853  50.7930   55.8563     12.3030  11.2325   13.2357     5.1791   4.7210    5.4908      11.649        43.3752  258.823          15.220        56.6748  132.5649  155.5182   108.9071     293.6348  346.4409   238.5848     126.1831  154.8243   96.9583      241.1851  291.5716   189.4977     -32.248        -2.780   HTI    Latin America & Caribbean  Lower middle income  3127.415571   Haiti                     America      1\n",
              "Guatemala                 17722.702        17843.908         8830.909              9012.999                166.5165    97.9797      22.4178       251.554    14.094       242.412    1.359          51.0042       372.335   58.796      20.861  2.3536  1.1104  27.854  103.9  120.781  67.174      53.607        6.767  68.6735  65.6969  71.7543    55.5549  52.6454   58.5520     14.3591  13.0652   15.6294     6.9157   6.1331    7.6402      7.381         19.8249  365.758          8.926         23.8328  78.6266   99.0776    57.5399      246.7591  301.3199   193.9565     111.4698  146.3215   76.5494      225.5693  280.0288   173.2300     -9.128         -0.511   GTM    Latin America & Caribbean  Upper middle income  9769.238227   Guatemala                 America      1\n",
              "Argentina                 45389.937        45510.318         22530.617             22979.701               16.3014     98.0457      31.5665       236.876    5.205        240.762    0.529          131.0297      627.741   64.435      13.794  1.8755  0.8976  28.802  105.1  390.865  203.278     187.588       8.589  76.0636  72.8506  79.2770    61.9611  58.7688   65.1451     17.0233  14.6036   19.1530     8.4786   6.7526    9.5623      5.542         8.8252   622.930          6.486         10.2723  36.1137   44.1826    27.6374      124.5536  153.3865   94.9372      50.6701   63.5283    37.2759      113.9576  142.4238   84.7869       3.886          0.085   ARG    Latin America & Caribbean  Upper middle income  23627.394294  Argentina                 America      1\n",
              "Grenada                   125.053          125.438           62.721                62.717                  368.9338    100.0072     31.2258       0.963      7.674        0.769      0.613          113.0746      1.960     0.139       15.616  1.9862  0.9532  29.056  104.0  0.997    0.540       0.457         7.942  75.3355  72.5882  78.2976    61.5787  58.8904   64.4727     17.1107  15.3646   18.7888     8.0687   7.0908    8.7526      0.024         12.2868  1.939            0.030         15.0375  36.4241   42.3127    30.3929      140.5287  173.6004   105.3788     50.7763   63.0406    37.9040      126.0721  158.4585   91.7257      -0.200         -1.593   GRD    Latin America & Caribbean  Upper middle income  16680.415072  Grenada                   America      1\n",
              "Ecuador                   17905.446        18001.000         8984.602              9016.398                72.4795     99.6474      27.9257       211.316    11.733       191.108    1.062          65.2681       298.666   47.741      16.583  2.0034  0.9577  27.441  104.7  87.350   47.874      39.476        4.850  77.8942  75.3130  80.4808    64.1329  61.6784   66.5735     19.0788  17.7471   20.2564     8.6904   7.8307    9.3339      3.194         10.6901  295.881          3.788         12.6608  48.7226   64.4421    32.3825      118.6771  147.9939   88.4975      56.3641   75.7539    36.3885      104.1780  131.9998   75.7057      -20.206        -1.122   ECU    Latin America & Caribbean  Upper middle income  11661.193168  Ecuador                   America      1\n",
              "Dominican Republic        11175.767        11228.821         5634.261              5594.560                232.4278    100.7097     27.4260       135.404    12.043       106.108    0.945          73.3489       203.625   30.062      18.111  2.2474  1.0598  26.861  104.4  68.221   39.171      29.050        6.068  74.1704  71.0444  77.5363    61.5833  58.6120   64.7686     17.9437  16.4387   19.4079     9.0600   8.3458    9.6109      4.963         24.3508  199.209          6.168         30.1900  70.3211   88.3135    51.4979      169.2823  211.2774   124.7345     75.6410   100.1363   49.9501      141.8804  182.3376   99.2097      -29.294        -2.606   DOM    Latin America & Caribbean  Upper middle income  20769.180820  Dominican Republic        America      1\n",
              "Costa Rica                5167.063         5180.829          2590.710              2590.119                101.4655    100.0228     33.3359       23.683     4.573        27.532     0.531          130.5362      60.517    6.422       11.686  1.5225  0.7346  28.010  104.5  36.834   20.494      16.340        7.113  77.3202  74.7618  80.0359    63.0357  60.5062   65.7176     17.4306  16.0692   18.7758     7.2181   6.4185    7.9063      0.415         6.8449   60.159           0.489         7.9980   32.6262   44.3145    20.3636      106.6152  138.8489   73.2551      47.1520   65.8038    27.7282      98.1205   130.0162   65.1669       3.850          0.743   CRI    Latin America & Caribbean  Upper middle income  23387.132225  Costa Rica                America      1\n",
              "Cayman Islands            68.393           68.706            34.669                34.036                  285.0851    101.8583     37.6937       0.219      3.203        0.625      0.910          76.1700       0.669     0.013       9.767   1.2158  0.5852  30.999  103.6  0.450    0.259       0.191         6.564  75.5549  73.2342  78.1236    61.3677  59.1645   63.8070     16.4234  14.8170   18.1059     7.3506   6.5328    8.0142      0.005         7.3359   0.665            0.006         8.7566   35.4818   41.3143    29.2770      128.0069  150.1450   104.1526     52.5812   60.2984    44.2902      118.2994  139.0027   96.0111       0.400          5.839   CYM    Latin America & Caribbean  High income          72481.013856  Cayman Islands            America      1\n",
              "Canada                    38290.846        38454.327         19110.317             19344.011               4.2288      98.7919      40.3812       78.376     2.044        326.962    0.850          81.5467       376.188   6.648       9.814   1.4663  0.7064  31.184  105.4  297.812  152.829     144.982       7.770  82.8471  80.8678  84.7966    68.2862  66.3218   70.2181     21.4370  20.0721   22.6856     10.2833  9.3644    11.0075     1.481         3.9355   374.917          1.726         4.5841   20.3077   25.5343    14.7982      66.6995   81.3975    51.6566      28.6242   36.6855    20.3142      61.6297   76.1089    46.8295       248.586        6.485   CAN    North America              High income          52085.035685  Canada                    America      1\n",
              "Bolivia                   12148.966        12224.110         6126.364              6097.746                11.2842     100.4693     24.1340       153.283    12.537       150.288    1.229          56.3993       264.070   36.767      21.599  2.5839  1.1997  28.321  104.2  110.787  61.892      48.895        9.062  64.9284  62.2646  67.9072    52.5224  49.9274   55.4218     10.9595  9.5638    12.3130     4.7536   4.1874    5.1571      6.586         24.9386  258.219          8.746         33.1804  86.4845   99.8881    72.5228      277.6776  331.7408   220.0180     108.4021  131.5683   84.3645      247.8066  302.0574   190.2223     -3.000         -0.245   BOL    Latin America & Caribbean  Lower middle income  9030.387681   Bolivia                   America      1\n",
              "Belize                    402.647          405.272           203.747               201.525                 17.7673     101.1023     25.5571       4.661      11.510       5.251      1.296          53.4836       7.193     1.083       17.763  1.9891  0.9467  27.191  105.2  2.532    1.549       0.984         6.253  70.9624  67.7210  74.6853    57.0078  53.8253   60.6616     15.3018  14.0934   16.6839     7.0817   6.3457    7.8541      0.072         10.0752  7.130            0.087         12.0420  68.5126   93.4334    42.6217      216.9531  274.2007   155.9160     101.6341  140.0483   61.8954      204.9968  261.8774   144.5382      0.600          1.481   BLZ    Latin America & Caribbean  Upper middle income  6921.450076   Belize                    America      1\n",
              "Bahamas, The              408.647          409.984           195.817               214.167                 76.5181     91.4324      32.7911       1.671      4.081        2.674      0.652          106.3109      4.659     0.417       11.379  1.3803  0.6651  28.545  102.8  2.988    1.654       1.334         7.298  74.3579  70.7571  77.8432    60.4072  56.8589   63.8251     17.7505  15.9097   19.2854     8.7853   7.6261    9.5579      0.047         10.1090  4.618            0.055         11.9007  59.1438   78.5069    40.5691      181.0284  231.9227   132.1909     89.9120   119.9577   61.4616      169.1312  219.5729   120.9570      1.000          2.442   BHS    Latin America & Caribbean  High income          34107.849831  Bahamas                   America      1\n",
              "Venezuela                 28047.658        28301.696         13996.792             14304.904               30.8820     97.8461      28.2287       210.364    7.473        508.075    1.795          38.6154       438.384   105.109     15.573  2.1880  1.0358  26.333  105.3  228.020  130.349     97.671        8.100  71.1049  66.8747  75.6546    57.5904  53.4349   62.0399     15.4125  13.6726   16.9294     6.1850   5.3513    6.7339      6.479         14.7606  432.686          7.781         17.5455  86.7654   125.1846   44.8666      195.8563  260.4757   126.8420     103.7213  150.6894   53.2621      178.5188  242.5973   110.4133      297.713        10.576  VEN    Latin America & Caribbean  Upper middle income  16055.650000  Venezuela                 America      1\n",
              "Name: count, dtype: int64"
            ]
          },
          "execution_count": 35,
          "metadata": {},
          "output_type": "execute_result"
        }
      ],
      "source": [
        "# Solución:\n",
        "df[(df['Region'] == 'North America') | (df['Region'] == 'Latin America & Caribbean')].value_counts()"
      ]
    },
    {
      "cell_type": "markdown",
      "metadata": {
        "id": "xL8DtNuJyEVi"
      },
      "source": [
        "### **Ejercicio 7:**<br>\n",
        "Hacer una lista con todos los países de América que tienen un ingreso per cápita menor a 10.000 dólares"
      ]
    },
    {
      "cell_type": "code",
      "execution_count": 36,
      "metadata": {
        "id": "-50ISqiSyRQO"
      },
      "outputs": [
        {
          "data": {
            "text/html": [
              "<div>\n",
              "<style scoped>\n",
              "    .dataframe tbody tr th:only-of-type {\n",
              "        vertical-align: middle;\n",
              "    }\n",
              "\n",
              "    .dataframe tbody tr th {\n",
              "        vertical-align: top;\n",
              "    }\n",
              "\n",
              "    .dataframe thead th {\n",
              "        text-align: right;\n",
              "    }\n",
              "</style>\n",
              "<table border=\"1\" class=\"dataframe\">\n",
              "  <thead>\n",
              "    <tr style=\"text-align: right;\">\n",
              "      <th></th>\n",
              "      <th>Country</th>\n",
              "      <th>GDPpp2020</th>\n",
              "    </tr>\n",
              "  </thead>\n",
              "  <tbody>\n",
              "    <tr>\n",
              "      <th>20</th>\n",
              "      <td>Belize</td>\n",
              "      <td>6921.450076</td>\n",
              "    </tr>\n",
              "    <tr>\n",
              "      <th>24</th>\n",
              "      <td>Bolivia</td>\n",
              "      <td>9030.387681</td>\n",
              "    </tr>\n",
              "    <tr>\n",
              "      <th>51</th>\n",
              "      <td>Cuba</td>\n",
              "      <td>9099.670000</td>\n",
              "    </tr>\n",
              "    <tr>\n",
              "      <th>61</th>\n",
              "      <td>El Salvador</td>\n",
              "      <td>9668.727256</td>\n",
              "    </tr>\n",
              "    <tr>\n",
              "      <th>85</th>\n",
              "      <td>Guatemala</td>\n",
              "      <td>9769.238227</td>\n",
              "    </tr>\n",
              "    <tr>\n",
              "      <th>90</th>\n",
              "      <td>Haiti</td>\n",
              "      <td>3127.415571</td>\n",
              "    </tr>\n",
              "    <tr>\n",
              "      <th>91</th>\n",
              "      <td>Honduras</td>\n",
              "      <td>6252.569135</td>\n",
              "    </tr>\n",
              "    <tr>\n",
              "      <th>152</th>\n",
              "      <td>Nicaragua</td>\n",
              "      <td>6331.672499</td>\n",
              "    </tr>\n",
              "  </tbody>\n",
              "</table>\n",
              "</div>"
            ],
            "text/plain": [
              "         Country    GDPpp2020\n",
              "20        Belize  6921.450076\n",
              "24       Bolivia  9030.387681\n",
              "51          Cuba  9099.670000\n",
              "61   El Salvador  9668.727256\n",
              "85     Guatemala  9769.238227\n",
              "90         Haiti  3127.415571\n",
              "91      Honduras  6252.569135\n",
              "152    Nicaragua  6331.672499"
            ]
          },
          "execution_count": 36,
          "metadata": {},
          "output_type": "execute_result"
        }
      ],
      "source": [
        "# Solución:\n",
        "df[(df['Continent'] == 'America') & (df['GDPpp2020'] < 10000)][['Country','GDPpp2020']]"
      ]
    },
    {
      "cell_type": "code",
      "execution_count": 37,
      "metadata": {
        "id": "hMq9KbZNLH7I"
      },
      "outputs": [
        {
          "data": {
            "text/plain": [
              "Continent\n",
              "Africa     26.2\n",
              "Europe     25.3\n",
              "America    22.8\n",
              "Asia       17.3\n",
              "Oceania     8.4\n",
              "Name: proportion, dtype: float64"
            ]
          },
          "execution_count": 37,
          "metadata": {},
          "output_type": "execute_result"
        }
      ],
      "source": [
        "# 14. Tabular una variable cualitativa (frecuencia absolura o relativa: True or False)\n",
        "df['Continent'].value_counts(normalize=True).round(3)*100"
      ]
    },
    {
      "cell_type": "markdown",
      "metadata": {
        "id": "SdLLmE-rB4dd"
      },
      "source": [
        "### **Ejercicio 8:**<br>\n",
        "Determinar el porcentaje de paises por nivel de ingreso per cápita ('IncomeGroup')"
      ]
    },
    {
      "cell_type": "code",
      "execution_count": 38,
      "metadata": {
        "colab": {
          "base_uri": "https://localhost:8080/"
        },
        "id": "5HOntFcKLeLM",
        "outputId": "5ebc8a40-67fd-4680-feca-ef2e3bbacc68"
      },
      "outputs": [
        {
          "data": {
            "text/html": [
              "<div>\n",
              "<style scoped>\n",
              "    .dataframe tbody tr th:only-of-type {\n",
              "        vertical-align: middle;\n",
              "    }\n",
              "\n",
              "    .dataframe tbody tr th {\n",
              "        vertical-align: top;\n",
              "    }\n",
              "\n",
              "    .dataframe thead th {\n",
              "        text-align: right;\n",
              "    }\n",
              "</style>\n",
              "<table border=\"1\" class=\"dataframe\">\n",
              "  <thead>\n",
              "    <tr style=\"text-align: right;\">\n",
              "      <th></th>\n",
              "      <th>Country</th>\n",
              "      <th>IncomeGroup</th>\n",
              "    </tr>\n",
              "  </thead>\n",
              "  <tbody>\n",
              "    <tr>\n",
              "      <th>68</th>\n",
              "      <td>Faroe Islands</td>\n",
              "      <td>High income</td>\n",
              "    </tr>\n",
              "    <tr>\n",
              "      <th>92</th>\n",
              "      <td>Hong Kong</td>\n",
              "      <td>High income</td>\n",
              "    </tr>\n",
              "    <tr>\n",
              "      <th>169</th>\n",
              "      <td>Puerto Rico</td>\n",
              "      <td>High income</td>\n",
              "    </tr>\n",
              "    <tr>\n",
              "      <th>170</th>\n",
              "      <td>Qatar</td>\n",
              "      <td>High income</td>\n",
              "    </tr>\n",
              "    <tr>\n",
              "      <th>172</th>\n",
              "      <td>Romania</td>\n",
              "      <td>High income</td>\n",
              "    </tr>\n",
              "    <tr>\n",
              "      <th>...</th>\n",
              "      <td>...</td>\n",
              "      <td>...</td>\n",
              "    </tr>\n",
              "    <tr>\n",
              "      <th>181</th>\n",
              "      <td>Saint Vincent and the Grenadines</td>\n",
              "      <td>NaN</td>\n",
              "    </tr>\n",
              "    <tr>\n",
              "      <th>200</th>\n",
              "      <td>State of Palestine</td>\n",
              "      <td>NaN</td>\n",
              "    </tr>\n",
              "    <tr>\n",
              "      <th>211</th>\n",
              "      <td>Tokelau</td>\n",
              "      <td>NaN</td>\n",
              "    </tr>\n",
              "    <tr>\n",
              "      <th>229</th>\n",
              "      <td>Vatican</td>\n",
              "      <td>NaN</td>\n",
              "    </tr>\n",
              "    <tr>\n",
              "      <th>232</th>\n",
              "      <td>Wallis and Futuna Islands</td>\n",
              "      <td>NaN</td>\n",
              "    </tr>\n",
              "  </tbody>\n",
              "</table>\n",
              "<p>237 rows × 2 columns</p>\n",
              "</div>"
            ],
            "text/plain": [
              "                              Country  IncomeGroup\n",
              "68                      Faroe Islands  High income\n",
              "92                          Hong Kong  High income\n",
              "169                       Puerto Rico  High income\n",
              "170                             Qatar  High income\n",
              "172                           Romania  High income\n",
              "..                                ...          ...\n",
              "181  Saint Vincent and the Grenadines          NaN\n",
              "200                State of Palestine          NaN\n",
              "211                           Tokelau          NaN\n",
              "229                           Vatican          NaN\n",
              "232         Wallis and Futuna Islands          NaN\n",
              "\n",
              "[237 rows x 2 columns]"
            ]
          },
          "execution_count": 38,
          "metadata": {},
          "output_type": "execute_result"
        }
      ],
      "source": [
        "df.sort_values(by=['IncomeGroup'])[['Country', 'IncomeGroup']]"
      ]
    },
    {
      "cell_type": "markdown",
      "metadata": {
        "id": "Ijxa-ZxmAaYY"
      },
      "source": [
        "#***Pasos 15 a 19 para hacer estadísticas básicas***"
      ]
    },
    {
      "cell_type": "code",
      "execution_count": 39,
      "metadata": {
        "id": "8EZpLQY2dr1w"
      },
      "outputs": [
        {
          "data": {
            "text/html": [
              "<div>\n",
              "<style scoped>\n",
              "    .dataframe tbody tr th:only-of-type {\n",
              "        vertical-align: middle;\n",
              "    }\n",
              "\n",
              "    .dataframe tbody tr th {\n",
              "        vertical-align: top;\n",
              "    }\n",
              "\n",
              "    .dataframe thead th {\n",
              "        text-align: right;\n",
              "    }\n",
              "</style>\n",
              "<table border=\"1\" class=\"dataframe\">\n",
              "  <thead>\n",
              "    <tr style=\"text-align: right;\">\n",
              "      <th></th>\n",
              "      <th>TPopulation1Jan</th>\n",
              "      <th>TPopulation1July</th>\n",
              "      <th>TPopulationMale1July</th>\n",
              "      <th>TPopulationFemale1July</th>\n",
              "      <th>PopDensity</th>\n",
              "      <th>PopSexRatio</th>\n",
              "      <th>MedianAgePop</th>\n",
              "      <th>NatChange</th>\n",
              "      <th>NatChangeRT</th>\n",
              "      <th>PopChange</th>\n",
              "      <th>...</th>\n",
              "      <th>Q0060Female</th>\n",
              "      <th>Q1550</th>\n",
              "      <th>Q1550Male</th>\n",
              "      <th>Q1550Female</th>\n",
              "      <th>Q1560</th>\n",
              "      <th>Q1560Male</th>\n",
              "      <th>Q1560Female</th>\n",
              "      <th>NetMigrations</th>\n",
              "      <th>CNMR</th>\n",
              "      <th>GDPpp2020</th>\n",
              "    </tr>\n",
              "  </thead>\n",
              "  <tbody>\n",
              "    <tr>\n",
              "      <th>count</th>\n",
              "      <td>2.370000e+02</td>\n",
              "      <td>2.370000e+02</td>\n",
              "      <td>237.000000</td>\n",
              "      <td>237.000000</td>\n",
              "      <td>237.000000</td>\n",
              "      <td>237.000000</td>\n",
              "      <td>237.000000</td>\n",
              "      <td>237.000000</td>\n",
              "      <td>237.000000</td>\n",
              "      <td>237.000000</td>\n",
              "      <td>...</td>\n",
              "      <td>237.000000</td>\n",
              "      <td>237.000000</td>\n",
              "      <td>237.000000</td>\n",
              "      <td>237.000000</td>\n",
              "      <td>237.000000</td>\n",
              "      <td>237.000000</td>\n",
              "      <td>237.000000</td>\n",
              "      <td>237.000000</td>\n",
              "      <td>237.000000</td>\n",
              "      <td>200.000000</td>\n",
              "    </tr>\n",
              "    <tr>\n",
              "      <th>mean</th>\n",
              "      <td>3.350911e+04</td>\n",
              "      <td>3.365023e+04</td>\n",
              "      <td>16913.837992</td>\n",
              "      <td>16736.394713</td>\n",
              "      <td>467.641576</td>\n",
              "      <td>100.682988</td>\n",
              "      <td>31.218075</td>\n",
              "      <td>282.251262</td>\n",
              "      <td>9.128911</td>\n",
              "      <td>282.251810</td>\n",
              "      <td>...</td>\n",
              "      <td>137.807725</td>\n",
              "      <td>76.014505</td>\n",
              "      <td>93.145257</td>\n",
              "      <td>58.493290</td>\n",
              "      <td>153.198451</td>\n",
              "      <td>187.776845</td>\n",
              "      <td>117.852030</td>\n",
              "      <td>0.000004</td>\n",
              "      <td>1.028595</td>\n",
              "      <td>23168.637570</td>\n",
              "    </tr>\n",
              "    <tr>\n",
              "      <th>std</th>\n",
              "      <td>1.356770e+05</td>\n",
              "      <td>1.359462e+05</td>\n",
              "      <td>69553.380076</td>\n",
              "      <td>66405.728034</td>\n",
              "      <td>2237.543396</td>\n",
              "      <td>16.388154</td>\n",
              "      <td>9.679166</td>\n",
              "      <td>917.226484</td>\n",
              "      <td>10.721169</td>\n",
              "      <td>1028.234887</td>\n",
              "      <td>...</td>\n",
              "      <td>100.986470</td>\n",
              "      <td>58.220800</td>\n",
              "      <td>66.569013</td>\n",
              "      <td>51.360045</td>\n",
              "      <td>93.278326</td>\n",
              "      <td>106.034052</td>\n",
              "      <td>83.280749</td>\n",
              "      <td>507.854509</td>\n",
              "      <td>17.528073</td>\n",
              "      <td>23917.155041</td>\n",
              "    </tr>\n",
              "    <tr>\n",
              "      <th>min</th>\n",
              "      <td>5.080000e-01</td>\n",
              "      <td>5.100000e-01</td>\n",
              "      <td>0.246000</td>\n",
              "      <td>0.265000</td>\n",
              "      <td>0.137600</td>\n",
              "      <td>81.683600</td>\n",
              "      <td>14.485800</td>\n",
              "      <td>-980.855000</td>\n",
              "      <td>-15.366000</td>\n",
              "      <td>-7264.930000</td>\n",
              "      <td>...</td>\n",
              "      <td>23.155200</td>\n",
              "      <td>9.091100</td>\n",
              "      <td>10.192000</td>\n",
              "      <td>8.040400</td>\n",
              "      <td>23.648600</td>\n",
              "      <td>28.959300</td>\n",
              "      <td>18.463900</td>\n",
              "      <td>-6673.580000</td>\n",
              "      <td>-155.070000</td>\n",
              "      <td>683.593750</td>\n",
              "    </tr>\n",
              "    <tr>\n",
              "      <th>25%</th>\n",
              "      <td>4.026470e+02</td>\n",
              "      <td>4.052720e+02</td>\n",
              "      <td>195.817000</td>\n",
              "      <td>214.167000</td>\n",
              "      <td>39.248900</td>\n",
              "      <td>95.847700</td>\n",
              "      <td>22.417800</td>\n",
              "      <td>0.131000</td>\n",
              "      <td>1.181000</td>\n",
              "      <td>0.198000</td>\n",
              "      <td>...</td>\n",
              "      <td>59.534800</td>\n",
              "      <td>31.548100</td>\n",
              "      <td>41.388300</td>\n",
              "      <td>21.269500</td>\n",
              "      <td>79.637800</td>\n",
              "      <td>104.067700</td>\n",
              "      <td>52.886700</td>\n",
              "      <td>-8.000000</td>\n",
              "      <td>-1.507000</td>\n",
              "      <td>5067.712346</td>\n",
              "    </tr>\n",
              "    <tr>\n",
              "      <th>50%</th>\n",
              "      <td>5.439435e+03</td>\n",
              "      <td>5.489740e+03</td>\n",
              "      <td>2742.094000</td>\n",
              "      <td>2790.791000</td>\n",
              "      <td>96.983300</td>\n",
              "      <td>98.534800</td>\n",
              "      <td>31.566500</td>\n",
              "      <td>13.216000</td>\n",
              "      <td>7.674000</td>\n",
              "      <td>23.025000</td>\n",
              "      <td>...</td>\n",
              "      <td>103.790100</td>\n",
              "      <td>61.094600</td>\n",
              "      <td>77.855900</td>\n",
              "      <td>40.657100</td>\n",
              "      <td>134.241000</td>\n",
              "      <td>173.268100</td>\n",
              "      <td>90.978400</td>\n",
              "      <td>-0.200000</td>\n",
              "      <td>-0.172000</td>\n",
              "      <td>14959.761950</td>\n",
              "    </tr>\n",
              "    <tr>\n",
              "      <th>75%</th>\n",
              "      <td>2.179988e+04</td>\n",
              "      <td>2.212525e+04</td>\n",
              "      <td>11078.628000</td>\n",
              "      <td>11186.771000</td>\n",
              "      <td>239.582100</td>\n",
              "      <td>101.309600</td>\n",
              "      <td>39.206700</td>\n",
              "      <td>204.996000</td>\n",
              "      <td>16.139000</td>\n",
              "      <td>242.412000</td>\n",
              "      <td>...</td>\n",
              "      <td>191.449500</td>\n",
              "      <td>101.846900</td>\n",
              "      <td>130.721800</td>\n",
              "      <td>74.789200</td>\n",
              "      <td>209.480800</td>\n",
              "      <td>256.368900</td>\n",
              "      <td>167.534400</td>\n",
              "      <td>1.000000</td>\n",
              "      <td>1.005000</td>\n",
              "      <td>34164.324185</td>\n",
              "    </tr>\n",
              "    <tr>\n",
              "      <th>max</th>\n",
              "      <td>1.425925e+06</td>\n",
              "      <td>1.425887e+06</td>\n",
              "      <td>731180.498000</td>\n",
              "      <td>698243.300000</td>\n",
              "      <td>24475.838900</td>\n",
              "      <td>263.768400</td>\n",
              "      <td>57.531200</td>\n",
              "      <td>10194.012000</td>\n",
              "      <td>37.195000</td>\n",
              "      <td>9706.711000</td>\n",
              "      <td>...</td>\n",
              "      <td>484.501600</td>\n",
              "      <td>311.143400</td>\n",
              "      <td>352.523900</td>\n",
              "      <td>264.994700</td>\n",
              "      <td>492.033900</td>\n",
              "      <td>561.016500</td>\n",
              "      <td>430.904700</td>\n",
              "      <td>3366.387000</td>\n",
              "      <td>152.203000</td>\n",
              "      <td>134753.797686</td>\n",
              "    </tr>\n",
              "  </tbody>\n",
              "</table>\n",
              "<p>8 rows × 55 columns</p>\n",
              "</div>"
            ],
            "text/plain": [
              "       TPopulation1Jan  TPopulation1July  TPopulationMale1July  \\\n",
              "count     2.370000e+02      2.370000e+02            237.000000   \n",
              "mean      3.350911e+04      3.365023e+04          16913.837992   \n",
              "std       1.356770e+05      1.359462e+05          69553.380076   \n",
              "min       5.080000e-01      5.100000e-01              0.246000   \n",
              "25%       4.026470e+02      4.052720e+02            195.817000   \n",
              "50%       5.439435e+03      5.489740e+03           2742.094000   \n",
              "75%       2.179988e+04      2.212525e+04          11078.628000   \n",
              "max       1.425925e+06      1.425887e+06         731180.498000   \n",
              "\n",
              "       TPopulationFemale1July    PopDensity  PopSexRatio  MedianAgePop  \\\n",
              "count              237.000000    237.000000   237.000000    237.000000   \n",
              "mean             16736.394713    467.641576   100.682988     31.218075   \n",
              "std              66405.728034   2237.543396    16.388154      9.679166   \n",
              "min                  0.265000      0.137600    81.683600     14.485800   \n",
              "25%                214.167000     39.248900    95.847700     22.417800   \n",
              "50%               2790.791000     96.983300    98.534800     31.566500   \n",
              "75%              11186.771000    239.582100   101.309600     39.206700   \n",
              "max             698243.300000  24475.838900   263.768400     57.531200   \n",
              "\n",
              "          NatChange  NatChangeRT    PopChange  ...  Q0060Female       Q1550  \\\n",
              "count    237.000000   237.000000   237.000000  ...   237.000000  237.000000   \n",
              "mean     282.251262     9.128911   282.251810  ...   137.807725   76.014505   \n",
              "std      917.226484    10.721169  1028.234887  ...   100.986470   58.220800   \n",
              "min     -980.855000   -15.366000 -7264.930000  ...    23.155200    9.091100   \n",
              "25%        0.131000     1.181000     0.198000  ...    59.534800   31.548100   \n",
              "50%       13.216000     7.674000    23.025000  ...   103.790100   61.094600   \n",
              "75%      204.996000    16.139000   242.412000  ...   191.449500  101.846900   \n",
              "max    10194.012000    37.195000  9706.711000  ...   484.501600  311.143400   \n",
              "\n",
              "        Q1550Male  Q1550Female       Q1560   Q1560Male  Q1560Female  \\\n",
              "count  237.000000   237.000000  237.000000  237.000000   237.000000   \n",
              "mean    93.145257    58.493290  153.198451  187.776845   117.852030   \n",
              "std     66.569013    51.360045   93.278326  106.034052    83.280749   \n",
              "min     10.192000     8.040400   23.648600   28.959300    18.463900   \n",
              "25%     41.388300    21.269500   79.637800  104.067700    52.886700   \n",
              "50%     77.855900    40.657100  134.241000  173.268100    90.978400   \n",
              "75%    130.721800    74.789200  209.480800  256.368900   167.534400   \n",
              "max    352.523900   264.994700  492.033900  561.016500   430.904700   \n",
              "\n",
              "       NetMigrations        CNMR      GDPpp2020  \n",
              "count     237.000000  237.000000     200.000000  \n",
              "mean        0.000004    1.028595   23168.637570  \n",
              "std       507.854509   17.528073   23917.155041  \n",
              "min     -6673.580000 -155.070000     683.593750  \n",
              "25%        -8.000000   -1.507000    5067.712346  \n",
              "50%        -0.200000   -0.172000   14959.761950  \n",
              "75%         1.000000    1.005000   34164.324185  \n",
              "max      3366.387000  152.203000  134753.797686  \n",
              "\n",
              "[8 rows x 55 columns]"
            ]
          },
          "execution_count": 39,
          "metadata": {},
          "output_type": "execute_result"
        }
      ],
      "source": [
        "# 14.1 Descriptivas de todas las variables cuantitativas\n",
        "df.describe()"
      ]
    },
    {
      "cell_type": "code",
      "execution_count": 40,
      "metadata": {
        "id": "DUeitm7ajgom"
      },
      "outputs": [],
      "source": [
        "# 14.2 Crear una variable a partir de una fórmula\n",
        "df['PIB']=df['GDPpp2020']*df['TPopulation1July']"
      ]
    },
    {
      "cell_type": "code",
      "execution_count": 41,
      "metadata": {
        "colab": {
          "base_uri": "https://localhost:8080/"
        },
        "id": "tN_ynACPlFsM",
        "outputId": "c1db283e-cdfd-4a54-ef01-19279bbb3f0b"
      },
      "outputs": [
        {
          "name": "stdout",
          "output_type": "stream",
          "text": [
            "PIB mundial 2020: 147,897,689,278,685\n"
          ]
        }
      ],
      "source": [
        "# Cambiar el formato a moneda de una variable, por ejemplo al PIB del mundo 2020\n",
        "suma = df['PIB'].sum()*1000\n",
        "\n",
        "# Ponerle formato de separador de miles a la suma\n",
        "suma_formato_miles = '{:,.0f}'.format(suma)\n",
        "\n",
        "# PIB con el formato de miles\n",
        "print(\"PIB mundial 2020:\", suma_formato_miles)"
      ]
    },
    {
      "cell_type": "code",
      "execution_count": 42,
      "metadata": {
        "id": "FRcMI5cIjmaJ"
      },
      "outputs": [
        {
          "name": "stdout",
          "output_type": "stream",
          "text": [
            "      TPopulation1Jan TPopulation1July TPopulationMale1July  \\\n",
            "count             237              237                  237   \n",
            "mean           33,509           33,650               16,914   \n",
            "std           135,677          135,946               69,553   \n",
            "min                 1                1                    0   \n",
            "25%               403              405                  196   \n",
            "50%             5,439            5,490                2,742   \n",
            "75%            21,800           22,125               11,079   \n",
            "max         1,425,925        1,425,887              731,180   \n",
            "\n",
            "      TPopulationFemale1July PopDensity PopSexRatio MedianAgePop NatChange  \\\n",
            "count                    237        237         237          237       237   \n",
            "mean                  16,736        468         101           31       282   \n",
            "std                   66,406      2,238          16           10       917   \n",
            "min                        0          0          82           14      -981   \n",
            "25%                      214         39          96           22         0   \n",
            "50%                    2,791         97          99           32        13   \n",
            "75%                   11,187        240         101           39       205   \n",
            "max                  698,243     24,476         264           58    10,194   \n",
            "\n",
            "      NatChangeRT PopChange  ... Q1550 Q1550Male Q1550Female Q1560 Q1560Male  \\\n",
            "count         237       237  ...   237       237         237   237       237   \n",
            "mean            9       282  ...    76        93          58   153       188   \n",
            "std            11     1,028  ...    58        67          51    93       106   \n",
            "min           -15    -7,265  ...     9        10           8    24        29   \n",
            "25%             1         0  ...    32        41          21    80       104   \n",
            "50%             8        23  ...    61        78          41   134       173   \n",
            "75%            16       242  ...   102       131          75   209       256   \n",
            "max            37     9,707  ...   311       353         265   492       561   \n",
            "\n",
            "      Q1560Female NetMigrations  CNMR GDPpp2020             PIB  \n",
            "count         237           237   237       200             200  \n",
            "mean          118             0     1    23,169     739,488,446  \n",
            "std            83           508    18    23,917   2,745,408,927  \n",
            "min            18        -6,674  -155       684          57,493  \n",
            "25%            53            -8    -2     5,068      21,400,472  \n",
            "50%            91            -0    -0    14,960      84,886,569  \n",
            "75%           168             1     1    34,164     436,404,094  \n",
            "max           431         3,366   152   134,754  27,574,143,101  \n",
            "\n",
            "[8 rows x 56 columns]\n"
          ]
        },
        {
          "name": "stderr",
          "output_type": "stream",
          "text": [
            "/tmp/ipykernel_71314/586246951.py:3: FutureWarning: DataFrame.applymap has been deprecated. Use DataFrame.map instead.\n",
            "  formato = descriptivas.applymap('{:,.0f}'.format)\n"
          ]
        }
      ],
      "source": [
        "# Cambiar a formato de moneda de las descriptivas\n",
        "descriptivas=df.describe()  #applymap('{:,.0f}'.format)\n",
        "formato = descriptivas.applymap('{:,.0f}'.format)\n",
        "print(formato)"
      ]
    },
    {
      "cell_type": "code",
      "execution_count": 45,
      "metadata": {
        "id": "L22YrtiHd3m3"
      },
      "outputs": [
        {
          "name": "stdout",
          "output_type": "stream",
          "text": [
            "      TPopulation1July             PIB GDPpp2020  IMR  CBR\n",
            "count              237             200       200  237  237\n",
            "mean            33,650     739,488,446    23,169   17   18\n",
            "std            135,946   2,745,408,927    23,917   17    9\n",
            "min                  1          57,493       684    1    4\n",
            "25%                405      21,400,472     5,068    5   10\n",
            "50%              5,490      84,886,569    14,960   10   14\n",
            "75%             22,125     436,404,094    34,164   24   23\n",
            "max          1,425,887  27,574,143,101   134,754   72   45\n"
          ]
        },
        {
          "name": "stderr",
          "output_type": "stream",
          "text": [
            "/tmp/ipykernel_71314/3154763871.py:4: FutureWarning: DataFrame.applymap has been deprecated. Use DataFrame.map instead.\n",
            "  formato = descriptivas.applymap('{:,.0f}'.format)\n"
          ]
        }
      ],
      "source": [
        "# 14.3 Descriptivas de variables cuantitativas con formato de miles\n",
        "descriptivas = df[['TPopulation1July','PIB','GDPpp2020','IMR','CBR']].describe()\n",
        "# Formatear la salida con el separador de miles, nota .3f da el número de decimales\n",
        "formato = descriptivas.applymap('{:,.0f}'.format)\n",
        "print(formato)"
      ]
    },
    {
      "cell_type": "code",
      "execution_count": 46,
      "metadata": {
        "colab": {
          "base_uri": "https://localhost:8080/"
        },
        "id": "svbUxoBPp3rq",
        "outputId": "a93c9428-91cd-4551-8f6d-38d125d1f84c"
      },
      "outputs": [
        {
          "name": "stdout",
          "output_type": "stream",
          "text": [
            "La población mundial en 2022 era de 7,975,105,152 habitantes\n"
          ]
        }
      ],
      "source": [
        "# 14.4 Con la opción suma se puede calcular la población mundial al 1 de julio de 2022\n",
        "poblacion_mundial=df['TPopulation1July'].sum()*1000\n",
        "poblacion_mundial2 = '{:,.0f}'.format(poblacion_mundial)\n",
        "print('La población mundial en 2022 era de',poblacion_mundial2, 'habitantes')"
      ]
    },
    {
      "cell_type": "code",
      "execution_count": 47,
      "metadata": {
        "id": "dw8OmcK1kuGb"
      },
      "outputs": [
        {
          "data": {
            "text/plain": [
              "count    237.0\n",
              "mean       2.4\n",
              "std        1.2\n",
              "min        0.8\n",
              "25%        1.6\n",
              "50%        2.0\n",
              "75%        3.0\n",
              "max        6.7\n",
              "Name: TFR, dtype: float64"
            ]
          },
          "execution_count": 47,
          "metadata": {},
          "output_type": "execute_result"
        }
      ],
      "source": [
        "# 15. Descriptivas básicas por variable\n",
        "df['TFR'].describe().round(1)"
      ]
    },
    {
      "cell_type": "markdown",
      "metadata": {
        "id": "hesLKTkbOS-w"
      },
      "source": [
        "Hay 237 países con información de la tasa de fertilidad total.\n",
        "\n",
        "---\n",
        "\n",
        "El promedio de las tasas de fertilidad en el mundo es de aprox. 2.4 nacidos vivos por mujer y su desviación estándar es de aprox.1.2 nacidos vivos por mujer (la diferencia promedio de los países con respecto a la media global de 2.4 es 1.2 nacidos vivos).\n",
        "Los valores mínimo y máximo de la tasa de fertilidad en el mundo son 0.8 y 6.7  nacidos vivos por mujer aprox., que corresponden a Hong Kong y Niger respectivamente.\n",
        "El percentil 75 de la tasa de fertilidad total es aprox. 3 nacidos vivos por mujer, esto significa que el 75% de los países tienen una tasa de fertilidad total menor o igual a 3, o lo que es lo mismo, que el 25% de los países tienen una tasa de fertilidad superior a 3 nacidos vivos por mujer."
      ]
    },
    {
      "cell_type": "markdown",
      "metadata": {
        "id": "ogb4PzlTQNKx"
      },
      "source": [
        "### **Ejercicio. Analizar las estadísticas descriptivas del ingreso per cápita en el mundo - año 2020**"
      ]
    },
    {
      "cell_type": "code",
      "execution_count": 53,
      "metadata": {
        "id": "qmhajMmXqZM3"
      },
      "outputs": [
        {
          "data": {
            "text/plain": [
              "count            200\n",
              "mean      23,168,638\n",
              "std       23,917,155\n",
              "min          683,594\n",
              "25%        5,067,712\n",
              "50%       14,959,762\n",
              "75%       34,164,324\n",
              "max      134,753,798\n",
              "Name: GDPpp2020, dtype: object"
            ]
          },
          "execution_count": 53,
          "metadata": {},
          "output_type": "execute_result"
        }
      ],
      "source": [
        "# Solución:\n",
        "(df['GDPpp2020']*1000).describe().round(1).apply('{:,.0f}'.format)"
      ]
    },
    {
      "cell_type": "markdown",
      "metadata": {},
      "source": [
        "Hay 200 países con información del ingreso per cápita en el mundo\n",
        "\n",
        "---\n",
        "\n",
        "El promedio de lo que le corresponde a cada persona en el mundo \n"
      ]
    },
    {
      "cell_type": "markdown",
      "metadata": {
        "id": "BnZTNeUSGZ7j"
      },
      "source": [
        "### **Ejercicio 9:**<br>\n",
        "Encuentre e interprete las estadísticas básicas de la fertilidad en el mundo"
      ]
    },
    {
      "cell_type": "code",
      "execution_count": null,
      "metadata": {
        "id": "MBI-6WrhGlbL"
      },
      "outputs": [],
      "source": [
        "# Solución:\n"
      ]
    },
    {
      "cell_type": "markdown",
      "metadata": {
        "id": "6nxwHyiK70qp"
      },
      "source": [
        "### **Ejercicio 10:**<br>\n",
        "Encuentre e interprete las estadísticas básicas de la tasa de mortalidad 'CDR' en Africa Subsahariana"
      ]
    },
    {
      "cell_type": "code",
      "execution_count": null,
      "metadata": {
        "id": "0qfYJfRd-RJQ"
      },
      "outputs": [],
      "source": [
        "# Solución:\n"
      ]
    },
    {
      "cell_type": "code",
      "execution_count": null,
      "metadata": {
        "id": "yEYrZNjIBrn5"
      },
      "outputs": [],
      "source": [
        "# 16. Descriptivas específicas por variable. Las opciones:.count(), nunique(), .min(), .max(), .sum(), .mean(), .median, .mode(), .std(), .var(), .quantile()\n",
        "df['GDPpp2020'].quantile(.05).round(1)"
      ]
    },
    {
      "cell_type": "code",
      "execution_count": null,
      "metadata": {
        "id": "-0v9Q6ZwZSy1"
      },
      "outputs": [],
      "source": [
        "# 17. Resumen estadístico de variables seleccionoadas del df\n",
        "round(df[['CDR','CBR','IMR']].describe(),1)"
      ]
    },
    {
      "cell_type": "markdown",
      "metadata": {
        "id": "_EL5agmOIQVN"
      },
      "source": [
        "### **Ejercicio 11:**<br>\n",
        "Encuentre el total de nacimientos de latinoamérica y el caribe"
      ]
    },
    {
      "cell_type": "code",
      "execution_count": null,
      "metadata": {
        "id": "ZCHf9x7eIg1C"
      },
      "outputs": [],
      "source": [
        "# Solución\n"
      ]
    },
    {
      "cell_type": "markdown",
      "metadata": {
        "id": "Dc3BeZK0eAto"
      },
      "source": [
        "### **Ejercicio 11.1:**<br>\n",
        "Entre China y Latinoamérica, ¿en dónde hay mayor población?"
      ]
    },
    {
      "cell_type": "code",
      "execution_count": null,
      "metadata": {
        "id": "z64LgsOUi-Bb"
      },
      "outputs": [],
      "source": [
        "# Solución\n"
      ]
    },
    {
      "cell_type": "markdown",
      "metadata": {
        "id": "TZ5qAYbQYkpi"
      },
      "source": [
        "### **Ejercicio 12:**<br>\n",
        "Encuentre el pais de Europe & Central Asia con mayor ingreso per cápita"
      ]
    },
    {
      "cell_type": "code",
      "execution_count": null,
      "metadata": {
        "id": "ITzl4_JXGLlE"
      },
      "outputs": [],
      "source": [
        "#Solución\n"
      ]
    },
    {
      "cell_type": "markdown",
      "metadata": {
        "id": "J1F-kKwxZgb-"
      },
      "source": [
        "### **Ejercicio 13:**<br>\n",
        "Encuentre las estadísticas descriptivas de las variables CDR, IMR y PopGrowthRate en Latinoamérica y el Caribe"
      ]
    },
    {
      "cell_type": "code",
      "execution_count": null,
      "metadata": {
        "id": "gtsIRy84Z240"
      },
      "outputs": [],
      "source": [
        "# Solución\n"
      ]
    },
    {
      "cell_type": "code",
      "execution_count": null,
      "metadata": {
        "id": "FjSLUyBEDlgY"
      },
      "outputs": [],
      "source": [
        "# 18. Agrupaciones (Tablas dinámicas)\n",
        "df.groupby(['Continent','Region'])['TFR'].aggregate(['count','mean','std']).head(12).round(1)"
      ]
    },
    {
      "cell_type": "code",
      "execution_count": null,
      "metadata": {
        "id": "FaYMKa4636Rn"
      },
      "outputs": [],
      "source": [
        "# 19. Tablas de contingencia\n",
        "pd.crosstab(df[\"Continent\"], df[\"IncomeGroup\"],normalize=False)\n",
        "#pd.crosstab(df[\"Continent\"], df[\"IncomeGroup\"],normalize=True)\n",
        "#pd.crosstab(df[\"Continent\"], df[\"IncomeGroup\"],normalize='columns')\n",
        "#pd.crosstab(df[\"Continent\"], df[\"IncomeGroup\"],normalize='index')*100"
      ]
    },
    {
      "cell_type": "markdown",
      "metadata": {
        "id": "aRyQhRqRE11G"
      },
      "source": [
        "### **Ejercicio 14:**<br>\n",
        "Hacer una tabla con las descriptivas básicas de la tasa cruda de nacimientos por región en África"
      ]
    },
    {
      "cell_type": "code",
      "execution_count": null,
      "metadata": {
        "id": "4rAaIHa8E3IW"
      },
      "outputs": [],
      "source": [
        "# Solución:\n"
      ]
    },
    {
      "cell_type": "markdown",
      "metadata": {
        "id": "XFXq3PLwBJl4"
      },
      "source": [
        "### **Ejercicio 15:**<br>"
      ]
    },
    {
      "cell_type": "markdown",
      "metadata": {
        "id": "izl0c78DC115"
      },
      "source": [
        "Diga cuál es el promedio del ingreso per cápita en Asia y compárelo con el promedio mundial"
      ]
    },
    {
      "cell_type": "code",
      "execution_count": null,
      "metadata": {
        "id": "RMyNZ7J6FmmK"
      },
      "outputs": [],
      "source": [
        "#Solución:\n"
      ]
    },
    {
      "cell_type": "markdown",
      "metadata": {
        "id": "iwKtm3S0Y51M"
      },
      "source": [
        "### **Ejercicio 16:**<br>"
      ]
    },
    {
      "cell_type": "markdown",
      "metadata": {
        "id": "kn-4ZpGCYzzn"
      },
      "source": [
        "Diga la región de Africa donde hay mayor variación en la tasa de nacimientos y señale el país que más aporta a esta variación."
      ]
    },
    {
      "cell_type": "code",
      "execution_count": null,
      "metadata": {
        "id": "9UWg9BfYZB83"
      },
      "outputs": [],
      "source": [
        "#Solución\n"
      ]
    },
    {
      "cell_type": "markdown",
      "metadata": {
        "id": "fNP9FNN9UE6j"
      },
      "source": [
        "#**Pasos con variables. Transformar - Recodificar**"
      ]
    },
    {
      "cell_type": "code",
      "execution_count": null,
      "metadata": {
        "id": "oG_j5hfRUKg-"
      },
      "outputs": [],
      "source": [
        "# 19.1 Para categorizar una variable cuantitativa\n",
        "df['Fertilidad'] = pd.cut(df['TFR'], bins=[0, 1.571600, 2.003400, 2.979900,7], labels=['Baja', 'Media', 'Alta','Muy alta'])\n",
        "pd.value_counts(df['Fertilidad'])"
      ]
    },
    {
      "cell_type": "code",
      "execution_count": null,
      "metadata": {
        "colab": {
          "base_uri": "https://localhost:8080/"
        },
        "id": "OOOTH6s1Vhl-",
        "outputId": "6a353789-a094-43bc-cf7f-0f5df720a309"
      },
      "outputs": [
        {
          "data": {
            "text/plain": [
              "Africa       62\n",
              "Europa       60\n",
              "Americano    54\n",
              "Asia         41\n",
              "Oceania      20\n",
              "Name: Continent, dtype: int64"
            ]
          },
          "execution_count": 123,
          "metadata": {},
          "output_type": "execute_result"
        }
      ],
      "source": [
        "# 19.2 Para recodificar los valores de una variable cualitativa\n",
        "df['Continent'] = df['Continent'].replace({'Europe': 'Europa', 'America': 'Americano'})\n",
        "pd.value_counts(df['Continent'])"
      ]
    },
    {
      "cell_type": "code",
      "execution_count": null,
      "metadata": {
        "id": "D0ueXV0nd4Eg"
      },
      "outputs": [],
      "source": [
        "df = df.set_index('Name').reset_index()"
      ]
    },
    {
      "cell_type": "markdown",
      "metadata": {
        "id": "2VANv4srASAT"
      },
      "source": [
        "#***Pasos Visualización de datos***"
      ]
    },
    {
      "cell_type": "code",
      "execution_count": null,
      "metadata": {
        "id": "z_J5JYPD5SyD"
      },
      "outputs": [],
      "source": [
        "import matplotlib.pyplot as plt\n",
        "import seaborn as sns"
      ]
    },
    {
      "cell_type": "code",
      "execution_count": null,
      "metadata": {
        "id": "Cg5ONUxPs0pg"
      },
      "outputs": [],
      "source": [
        "# 20. Hacer una gráfico de barras de una variable cualitativa ([:n] escoge cuantas modalidades incluir)\n",
        "ax = df['Region'].value_counts()[:22].plot(kind='barh', figsize=(10,5), title=\"Numero de paises por región\", color='thistle')\n",
        "ax.set_xlabel(\"frecuencia\");"
      ]
    },
    {
      "cell_type": "code",
      "execution_count": null,
      "metadata": {
        "id": "opIUABCULm-u"
      },
      "outputs": [],
      "source": [
        "# 21. Hacer una gráfico de barras de una variable cualitativa ([:n] escoge cuantas modalidades incluir) (use figsize=(15,12) para full screen)\n",
        "ax = df['Continent'].value_counts()[:5].plot(kind='barh', figsize=(10,5), title=\"Número de países por Continente\",color='deepskyblue')\n",
        "ax.set_xlabel(\"Frecuencia\")\n",
        "ax.set_ylabel(\"Continente\");"
      ]
    },
    {
      "cell_type": "code",
      "execution_count": null,
      "metadata": {
        "id": "Ii8EJwc1HX3c"
      },
      "outputs": [],
      "source": [
        "# 22. Hacer una gráfico de barras de una variable cualitativa ([:n] escoge cuantas modalidades incluir)\n",
        "ax = df['Region'].value_counts()[:22].plot(kind='barh', figsize=(10,5), title=\"Numero de paises por región\", color='coral')\n",
        "ax.set_xlabel(\"frecuencia\")"
      ]
    },
    {
      "cell_type": "code",
      "execution_count": null,
      "metadata": {
        "id": "8PPp6o020tXM"
      },
      "outputs": [],
      "source": [
        "# 23. Otra manera de hacer unas barras\n",
        "import matplotlib.pyplot as plt\n",
        "df.groupby('Continent')['Country'].nunique().plot(kind='barh', figsize=(10,5), color='plum')\n",
        "plt.show()"
      ]
    },
    {
      "cell_type": "markdown",
      "metadata": {
        "id": "cJgTiCGKJCTd"
      },
      "source": [
        "### **Ejercicio 17:**<br>\n",
        "Construir un gráfico de barras con el número de paises por nivel de ingreso per cápita"
      ]
    },
    {
      "cell_type": "code",
      "execution_count": null,
      "metadata": {
        "id": "_kVUf1ihJWPQ"
      },
      "outputs": [],
      "source": [
        "# Solución:\n"
      ]
    },
    {
      "cell_type": "code",
      "execution_count": null,
      "metadata": {
        "id": "kMcAf2G-IyXP"
      },
      "outputs": [],
      "source": [
        "# Solución:\n"
      ]
    },
    {
      "cell_type": "markdown",
      "metadata": {
        "id": "l1x9pFn_HolX"
      },
      "source": [
        "### **Ejercicio 18:**<br>\n",
        "Construir un gráfico de barras con el promedio de la fertilidad por Continente"
      ]
    },
    {
      "cell_type": "code",
      "execution_count": null,
      "metadata": {
        "id": "qZPpWd2qH7Zf"
      },
      "outputs": [],
      "source": [
        "# Solución:\n"
      ]
    },
    {
      "cell_type": "markdown",
      "metadata": {
        "id": "hNomCAjuMSpr"
      },
      "source": [
        "### **Ejercicio 19:**<br>\n",
        "Construir un gráfico de barras con el la desviación estándar del ingreso per cápita por región"
      ]
    },
    {
      "cell_type": "code",
      "execution_count": null,
      "metadata": {
        "id": "Z3HNpZPgHUzC"
      },
      "outputs": [],
      "source": [
        "# Solución:\n"
      ]
    },
    {
      "cell_type": "code",
      "execution_count": null,
      "metadata": {
        "id": "-MugQu1y1DVs"
      },
      "outputs": [],
      "source": [
        "# 24. Un grafico de barras bivariado\n",
        "import matplotlib.pyplot as plt\n",
        "df.groupby(['Continent','IncomeGroup']).size().unstack().plot(kind='bar',stacked=False, figsize=(15, 5))\n",
        "plt.show()\n"
      ]
    },
    {
      "cell_type": "code",
      "execution_count": null,
      "metadata": {
        "id": "8x0xG7-avmIC"
      },
      "outputs": [],
      "source": [
        "# 25. Un histograma básico\n",
        "fig, ax = plt.subplots(figsize=(15,5))\n",
        "plt.hist(df['GDPpp2020'], bins=10, color='blue',density=False);"
      ]
    },
    {
      "cell_type": "markdown",
      "metadata": {
        "id": "w2Qj_P6JPcIY"
      },
      "source": [
        "### **Ejercicio 20:**<br>\n",
        "Construir e interpretar un histograma de la fertilidad"
      ]
    },
    {
      "cell_type": "code",
      "execution_count": null,
      "metadata": {
        "id": "uBBYXVJoPiWB"
      },
      "outputs": [],
      "source": [
        "# Solución:\n",
        "fig, ax = plt.subplots(figsize=(15,5))\n",
        "plt.hist(df['TFR'], bins=10, color='violet');"
      ]
    },
    {
      "cell_type": "markdown",
      "metadata": {
        "id": "F1TGMVR9RENi"
      },
      "source": [
        "### **Ejercicio 21:**<br>\n",
        "Construir e interpretar un histograma de la esperanza de vida"
      ]
    },
    {
      "cell_type": "code",
      "execution_count": null,
      "metadata": {
        "id": "OTcFRRz0Pq7f"
      },
      "outputs": [],
      "source": [
        "# Solución:\n"
      ]
    },
    {
      "cell_type": "code",
      "execution_count": null,
      "metadata": {
        "id": "X2f_iiajWHMH"
      },
      "outputs": [],
      "source": [
        "# 26. Dos histogramas superpuestos\n",
        "import seaborn as sns\n",
        "import matplotlib.pyplot as plt\n",
        "fig, ax = plt.subplots(figsize=(15,5))\n",
        "sns.histplot( df[\"GDPpp2020\"][df['Continent']=='Africa'] ,bins=7, color=\"yellow\", label=\"Africa\",kde=False)\n",
        "sns.histplot( df[\"GDPpp2020\"][df['Continent']=='Europa'] ,bins=7, color=\"blue\", label=\"Europe\",kde=False)\n",
        "ax.set_xlabel(\"fertilidad\")\n",
        "plt.legend();"
      ]
    },
    {
      "cell_type": "markdown",
      "metadata": {
        "id": "U_p48KMMSGyM"
      },
      "source": [
        "### **Ejercicio 22:**<br>\n",
        "Comparar con dos histogramas superpuestos la fertilidad de Africa y la de Europe"
      ]
    },
    {
      "cell_type": "code",
      "execution_count": null,
      "metadata": {
        "id": "9LPO_5Tl2JJh"
      },
      "outputs": [],
      "source": [
        "# Solución:\n"
      ]
    },
    {
      "cell_type": "code",
      "execution_count": null,
      "metadata": {
        "id": "4HDTUaeLwnkN"
      },
      "outputs": [],
      "source": [
        "# 27. Gráfico de dispersión con matplotlib\n",
        "import numpy as np\n",
        "import matplotlib.pyplot as plt\n",
        "df.plot(kind='scatter',x='GDPpp2020',y='TFR',color='red', s=205, alpha=.3, figsize=(15, 5))\n",
        "plt.show()"
      ]
    },
    {
      "cell_type": "code",
      "execution_count": null,
      "metadata": {
        "id": "TtK5cfFXxr9-"
      },
      "outputs": [],
      "source": [
        "# 28. Gráfico de dispersión con seaborn (se le puede agregar size='variable')\n",
        "import seaborn as sns\n",
        "fig, ax = plt.subplots(figsize=(15,7))\n",
        "ax = sns.scatterplot(x='GDPpp2020', y=\"TFR\", hue='Continent', s=300, data=df)"
      ]
    },
    {
      "cell_type": "markdown",
      "metadata": {
        "id": "EFqxPGx6bZBv"
      },
      "source": [
        "### **Ejercicio 23:**<br>\n",
        "Interpretar un gráfico de dispersión entre el ingreso per cápita y la esperanza de vida"
      ]
    },
    {
      "cell_type": "code",
      "execution_count": null,
      "metadata": {
        "id": "9RVAl6n_t_Yb"
      },
      "outputs": [],
      "source": [
        "# Solución\n",
        "import numpy as np\n",
        "import matplotlib.pyplot as plt\n",
        "df.plot(kind='scatter',x='GDPpp2020',y='LEx',color='green', s=205, alpha=.3, figsize=(15, 5))\n",
        "plt.show()"
      ]
    },
    {
      "cell_type": "markdown",
      "metadata": {
        "id": "SIFooF8Qbqmu"
      },
      "source": [
        "### **Ejercicio 24:**<br>\n",
        "Interpretar un gráfico de dispersión entre la ingreso per cápita y la tasa de mortalidad infantil"
      ]
    },
    {
      "cell_type": "code",
      "execution_count": null,
      "metadata": {
        "id": "rrfQXKmkvIb1"
      },
      "outputs": [],
      "source": [
        "# Solución\n",
        "import numpy as np\n",
        "import matplotlib.pyplot as plt\n",
        "df.plot(kind='scatter',x='GDPpp2020',y='IMR',color='blue', s=205, alpha=.3, figsize=(15, 5))\n",
        "plt.show()"
      ]
    },
    {
      "cell_type": "markdown",
      "metadata": {
        "id": "_r8J71rRcYeb"
      },
      "source": [
        "### **Ejercicio 25:**<br>\n",
        "Interpretar un gráfico de dispersión entre la ingreso per cápita y la tasa de crecimiento de la población y marcar los puntos con el Continente."
      ]
    },
    {
      "cell_type": "code",
      "execution_count": null,
      "metadata": {
        "id": "S-lQhzZkcd1d"
      },
      "outputs": [],
      "source": [
        "# Solución:\n",
        "import seaborn as sns\n",
        "fig, ax = plt.subplots(figsize=(15,7))\n",
        "ax = sns.scatterplot(x='GDPpp2020', y=\"PopGrowthRate\", hue='Continent', s=200, data=df)"
      ]
    },
    {
      "cell_type": "code",
      "execution_count": null,
      "metadata": {
        "id": "zF1W-k-oxmTb"
      },
      "outputs": [],
      "source": [
        "# 30. Stripplot\n",
        "fig, ax = plt.subplots(figsize=(15,5))\n",
        "m = sns.stripplot(x=\"Region\", y=\"GDPpp2020\", data=df, palette=\"Set3\", s=10, ax=ax)\n",
        "plt.xticks(rotation=90);\n",
        "plt.title('Ingreso per cápita por región');"
      ]
    },
    {
      "cell_type": "markdown",
      "metadata": {
        "id": "SDi6y9sZdoGO"
      },
      "source": [
        "### **Ejercicio 26:**<br>\n",
        "Interpretar un stripplot del nivel de ingreso per cápita y la fertilidad"
      ]
    },
    {
      "cell_type": "code",
      "execution_count": null,
      "metadata": {
        "id": "cniu_UmCd1QE"
      },
      "outputs": [],
      "source": [
        "# Solución:\n"
      ]
    },
    {
      "cell_type": "code",
      "execution_count": null,
      "metadata": {
        "id": "zXGgikuU-Zz2"
      },
      "outputs": [],
      "source": [
        "# 31. Mapas de calor de variables cuantitativa\n",
        "# Opciones para kind = “scatter” | “reg” | “resid” | “kde” | “hex”\n",
        "sns.jointplot(x=df[\"GDPpp2020\"], y=df[\"TFR\"], kind='kde', color=\"olive\", height=6).fig.set_figwidth(15)\n"
      ]
    },
    {
      "cell_type": "markdown",
      "metadata": {
        "id": "d4tgzjTwAkyj"
      },
      "source": [
        "### **Ejercicio 27:**<br>\n",
        "Construir un mapa de calor de la esperanza de vida contra la tasa de mortalidad infantil"
      ]
    },
    {
      "cell_type": "code",
      "execution_count": null,
      "metadata": {
        "id": "YM_KsnUcA0XI"
      },
      "outputs": [],
      "source": [
        "# Solución:\n"
      ]
    },
    {
      "cell_type": "code",
      "execution_count": null,
      "metadata": {
        "id": "H-VZkElCU5Im"
      },
      "outputs": [],
      "source": [
        "# 32. Grafica de caja y bigotes\n",
        "fig, ax = plt.subplots(figsize=(15,5))\n",
        "sns.boxplot(x=\"Continent\", y=\"LEx\", data=df, ax=ax);\n",
        "plt.xticks(rotation=90);"
      ]
    },
    {
      "cell_type": "markdown",
      "metadata": {
        "id": "fOStKG0EVL-3"
      },
      "source": [
        "### **Ejercicio 28:**<br>\n",
        "Construir un boxplot de la fertilidad por Continente"
      ]
    },
    {
      "cell_type": "code",
      "execution_count": null,
      "metadata": {
        "id": "ocMZUu1RVSKJ"
      },
      "outputs": [],
      "source": [
        "#Solución:\n"
      ]
    },
    {
      "cell_type": "markdown",
      "metadata": {
        "id": "YSQ_wqNQVrWv"
      },
      "source": [
        "### **Ejercicio 29:**<br>\n",
        "Construir un boxplot de la fertilidad por Continente y por nivel de ingreso per cápita"
      ]
    },
    {
      "cell_type": "code",
      "execution_count": null,
      "metadata": {
        "id": "Vi6DFT-03BN0"
      },
      "outputs": [],
      "source": [
        "# Solución:\n"
      ]
    },
    {
      "cell_type": "code",
      "execution_count": null,
      "metadata": {
        "id": "-iTizu1L6i5r"
      },
      "outputs": [],
      "source": [
        "# 33. Tablas dinámicas (probar interpretación con media, suma, desviación)\n",
        "tablapivote1=df.pivot_table(index='Region',columns='IncomeGroup',values='TFR',aggfunc='mean')\n",
        "tablapivote1"
      ]
    },
    {
      "cell_type": "markdown",
      "metadata": {
        "id": "KzC50HwgWbt4"
      },
      "source": [
        "### **Ejercicio 30:**<br>\n",
        "Construir una tabla dinámica del promedio de la fertilidad por región y nivel de ingreso per cápita."
      ]
    },
    {
      "cell_type": "code",
      "execution_count": null,
      "metadata": {
        "id": "QcUIfr6nWAqw"
      },
      "outputs": [],
      "source": [
        "# Solución\n"
      ]
    },
    {
      "cell_type": "code",
      "execution_count": null,
      "metadata": {
        "id": "dpEMlZRdN3hs"
      },
      "outputs": [],
      "source": [
        "# 34. Mapa de calor\n",
        "import matplotlib.pyplot as plt\n",
        "import seaborn as sns\n",
        "sns.set(style=\"whitegrid\")\n",
        "fig, ax = plt.subplots(figsize=(15,5))\n",
        "sns.heatmap(tablapivote1, cmap=\"coolwarm\", ax=ax);\n",
        "ax.set_title('Mapa de calor del promedio de la fertilidad');"
      ]
    },
    {
      "cell_type": "markdown",
      "metadata": {
        "id": "tN0Zh5D7YOZo"
      },
      "source": [
        "### **Ejercicio 31:**<br>\n",
        "Construir un mapa de calor del promedio de la esperanza de vida por región y nivel de ingreso per cápita"
      ]
    },
    {
      "cell_type": "code",
      "execution_count": null,
      "metadata": {
        "id": "eoBGonByX5cg"
      },
      "outputs": [],
      "source": [
        "# Solución\n"
      ]
    },
    {
      "cell_type": "code",
      "execution_count": null,
      "metadata": {
        "id": "zBNC2JlCLzgr"
      },
      "outputs": [],
      "source": [
        "# 35.Gráfico de dispersión múltiple\n",
        "import seaborn as sns\n",
        "sns.pairplot(df, hue='Continent', x_vars=['GDPpp2020','TFR'], y_vars=['GDPpp2020','TFR'], plot_kws={'s':210},height=5, palette='bright');"
      ]
    },
    {
      "cell_type": "markdown",
      "metadata": {
        "id": "Z_YOgZAjYu8V"
      },
      "source": [
        "### **Ejercicio 32:**<br>\n",
        "Construir un gráfico de dispersión múltiple con las variables: GDPpp2020, TFR, LEx, IMR"
      ]
    },
    {
      "cell_type": "code",
      "execution_count": null,
      "metadata": {
        "id": "7yxi6FcnPg04"
      },
      "outputs": [],
      "source": [
        "# Solución\n"
      ]
    },
    {
      "cell_type": "code",
      "execution_count": null,
      "metadata": {
        "id": "0Q610Ge7XQDH"
      },
      "outputs": [],
      "source": [
        "# 36. Un boxplot simple\n",
        "fig, ax = plt.subplots(figsize=(15,5))\n",
        "sns.boxplot(x=\"Births\", y=\"Continent\", data=df, ax=ax);\n",
        "plt.xticks(rotation=90);"
      ]
    },
    {
      "cell_type": "code",
      "execution_count": null,
      "metadata": {
        "id": "6Cn7xIy3dzFA"
      },
      "outputs": [],
      "source": [
        "# 38. Crear un data frame de manera manual\n",
        "datos1 = [['maria', 21, 49], ['pao', 26, 52], ['juli', 24, 55], ['eliana',40, 60]]\n",
        "  # Crear el df\n",
        "df1 = pd.DataFrame(datos1, columns = ['nombre', 'edad','peso'])\n",
        "df1"
      ]
    },
    {
      "cell_type": "markdown",
      "metadata": {
        "id": "VMzeWqQSftbJ"
      },
      "source": [
        "### **Ejercicio 33:**<br>\n",
        "Convierta esta tabla en un dataframe de pandas"
      ]
    },
    {
      "cell_type": "markdown",
      "metadata": {
        "id": "5MIRLgI7fom3"
      },
      "source": [
        "| sexo   | talla | peso |\n",
        "|--------|-------|------|\n",
        "| MUJER  | 159   | 49   |\n",
        "| HOMBRE | 164   | 62   |\n",
        "| MUJER  | 172   | 65   |\n",
        "| MUJER  | 167   | 52   |\n",
        "| MUJER  | 164   | 51   |\n",
        "| MUJER  | 161   | 67   |\n",
        "| MUJER  | 168   | 48   |\n",
        "| HOMBRE | 181   | 74   |\n",
        "| HOMBRE | 183   | 74   |\n",
        "| MUJER  | 158   | 50   |\n",
        "| MUJER  | 156   | 65   |\n",
        "| HOMBRE | 173   | 64   |\n",
        "| MUJER  | 158   | 43   |\n",
        "| HOMBRE | 178   | 74   |"
      ]
    },
    {
      "cell_type": "code",
      "execution_count": null,
      "metadata": {
        "id": "iBDmwrfkkkMx"
      },
      "outputs": [],
      "source": [
        "# Solución:\n",
        "gimnasio=[['MUJER',159,49],['HOMBRE',164,62],['MUJER',172,65],['MUJER',167,52],['MUJER',164,51],['MUJER',161,67],['MUJER',168,48],['HOMBRE',181,74],['HOMBRE',183,74],['MUJER',158,50],['MUJER',156,65],['HOMBRE',173,64],['MUJER',158,43],['HOMBRE',178,74]]\n",
        "gym = pd.DataFrame(gimnasio, columns = ['sexo', 'talla','peso'])\n",
        "gym"
      ]
    },
    {
      "cell_type": "markdown",
      "metadata": {
        "id": "eC90UdQHf7pA"
      },
      "source": [
        "#***Correlación***"
      ]
    },
    {
      "cell_type": "code",
      "execution_count": null,
      "metadata": {
        "colab": {
          "base_uri": "https://localhost:8080/"
        },
        "id": "h91_fxIrgLZr",
        "outputId": "9e3a44af-bd36-4a80-beca-b2a8a47f0a56"
      },
      "outputs": [
        {
          "data": {
            "text/plain": [
              "-0.5969102377646225"
            ]
          },
          "execution_count": 149,
          "metadata": {},
          "output_type": "execute_result"
        }
      ],
      "source": [
        "corr = df['GDPpp2020'].corr(df['IMR'])\n",
        "corr"
      ]
    },
    {
      "cell_type": "markdown",
      "metadata": {
        "id": "4CihxDprYz7C"
      },
      "source": [
        "#***Distribución binomial***"
      ]
    },
    {
      "cell_type": "code",
      "execution_count": null,
      "metadata": {
        "id": "f7TzYRQjY0G2"
      },
      "outputs": [],
      "source": [
        "import numpy as np\n",
        "import matplotlib.pyplot as plt\n",
        "\n",
        "# Set the parameters for the binomial distribution\n",
        "n = 10  # number of trials\n",
        "p = 0.2  # probability of success\n",
        "\n",
        "# Generate the probability mass function of the binomial distribution\n",
        "x = np.arange(0, n+1)\n",
        "pmf = np.zeros(n+1)\n",
        "for i in range(n+1):\n",
        "    pmf[i] = np.math.comb(n, i) * p**i * (1-p)**(n-i)\n",
        "\n",
        "# Plot the probability mass function of the binomial distribution\n",
        "fig, ax = plt.subplots(figsize=(15,5))\n",
        "plt.stem(x, pmf, use_line_collection=True)\n",
        "\n",
        "# Set the title and axis labels\n",
        "plt.title(f'Binomial Distribution, n={n}, p={p}')\n",
        "plt.xlabel('Number of successes')\n",
        "plt.ylabel('Probability')\n",
        "\n",
        "# Show the plot\n",
        "plt.show()\n"
      ]
    },
    {
      "cell_type": "code",
      "execution_count": null,
      "metadata": {
        "id": "ea7WJsjxctzI"
      },
      "outputs": [],
      "source": [
        "# Función de distribución binomial acumulada\n",
        "from scipy.stats import binom\n",
        "n = 10  # ensayos\n",
        "p = 0.2  # probabilidad de exito\n",
        "k = 6  # valor hasta el cual se acumula la distribución\n",
        "cdf = binom.cdf(k, n, p)  # Función de distribución hasta k\n",
        "print(cdf)\n"
      ]
    },
    {
      "cell_type": "code",
      "execution_count": null,
      "metadata": {
        "colab": {
          "base_uri": "https://localhost:8080/"
        },
        "id": "vuFvhRUBdeZb",
        "outputId": "dac62221-ed2e-47bb-c3b2-886fff385624"
      },
      "outputs": [
        {
          "data": {
            "text/plain": [
              "0.6288369351798734"
            ]
          },
          "execution_count": 151,
          "metadata": {},
          "output_type": "execute_result"
        }
      ],
      "source": [
        "from scipy.stats import poisson\n",
        "k= 4 # valor hasta el cual se acumula\n",
        "media=4\n",
        "poisson.cdf(k,media)"
      ]
    },
    {
      "cell_type": "markdown",
      "metadata": {
        "id": "MTwIZK9SWc35"
      },
      "source": [
        "#***Distribuciones normales***"
      ]
    },
    {
      "cell_type": "code",
      "execution_count": null,
      "metadata": {
        "id": "yTzfV9KsZiQ8"
      },
      "outputs": [],
      "source": [
        "import numpy as np\n",
        "import matplotlib.pyplot as plt\n",
        "# Establecer la media y la desviación de la distribución\n",
        "mu = 25  # media\n",
        "sigma = 2  # desviación\n",
        "fig, ax = plt.subplots(figsize=(15,5))\n",
        "# Generar la función de densidad\n",
        "x = np.linspace(mu - 4*sigma, mu + 4*sigma, 1000)\n",
        "pdf = 1/(sigma * np.sqrt(2 * np.pi)) * np.exp(-(x - mu)**2 / (2 * sigma**2))\n",
        "# Graficar la función de densidad\n",
        "plt.plot(x, pdf, color='red', lw=2)\n",
        "# Títulos\n",
        "plt.title(f'Distribución normal, media={mu}, desviación={sigma}')\n",
        "plt.xlabel('Variable X')\n",
        "plt.ylabel('Densidad de probabilidad')\n",
        "\n",
        "# Show the plot\n",
        "plt.show;\n"
      ]
    },
    {
      "cell_type": "code",
      "execution_count": null,
      "metadata": {
        "id": "zUYsOjE0XHcd"
      },
      "outputs": [],
      "source": [
        "import numpy as np\n",
        "import matplotlib.pyplot as plt\n",
        "# Media y desviación\n",
        "mus = [50, 70]  # medias\n",
        "sigmas = [5, 10]  # desviaciones\n",
        "colors = ['red', 'blue']  # colores\n",
        "# Fifura\n",
        "fig, ax = plt.subplots(figsize=(15,5))\n",
        "for mu, sigma, color in zip(mus, sigmas, colors):\n",
        "    x = np.linspace(mu - 4*sigma, mu + 4*sigma, 1000)\n",
        "    y = 1/(sigma * np.sqrt(2 * np.pi)) * np.exp(-(x - mu)**2 / (2 * sigma**2))\n",
        "    ax.plot(x, y, color=color, label=f'media={mu}, desviación={sigma}')\n",
        "# Título\n",
        "ax.set_title('Dos distribuciones normales')\n",
        "ax.legend()\n",
        "# Gráfica\n",
        "plt.show()\n"
      ]
    },
    {
      "cell_type": "code",
      "execution_count": null,
      "metadata": {
        "id": "npwrBrlQbDG6"
      },
      "outputs": [],
      "source": [
        "#Normal inverse\n",
        "from scipy.stats import norm\n",
        "media=0\n",
        "desviación=1\n",
        "p = 0.975  # probabilidad\n",
        "x = norm.ppf(p,media,desviación)  # inversa de la distribución normal en p\n",
        "print(x)\n"
      ]
    },
    {
      "cell_type": "code",
      "execution_count": null,
      "metadata": {
        "id": "pVKb5N9-bkqt"
      },
      "outputs": [],
      "source": [
        "# Probabilidad\n",
        "from scipy.stats import norm\n",
        "x = 25  # Valor para encontar el percentil\n",
        "media=25\n",
        "desviación=2\n",
        "p = norm.cdf(x,media,desviación)  # percentil de X en una distribución normal\n",
        "print(p)"
      ]
    },
    {
      "cell_type": "markdown",
      "metadata": {
        "id": "JCXlMdJ9BcGQ"
      },
      "source": [
        "#***Seleccionar una muestra MAS***"
      ]
    },
    {
      "cell_type": "code",
      "execution_count": null,
      "metadata": {
        "id": "8CDHjz87BVHb"
      },
      "outputs": [],
      "source": [
        "# Seleccionar una muestra aleatoria\n",
        "df[['Country','GDPpp2020']].sample(n=3,random_state=1)"
      ]
    },
    {
      "cell_type": "markdown",
      "metadata": {
        "id": "bcQTeB0Y69jX"
      },
      "source": [
        "#***Prueba de diferencia de medias***"
      ]
    },
    {
      "cell_type": "code",
      "execution_count": null,
      "metadata": {
        "colab": {
          "base_uri": "https://localhost:8080/"
        },
        "id": "ggzWgXV6uW2P",
        "outputId": "c9861979-9634-40d1-df03-a3ad01be7770"
      },
      "outputs": [
        {
          "data": {
            "text/plain": [
              "Africa       62\n",
              "Europa       60\n",
              "Americano    54\n",
              "Asia         41\n",
              "Oceania      20\n",
              "Name: Continent, dtype: int64"
            ]
          },
          "execution_count": 166,
          "metadata": {},
          "output_type": "execute_result"
        }
      ],
      "source": [
        "df['Continent'].value_counts()"
      ]
    },
    {
      "cell_type": "code",
      "execution_count": null,
      "metadata": {
        "id": "jfAziAkMt_-_"
      },
      "outputs": [],
      "source": [
        "gdpAfrica=df['GDPpp2020'][df['Continent']=='Africa']\n",
        "gdpAmerica=df['GDPpp2020'][df['Continent']=='Americano']"
      ]
    },
    {
      "cell_type": "code",
      "execution_count": null,
      "metadata": {
        "id": "qbhZO3Pu5cZg"
      },
      "outputs": [],
      "source": [
        "gdpAfrica=gdpAfrica.dropna()\n",
        "gdpAmerica=gdpAmerica.dropna()"
      ]
    },
    {
      "cell_type": "code",
      "execution_count": null,
      "metadata": {
        "colab": {
          "base_uri": "https://localhost:8080/"
        },
        "id": "-iBaQkuj2NAP",
        "outputId": "dd56b5be-fb3e-4db4-cda5-2103805b7832"
      },
      "outputs": [
        {
          "data": {
            "text/plain": [
              "(10099.071760006691, 16666.9680645212)"
            ]
          },
          "execution_count": 173,
          "metadata": {},
          "output_type": "execute_result"
        }
      ],
      "source": [
        "gdpAfrica.mean(),gdpAfrica.std()"
      ]
    },
    {
      "cell_type": "code",
      "execution_count": null,
      "metadata": {
        "colab": {
          "base_uri": "https://localhost:8080/"
        },
        "id": "sR-6cfmI2RAF",
        "outputId": "3c7f5d8f-97cd-4ef0-9050-82c61b1c5420"
      },
      "outputs": [
        {
          "data": {
            "text/plain": [
              "(23402.688660113323, 18147.55679879797)"
            ]
          },
          "execution_count": 174,
          "metadata": {},
          "output_type": "execute_result"
        }
      ],
      "source": [
        "gdpAmerica.mean(),gdpAmerica.std()"
      ]
    },
    {
      "cell_type": "code",
      "execution_count": null,
      "metadata": {
        "colab": {
          "base_uri": "https://localhost:8080/"
        },
        "id": "WAayNg9842iK",
        "outputId": "e137db23-22e8-402d-e82f-6d3df9a030f4"
      },
      "outputs": [
        {
          "name": "stdout",
          "output_type": "stream",
          "text": [
            "t-statistic: -3.686529384431515\n",
            "p-value: 0.00041460330995797735\n"
          ]
        }
      ],
      "source": [
        "import numpy as np\n",
        "from scipy.stats import ttest_ind\n",
        "\n",
        "\n",
        "# Perform an independent t-test with equal variances and different sample sizes\n",
        "\n",
        "t_stat, p_val = ttest_ind(gdpAfrica, gdpAmerica, equal_var=False)\n",
        "\n",
        "# print the result\n",
        "print(\"t-statistic:\", t_stat)\n",
        "print(\"p-value:\", p_val)"
      ]
    },
    {
      "cell_type": "markdown",
      "metadata": {
        "id": "XYiaHBNnIQgL"
      },
      "source": [
        "#***Intervalo de confianza para la media***"
      ]
    },
    {
      "cell_type": "code",
      "execution_count": null,
      "metadata": {
        "colab": {
          "base_uri": "https://localhost:8080/"
        },
        "id": "MQfWuzBZ8tGI",
        "outputId": "1cafeff7-82d1-4c81-87e5-ac20bed75364"
      },
      "outputs": [
        {
          "name": "stdout",
          "output_type": "stream",
          "text": [
            "El intervalo de confianza del 90.0% para la media poblacional es :\n",
            "limite_inferior     6439.869773\n",
            "limite_superior    13758.273747\n",
            "dtype: float64\n"
          ]
        }
      ],
      "source": [
        "import numpy as np\n",
        "import pandas as pd\n",
        "from scipy import stats\n",
        "\n",
        "# Caluclar la media muestral y la desviación estándar\n",
        "sample_mean = np.mean(gdpAfrica)\n",
        "sample_std = np.std(gdpAfrica, ddof=1)\n",
        "\n",
        "# Fijar el nivel de confianza y calcular los grados de libertad\n",
        "conf_level = 0.90\n",
        "df = len(gdpAfrica) - 1\n",
        "\n",
        "# Calcular el estadístico de prueba t y el margen de error\n",
        "t_value = stats.t.ppf((1 + conf_level) / 2, df)\n",
        "margin_of_error = t_value * (sample_std / np.sqrt(len(gdpAfrica)))\n",
        "\n",
        "# Calcular el intervalo de confianza\n",
        "limite_inferior = sample_mean - margin_of_error\n",
        "limite_superior = sample_mean + margin_of_error\n",
        "\n",
        "# Resultados\n",
        "result = pd.Series([limite_inferior, limite_superior], index=['limite_inferior', 'limite_superior'])\n",
        "print(f\"El intervalo de confianza del {conf_level*100}% para la media poblacional es :\\n{result}\")\n",
        "\n"
      ]
    },
    {
      "cell_type": "markdown",
      "metadata": {
        "id": "soYU4jAlHbZ5"
      },
      "source": [
        "#***Intervalo de confianza para la proporción***"
      ]
    },
    {
      "cell_type": "code",
      "execution_count": null,
      "metadata": {
        "colab": {
          "base_uri": "https://localhost:8080/"
        },
        "id": "Mk59SW9D947x",
        "outputId": "63d38420-de0d-404b-9caf-6275245c25a3"
      },
      "outputs": [
        {
          "data": {
            "text/plain": [
              "(29, 237)"
            ]
          },
          "execution_count": 188,
          "metadata": {},
          "output_type": "execute_result"
        }
      ],
      "source": [
        "income=df['IncomeGroup']\n",
        "n=len(income)\n",
        "income\n",
        "successes=income[income=='Low income'].count()\n",
        "successes,n"
      ]
    },
    {
      "cell_type": "code",
      "execution_count": null,
      "metadata": {
        "colab": {
          "base_uri": "https://localhost:8080/"
        },
        "id": "58pOL9I5G6vD",
        "outputId": "3d37aa84-6b04-4ec7-d369-5b42347d70cb"
      },
      "outputs": [
        {
          "name": "stdout",
          "output_type": "stream",
          "text": [
            "Z-score: 3.40\n",
            "P-value: 0.0007\n"
          ]
        }
      ],
      "source": [
        "from statsmodels.stats.proportion import proportions_ztest\n",
        "\n",
        "# Definir la hipotesis nula de la proporción\n",
        "null_prop = 0.05\n",
        "\n",
        "# Calular la proporción muestral\n",
        "sample_prop = successes / n\n",
        "\n",
        "# Correr la prueba de hipótesis\n",
        "stat, pval = proportions_ztest(successes, n, null_prop)\n",
        "\n",
        "# REsultados del estadístico de prueba y el valor p\n",
        "print(f\"Z-score: {stat:.2f}\")\n",
        "print(f\"P-value: {pval:.4f}\")"
      ]
    },
    {
      "cell_type": "code",
      "execution_count": null,
      "metadata": {
        "id": "L4Q5cY8ZgLpn"
      },
      "outputs": [],
      "source": [
        "-Ayuda\n",
        "Tabular una variable cualitativa X:\n",
        "df['X’].value_counts(normalize=False)\n",
        "\n",
        "Seleccionar solo las variables X, Y:\n",
        "df[['X', 'Y']]\n",
        "\n",
        "Filtrar cuando la variable X es x:\n",
        "df[df['X']=='x']\n",
        "\n",
        "Filtrar cuando la variable X=x & Y=y\n",
        "df[(df['X']=='x') & (df['Y']='y') ]\n",
        "\n",
        "Filtrar por texto be variable:\n",
        "df[df['X'].str.contains('xxx')]\n",
        "\n",
        "Ordenar por la variable X:\n",
        "df.sort_values(by=['X'],ascending=True)\n",
        "\n",
        "Bloquear por una o más condiones:\n",
        "df.loc[(df['X'] == 'x') & (df['Y'] == 'y')]\n",
        "\n",
        "Redondear decimales:\n",
        "round(X,1)\n",
        "\n",
        "Group by\n",
        "df.groupby(['X','Y'])['Z'].aggregate(['count','mean','std’])\n",
        "\n",
        "Crosstabulation\n",
        "pd.crosstab(df['X'], df['Y'],normalize=False)\n",
        "\n",
        "Crear una tabla dinámica\n",
        "df.pivot_table(index='X',columns='Y',values='Z',aggfunc='mean')\n",
        "\n"
      ]
    }
  ],
  "metadata": {
    "colab": {
      "provenance": []
    },
    "kernelspec": {
      "display_name": "Python 3",
      "name": "python3"
    },
    "language_info": {
      "codemirror_mode": {
        "name": "ipython",
        "version": 3
      },
      "file_extension": ".py",
      "mimetype": "text/x-python",
      "name": "python",
      "nbconvert_exporter": "python",
      "pygments_lexer": "ipython3",
      "version": "3.11.7"
    }
  },
  "nbformat": 4,
  "nbformat_minor": 0
}
