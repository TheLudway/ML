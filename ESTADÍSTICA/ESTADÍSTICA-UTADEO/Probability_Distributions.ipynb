{
  "cells": [
    {
      "cell_type": "markdown",
      "metadata": {
        "id": "anL9sbbXnB_M"
      },
      "source": [
        "# **Distribuciones de Probabilidad :**\n",
        "# **La Normal, Binomial, Student's t, Chi Square, F, Weibull**"
      ]
    },
    {
      "cell_type": "markdown",
      "metadata": {
        "id": "9Grui1gunVr9"
      },
      "source": [
        "#***Distribución binomial***"
      ]
    },
    {
      "cell_type": "code",
      "execution_count": 12,
      "metadata": {
        "colab": {
          "base_uri": "https://localhost:8080/",
          "height": 312
        },
        "id": "D80k1Bu_nVRx",
        "outputId": "7c16740e-d6ab-42a3-965a-15043192e892"
      },
      "outputs": [
        {
          "data": {
            "image/png": "[encoded data removed]",
            "text/plain": [
              "<Figure size 500x200 with 1 Axes>"
            ]
          },
          "metadata": {},
          "output_type": "display_data"
        }
      ],
      "source": [
        "import numpy as np\n",
        "import matplotlib.pyplot as plt\n",
        "import math\n",
        "n = 10  # numbero de exitos\n",
        "p = 0.25  # probabilidad de éxito\n",
        "x = np.arange(0, n+1)\n",
        "pmf = np.zeros(n+1)\n",
        "for i in range(n+1):\n",
        "    pmf[i] = math.comb(n, i) * p**i * (1-p)**(n-i)\n",
        "# Plot\n",
        "fig, ax = plt.subplots(figsize=(5,2))\n",
        "plt.stem(x, pmf)\n",
        "ax.set_xlim(0, n)\n",
        "# Para poner la escala del eje x de uno en uno o de dos en dos, ...\n",
        "ax.xaxis.set_major_locator(plt.MultipleLocator(1))\n",
        "# Set the title and axis labels\n",
        "plt.title(f'Binomial Distribution, n={n}, p={p}')\n",
        "plt.xlabel('Number of successes')\n",
        "plt.ylabel('Probability')\n",
        "# Show the plot\n",
        "plt.show()"
      ]
    },
    {
      "cell_type": "code",
      "execution_count": 13,
      "metadata": {},
      "outputs": [
        {
          "data": {
            "text/plain": [
              "0.5255928039550781"
            ]
          },
          "execution_count": 13,
          "metadata": {},
          "output_type": "execute_result"
        }
      ],
      "source": [
        "from scipy.stats import binom\n",
        "n = 10\n",
        "p = 0.25\n",
        "k = 2\n",
        "binom.cdf(k, n, p)"
      ]
    },
    {
      "cell_type": "code",
      "execution_count": 6,
      "metadata": {},
      "outputs": [
        {
          "name": "stdout",
          "output_type": "stream",
          "text": [
            "Help on method cdf in module scipy.stats._distn_infrastructure:\n",
            "\n",
            "cdf(k, *args, **kwds) method of scipy.stats._discrete_distns.binom_gen instance\n",
            "    Cumulative distribution function of the given RV.\n",
            "    \n",
            "    Parameters\n",
            "    ----------\n",
            "    k : array_like, int\n",
            "        Quantiles.\n",
            "    arg1, arg2, arg3,... : array_like\n",
            "        The shape parameter(s) for the distribution (see docstring of the\n",
            "        instance object for more information).\n",
            "    loc : array_like, optional\n",
            "        Location parameter (default=0).\n",
            "    \n",
            "    Returns\n",
            "    -------\n",
            "    cdf : ndarray\n",
            "        Cumulative distribution function evaluated at `k`.\n",
            "\n"
          ]
        }
      ],
      "source": [
        "help(binom.cdf)"
      ]
    },
    {
      "cell_type": "code",
      "execution_count": 10,
      "metadata": {
        "colab": {
          "base_uri": "https://localhost:8080/"
        },
        "id": "8vhNY2HIraB_",
        "outputId": "7d08f861-5664-49ff-9c4d-bd632b4e7e06"
      },
      "outputs": [
        {
          "name": "stdout",
          "output_type": "stream",
          "text": [
            "0.8201964803675781\n"
          ]
        }
      ],
      "source": [
        "# Función de distribución binomial acumulada\n",
        "from scipy.stats import binom\n",
        "n = 10  # ensayos\n",
        "p = 0.15  # probabilidad de exito\n",
        "k = 2  # valor hasta el cual se acumula la distribución\n",
        "cdf = binom.cdf(k, n, p)  # Función de distribución hasta k\n",
        "print(cdf)"
      ]
    },
    {
      "cell_type": "code",
      "execution_count": 3,
      "metadata": {
        "colab": {
          "base_uri": "https://localhost:8080/"
        },
        "id": "_I5TJzOCug4X",
        "outputId": "2daab15d-56ab-40ee-e1da-9f1fd7430572"
      },
      "outputs": [
        {
          "name": "stdout",
          "output_type": "stream",
          "text": [
            "0.27589665660205065\n"
          ]
        }
      ],
      "source": [
        "# Función de masa en k\n",
        "from scipy.stats import binom\n",
        "n = 10  # ensayos\n",
        "p = 0.15  # probabilidad de exito\n",
        "k = 2  # valor hasta el cual se acumula la distribución\n",
        "m = binom.cdf(k, n, p)-binom.cdf(k-1, n, p)  # Función de distribución hasta k\n",
        "print(m)"
      ]
    },
    {
      "cell_type": "code",
      "execution_count": 4,
      "metadata": {
        "colab": {
          "base_uri": "https://localhost:8080/"
        },
        "id": "n46aCNros5_P",
        "outputId": "6ea28ffc-873b-4fd2-f0fb-a7392d18c167"
      },
      "outputs": [
        {
          "data": {
            "text/plain": [
              "6.0"
            ]
          },
          "execution_count": 4,
          "metadata": {},
          "output_type": "execute_result"
        }
      ],
      "source": [
        "# Distibución de probabilidad binomial inversa\n",
        "from scipy.stats import binom\n",
        "binom.ppf(0.999, 10, 0.15) # ppf es percent point function"
      ]
    },
    {
      "cell_type": "markdown",
      "metadata": {
        "id": "5RuTS6mftQa8"
      },
      "source": [
        "#***Distribuciones normales***"
      ]
    },
    {
      "cell_type": "code",
      "execution_count": 11,
      "metadata": {
        "colab": {
          "base_uri": "https://localhost:8080/",
          "height": 193
        },
        "id": "742jM1w1tToB",
        "outputId": "91e23d15-27fa-4d94-f1a6-d585ddf6dde0"
      },
      "outputs": [
        {
          "data": {
            "image/png": "[encoded data removed]",
            "text/plain": [
              "<Figure size 1000x200 with 1 Axes>"
            ]
          },
          "metadata": {},
          "output_type": "display_data"
        }
      ],
      "source": [
        "# Dibujar una normal\n",
        "import numpy as np\n",
        "import matplotlib.pyplot as plt\n",
        "# Establecer la media y la desviación de la distribución\n",
        "mu = 165  # media\n",
        "sigma = 8  # desviación\n",
        "fig, ax = plt.subplots(figsize=(10,2))\n",
        "# Generar la función de densidad\n",
        "x = np.linspace(mu - 4*sigma, mu + 4*sigma, 1000)\n",
        "pdf = 1/(sigma * np.sqrt(2 * np.pi)) * np.exp(-(x - mu)**2 / (2 * sigma**2))\n",
        "# Graficar la función de densidad\n",
        "plt.plot(x, pdf, color='red', lw=2)\n",
        "# Títulos\n",
        "plt.title(f'Distribución normal, media={mu}, desviación={sigma}')\n",
        "plt.xlabel('Variable X')\n",
        "plt.ylabel('Densidad de probabilidad')\n",
        "\n",
        "# Show the plot\n",
        "plt.show;"
      ]
    },
    {
      "cell_type": "code",
      "execution_count": 12,
      "metadata": {
        "colab": {
          "base_uri": "https://localhost:8080/",
          "height": 183
        },
        "id": "jKBvFLF9tlnl",
        "outputId": "b09cfbea-5742-4e22-a3aa-eb2cbfd1f718"
      },
      "outputs": [
        {
          "data": {
            "image/png": "[encoded data removed]",
            "text/plain": [
              "<Figure size 1000x200 with 1 Axes>"
            ]
          },
          "metadata": {},
          "output_type": "display_data"
        }
      ],
      "source": [
        "# Dibujar dos normales\n",
        "import numpy as np\n",
        "import matplotlib.pyplot as plt\n",
        "# Media y desviación\n",
        "mus = [150, 170]  # medias\n",
        "sigmas = [5, 10]  # desviaciones\n",
        "colors = ['red', 'blue']  # colores\n",
        "# Fifura\n",
        "fig, ax = plt.subplots(figsize=(10,2))\n",
        "for mu, sigma, color in zip(mus, sigmas, colors):\n",
        "    x = np.linspace(mu - 4*sigma, mu + 4*sigma, 1000)\n",
        "    y = 1/(sigma * np.sqrt(2 * np.pi)) * np.exp(-(x - mu)**2 / (2 * sigma**2))\n",
        "    ax.plot(x, y, color=color, label=f'media={mu}, desviación={sigma}')\n",
        "# Título\n",
        "ax.set_title('Dos distribuciones normales')\n",
        "ax.legend()\n",
        "# Gráfica\n",
        "plt.show()"
      ]
    },
    {
      "cell_type": "code",
      "execution_count": null,
      "metadata": {
        "colab": {
          "base_uri": "https://localhost:8080/"
        },
        "id": "iemXSlI_tvpy",
        "outputId": "d627e834-cb8f-4b68-f7b7-fd78dffadee6"
      },
      "outputs": [
        {
          "name": "stdout",
          "output_type": "stream",
          "text": [
            "156.77573186524265\n"
          ]
        }
      ],
      "source": [
        "#Normal inversa  (percentiles)\n",
        "from scipy.stats import norm\n",
        "media=165\n",
        "desviación=5\n",
        "p = 0.05  # probabilidad\n",
        "x = norm.ppf(p,media,desviación)  # inversa de la distribución normal en p\n",
        "print(x)"
      ]
    },
    {
      "cell_type": "code",
      "execution_count": 18,
      "metadata": {},
      "outputs": [
        {
          "data": {
            "text/plain": [
              "178.1588290156118"
            ]
          },
          "execution_count": 18,
          "metadata": {},
          "output_type": "execute_result"
        }
      ],
      "source": [
        "from scipy.stats import norm\n",
        "media = 165\n",
        "desviacion = 8\n",
        "p = 0.95\n",
        "x = norm.ppf(p, media, desviacion)\n",
        "x"
      ]
    },
    {
      "cell_type": "code",
      "execution_count": 20,
      "metadata": {},
      "outputs": [
        {
          "data": {
            "text/plain": [
              "28.289707253902943"
            ]
          },
          "execution_count": 20,
          "metadata": {},
          "output_type": "execute_result"
        }
      ],
      "source": [
        "from scipy.stats import norm\n",
        "media = 25\n",
        "desviacion = 2\n",
        "p = 0.95\n",
        "x = norm.ppf(p, media, desviacion)\n",
        "x"
      ]
    },
    {
      "cell_type": "code",
      "execution_count": 22,
      "metadata": {},
      "outputs": [
        {
          "data": {
            "text/plain": [
              "50.97888140023815"
            ]
          },
          "execution_count": 22,
          "metadata": {},
          "output_type": "execute_result"
        }
      ],
      "source": [
        "from scipy.stats import norm\n",
        "media = 50\n",
        "desviacion = 0.68\n",
        "p = 1-0.075\n",
        "x = norm.ppf(p, media, desviacion)\n",
        "x"
      ]
    },
    {
      "cell_type": "code",
      "execution_count": null,
      "metadata": {},
      "outputs": [],
      "source": [
        "from scipy.stats import norm\n",
        "media = 1000\n",
        "desviacion = 50\n"
      ]
    },
    {
      "cell_type": "code",
      "execution_count": 25,
      "metadata": {
        "colab": {
          "base_uri": "https://localhost:8080/"
        },
        "id": "7e_MUgNet17f",
        "outputId": "764d08ca-73a5-4e86-e9b6-75cc6033560e"
      },
      "outputs": [
        {
          "data": {
            "text/plain": [
              "(1.0, 0.0)"
            ]
          },
          "execution_count": 25,
          "metadata": {},
          "output_type": "execute_result"
        }
      ],
      "source": [
        "# Probabilidad acumuladas colas izquierda y derecha\n",
        "from scipy.stats import norm\n",
        "x = 1055\n",
        "media=165\n",
        "desviación=2\n",
        "norm.cdf(x,media,desviación), norm.sf(x, media, desviación) # cola a izquierda y derecha respectivamente\n",
        "# sf survival function and cdf cumulative distribution function"
      ]
    },
    {
      "cell_type": "code",
      "execution_count": 32,
      "metadata": {},
      "outputs": [
        {
          "name": "stdout",
          "output_type": "stream",
          "text": [
            "0.11291592899820346\n"
          ]
        },
        {
          "data": {
            "text/plain": [
              "0.11291592899820348"
            ]
          },
          "execution_count": 32,
          "metadata": {},
          "output_type": "execute_result"
        }
      ],
      "source": [
        "from scipy.stats import norm\n",
        "print(norm.cdf(1100, 1000, 50) - norm.cdf(1055, 1000, 50))\n",
        "norm.sf(1055, 1000, 50) - norm.sf(1100, 1000, 50)"
      ]
    },
    {
      "cell_type": "code",
      "execution_count": 34,
      "metadata": {},
      "outputs": [
        {
          "data": {
            "text/plain": [
              "8.934205854921942"
            ]
          },
          "execution_count": 34,
          "metadata": {},
          "output_type": "execute_result"
        }
      ],
      "source": [
        "from scipy.stats import norm\n",
        "media = 9\n",
        "desviacion = 0.04\n",
        "p = 0.05\n",
        "norm.ppf(p, media, desviacion)"
      ]
    },
    {
      "cell_type": "code",
      "execution_count": 16,
      "metadata": {},
      "outputs": [
        {
          "data": {
            "text/plain": [
              "(0.06680720126885807, 0.9331927987311419)"
            ]
          },
          "execution_count": 16,
          "metadata": {},
          "output_type": "execute_result"
        }
      ],
      "source": [
        "x = 153\n",
        "media = 165\n",
        "desviacion = 8\n",
        "norm.cdf(x, media, desviacion), norm.sf(x, media, desviacion)"
      ]
    },
    {
      "cell_type": "code",
      "execution_count": null,
      "metadata": {
        "colab": {
          "base_uri": "https://localhost:8080/"
        },
        "id": "uy2coosld-Dm",
        "outputId": "2e30f34d-59fd-4b01-d944-dab30b57f9eb"
      },
      "outputs": [
        {
          "data": {
            "text/plain": [
              "1.96"
            ]
          },
          "execution_count": 17,
          "metadata": {},
          "output_type": "execute_result"
        }
      ],
      "source": [
        "# Calculo del valor z para una confianzan determinada\n",
        "from scipy.stats import norm\n",
        "confianza=0.95\n",
        "alpha= 1-confianza\n",
        "norm.ppf(1-alpha/2,0,1).round(2) # Percentil de la normal estándar\n"
      ]
    },
    {
      "cell_type": "code",
      "execution_count": null,
      "metadata": {
        "colab": {
          "base_uri": "https://localhost:8080/"
        },
        "id": "stFqBOekZQXj",
        "outputId": "052c95c5-fb47-4340-80e9-8feca9f7f846"
      },
      "outputs": [
        {
          "name": "stdout",
          "output_type": "stream",
          "text": [
            "Con una confianza del:  95.0 % una normal estándar toma valores entre: -1.95996  y 1.95996\n"
          ]
        }
      ],
      "source": [
        "\n",
        "# Cálculo de los valores Z para una confianza específica\n",
        "from scipy.stats import norm\n",
        "confianza=0.95\n",
        "alpha=1-confianza\n",
        "z=norm.ppf(1-alpha/2,0,1)\n",
        "print(\"Con una confianza del: \", confianza*100,\"%\", \"una normal estándar toma valores entre:\",-z.round(5),\" y\",z.round(5))"
      ]
    },
    {
      "cell_type": "code",
      "execution_count": null,
      "metadata": {
        "colab": {
          "base_uri": "https://localhost:8080/"
        },
        "id": "RT-XxyiITSzt",
        "outputId": "b4db8d87-9558-496d-e747-f1ccdc13d637"
      },
      "outputs": [
        {
          "data": {
            "text/plain": [
              "1.6448536269514722"
            ]
          },
          "execution_count": 7,
          "metadata": {},
          "output_type": "execute_result"
        }
      ],
      "source": [
        "from scipy.stats import norm\n",
        "confianza=0.90\n",
        "alpha=1-confianza\n",
        "norm.ppf(1-alpha/2,0,1)"
      ]
    },
    {
      "cell_type": "markdown",
      "metadata": {
        "id": "u6jZu5R9xEEs"
      },
      "source": [
        "#***Student's t***"
      ]
    },
    {
      "cell_type": "code",
      "execution_count": null,
      "metadata": {
        "colab": {
          "base_uri": "https://localhost:8080/",
          "height": 278
        },
        "id": "zK_7YYwfxXg9",
        "outputId": "53401b4e-e117-4832-c1b7-86e5bea58d29"
      },
      "outputs": [
        {
          "data": {
            "image/png": "[encoded data removed]",
            "text/plain": [
              "<Figure size 1200x300 with 1 Axes>"
            ]
          },
          "metadata": {},
          "output_type": "display_data"
        }
      ],
      "source": [
        "# Dibujar una t\n",
        "import numpy as np\n",
        "from scipy.stats import t\n",
        "import matplotlib.pyplot as plt\n",
        "# set degrees of freedom\n",
        "df = 22  # Si el tamaño de muestra en n, los grados de libertadad son n-1\n",
        "# generate x values\n",
        "x = np.linspace(t.ppf(0.0001, df), t.ppf(0.99000, df), 2000)\n",
        "# calculate probability density function\n",
        "pdf = t.pdf(x, df)\n",
        "fig, ax = plt.subplots(figsize=(12,3))\n",
        "ax.set_xlim(-5, 5)\n",
        "# create plot of t-distribution PDF\n",
        "plt.plot(x, pdf)\n",
        "plt.title(f't-Distribution PDF (df={df})')\n",
        "plt.xlabel('x')\n",
        "plt.ylabel('PDF')\n",
        "plt.show()"
      ]
    },
    {
      "cell_type": "code",
      "execution_count": null,
      "metadata": {
        "colab": {
          "base_uri": "https://localhost:8080/"
        },
        "id": "MZLtF1h7wYtY",
        "outputId": "b261086a-e876-4d36-9f4d-14f8b873396d"
      },
      "outputs": [
        {
          "data": {
            "text/plain": [
              "2.8214379233005493"
            ]
          },
          "execution_count": 2,
          "metadata": {},
          "output_type": "execute_result"
        }
      ],
      "source": [
        "# Distribución de probabilidad inversa t\n",
        "from scipy.stats import t\n",
        "ppf = t.ppf(0.99, 9) # Devuelve el valor de la t que acumunala cierto porcentaje\n",
        "ppf"
      ]
    },
    {
      "cell_type": "code",
      "execution_count": null,
      "metadata": {
        "colab": {
          "base_uri": "https://localhost:8080/"
        },
        "id": "5aM5OoD0wckl",
        "outputId": "de4a877b-7abe-429e-d934-7c8cefc52547"
      },
      "outputs": [
        {
          "data": {
            "text/plain": [
              "0.8282818019310432"
            ]
          },
          "execution_count": 3,
          "metadata": {},
          "output_type": "execute_result"
        }
      ],
      "source": [
        "# Distribución de probabilidad acumulativa t\n",
        "from scipy.stats import t\n",
        "cdf = t.cdf(1, 9) # Cumulative Distribution Function (CDF):\n",
        "cdf"
      ]
    },
    {
      "cell_type": "code",
      "execution_count": null,
      "metadata": {
        "colab": {
          "base_uri": "https://localhost:8080/"
        },
        "id": "6tju-Dx2e7iv",
        "outputId": "b48534be-c2a5-4af7-b99c-74412fab44e1"
      },
      "outputs": [
        {
          "data": {
            "text/plain": [
              "0.17171819806895677"
            ]
          },
          "execution_count": 4,
          "metadata": {},
          "output_type": "execute_result"
        }
      ],
      "source": [
        "# Cola a derecha de un valor t\n",
        "sf=t.sf(1, 9)\n",
        "sf"
      ]
    },
    {
      "cell_type": "markdown",
      "metadata": {
        "id": "fRVwRpKvyzWs"
      },
      "source": [
        "#***Ji cuadrado***"
      ]
    },
    {
      "cell_type": "code",
      "execution_count": null,
      "metadata": {
        "id": "Q05iInWHy79_"
      },
      "outputs": [],
      "source": [
        "import numpy as np\n",
        "from scipy.stats import chi2\n",
        "import matplotlib.pyplot as plt\n",
        "# set degrees of freedom\n",
        "df = 4\n",
        "# generate x values\n",
        "x = np.arange(0, 20, 0.001)\n",
        "# calculate probability density function\n",
        "pdf = chi2.pdf(x, df)\n",
        "# create plot of chi-square distribution PDF\n",
        "plt.plot(x, pdf)\n",
        "plt.title(f'Chi-Square Distribution PDF (df={df})')\n",
        "plt.xlabel('x')\n",
        "plt.ylabel('PDF')\n",
        "plt.show()"
      ]
    },
    {
      "cell_type": "code",
      "execution_count": null,
      "metadata": {
        "id": "pt2soXMs0ICP"
      },
      "outputs": [],
      "source": [
        "# Distribucion Ji acumulativa hasta x\n",
        "cdf = chi2.cdf(13.276704135987622, 4)\n",
        "cdf"
      ]
    },
    {
      "cell_type": "code",
      "execution_count": null,
      "metadata": {
        "id": "Rf9Bw-wM0yyG"
      },
      "outputs": [],
      "source": [
        "# Distribución de probabilidad inversa Chi\n",
        "from scipy.stats import chi2\n",
        "# Grados de libertad\n",
        "df = 4\n",
        "# Probabilidad\n",
        "q = 0.99\n",
        "# valor de la chi\n",
        "ppf = chi2.ppf(q, df)\n",
        "ppf"
      ]
    },
    {
      "cell_type": "markdown",
      "metadata": {
        "id": "cjdb5zRJ2TNx"
      },
      "source": [
        "#***F de Fisher***"
      ]
    },
    {
      "cell_type": "code",
      "execution_count": null,
      "metadata": {
        "id": "rg2F2IaV2WTa"
      },
      "outputs": [],
      "source": [
        "import numpy as np\n",
        "from scipy.stats import f\n",
        "import matplotlib.pyplot as plt\n",
        "# set degrees of freedom\n",
        "dfn, dfd = 5, 10\n",
        "# generate x values\n",
        "x = np.linspace(f.ppf(0.0000001, dfn, dfd), f.ppf(0.99, dfn, dfd), 100)\n",
        "# calculate probability density function\n",
        "pdf = f.pdf(x, dfn, dfd)\n",
        "# create plot of F-distribution PDF\n",
        "plt.plot(x, pdf)\n",
        "plt.title(f'F-Distribution PDF (dfn={dfn}, dfd={dfd})')\n",
        "plt.xlabel('x')\n",
        "plt.ylabel('PDF')\n",
        "plt.show()"
      ]
    },
    {
      "cell_type": "code",
      "execution_count": null,
      "metadata": {
        "id": "zbrDt_943CyS"
      },
      "outputs": [],
      "source": [
        "# calculate cumulative distribution function\n",
        "dfn=5\n",
        "dfd=10\n",
        "cdf = f.cdf(4, dfn, dfd)\n",
        "cdf"
      ]
    },
    {
      "cell_type": "code",
      "execution_count": null,
      "metadata": {
        "id": "kiotQfRd3l4S"
      },
      "outputs": [],
      "source": [
        "# Distribución F inversa\n",
        "# set degrees of freedom\n",
        "dfn, dfd = 5, 10\n",
        "# set probability\n",
        "q = 0.9703247047779213\n",
        "# calculate percent point function\n",
        "ppf = f.ppf(q, dfn, dfd)\n",
        "ppf"
      ]
    },
    {
      "cell_type": "code",
      "execution_count": null,
      "metadata": {
        "id": "n2jE2_xR5gvj"
      },
      "outputs": [],
      "source": []
    },
    {
      "cell_type": "markdown",
      "metadata": {
        "id": "xKFYCXyl5hgT"
      },
      "source": [
        "#***Weibull***"
      ]
    },
    {
      "cell_type": "code",
      "execution_count": null,
      "metadata": {
        "colab": {
          "base_uri": "https://localhost:8080/",
          "height": 256
        },
        "id": "4IK7Ya2u5B2z",
        "outputId": "dcaab298-a607-4767-9cc0-bc77136045ea"
      },
      "outputs": [
        {
          "data": {
            "image/png": "[encoded data removed]",
            "text/plain": [
              "<Figure size 1000x200 with 1 Axes>"
            ]
          },
          "metadata": {},
          "output_type": "display_data"
        }
      ],
      "source": [
        "import numpy as np\n",
        "from scipy.stats import weibull_min\n",
        "import matplotlib.pyplot as plt\n",
        "# set shape and scale parameters\n",
        "k, lam = 2, 4\n",
        "fig, ax = plt.subplots(figsize=(10,2))\n",
        "# generate x values\n",
        "x = np.linspace(weibull_min.ppf(0.0001, k, scale=lam), weibull_min.ppf(0.9999, k, scale=lam), 100)\n",
        "# calculate probability density function\n",
        "pdf = weibull_min.pdf(x, k, scale=lam)\n",
        "# create plot of Weibull distribution PDF\n",
        "plt.plot(x, pdf)\n",
        "plt.title(f'Weibull Distribution PDF (k={k}, lambda={lam})')\n",
        "plt.xlabel('x')\n",
        "plt.ylabel('PDF')\n",
        "plt.show()"
      ]
    },
    {
      "cell_type": "code",
      "execution_count": null,
      "metadata": {
        "id": "ziEkgPIS57Un"
      },
      "outputs": [],
      "source": [
        "# calculate cumulative distribution function until x\n",
        "k=2\n",
        "lam=4\n",
        "cdf = weibull_min.cdf(8, k, scale=lam)\n",
        "cdf"
      ]
    },
    {
      "cell_type": "code",
      "execution_count": null,
      "metadata": {
        "id": "88De7MJF7ZNE"
      },
      "outputs": [],
      "source": [
        "# Distribución Weibull inversa\n",
        "# set shape and scale parameters\n",
        "k, lam = 2, 4\n",
        "# set probability\n",
        "q = 0.9816843611112658\n",
        "# calculate percent point function\n",
        "ppf = weibull_min.ppf(q, k, scale=lam)\n",
        "ppf"
      ]
    }
  ],
  "metadata": {
    "colab": {
      "provenance": []
    },
    "kernelspec": {
      "display_name": "Python 3",
      "name": "python3"
    },
    "language_info": {
      "codemirror_mode": {
        "name": "ipython",
        "version": 3
      },
      "file_extension": ".py",
      "mimetype": "text/x-python",
      "name": "python",
      "nbconvert_exporter": "python",
      "pygments_lexer": "ipython3",
      "version": "3.11.7"
    }
  },
  "nbformat": 4,
  "nbformat_minor": 0
}
