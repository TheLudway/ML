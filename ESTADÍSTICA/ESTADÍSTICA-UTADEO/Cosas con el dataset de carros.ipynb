{
 "cells": [
  {
   "cell_type": "code",
   "execution_count": 1,
   "metadata": {},
   "outputs": [],
   "source": [
    "import pandas as pd\n",
    "import matplotlib.pyplot as plt\n",
    "import numpy as np\n"
   ]
  },
  {
   "cell_type": "code",
   "execution_count": 2,
   "metadata": {},
   "outputs": [],
   "source": [
    "df = pd.read_csv('vehiculos.csv', delimiter=',', encoding='unicode_escape')"
   ]
  },
  {
   "cell_type": "code",
   "execution_count": 4,
   "metadata": {},
   "outputs": [
    {
     "data": {
      "text/html": [
       "<div>\n",
       "<style scoped>\n",
       "    .dataframe tbody tr th:only-of-type {\n",
       "        vertical-align: middle;\n",
       "    }\n",
       "\n",
       "    .dataframe tbody tr th {\n",
       "        vertical-align: top;\n",
       "    }\n",
       "\n",
       "    .dataframe thead th {\n",
       "        text-align: right;\n",
       "    }\n",
       "</style>\n",
       "<table border=\"1\" class=\"dataframe\">\n",
       "  <thead>\n",
       "    <tr style=\"text-align: right;\">\n",
       "      <th></th>\n",
       "      <th>Price</th>\n",
       "      <th>Year</th>\n",
       "      <th>Kilometer</th>\n",
       "      <th>Engine</th>\n",
       "      <th>Length</th>\n",
       "      <th>Width</th>\n",
       "      <th>Height</th>\n",
       "      <th>Seats</th>\n",
       "      <th>Tank</th>\n",
       "    </tr>\n",
       "  </thead>\n",
       "  <tbody>\n",
       "    <tr>\n",
       "      <th>count</th>\n",
       "      <td>1874.000000</td>\n",
       "      <td>1874.000000</td>\n",
       "      <td>1.874000e+03</td>\n",
       "      <td>1874.000000</td>\n",
       "      <td>1874.000000</td>\n",
       "      <td>1874.000000</td>\n",
       "      <td>1874.000000</td>\n",
       "      <td>1874.000000</td>\n",
       "      <td>1874.000000</td>\n",
       "    </tr>\n",
       "    <tr>\n",
       "      <th>mean</th>\n",
       "      <td>17182.790368</td>\n",
       "      <td>2016.713447</td>\n",
       "      <td>5.317814e+04</td>\n",
       "      <td>1682.829242</td>\n",
       "      <td>4281.512807</td>\n",
       "      <td>1767.886339</td>\n",
       "      <td>1588.967983</td>\n",
       "      <td>5.295091</td>\n",
       "      <td>52.217343</td>\n",
       "    </tr>\n",
       "    <tr>\n",
       "      <th>std</th>\n",
       "      <td>24260.903507</td>\n",
       "      <td>3.138477</td>\n",
       "      <td>5.878833e+04</td>\n",
       "      <td>633.055721</td>\n",
       "      <td>436.220747</td>\n",
       "      <td>131.344883</td>\n",
       "      <td>134.627659</td>\n",
       "      <td>0.807008</td>\n",
       "      <td>15.167250</td>\n",
       "    </tr>\n",
       "    <tr>\n",
       "      <th>min</th>\n",
       "      <td>490.000000</td>\n",
       "      <td>1988.000000</td>\n",
       "      <td>0.000000e+00</td>\n",
       "      <td>624.000000</td>\n",
       "      <td>3099.000000</td>\n",
       "      <td>1475.000000</td>\n",
       "      <td>1213.000000</td>\n",
       "      <td>2.000000</td>\n",
       "      <td>15.000000</td>\n",
       "    </tr>\n",
       "    <tr>\n",
       "      <th>25%</th>\n",
       "      <td>5000.000000</td>\n",
       "      <td>2015.000000</td>\n",
       "      <td>2.801975e+04</td>\n",
       "      <td>1197.000000</td>\n",
       "      <td>3985.000000</td>\n",
       "      <td>1695.000000</td>\n",
       "      <td>1485.000000</td>\n",
       "      <td>5.000000</td>\n",
       "      <td>42.000000</td>\n",
       "    </tr>\n",
       "    <tr>\n",
       "      <th>50%</th>\n",
       "      <td>8424.995000</td>\n",
       "      <td>2017.000000</td>\n",
       "      <td>4.879750e+04</td>\n",
       "      <td>1497.000000</td>\n",
       "      <td>4360.000000</td>\n",
       "      <td>1770.000000</td>\n",
       "      <td>1544.000000</td>\n",
       "      <td>5.000000</td>\n",
       "      <td>50.000000</td>\n",
       "    </tr>\n",
       "    <tr>\n",
       "      <th>75%</th>\n",
       "      <td>19082.500000</td>\n",
       "      <td>2019.000000</td>\n",
       "      <td>7.100000e+04</td>\n",
       "      <td>1995.000000</td>\n",
       "      <td>4620.000000</td>\n",
       "      <td>1831.000000</td>\n",
       "      <td>1670.750000</td>\n",
       "      <td>5.000000</td>\n",
       "      <td>60.000000</td>\n",
       "    </tr>\n",
       "    <tr>\n",
       "      <th>max</th>\n",
       "      <td>350000.000000</td>\n",
       "      <td>2022.000000</td>\n",
       "      <td>2.000000e+06</td>\n",
       "      <td>6592.000000</td>\n",
       "      <td>5569.000000</td>\n",
       "      <td>2220.000000</td>\n",
       "      <td>1995.000000</td>\n",
       "      <td>8.000000</td>\n",
       "      <td>105.000000</td>\n",
       "    </tr>\n",
       "  </tbody>\n",
       "</table>\n",
       "</div>"
      ],
      "text/plain": [
       "               Price         Year     Kilometer       Engine       Length  \\\n",
       "count    1874.000000  1874.000000  1.874000e+03  1874.000000  1874.000000   \n",
       "mean    17182.790368  2016.713447  5.317814e+04  1682.829242  4281.512807   \n",
       "std     24260.903507     3.138477  5.878833e+04   633.055721   436.220747   \n",
       "min       490.000000  1988.000000  0.000000e+00   624.000000  3099.000000   \n",
       "25%      5000.000000  2015.000000  2.801975e+04  1197.000000  3985.000000   \n",
       "50%      8424.995000  2017.000000  4.879750e+04  1497.000000  4360.000000   \n",
       "75%     19082.500000  2019.000000  7.100000e+04  1995.000000  4620.000000   \n",
       "max    350000.000000  2022.000000  2.000000e+06  6592.000000  5569.000000   \n",
       "\n",
       "             Width       Height        Seats         Tank  \n",
       "count  1874.000000  1874.000000  1874.000000  1874.000000  \n",
       "mean   1767.886339  1588.967983     5.295091    52.217343  \n",
       "std     131.344883   134.627659     0.807008    15.167250  \n",
       "min    1475.000000  1213.000000     2.000000    15.000000  \n",
       "25%    1695.000000  1485.000000     5.000000    42.000000  \n",
       "50%    1770.000000  1544.000000     5.000000    50.000000  \n",
       "75%    1831.000000  1670.750000     5.000000    60.000000  \n",
       "max    2220.000000  1995.000000     8.000000   105.000000  "
      ]
     },
     "execution_count": 4,
     "metadata": {},
     "output_type": "execute_result"
    }
   ],
   "source": [
    "df.describe()"
   ]
  },
  {
   "cell_type": "markdown",
   "metadata": {},
   "source": [
    "## Pregunta con respecto al número de sillas de los vehículos y su precio es FALSO que:"
   ]
  },
  {
   "cell_type": "markdown",
   "metadata": {},
   "source": [
    "### En promedio, son más costosos lso vehículos de dos asientos (Verdadero)"
   ]
  },
  {
   "cell_type": "code",
   "execution_count": 20,
   "metadata": {},
   "outputs": [
    {
     "data": {
      "text/plain": [
       "Seats\n",
       "2    118000.000000\n",
       "4     48004.614872\n",
       "5     15194.240406\n",
       "6     24199.564783\n",
       "7     22314.250486\n",
       "8     10818.063548\n",
       "Name: Price, dtype: float64"
      ]
     },
     "execution_count": 20,
     "metadata": {},
     "output_type": "execute_result"
    }
   ],
   "source": [
    "df.groupby(df['Seats'])['Price'].mean()"
   ]
  },
  {
   "cell_type": "markdown",
   "metadata": {},
   "source": [
    "### Hay menor variación en los precios de los vehículos de 5 asientos que en los de 4 asientos (Verdadero)\n"
   ]
  },
  {
   "cell_type": "code",
   "execution_count": 21,
   "metadata": {},
   "outputs": [
    {
     "data": {
      "text/plain": [
       "Seats\n",
       "2    118438.169523\n",
       "4     56240.263620\n",
       "5     21014.927055\n",
       "6     25562.365252\n",
       "7     21076.909330\n",
       "8      6083.378604\n",
       "Name: Price, dtype: float64"
      ]
     },
     "execution_count": 21,
     "metadata": {},
     "output_type": "execute_result"
    }
   ],
   "source": [
    "df.groupby(df['Seats'])['Price'].std()"
   ]
  },
  {
   "cell_type": "markdown",
   "metadata": {},
   "source": [
    "### En esta base de datos no hay información de vehículos de 3 asientos (Verdadero)"
   ]
  },
  {
   "cell_type": "code",
   "execution_count": 22,
   "metadata": {},
   "outputs": [
    {
     "data": {
      "text/html": [
       "<div>\n",
       "<style scoped>\n",
       "    .dataframe tbody tr th:only-of-type {\n",
       "        vertical-align: middle;\n",
       "    }\n",
       "\n",
       "    .dataframe tbody tr th {\n",
       "        vertical-align: top;\n",
       "    }\n",
       "\n",
       "    .dataframe thead th {\n",
       "        text-align: right;\n",
       "    }\n",
       "</style>\n",
       "<table border=\"1\" class=\"dataframe\">\n",
       "  <thead>\n",
       "    <tr style=\"text-align: right;\">\n",
       "      <th></th>\n",
       "      <th>Make</th>\n",
       "      <th>Model</th>\n",
       "      <th>Price</th>\n",
       "      <th>Year</th>\n",
       "      <th>Kilometer</th>\n",
       "      <th>Fuel</th>\n",
       "      <th>Transmission</th>\n",
       "      <th>Location</th>\n",
       "      <th>Color</th>\n",
       "      <th>Owner</th>\n",
       "      <th>Seller</th>\n",
       "      <th>Engine</th>\n",
       "      <th>Power</th>\n",
       "      <th>Torque</th>\n",
       "      <th>Drivetrain</th>\n",
       "      <th>Length</th>\n",
       "      <th>Width</th>\n",
       "      <th>Height</th>\n",
       "      <th>Seats</th>\n",
       "      <th>Tank</th>\n",
       "    </tr>\n",
       "  </thead>\n",
       "  <tbody>\n",
       "  </tbody>\n",
       "</table>\n",
       "</div>"
      ],
      "text/plain": [
       "Empty DataFrame\n",
       "Columns: [Make, Model, Price, Year, Kilometer, Fuel, Transmission, Location, Color, Owner, Seller, Engine, Power, Torque, Drivetrain, Length, Width, Height, Seats, Tank]\n",
       "Index: []"
      ]
     },
     "execution_count": 22,
     "metadata": {},
     "output_type": "execute_result"
    }
   ],
   "source": [
    "df[df['Seats'] == 3]"
   ]
  },
  {
   "cell_type": "markdown",
   "metadata": {},
   "source": [
    "### De los vehículos de 7 asientos, el mayor porcentaje corresponde a las marcas Toyota, Mahindra y Land Rover (Falso)"
   ]
  },
  {
   "cell_type": "code",
   "execution_count": 25,
   "metadata": {},
   "outputs": [
    {
     "data": {
      "text/plain": [
       "Make\n",
       "Toyota           31.174089\n",
       "Mahindra         24.696356\n",
       "Maruti Suzuki    11.740891\n",
       "Land Rover        5.263158\n",
       "Audi              5.263158\n",
       "Ford              4.858300\n",
       "Mercedes-Benz     4.453441\n",
       "Tata              3.643725\n",
       "Hyundai           2.834008\n",
       "Ssangyong         1.214575\n",
       "Mitsubishi        1.214575\n",
       "Honda             1.214575\n",
       "Isuzu             0.809717\n",
       "Datsun            0.404858\n",
       "Kia               0.404858\n",
       "Volkswagen        0.404858\n",
       "Volvo             0.404858\n",
       "Name: proportion, dtype: float64"
      ]
     },
     "execution_count": 25,
     "metadata": {},
     "output_type": "execute_result"
    }
   ],
   "source": [
    "df[df['Seats'] == 7]['Make'].value_counts(normalize=True)*100"
   ]
  },
  {
   "cell_type": "markdown",
   "metadata": {},
   "source": [
    "## De las siguientes, la afirmación FALSA es"
   ]
  },
  {
   "cell_type": "markdown",
   "metadata": {},
   "source": [
    "### El 96% de los vehículos de marca Suzuki con transmisión manual tiene una longitud de 4.49 metros o menos (Verdadero)"
   ]
  },
  {
   "cell_type": "code",
   "execution_count": 26,
   "metadata": {},
   "outputs": [
    {
     "data": {
      "text/html": [
       "<div>\n",
       "<style scoped>\n",
       "    .dataframe tbody tr th:only-of-type {\n",
       "        vertical-align: middle;\n",
       "    }\n",
       "\n",
       "    .dataframe tbody tr th {\n",
       "        vertical-align: top;\n",
       "    }\n",
       "\n",
       "    .dataframe thead th {\n",
       "        text-align: right;\n",
       "    }\n",
       "</style>\n",
       "<table border=\"1\" class=\"dataframe\">\n",
       "  <thead>\n",
       "    <tr style=\"text-align: right;\">\n",
       "      <th></th>\n",
       "      <th>Make</th>\n",
       "      <th>Model</th>\n",
       "      <th>Price</th>\n",
       "      <th>Year</th>\n",
       "      <th>Kilometer</th>\n",
       "      <th>Fuel</th>\n",
       "      <th>Transmission</th>\n",
       "      <th>Location</th>\n",
       "      <th>Color</th>\n",
       "      <th>Owner</th>\n",
       "      <th>Seller</th>\n",
       "      <th>Engine</th>\n",
       "      <th>Power</th>\n",
       "      <th>Torque</th>\n",
       "      <th>Drivetrain</th>\n",
       "      <th>Length</th>\n",
       "      <th>Width</th>\n",
       "      <th>Height</th>\n",
       "      <th>Seats</th>\n",
       "      <th>Tank</th>\n",
       "    </tr>\n",
       "  </thead>\n",
       "  <tbody>\n",
       "    <tr>\n",
       "      <th>0</th>\n",
       "      <td>Tata</td>\n",
       "      <td>Nano Base</td>\n",
       "      <td>490.0</td>\n",
       "      <td>2010</td>\n",
       "      <td>60000</td>\n",
       "      <td>Petrol</td>\n",
       "      <td>Manual</td>\n",
       "      <td>Gurgaon</td>\n",
       "      <td>White</td>\n",
       "      <td>First</td>\n",
       "      <td>Individual</td>\n",
       "      <td>624</td>\n",
       "      <td>35@5250</td>\n",
       "      <td>48@3000</td>\n",
       "      <td>RWD</td>\n",
       "      <td>3099</td>\n",
       "      <td>1495</td>\n",
       "      <td>1652</td>\n",
       "      <td>4</td>\n",
       "      <td>15.0</td>\n",
       "    </tr>\n",
       "    <tr>\n",
       "      <th>1</th>\n",
       "      <td>Hyundai</td>\n",
       "      <td>i10 Era</td>\n",
       "      <td>1300.0</td>\n",
       "      <td>2009</td>\n",
       "      <td>59000</td>\n",
       "      <td>Petrol</td>\n",
       "      <td>Manual</td>\n",
       "      <td>Kanpur</td>\n",
       "      <td>Silver</td>\n",
       "      <td>Second</td>\n",
       "      <td>Individual</td>\n",
       "      <td>1086</td>\n",
       "      <td>67@5500</td>\n",
       "      <td>99@2800</td>\n",
       "      <td>FWD</td>\n",
       "      <td>3565</td>\n",
       "      <td>1595</td>\n",
       "      <td>1550</td>\n",
       "      <td>5</td>\n",
       "      <td>35.0</td>\n",
       "    </tr>\n",
       "    <tr>\n",
       "      <th>2</th>\n",
       "      <td>Hyundai</td>\n",
       "      <td>Santro GLS</td>\n",
       "      <td>1410.0</td>\n",
       "      <td>2009</td>\n",
       "      <td>56400</td>\n",
       "      <td>Petrol</td>\n",
       "      <td>Manual</td>\n",
       "      <td>Jamshedpur</td>\n",
       "      <td>Silver</td>\n",
       "      <td>Third</td>\n",
       "      <td>Individual</td>\n",
       "      <td>1086</td>\n",
       "      <td>62 bhp @ 5500 rpm</td>\n",
       "      <td>96 Nm @ 3000 rpm</td>\n",
       "      <td>FWD</td>\n",
       "      <td>3565</td>\n",
       "      <td>1525</td>\n",
       "      <td>1590</td>\n",
       "      <td>5</td>\n",
       "      <td>35.0</td>\n",
       "    </tr>\n",
       "    <tr>\n",
       "      <th>3</th>\n",
       "      <td>Hyundai</td>\n",
       "      <td>Santro GL (CNG)</td>\n",
       "      <td>1450.0</td>\n",
       "      <td>2009</td>\n",
       "      <td>72000</td>\n",
       "      <td>CNG</td>\n",
       "      <td>Manual</td>\n",
       "      <td>Kanpur</td>\n",
       "      <td>Silver</td>\n",
       "      <td>Second</td>\n",
       "      <td>Individual</td>\n",
       "      <td>1086</td>\n",
       "      <td>62 bhp @ 5500 rpm</td>\n",
       "      <td>96 Nm @ 3000 rpm</td>\n",
       "      <td>FWD</td>\n",
       "      <td>3565</td>\n",
       "      <td>1525</td>\n",
       "      <td>1590</td>\n",
       "      <td>5</td>\n",
       "      <td>35.0</td>\n",
       "    </tr>\n",
       "    <tr>\n",
       "      <th>4</th>\n",
       "      <td>Maruti Suzuki</td>\n",
       "      <td>Wagon R LXi Minor</td>\n",
       "      <td>1450.0</td>\n",
       "      <td>2009</td>\n",
       "      <td>39586</td>\n",
       "      <td>Petrol</td>\n",
       "      <td>Manual</td>\n",
       "      <td>Ranchi</td>\n",
       "      <td>Red</td>\n",
       "      <td>First</td>\n",
       "      <td>Individual</td>\n",
       "      <td>1061</td>\n",
       "      <td>67@6200</td>\n",
       "      <td>84@3500</td>\n",
       "      <td>FWD</td>\n",
       "      <td>3520</td>\n",
       "      <td>1475</td>\n",
       "      <td>1690</td>\n",
       "      <td>5</td>\n",
       "      <td>35.0</td>\n",
       "    </tr>\n",
       "  </tbody>\n",
       "</table>\n",
       "</div>"
      ],
      "text/plain": [
       "            Make              Model   Price  Year  Kilometer    Fuel  \\\n",
       "0           Tata          Nano Base   490.0  2010      60000  Petrol   \n",
       "1        Hyundai            i10 Era  1300.0  2009      59000  Petrol   \n",
       "2        Hyundai         Santro GLS  1410.0  2009      56400  Petrol   \n",
       "3        Hyundai    Santro GL (CNG)  1450.0  2009      72000     CNG   \n",
       "4  Maruti Suzuki  Wagon R LXi Minor  1450.0  2009      39586  Petrol   \n",
       "\n",
       "  Transmission    Location   Color   Owner      Seller  Engine  \\\n",
       "0       Manual     Gurgaon   White   First  Individual     624   \n",
       "1       Manual      Kanpur  Silver  Second  Individual    1086   \n",
       "2       Manual  Jamshedpur  Silver   Third  Individual    1086   \n",
       "3       Manual      Kanpur  Silver  Second  Individual    1086   \n",
       "4       Manual      Ranchi     Red   First  Individual    1061   \n",
       "\n",
       "               Power            Torque Drivetrain  Length  Width  Height  \\\n",
       "0            35@5250           48@3000        RWD    3099   1495    1652   \n",
       "1            67@5500           99@2800        FWD    3565   1595    1550   \n",
       "2  62 bhp @ 5500 rpm  96 Nm @ 3000 rpm        FWD    3565   1525    1590   \n",
       "3  62 bhp @ 5500 rpm  96 Nm @ 3000 rpm        FWD    3565   1525    1590   \n",
       "4            67@6200           84@3500        FWD    3520   1475    1690   \n",
       "\n",
       "   Seats  Tank  \n",
       "0      4  15.0  \n",
       "1      5  35.0  \n",
       "2      5  35.0  \n",
       "3      5  35.0  \n",
       "4      5  35.0  "
      ]
     },
     "execution_count": 26,
     "metadata": {},
     "output_type": "execute_result"
    }
   ],
   "source": [
    "df.head(5)"
   ]
  },
  {
   "cell_type": "code",
   "execution_count": 34,
   "metadata": {},
   "outputs": [
    {
     "data": {
      "text/plain": [
       "4490.0"
      ]
     },
     "execution_count": 34,
     "metadata": {},
     "output_type": "execute_result"
    }
   ],
   "source": [
    "df[(df['Make'] == 'Maruti Suzuki') & (df['Transmission'] == 'Manual')]['Length'].quantile(0.96)"
   ]
  },
  {
   "cell_type": "markdown",
   "metadata": {},
   "source": [
    "### El 5% de los vehículos de marca Honda de color blanco tiene un motor de 1198 centímetros cúbicos o más. (Falso)"
   ]
  },
  {
   "cell_type": "code",
   "execution_count": 37,
   "metadata": {},
   "outputs": [
    {
     "data": {
      "text/plain": [
       "1498.0"
      ]
     },
     "execution_count": 37,
     "metadata": {},
     "output_type": "execute_result"
    }
   ],
   "source": [
    "df[(df['Make'] == 'Honda') & (df['Color'] == 'White')]['Engine'].quantile(0.95)"
   ]
  },
  {
   "cell_type": "markdown",
   "metadata": {},
   "source": [
    "### Sólo el 1% de los vehículos con un tanque de 35 litros y del año 2015 o más recientes tienen una altura superior a los 1.7 metros (Verdadero)"
   ]
  },
  {
   "cell_type": "code",
   "execution_count": 38,
   "metadata": {},
   "outputs": [
    {
     "data": {
      "text/plain": [
       "1700.0"
      ]
     },
     "execution_count": 38,
     "metadata": {},
     "output_type": "execute_result"
    }
   ],
   "source": [
    "df[(df['Tank'] == 35) & (df['Year'] >= 2015)]['Height'].quantile(0.99)"
   ]
  },
  {
   "cell_type": "markdown",
   "metadata": {},
   "source": [
    "### De la lista el carro más largo es un Rolls-Royce blanco o azul del año 2012 o 2011 (Verdadero)"
   ]
  },
  {
   "cell_type": "code",
   "execution_count": 43,
   "metadata": {},
   "outputs": [
    {
     "data": {
      "text/html": [
       "<div>\n",
       "<style scoped>\n",
       "    .dataframe tbody tr th:only-of-type {\n",
       "        vertical-align: middle;\n",
       "    }\n",
       "\n",
       "    .dataframe tbody tr th {\n",
       "        vertical-align: top;\n",
       "    }\n",
       "\n",
       "    .dataframe thead th {\n",
       "        text-align: right;\n",
       "    }\n",
       "</style>\n",
       "<table border=\"1\" class=\"dataframe\">\n",
       "  <thead>\n",
       "    <tr style=\"text-align: right;\">\n",
       "      <th></th>\n",
       "      <th>Make</th>\n",
       "      <th>Color</th>\n",
       "      <th>Year</th>\n",
       "      <th>Length</th>\n",
       "    </tr>\n",
       "  </thead>\n",
       "  <tbody>\n",
       "    <tr>\n",
       "      <th>1869</th>\n",
       "      <td>Rolls-Royce</td>\n",
       "      <td>White</td>\n",
       "      <td>2012</td>\n",
       "      <td>5569</td>\n",
       "    </tr>\n",
       "    <tr>\n",
       "      <th>1868</th>\n",
       "      <td>Rolls-Royce</td>\n",
       "      <td>Blue</td>\n",
       "      <td>2011</td>\n",
       "      <td>5569</td>\n",
       "    </tr>\n",
       "  </tbody>\n",
       "</table>\n",
       "</div>"
      ],
      "text/plain": [
       "             Make  Color  Year  Length\n",
       "1869  Rolls-Royce  White  2012    5569\n",
       "1868  Rolls-Royce   Blue  2011    5569"
      ]
     },
     "execution_count": 43,
     "metadata": {},
     "output_type": "execute_result"
    }
   ],
   "source": [
    "df.sort_values(by=['Length'], ascending=False)[['Make', 'Color', 'Year', 'Length']].head(2)"
   ]
  },
  {
   "cell_type": "markdown",
   "metadata": {},
   "source": [
    "## Para los vehículos de primer y segundo dueño es FALSO que:"
   ]
  },
  {
   "cell_type": "markdown",
   "metadata": {},
   "source": [
    "### El 25% de los vehículos de primer dueño tienen más de 67.000 kilómetros (Verdadero)"
   ]
  },
  {
   "cell_type": "code",
   "execution_count": 44,
   "metadata": {},
   "outputs": [
    {
     "data": {
      "text/html": [
       "<div>\n",
       "<style scoped>\n",
       "    .dataframe tbody tr th:only-of-type {\n",
       "        vertical-align: middle;\n",
       "    }\n",
       "\n",
       "    .dataframe tbody tr th {\n",
       "        vertical-align: top;\n",
       "    }\n",
       "\n",
       "    .dataframe thead th {\n",
       "        text-align: right;\n",
       "    }\n",
       "</style>\n",
       "<table border=\"1\" class=\"dataframe\">\n",
       "  <thead>\n",
       "    <tr style=\"text-align: right;\">\n",
       "      <th></th>\n",
       "      <th>Make</th>\n",
       "      <th>Model</th>\n",
       "      <th>Price</th>\n",
       "      <th>Year</th>\n",
       "      <th>Kilometer</th>\n",
       "      <th>Fuel</th>\n",
       "      <th>Transmission</th>\n",
       "      <th>Location</th>\n",
       "      <th>Color</th>\n",
       "      <th>Owner</th>\n",
       "      <th>Seller</th>\n",
       "      <th>Engine</th>\n",
       "      <th>Power</th>\n",
       "      <th>Torque</th>\n",
       "      <th>Drivetrain</th>\n",
       "      <th>Length</th>\n",
       "      <th>Width</th>\n",
       "      <th>Height</th>\n",
       "      <th>Seats</th>\n",
       "      <th>Tank</th>\n",
       "    </tr>\n",
       "  </thead>\n",
       "  <tbody>\n",
       "    <tr>\n",
       "      <th>0</th>\n",
       "      <td>Tata</td>\n",
       "      <td>Nano Base</td>\n",
       "      <td>490.0</td>\n",
       "      <td>2010</td>\n",
       "      <td>60000</td>\n",
       "      <td>Petrol</td>\n",
       "      <td>Manual</td>\n",
       "      <td>Gurgaon</td>\n",
       "      <td>White</td>\n",
       "      <td>First</td>\n",
       "      <td>Individual</td>\n",
       "      <td>624</td>\n",
       "      <td>35@5250</td>\n",
       "      <td>48@3000</td>\n",
       "      <td>RWD</td>\n",
       "      <td>3099</td>\n",
       "      <td>1495</td>\n",
       "      <td>1652</td>\n",
       "      <td>4</td>\n",
       "      <td>15.0</td>\n",
       "    </tr>\n",
       "    <tr>\n",
       "      <th>1</th>\n",
       "      <td>Hyundai</td>\n",
       "      <td>i10 Era</td>\n",
       "      <td>1300.0</td>\n",
       "      <td>2009</td>\n",
       "      <td>59000</td>\n",
       "      <td>Petrol</td>\n",
       "      <td>Manual</td>\n",
       "      <td>Kanpur</td>\n",
       "      <td>Silver</td>\n",
       "      <td>Second</td>\n",
       "      <td>Individual</td>\n",
       "      <td>1086</td>\n",
       "      <td>67@5500</td>\n",
       "      <td>99@2800</td>\n",
       "      <td>FWD</td>\n",
       "      <td>3565</td>\n",
       "      <td>1595</td>\n",
       "      <td>1550</td>\n",
       "      <td>5</td>\n",
       "      <td>35.0</td>\n",
       "    </tr>\n",
       "  </tbody>\n",
       "</table>\n",
       "</div>"
      ],
      "text/plain": [
       "      Make      Model   Price  Year  Kilometer    Fuel Transmission Location  \\\n",
       "0     Tata  Nano Base   490.0  2010      60000  Petrol       Manual  Gurgaon   \n",
       "1  Hyundai    i10 Era  1300.0  2009      59000  Petrol       Manual   Kanpur   \n",
       "\n",
       "    Color   Owner      Seller  Engine    Power   Torque Drivetrain  Length  \\\n",
       "0   White   First  Individual     624  35@5250  48@3000        RWD    3099   \n",
       "1  Silver  Second  Individual    1086  67@5500  99@2800        FWD    3565   \n",
       "\n",
       "   Width  Height  Seats  Tank  \n",
       "0   1495    1652      4  15.0  \n",
       "1   1595    1550      5  35.0  "
      ]
     },
     "execution_count": 44,
     "metadata": {},
     "output_type": "execute_result"
    }
   ],
   "source": [
    "df.head(2)"
   ]
  },
  {
   "cell_type": "code",
   "execution_count": 45,
   "metadata": {},
   "outputs": [
    {
     "data": {
      "text/plain": [
       "67000.0"
      ]
     },
     "execution_count": 45,
     "metadata": {},
     "output_type": "execute_result"
    }
   ],
   "source": [
    "df[df['Owner'] == 'First']['Kilometer'].quantile(0.75)"
   ]
  },
  {
   "cell_type": "markdown",
   "metadata": {},
   "source": [
    "### Sería inusual que un automóvil de primer dueño tenga un kilometraje superior a los 129.690,6 kilómetros aprox (Verdadero)\n",
    "Se necesita calcular el límite superior e inferior para los valores atípicos, en primer lugar se va a calcular el primer cuartil junto con el tercero.\n",
    "\n",
    "También sale el rango intercuartil IQR"
   ]
  },
  {
   "cell_type": "code",
   "execution_count": 49,
   "metadata": {},
   "outputs": [],
   "source": [
    "q1P3, q3P3 = df[df['Owner'] == 'First']['Kilometer'].quantile([0.25, 0.75])\n",
    "IQR = q3P3 - q1P3"
   ]
  },
  {
   "cell_type": "markdown",
   "metadata": {},
   "source": [
    "Ahora se van a sacar los límites inferior y superior"
   ]
  },
  {
   "cell_type": "code",
   "execution_count": 50,
   "metadata": {},
   "outputs": [
    {
     "name": "stdout",
     "output_type": "stream",
     "text": [
      "Límite inferior: -37484.375 \n",
      "Límite superior: 129690.625\n"
     ]
    }
   ],
   "source": [
    "limInferior = q1P3 - 1.5*IQR\n",
    "limSuperior = q3P3 + 1.5*IQR\n",
    "print('Límite inferior:', limInferior, '\\nLímite superior:', limSuperior)"
   ]
  },
  {
   "cell_type": "markdown",
   "metadata": {},
   "source": [
    "### Hay 35 vehículos de primer dueño con un kilometraje inusualmente alto (Falso)"
   ]
  },
  {
   "cell_type": "code",
   "execution_count": 54,
   "metadata": {},
   "outputs": [
    {
     "data": {
      "text/plain": [
       "22"
      ]
     },
     "execution_count": 54,
     "metadata": {},
     "output_type": "execute_result"
    }
   ],
   "source": [
    "len(df[(df['Kilometer'] >= 129690) & (df['Owner'] == 'First')])"
   ]
  },
  {
   "cell_type": "markdown",
   "metadata": {},
   "source": [
    "### Hay más vehículos con precio inusualmente alto en los de primer dueño que en los de segundo dueño (Verdadero)"
   ]
  },
  {
   "cell_type": "code",
   "execution_count": 55,
   "metadata": {},
   "outputs": [
    {
     "data": {
      "text/plain": [
       "(22, 10)"
      ]
     },
     "execution_count": 55,
     "metadata": {},
     "output_type": "execute_result"
    }
   ],
   "source": [
    "len(df[(df['Kilometer'] >= 129690) & (df['Owner'] == 'First')]), len(df[(df['Kilometer'] >= 129690) & (df['Owner'] == 'Second')])"
   ]
  },
  {
   "cell_type": "markdown",
   "metadata": {},
   "source": [
    "## Con respecto a las estadísticas básicas de los automóviles es FALSO que"
   ]
  },
  {
   "cell_type": "markdown",
   "metadata": {},
   "source": [
    "### El precio promedio de la totalidad de automóviles es de aprox. 17.182,8 (Verdadero)\n",
    "### La mitad de los vehículos tiene un valor aprox. de 8425 dólares o menos (Verdadero)"
   ]
  },
  {
   "cell_type": "code",
   "execution_count": 56,
   "metadata": {},
   "outputs": [
    {
     "data": {
      "text/html": [
       "<div>\n",
       "<style scoped>\n",
       "    .dataframe tbody tr th:only-of-type {\n",
       "        vertical-align: middle;\n",
       "    }\n",
       "\n",
       "    .dataframe tbody tr th {\n",
       "        vertical-align: top;\n",
       "    }\n",
       "\n",
       "    .dataframe thead th {\n",
       "        text-align: right;\n",
       "    }\n",
       "</style>\n",
       "<table border=\"1\" class=\"dataframe\">\n",
       "  <thead>\n",
       "    <tr style=\"text-align: right;\">\n",
       "      <th></th>\n",
       "      <th>Price</th>\n",
       "      <th>Year</th>\n",
       "      <th>Kilometer</th>\n",
       "      <th>Engine</th>\n",
       "      <th>Length</th>\n",
       "      <th>Width</th>\n",
       "      <th>Height</th>\n",
       "      <th>Seats</th>\n",
       "      <th>Tank</th>\n",
       "    </tr>\n",
       "  </thead>\n",
       "  <tbody>\n",
       "    <tr>\n",
       "      <th>count</th>\n",
       "      <td>1874.000000</td>\n",
       "      <td>1874.000000</td>\n",
       "      <td>1.874000e+03</td>\n",
       "      <td>1874.000000</td>\n",
       "      <td>1874.000000</td>\n",
       "      <td>1874.000000</td>\n",
       "      <td>1874.000000</td>\n",
       "      <td>1874.000000</td>\n",
       "      <td>1874.000000</td>\n",
       "    </tr>\n",
       "    <tr>\n",
       "      <th>mean</th>\n",
       "      <td>17182.790368</td>\n",
       "      <td>2016.713447</td>\n",
       "      <td>5.317814e+04</td>\n",
       "      <td>1682.829242</td>\n",
       "      <td>4281.512807</td>\n",
       "      <td>1767.886339</td>\n",
       "      <td>1588.967983</td>\n",
       "      <td>5.295091</td>\n",
       "      <td>52.217343</td>\n",
       "    </tr>\n",
       "    <tr>\n",
       "      <th>std</th>\n",
       "      <td>24260.903507</td>\n",
       "      <td>3.138477</td>\n",
       "      <td>5.878833e+04</td>\n",
       "      <td>633.055721</td>\n",
       "      <td>436.220747</td>\n",
       "      <td>131.344883</td>\n",
       "      <td>134.627659</td>\n",
       "      <td>0.807008</td>\n",
       "      <td>15.167250</td>\n",
       "    </tr>\n",
       "    <tr>\n",
       "      <th>min</th>\n",
       "      <td>490.000000</td>\n",
       "      <td>1988.000000</td>\n",
       "      <td>0.000000e+00</td>\n",
       "      <td>624.000000</td>\n",
       "      <td>3099.000000</td>\n",
       "      <td>1475.000000</td>\n",
       "      <td>1213.000000</td>\n",
       "      <td>2.000000</td>\n",
       "      <td>15.000000</td>\n",
       "    </tr>\n",
       "    <tr>\n",
       "      <th>25%</th>\n",
       "      <td>5000.000000</td>\n",
       "      <td>2015.000000</td>\n",
       "      <td>2.801975e+04</td>\n",
       "      <td>1197.000000</td>\n",
       "      <td>3985.000000</td>\n",
       "      <td>1695.000000</td>\n",
       "      <td>1485.000000</td>\n",
       "      <td>5.000000</td>\n",
       "      <td>42.000000</td>\n",
       "    </tr>\n",
       "    <tr>\n",
       "      <th>50%</th>\n",
       "      <td>8424.995000</td>\n",
       "      <td>2017.000000</td>\n",
       "      <td>4.879750e+04</td>\n",
       "      <td>1497.000000</td>\n",
       "      <td>4360.000000</td>\n",
       "      <td>1770.000000</td>\n",
       "      <td>1544.000000</td>\n",
       "      <td>5.000000</td>\n",
       "      <td>50.000000</td>\n",
       "    </tr>\n",
       "    <tr>\n",
       "      <th>75%</th>\n",
       "      <td>19082.500000</td>\n",
       "      <td>2019.000000</td>\n",
       "      <td>7.100000e+04</td>\n",
       "      <td>1995.000000</td>\n",
       "      <td>4620.000000</td>\n",
       "      <td>1831.000000</td>\n",
       "      <td>1670.750000</td>\n",
       "      <td>5.000000</td>\n",
       "      <td>60.000000</td>\n",
       "    </tr>\n",
       "    <tr>\n",
       "      <th>max</th>\n",
       "      <td>350000.000000</td>\n",
       "      <td>2022.000000</td>\n",
       "      <td>2.000000e+06</td>\n",
       "      <td>6592.000000</td>\n",
       "      <td>5569.000000</td>\n",
       "      <td>2220.000000</td>\n",
       "      <td>1995.000000</td>\n",
       "      <td>8.000000</td>\n",
       "      <td>105.000000</td>\n",
       "    </tr>\n",
       "  </tbody>\n",
       "</table>\n",
       "</div>"
      ],
      "text/plain": [
       "               Price         Year     Kilometer       Engine       Length  \\\n",
       "count    1874.000000  1874.000000  1.874000e+03  1874.000000  1874.000000   \n",
       "mean    17182.790368  2016.713447  5.317814e+04  1682.829242  4281.512807   \n",
       "std     24260.903507     3.138477  5.878833e+04   633.055721   436.220747   \n",
       "min       490.000000  1988.000000  0.000000e+00   624.000000  3099.000000   \n",
       "25%      5000.000000  2015.000000  2.801975e+04  1197.000000  3985.000000   \n",
       "50%      8424.995000  2017.000000  4.879750e+04  1497.000000  4360.000000   \n",
       "75%     19082.500000  2019.000000  7.100000e+04  1995.000000  4620.000000   \n",
       "max    350000.000000  2022.000000  2.000000e+06  6592.000000  5569.000000   \n",
       "\n",
       "             Width       Height        Seats         Tank  \n",
       "count  1874.000000  1874.000000  1874.000000  1874.000000  \n",
       "mean   1767.886339  1588.967983     5.295091    52.217343  \n",
       "std     131.344883   134.627659     0.807008    15.167250  \n",
       "min    1475.000000  1213.000000     2.000000    15.000000  \n",
       "25%    1695.000000  1485.000000     5.000000    42.000000  \n",
       "50%    1770.000000  1544.000000     5.000000    50.000000  \n",
       "75%    1831.000000  1670.750000     5.000000    60.000000  \n",
       "max    2220.000000  1995.000000     8.000000   105.000000  "
      ]
     },
     "execution_count": 56,
     "metadata": {},
     "output_type": "execute_result"
    }
   ],
   "source": [
    "df.describe()"
   ]
  },
  {
   "cell_type": "markdown",
   "metadata": {},
   "source": [
    "### Hay menor variabilidad en precios en los vehículos Mercedes-Benz que en los vehículos Honda (Falso)"
   ]
  },
  {
   "cell_type": "code",
   "execution_count": 68,
   "metadata": {},
   "outputs": [
    {
     "data": {
      "text/plain": [
       "(32929.857915990964, 2954.526426643345)"
      ]
     },
     "execution_count": 68,
     "metadata": {},
     "output_type": "execute_result"
    }
   ],
   "source": [
    "df.loc[df['Make'] == 'Mercedes-Benz', 'Price'].std(), df.loc[df['Make'] == 'Honda', 'Price'].std()\n",
    "    "
   ]
  },
  {
   "cell_type": "markdown",
   "metadata": {},
   "source": [
    "### Aproximadamente el 17.8% de los vehículos son marca Hyundai (Verdadero)"
   ]
  },
  {
   "cell_type": "code",
   "execution_count": 72,
   "metadata": {},
   "outputs": [
    {
     "data": {
      "text/plain": [
       "Make\n",
       "Maruti Suzuki    21.237994\n",
       "Hyundai          17.769477\n",
       "Mercedes-Benz     8.484525\n",
       "Honda             7.950907\n",
       "Toyota            6.563501\n",
       "Audi              6.296692\n",
       "Mahindra          5.869797\n",
       "BMW               4.749200\n",
       "Tata              2.508004\n",
       "Ford              2.508004\n",
       "Renault           2.294557\n",
       "Volkswagen        2.241195\n",
       "Skoda             1.974386\n",
       "Land Rover        1.600854\n",
       "Kia               1.227321\n",
       "Volvo             0.853789\n",
       "Jeep              0.853789\n",
       "Nissan            0.800427\n",
       "MG                0.693703\n",
       "Jaguar            0.693703\n",
       "Porsche           0.640342\n",
       "MINI              0.480256\n",
       "Datsun            0.426894\n",
       "Lexus             0.266809\n",
       "Mitsubishi        0.213447\n",
       "Chevrolet         0.213447\n",
       "Rolls-Royce       0.160085\n",
       "Ssangyong         0.160085\n",
       "Isuzu             0.106724\n",
       "Maserati          0.053362\n",
       "Fiat              0.053362\n",
       "Ferrari           0.053362\n",
       "Name: proportion, dtype: float64"
      ]
     },
     "execution_count": 72,
     "metadata": {},
     "output_type": "execute_result"
    }
   ],
   "source": [
    "df['Make'].value_counts(normalize=True)*100"
   ]
  },
  {
   "cell_type": "markdown",
   "metadata": {},
   "source": [
    "## De los vehículos de primer dueño con transmisión manual es FALSO que\n",
    "### El precio promedio de los vehículos de primer dueño con transmisión manual es de aprox 7064.9 (Verdadero)"
   ]
  },
  {
   "cell_type": "code",
   "execution_count": 75,
   "metadata": {},
   "outputs": [
    {
     "data": {
      "text/plain": [
       "7064.900291715286"
      ]
     },
     "execution_count": 75,
     "metadata": {},
     "output_type": "execute_result"
    }
   ],
   "source": [
    "df[(df['Transmission'] == 'Manual') & (df['Owner'] == 'First')]['Price'].mean()"
   ]
  },
  {
   "cell_type": "markdown",
   "metadata": {},
   "source": [
    "### El 95% de los precios de los vehículos de primer dueño con transmisión manual es 16500 dólares o menos (Verdadero)"
   ]
  },
  {
   "cell_type": "code",
   "execution_count": 77,
   "metadata": {},
   "outputs": [
    {
     "data": {
      "text/plain": [
       "16500.0"
      ]
     },
     "execution_count": 77,
     "metadata": {},
     "output_type": "execute_result"
    }
   ],
   "source": [
    "df[(df['Owner'] == 'First') & (df['Transmission'] == 'Manual')]['Price'].quantile(0.95)"
   ]
  },
  {
   "cell_type": "markdown",
   "metadata": {},
   "source": [
    "### El coeficiente de variación del kilometraje de los vehículos de primer dueño con transmisión manual es de aprox 71% (Falso)"
   ]
  },
  {
   "cell_type": "code",
   "execution_count": 84,
   "metadata": {},
   "outputs": [],
   "source": [
    "filtro = (df['Owner'] == 'First') & (df['Transmission'] == 'Manual')\n",
    "df_filtrado = df[filtro]\n",
    "cv_kilometraje = (df_filtrado['Kilometer'].std() / df_filtrado['Kilometer'].mean()) * 100"
   ]
  },
  {
   "cell_type": "markdown",
   "metadata": {},
   "source": [
    "### Hay 17 marcas diferentes de vehículos primer dueño con transmisión manual (Verdadero)"
   ]
  },
  {
   "cell_type": "code",
   "execution_count": 82,
   "metadata": {},
   "outputs": [
    {
     "data": {
      "text/plain": [
       "17"
      ]
     },
     "execution_count": 82,
     "metadata": {},
     "output_type": "execute_result"
    }
   ],
   "source": [
    "len(df[(df['Transmission'] == 'Manual') & (df['Owner'] == 'First')]['Make'].value_counts())"
   ]
  },
  {
   "cell_type": "markdown",
   "metadata": {},
   "source": [
    "# **Ayuda** <br>\n",
    "1. Tabular una variable cualitativa X:\n",
    "`df['X’].value_counts(normalize=False)`\n",
    "\n",
    "2. Seleccionar solo las variables X, Y:\n",
    "df[['X', 'Y']]\n",
    "\n",
    "3. Filtrar cuando la variable X es x:\n",
    "df[df['X']=='x']\n",
    "\n",
    "4. Filtrar cuando la variable X=x & Y=y\n",
    "df[(df['X']=='x') & (df['Y']='y') ]\n",
    "\n",
    "5. Filtrar por texto de variable:\n",
    "df[df['X'].str.contains('xxx')]\n",
    "\n",
    "6. Ordenar por la variable X:\n",
    "df.sort_values(by=['X'],ascending=True)\n",
    "\n",
    "7. Bloquear por una o más condiones:\n",
    "df.loc[(df['X'] == 'x') & (df['Y'] == 'y')]\n",
    "\n",
    "8. Redondear decimales:\n",
    "round(X,1)\n",
    "\n",
    "9. Reemplazar un símbolo para corregir typos\n",
    "df['X']=df['X'].str.replace('¥','Ñ')\n",
    "\n",
    "10. Recodificar valores de variables\n",
    "df['X'] = df['X'].replace({'a': 'A', 'b': 'B'})\n",
    "\n",
    "11. Group by\n",
    "df.groupby(['X','Y'])['Z'].aggregate(['count','mean','std’])\n",
    "\n",
    "12. Crosstabulation\n",
    "pd.crosstab(df['X'], df['Y'],normalize=False)\n",
    "\n",
    "13. Crear una tabla dinámica\n",
    "df.pivot_table(index='X',columns='Y',values='Z',aggfunc='mean')\n"
   ]
  }
 ],
 "metadata": {
  "kernelspec": {
   "display_name": "base",
   "language": "python",
   "name": "python3"
  },
  "language_info": {
   "codemirror_mode": {
    "name": "ipython",
    "version": 3
   },
   "file_extension": ".py",
   "mimetype": "text/x-python",
   "name": "python",
   "nbconvert_exporter": "python",
   "pygments_lexer": "ipython3",
   "version": "3.11.7"
  }
 },
 "nbformat": 4,
 "nbformat_minor": 2
}
