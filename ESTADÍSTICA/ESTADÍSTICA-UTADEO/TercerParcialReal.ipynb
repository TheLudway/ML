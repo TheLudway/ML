{
 "cells": [
  {
   "cell_type": "markdown",
   "metadata": {},
   "source": [
    "# Parcial tercer corte"
   ]
  },
  {
   "cell_type": "code",
   "execution_count": 3,
   "metadata": {},
   "outputs": [],
   "source": [
    "import pandas as pd\n",
    "import numpy as np"
   ]
  },
  {
   "cell_type": "code",
   "execution_count": 50,
   "metadata": {},
   "outputs": [
    {
     "data": {
      "text/html": [
       "<div>\n",
       "<style scoped>\n",
       "    .dataframe tbody tr th:only-of-type {\n",
       "        vertical-align: middle;\n",
       "    }\n",
       "\n",
       "    .dataframe tbody tr th {\n",
       "        vertical-align: top;\n",
       "    }\n",
       "\n",
       "    .dataframe thead th {\n",
       "        text-align: right;\n",
       "    }\n",
       "</style>\n",
       "<table border=\"1\" class=\"dataframe\">\n",
       "  <thead>\n",
       "    <tr style=\"text-align: right;\">\n",
       "      <th></th>\n",
       "      <th>date</th>\n",
       "      <th>depto</th>\n",
       "      <th>muni</th>\n",
       "      <th>delito</th>\n",
       "      <th>dia</th>\n",
       "      <th>hora</th>\n",
       "      <th>barrio</th>\n",
       "      <th>zona</th>\n",
       "      <th>sitio</th>\n",
       "      <th>arma</th>\n",
       "      <th>...</th>\n",
       "      <th>victima</th>\n",
       "      <th>Edad</th>\n",
       "      <th>sex</th>\n",
       "      <th>Ecivil</th>\n",
       "      <th>pais</th>\n",
       "      <th>ocupacion</th>\n",
       "      <th>profesion</th>\n",
       "      <th>educ</th>\n",
       "      <th>DANE</th>\n",
       "      <th>Cantidad</th>\n",
       "    </tr>\n",
       "  </thead>\n",
       "  <tbody>\n",
       "    <tr>\n",
       "      <th>0</th>\n",
       "      <td>01/01/2019</td>\n",
       "      <td>AMAZONAS</td>\n",
       "      <td>LETICIA</td>\n",
       "      <td>ARTICULO 209. ACTOS SEXUALES CON MENOR DE 14 A¥OS</td>\n",
       "      <td>Martes</td>\n",
       "      <td>18:00:00</td>\n",
       "      <td>NO REPORTADO</td>\n",
       "      <td>RURAL</td>\n",
       "      <td>CASAS DE APUESTAS</td>\n",
       "      <td>SIN EMPLEO DE ARMAS</td>\n",
       "      <td>...</td>\n",
       "      <td>A PIE</td>\n",
       "      <td>7.0</td>\n",
       "      <td>FEMENINO</td>\n",
       "      <td>NaN</td>\n",
       "      <td>COLOMBIA</td>\n",
       "      <td>NO REPORTA</td>\n",
       "      <td>NaN</td>\n",
       "      <td>NaN</td>\n",
       "      <td>91001000</td>\n",
       "      <td>1</td>\n",
       "    </tr>\n",
       "    <tr>\n",
       "      <th>1</th>\n",
       "      <td>01/01/2019</td>\n",
       "      <td>AMAZONAS</td>\n",
       "      <td>LETICIA</td>\n",
       "      <td>ARTICULO 209. ACTOS SEXUALES CON MENOR DE 14 A¥OS</td>\n",
       "      <td>Martes</td>\n",
       "      <td>18:00:00</td>\n",
       "      <td>NO REPORTADO</td>\n",
       "      <td>RURAL</td>\n",
       "      <td>CASAS DE APUESTAS</td>\n",
       "      <td>SIN EMPLEO DE ARMAS</td>\n",
       "      <td>...</td>\n",
       "      <td>A PIE</td>\n",
       "      <td>21.0</td>\n",
       "      <td>FEMENINO</td>\n",
       "      <td>UNION LIBRE</td>\n",
       "      <td>COLOMBIA</td>\n",
       "      <td>INDEPENDIENTE</td>\n",
       "      <td>NaN</td>\n",
       "      <td>PRIMARIA</td>\n",
       "      <td>91001000</td>\n",
       "      <td>1</td>\n",
       "    </tr>\n",
       "    <tr>\n",
       "      <th>2</th>\n",
       "      <td>01/01/2019</td>\n",
       "      <td>ANTIOQUIA</td>\n",
       "      <td>ABRIAQUI</td>\n",
       "      <td>ARTICULO 209. ACTOS SEXUALES CON MENOR DE 14 A¥OS</td>\n",
       "      <td>Martes</td>\n",
       "      <td>0:00:00</td>\n",
       "      <td>SAN JOSE</td>\n",
       "      <td>RURAL</td>\n",
       "      <td>FINCAS Y SIMILARES</td>\n",
       "      <td>SIN EMPLEO DE ARMAS</td>\n",
       "      <td>...</td>\n",
       "      <td>A PIE</td>\n",
       "      <td>16.0</td>\n",
       "      <td>FEMENINO</td>\n",
       "      <td>SOLTERO</td>\n",
       "      <td>COLOMBIA</td>\n",
       "      <td>ESTUDIANTE</td>\n",
       "      <td>NaN</td>\n",
       "      <td>SECUNDARIA</td>\n",
       "      <td>5004000</td>\n",
       "      <td>1</td>\n",
       "    </tr>\n",
       "    <tr>\n",
       "      <th>3</th>\n",
       "      <td>01/01/2019</td>\n",
       "      <td>ANTIOQUIA</td>\n",
       "      <td>AMAGA</td>\n",
       "      <td>ARTICULO 208. ACCESO CARNAL ABUSIVO CON MENOR ...</td>\n",
       "      <td>Martes</td>\n",
       "      <td>10:00:00</td>\n",
       "      <td>LA GUALI</td>\n",
       "      <td>RURAL</td>\n",
       "      <td>FINCAS Y SIMILARES</td>\n",
       "      <td>SIN EMPLEO DE ARMAS</td>\n",
       "      <td>...</td>\n",
       "      <td>A PIE</td>\n",
       "      <td>4.0</td>\n",
       "      <td>FEMENINO</td>\n",
       "      <td>SOLTERO</td>\n",
       "      <td>COLOMBIA</td>\n",
       "      <td>EMPLEADO PARTICULAR</td>\n",
       "      <td>NO REPORTADA</td>\n",
       "      <td>SECUNDARIA</td>\n",
       "      <td>5030000</td>\n",
       "      <td>1</td>\n",
       "    </tr>\n",
       "    <tr>\n",
       "      <th>4</th>\n",
       "      <td>01/01/2019</td>\n",
       "      <td>ANTIOQUIA</td>\n",
       "      <td>AMAGA</td>\n",
       "      <td>ARTICULO 208. ACCESO CARNAL ABUSIVO CON MENOR ...</td>\n",
       "      <td>Martes</td>\n",
       "      <td>10:00:00</td>\n",
       "      <td>LA GUALI</td>\n",
       "      <td>RURAL</td>\n",
       "      <td>FINCAS Y SIMILARES</td>\n",
       "      <td>SIN EMPLEO DE ARMAS</td>\n",
       "      <td>...</td>\n",
       "      <td>A PIE</td>\n",
       "      <td>8.0</td>\n",
       "      <td>FEMENINO</td>\n",
       "      <td>SOLTERO</td>\n",
       "      <td>COLOMBIA</td>\n",
       "      <td>EMPLEADO PARTICULAR</td>\n",
       "      <td>NO REPORTADA</td>\n",
       "      <td>PRIMARIA</td>\n",
       "      <td>5030000</td>\n",
       "      <td>1</td>\n",
       "    </tr>\n",
       "    <tr>\n",
       "      <th>...</th>\n",
       "      <td>...</td>\n",
       "      <td>...</td>\n",
       "      <td>...</td>\n",
       "      <td>...</td>\n",
       "      <td>...</td>\n",
       "      <td>...</td>\n",
       "      <td>...</td>\n",
       "      <td>...</td>\n",
       "      <td>...</td>\n",
       "      <td>...</td>\n",
       "      <td>...</td>\n",
       "      <td>...</td>\n",
       "      <td>...</td>\n",
       "      <td>...</td>\n",
       "      <td>...</td>\n",
       "      <td>...</td>\n",
       "      <td>...</td>\n",
       "      <td>...</td>\n",
       "      <td>...</td>\n",
       "      <td>...</td>\n",
       "      <td>...</td>\n",
       "    </tr>\n",
       "    <tr>\n",
       "      <th>33785</th>\n",
       "      <td>31/12/2019</td>\n",
       "      <td>NORTE DE SANTANDER</td>\n",
       "      <td>LOS PATIOS</td>\n",
       "      <td>ARTICULO 205. ACCESO CARNAL VIOLENTO</td>\n",
       "      <td>Martes</td>\n",
       "      <td>0:00:00</td>\n",
       "      <td>BARRIO BRISAS DEL LLANO</td>\n",
       "      <td>URBANA</td>\n",
       "      <td>VIAS PUBLICAS</td>\n",
       "      <td>NO REPORTADO</td>\n",
       "      <td>...</td>\n",
       "      <td>A PIE</td>\n",
       "      <td>17.0</td>\n",
       "      <td>FEMENINO</td>\n",
       "      <td>SOLTERO</td>\n",
       "      <td>NaN</td>\n",
       "      <td>EMPLEADO PARTICULAR</td>\n",
       "      <td>NO REPORTADA</td>\n",
       "      <td>SECUNDARIA</td>\n",
       "      <td>54405000</td>\n",
       "      <td>1</td>\n",
       "    </tr>\n",
       "    <tr>\n",
       "      <th>33786</th>\n",
       "      <td>31/12/2019</td>\n",
       "      <td>VALLE</td>\n",
       "      <td>CALI</td>\n",
       "      <td>ARTICULO 205. ACCESO CARNAL VIOLENTO</td>\n",
       "      <td>Martes</td>\n",
       "      <td>17:00:00</td>\n",
       "      <td>PUEBLO JOVEN E20</td>\n",
       "      <td>URBANA</td>\n",
       "      <td>VIAS PUBLICAS</td>\n",
       "      <td>CONTUNDENTES</td>\n",
       "      <td>...</td>\n",
       "      <td>A PIE</td>\n",
       "      <td>36.0</td>\n",
       "      <td>FEMENINO</td>\n",
       "      <td>SOLTERO</td>\n",
       "      <td>COLOMBIA</td>\n",
       "      <td>EMPLEADO PARTICULAR</td>\n",
       "      <td>NO REPORTADA</td>\n",
       "      <td>SECUNDARIA</td>\n",
       "      <td>76001000</td>\n",
       "      <td>1</td>\n",
       "    </tr>\n",
       "    <tr>\n",
       "      <th>33787</th>\n",
       "      <td>31/12/2019</td>\n",
       "      <td>VALLE</td>\n",
       "      <td>CALI</td>\n",
       "      <td>ARTICULO 208. ACCESO CARNAL ABUSIVO CON MENOR ...</td>\n",
       "      <td>Martes</td>\n",
       "      <td>14:00:00</td>\n",
       "      <td>CRISTOBAL COLON E10</td>\n",
       "      <td>URBANA</td>\n",
       "      <td>DENTRO DE LA VIVIENDA</td>\n",
       "      <td>SIN EMPLEO DE ARMAS</td>\n",
       "      <td>...</td>\n",
       "      <td>A PIE</td>\n",
       "      <td>12.0</td>\n",
       "      <td>FEMENINO</td>\n",
       "      <td>SOLTERO</td>\n",
       "      <td>COLOMBIA</td>\n",
       "      <td>ESTUDIANTE</td>\n",
       "      <td>NaN</td>\n",
       "      <td>SECUNDARIA</td>\n",
       "      <td>76001000</td>\n",
       "      <td>1</td>\n",
       "    </tr>\n",
       "    <tr>\n",
       "      <th>33788</th>\n",
       "      <td>31/12/2019</td>\n",
       "      <td>VALLE</td>\n",
       "      <td>CALI</td>\n",
       "      <td>ARTICULO 210 A. ACOSO SEXUAL</td>\n",
       "      <td>Martes</td>\n",
       "      <td>23:30:00</td>\n",
       "      <td>ALFONSO B. ARAGON E14</td>\n",
       "      <td>URBANA</td>\n",
       "      <td>CASAS DE HABITACION</td>\n",
       "      <td>SIN EMPLEO DE ARMAS</td>\n",
       "      <td>...</td>\n",
       "      <td>A PIE</td>\n",
       "      <td>13.0</td>\n",
       "      <td>FEMENINO</td>\n",
       "      <td>SOLTERO</td>\n",
       "      <td>COLOMBIA</td>\n",
       "      <td>ESTUDIANTE</td>\n",
       "      <td>NaN</td>\n",
       "      <td>SECUNDARIA</td>\n",
       "      <td>76001000</td>\n",
       "      <td>1</td>\n",
       "    </tr>\n",
       "    <tr>\n",
       "      <th>33789</th>\n",
       "      <td>31/12/2019</td>\n",
       "      <td>VALLE</td>\n",
       "      <td>CALI</td>\n",
       "      <td>ARTICULO 210 A. ACOSO SEXUAL</td>\n",
       "      <td>Martes</td>\n",
       "      <td>23:55:00</td>\n",
       "      <td>EL GUABAL E10</td>\n",
       "      <td>URBANA</td>\n",
       "      <td>CASAS DE HABITACION</td>\n",
       "      <td>SIN EMPLEO DE ARMAS</td>\n",
       "      <td>...</td>\n",
       "      <td>A PIE</td>\n",
       "      <td>13.0</td>\n",
       "      <td>FEMENINO</td>\n",
       "      <td>SOLTERO</td>\n",
       "      <td>COLOMBIA</td>\n",
       "      <td>ESTUDIANTE</td>\n",
       "      <td>NaN</td>\n",
       "      <td>SECUNDARIA</td>\n",
       "      <td>76001000</td>\n",
       "      <td>1</td>\n",
       "    </tr>\n",
       "  </tbody>\n",
       "</table>\n",
       "<p>33790 rows × 21 columns</p>\n",
       "</div>"
      ],
      "text/plain": [
       "             date               depto        muni  \\\n",
       "0      01/01/2019            AMAZONAS     LETICIA   \n",
       "1      01/01/2019            AMAZONAS     LETICIA   \n",
       "2      01/01/2019           ANTIOQUIA    ABRIAQUI   \n",
       "3      01/01/2019           ANTIOQUIA       AMAGA   \n",
       "4      01/01/2019           ANTIOQUIA       AMAGA   \n",
       "...           ...                 ...         ...   \n",
       "33785  31/12/2019  NORTE DE SANTANDER  LOS PATIOS   \n",
       "33786  31/12/2019               VALLE        CALI   \n",
       "33787  31/12/2019               VALLE        CALI   \n",
       "33788  31/12/2019               VALLE        CALI   \n",
       "33789  31/12/2019               VALLE        CALI   \n",
       "\n",
       "                                                  delito     dia      hora  \\\n",
       "0      ARTICULO 209. ACTOS SEXUALES CON MENOR DE 14 A¥OS  Martes  18:00:00   \n",
       "1      ARTICULO 209. ACTOS SEXUALES CON MENOR DE 14 A¥OS  Martes  18:00:00   \n",
       "2      ARTICULO 209. ACTOS SEXUALES CON MENOR DE 14 A¥OS  Martes   0:00:00   \n",
       "3      ARTICULO 208. ACCESO CARNAL ABUSIVO CON MENOR ...  Martes  10:00:00   \n",
       "4      ARTICULO 208. ACCESO CARNAL ABUSIVO CON MENOR ...  Martes  10:00:00   \n",
       "...                                                  ...     ...       ...   \n",
       "33785               ARTICULO 205. ACCESO CARNAL VIOLENTO  Martes   0:00:00   \n",
       "33786               ARTICULO 205. ACCESO CARNAL VIOLENTO  Martes  17:00:00   \n",
       "33787  ARTICULO 208. ACCESO CARNAL ABUSIVO CON MENOR ...  Martes  14:00:00   \n",
       "33788                       ARTICULO 210 A. ACOSO SEXUAL  Martes  23:30:00   \n",
       "33789                       ARTICULO 210 A. ACOSO SEXUAL  Martes  23:55:00   \n",
       "\n",
       "                        barrio    zona                  sitio  \\\n",
       "0                 NO REPORTADO   RURAL      CASAS DE APUESTAS   \n",
       "1                 NO REPORTADO   RURAL      CASAS DE APUESTAS   \n",
       "2                     SAN JOSE   RURAL     FINCAS Y SIMILARES   \n",
       "3                     LA GUALI   RURAL     FINCAS Y SIMILARES   \n",
       "4                     LA GUALI   RURAL     FINCAS Y SIMILARES   \n",
       "...                        ...     ...                    ...   \n",
       "33785  BARRIO BRISAS DEL LLANO  URBANA          VIAS PUBLICAS   \n",
       "33786         PUEBLO JOVEN E20  URBANA          VIAS PUBLICAS   \n",
       "33787      CRISTOBAL COLON E10  URBANA  DENTRO DE LA VIVIENDA   \n",
       "33788    ALFONSO B. ARAGON E14  URBANA    CASAS DE HABITACION   \n",
       "33789            EL GUABAL E10  URBANA    CASAS DE HABITACION   \n",
       "\n",
       "                      arma  ... victima  Edad       sex       Ecivil  \\\n",
       "0      SIN EMPLEO DE ARMAS  ...   A PIE   7.0  FEMENINO          NaN   \n",
       "1      SIN EMPLEO DE ARMAS  ...   A PIE  21.0  FEMENINO  UNION LIBRE   \n",
       "2      SIN EMPLEO DE ARMAS  ...   A PIE  16.0  FEMENINO      SOLTERO   \n",
       "3      SIN EMPLEO DE ARMAS  ...   A PIE   4.0  FEMENINO      SOLTERO   \n",
       "4      SIN EMPLEO DE ARMAS  ...   A PIE   8.0  FEMENINO      SOLTERO   \n",
       "...                    ...  ...     ...   ...       ...          ...   \n",
       "33785         NO REPORTADO  ...   A PIE  17.0  FEMENINO      SOLTERO   \n",
       "33786         CONTUNDENTES  ...   A PIE  36.0  FEMENINO      SOLTERO   \n",
       "33787  SIN EMPLEO DE ARMAS  ...   A PIE  12.0  FEMENINO      SOLTERO   \n",
       "33788  SIN EMPLEO DE ARMAS  ...   A PIE  13.0  FEMENINO      SOLTERO   \n",
       "33789  SIN EMPLEO DE ARMAS  ...   A PIE  13.0  FEMENINO      SOLTERO   \n",
       "\n",
       "           pais            ocupacion     profesion        educ      DANE  \\\n",
       "0      COLOMBIA           NO REPORTA           NaN         NaN  91001000   \n",
       "1      COLOMBIA        INDEPENDIENTE           NaN    PRIMARIA  91001000   \n",
       "2      COLOMBIA           ESTUDIANTE           NaN  SECUNDARIA   5004000   \n",
       "3      COLOMBIA  EMPLEADO PARTICULAR  NO REPORTADA  SECUNDARIA   5030000   \n",
       "4      COLOMBIA  EMPLEADO PARTICULAR  NO REPORTADA    PRIMARIA   5030000   \n",
       "...         ...                  ...           ...         ...       ...   \n",
       "33785       NaN  EMPLEADO PARTICULAR  NO REPORTADA  SECUNDARIA  54405000   \n",
       "33786  COLOMBIA  EMPLEADO PARTICULAR  NO REPORTADA  SECUNDARIA  76001000   \n",
       "33787  COLOMBIA           ESTUDIANTE           NaN  SECUNDARIA  76001000   \n",
       "33788  COLOMBIA           ESTUDIANTE           NaN  SECUNDARIA  76001000   \n",
       "33789  COLOMBIA           ESTUDIANTE           NaN  SECUNDARIA  76001000   \n",
       "\n",
       "       Cantidad  \n",
       "0             1  \n",
       "1             1  \n",
       "2             1  \n",
       "3             1  \n",
       "4             1  \n",
       "...         ...  \n",
       "33785         1  \n",
       "33786         1  \n",
       "33787         1  \n",
       "33788         1  \n",
       "33789         1  \n",
       "\n",
       "[33790 rows x 21 columns]"
      ]
     },
     "execution_count": 50,
     "metadata": {},
     "output_type": "execute_result"
    }
   ],
   "source": [
    "df = pd.read_csv('Delitos_Sexuales_2019.csv', delimiter=';', encoding='unicode_escape')\n",
    "df"
   ]
  },
  {
   "cell_type": "code",
   "execution_count": 52,
   "metadata": {},
   "outputs": [
    {
     "data": {
      "text/plain": [
       "Index(['date', 'depto', 'muni', 'delito', 'dia', 'hora', 'barrio', 'zona',\n",
       "       'sitio', 'arma', 'agresor', 'victima', 'Edad', 'sex', 'Ecivil', 'pais',\n",
       "       'ocupacion', 'profesion', 'educ', 'DANE', 'Cantidad'],\n",
       "      dtype='object')"
      ]
     },
     "execution_count": 52,
     "metadata": {},
     "output_type": "execute_result"
    }
   ],
   "source": [
    "df.columns"
   ]
  },
  {
   "cell_type": "markdown",
   "metadata": {},
   "source": [
    "## ¿Cuál es el porcentaje de denuncias de mujeres en Girardot?"
   ]
  },
  {
   "cell_type": "code",
   "execution_count": 73,
   "metadata": {},
   "outputs": [
    {
     "data": {
      "text/plain": [
       "sex\n",
       "FEMENINO     78.082192\n",
       "MASCULINO    21.917808\n",
       "Name: proportion, dtype: float64"
      ]
     },
     "execution_count": 73,
     "metadata": {},
     "output_type": "execute_result"
    }
   ],
   "source": [
    "df[(df['muni'] == 'GIRARDOT')]['sex'].value_counts(normalize=True) * 100"
   ]
  },
  {
   "cell_type": "markdown",
   "metadata": {},
   "source": [
    "## ¿Cuántas denuncias se hicieron donde la víctima era una persona extranjera?\n"
   ]
  },
  {
   "cell_type": "code",
   "execution_count": 80,
   "metadata": {},
   "outputs": [
    {
     "data": {
      "text/plain": [
       "14578"
      ]
     },
     "execution_count": 80,
     "metadata": {},
     "output_type": "execute_result"
    }
   ],
   "source": [
    "df[(df['pais'] != 'COLOMBIA')].shape[0]"
   ]
  },
  {
   "cell_type": "markdown",
   "metadata": {},
   "source": [
    "## ¿Cuántas denuncias se presentaron en los municipios de Girardot y Villeta?"
   ]
  },
  {
   "cell_type": "code",
   "execution_count": 84,
   "metadata": {},
   "outputs": [
    {
     "data": {
      "text/plain": [
       "101"
      ]
     },
     "execution_count": 84,
     "metadata": {},
     "output_type": "execute_result"
    }
   ],
   "source": [
    "df[(df['muni'] == 'GIRARDOT') | (df['muni'] == 'VILLETA')].shape[0]"
   ]
  },
  {
   "cell_type": "markdown",
   "metadata": {},
   "source": [
    "## ¿Cuál fue el día de la semana donde se presentaron el mayor número de denuncias?"
   ]
  },
  {
   "cell_type": "code",
   "execution_count": 86,
   "metadata": {},
   "outputs": [
    {
     "data": {
      "text/plain": [
       "Index(['date', 'depto', 'muni', 'delito', 'dia', 'hora', 'barrio', 'zona',\n",
       "       'sitio', 'arma', 'agresor', 'victima', 'Edad', 'sex', 'Ecivil', 'pais',\n",
       "       'ocupacion', 'profesion', 'educ', 'DANE', 'Cantidad'],\n",
       "      dtype='object')"
      ]
     },
     "execution_count": 86,
     "metadata": {},
     "output_type": "execute_result"
    }
   ],
   "source": [
    "df.columns"
   ]
  },
  {
   "cell_type": "code",
   "execution_count": 88,
   "metadata": {},
   "outputs": [
    {
     "data": {
      "text/plain": [
       "dia\n",
       "Martes       5438\n",
       "Lunes        5216\n",
       "MiErcoles    5192\n",
       "Viernes      5174\n",
       "Jueves       5056\n",
       "Domingo      3941\n",
       "SAbado       3773\n",
       "Name: count, dtype: int64"
      ]
     },
     "execution_count": 88,
     "metadata": {},
     "output_type": "execute_result"
    }
   ],
   "source": [
    "df['dia'].value_counts()"
   ]
  },
  {
   "cell_type": "markdown",
   "metadata": {},
   "source": [
    "## ¿Cuál es el porcentaje de denuncias en donde se reportó el uso de algún tipo de arma?"
   ]
  },
  {
   "cell_type": "code",
   "execution_count": 89,
   "metadata": {},
   "outputs": [
    {
     "data": {
      "text/plain": [
       "Index(['date', 'depto', 'muni', 'delito', 'dia', 'hora', 'barrio', 'zona',\n",
       "       'sitio', 'arma', 'agresor', 'victima', 'Edad', 'sex', 'Ecivil', 'pais',\n",
       "       'ocupacion', 'profesion', 'educ', 'DANE', 'Cantidad'],\n",
       "      dtype='object')"
      ]
     },
     "execution_count": 89,
     "metadata": {},
     "output_type": "execute_result"
    }
   ],
   "source": [
    "df.columns"
   ]
  },
  {
   "cell_type": "code",
   "execution_count": 99,
   "metadata": {},
   "outputs": [
    {
     "data": {
      "text/plain": [
       "24.71218443872266"
      ]
     },
     "execution_count": 99,
     "metadata": {},
     "output_type": "execute_result"
    }
   ],
   "source": [
    "a = (df['arma'].value_counts(normalize=True) * 100).to_numpy()\n",
    "sum(a[2::])"
   ]
  },
  {
   "cell_type": "markdown",
   "metadata": {},
   "source": [
    "## De la totalidad de denuncias, ¿cuál es el porcentaje aprox. de las que corresponden a hombres?"
   ]
  },
  {
   "cell_type": "code",
   "execution_count": 101,
   "metadata": {},
   "outputs": [
    {
     "data": {
      "text/plain": [
       "sex\n",
       "FEMENINO     86.036784\n",
       "MASCULINO    13.963216\n",
       "Name: proportion, dtype: float64"
      ]
     },
     "execution_count": 101,
     "metadata": {},
     "output_type": "execute_result"
    }
   ],
   "source": [
    "df['sex'].value_counts(normalize=True)*100"
   ]
  },
  {
   "cell_type": "markdown",
   "metadata": {},
   "source": [
    "## ¿Cuál es el porcentaje aprox. de víctimas de 13 años o menos?"
   ]
  },
  {
   "cell_type": "code",
   "execution_count": 103,
   "metadata": {},
   "outputs": [
    {
     "data": {
      "text/plain": [
       "Index(['date', 'depto', 'muni', 'delito', 'dia', 'hora', 'barrio', 'zona',\n",
       "       'sitio', 'arma', 'agresor', 'victima', 'Edad', 'sex', 'Ecivil', 'pais',\n",
       "       'ocupacion', 'profesion', 'educ', 'DANE', 'Cantidad'],\n",
       "      dtype='object')"
      ]
     },
     "execution_count": 103,
     "metadata": {},
     "output_type": "execute_result"
    }
   ],
   "source": [
    "df.columns"
   ]
  },
  {
   "cell_type": "code",
   "execution_count": 122,
   "metadata": {},
   "outputs": [
    {
     "data": {
      "text/plain": [
       "53.31163065995857"
      ]
     },
     "execution_count": 122,
     "metadata": {},
     "output_type": "execute_result"
    }
   ],
   "source": [
    "(df[(df['Edad'] <= 13)]['Edad'].shape[0] / df['Edad'].shape[0]) * 100"
   ]
  },
  {
   "cell_type": "markdown",
   "metadata": {},
   "source": [
    "## Diferenciado los casos de Bogotá y Cundinamarca y con respecto al delito de PORNOGRAFÍA CON MENORES, es FALSO que:"
   ]
  },
  {
   "cell_type": "code",
   "execution_count": 123,
   "metadata": {},
   "outputs": [
    {
     "data": {
      "text/plain": [
       "Index(['date', 'depto', 'muni', 'delito', 'dia', 'hora', 'barrio', 'zona',\n",
       "       'sitio', 'arma', 'agresor', 'victima', 'Edad', 'sex', 'Ecivil', 'pais',\n",
       "       'ocupacion', 'profesion', 'educ', 'DANE', 'Cantidad'],\n",
       "      dtype='object')"
      ]
     },
     "execution_count": 123,
     "metadata": {},
     "output_type": "execute_result"
    }
   ],
   "source": [
    "df.columns"
   ]
  },
  {
   "cell_type": "code",
   "execution_count": 130,
   "metadata": {},
   "outputs": [
    {
     "data": {
      "text/plain": [
       "depto\n",
       "CUNDINAMARCA          7370\n",
       "ANTIOQUIA             4504\n",
       "VALLE                 3268\n",
       "ATLANTICO             1861\n",
       "SANTANDER             1616\n",
       "TOLIMA                1383\n",
       "BOLIVAR               1253\n",
       "HUILA                 1102\n",
       "NARI¥O                 942\n",
       "META                   941\n",
       "CALDAS                 902\n",
       "CAUCA                  901\n",
       "RISARALDA              891\n",
       "BOYACA                 871\n",
       "CORDOBA                843\n",
       "MAGDALENA              734\n",
       "CESAR                  708\n",
       "NORTE DE SANTANDER     707\n",
       "SUCRE                  470\n",
       "CAQUETA                340\n",
       "QUINDIO                335\n",
       "PUTUMAYO               323\n",
       "CASANARE               296\n",
       "ARAUCA                 282\n",
       "GUAJIRA                259\n",
       "CHOCO                  216\n",
       "GUAVIARE               128\n",
       "AMAZONAS               126\n",
       "SAN ANDRES              80\n",
       "GUAINIA                 59\n",
       "VICHADA                 46\n",
       "VAUPES                  33\n",
       "Name: count, dtype: int64"
      ]
     },
     "execution_count": 130,
     "metadata": {},
     "output_type": "execute_result"
    }
   ],
   "source": [
    "df['depto'].value_counts()"
   ]
  },
  {
   "cell_type": "markdown",
   "metadata": {},
   "source": [
    "### Cundinamarca tiene 406 casos (Falso)"
   ]
  },
  {
   "cell_type": "code",
   "execution_count": 146,
   "metadata": {},
   "outputs": [
    {
     "data": {
      "text/plain": [
       "62"
      ]
     },
     "execution_count": 146,
     "metadata": {},
     "output_type": "execute_result"
    }
   ],
   "source": [
    "df[(df['depto'] == 'CUNDINAMARCA') & (df['delito'] == 'ARTICULO 218. PORNOGRAFIA CON MENORES') & (df['muni'] != 'BOGOTA')].shape[0]"
   ]
  },
  {
   "cell_type": "markdown",
   "metadata": {},
   "source": [
    "### Valle tiene 68 casos (Verdadero)"
   ]
  },
  {
   "cell_type": "code",
   "execution_count": 140,
   "metadata": {},
   "outputs": [
    {
     "data": {
      "text/plain": [
       "68"
      ]
     },
     "execution_count": 140,
     "metadata": {},
     "output_type": "execute_result"
    }
   ],
   "source": [
    "df[(df['depto'] == 'VALLE') & (df['delito'] == 'ARTICULO 218. PORNOGRAFIA CON MENORES')].shape[0]"
   ]
  },
  {
   "cell_type": "markdown",
   "metadata": {},
   "source": [
    "### Antioquia tiene 142 casos (Verdadero)"
   ]
  },
  {
   "cell_type": "code",
   "execution_count": 141,
   "metadata": {},
   "outputs": [
    {
     "data": {
      "text/plain": [
       "142"
      ]
     },
     "execution_count": 141,
     "metadata": {},
     "output_type": "execute_result"
    }
   ],
   "source": [
    "df[(df['depto'] == 'ANTIOQUIA') & (df['delito'] == 'ARTICULO 218. PORNOGRAFIA CON MENORES')].shape[0]"
   ]
  },
  {
   "cell_type": "markdown",
   "metadata": {},
   "source": [
    "### Bogotá tiene 344 casos (Verdadero)"
   ]
  },
  {
   "cell_type": "code",
   "execution_count": 142,
   "metadata": {},
   "outputs": [
    {
     "data": {
      "text/plain": [
       "344"
      ]
     },
     "execution_count": 142,
     "metadata": {},
     "output_type": "execute_result"
    }
   ],
   "source": [
    "df[(df['muni'] == 'BOGOTA') & (df['delito'] == 'ARTICULO 218. PORNOGRAFIA CON MENORES')].shape[0]"
   ]
  },
  {
   "cell_type": "markdown",
   "metadata": {},
   "source": [
    "## ¿Cuál es el porcentaje de denuncias que se hicieron en zonas rurales?"
   ]
  },
  {
   "cell_type": "code",
   "execution_count": 147,
   "metadata": {},
   "outputs": [
    {
     "data": {
      "text/plain": [
       "Index(['date', 'depto', 'muni', 'delito', 'dia', 'hora', 'barrio', 'zona',\n",
       "       'sitio', 'arma', 'agresor', 'victima', 'Edad', 'sex', 'Ecivil', 'pais',\n",
       "       'ocupacion', 'profesion', 'educ', 'DANE', 'Cantidad'],\n",
       "      dtype='object')"
      ]
     },
     "execution_count": 147,
     "metadata": {},
     "output_type": "execute_result"
    }
   ],
   "source": [
    "df.columns"
   ]
  },
  {
   "cell_type": "code",
   "execution_count": 150,
   "metadata": {},
   "outputs": [
    {
     "data": {
      "text/plain": [
       "zona\n",
       "URBANA    91.106836\n",
       "RURAL      8.890204\n",
       "OTRAS      0.002959\n",
       "Name: proportion, dtype: float64"
      ]
     },
     "execution_count": 150,
     "metadata": {},
     "output_type": "execute_result"
    }
   ],
   "source": [
    "df['zona'].value_counts(normalize=True)*100"
   ]
  },
  {
   "cell_type": "markdown",
   "metadata": {},
   "source": [
    "### ¿Cuántas denuncias se presentaron en Cundinamarca? (no incluir a Bogotá)"
   ]
  },
  {
   "cell_type": "code",
   "execution_count": 151,
   "metadata": {},
   "outputs": [
    {
     "data": {
      "text/plain": [
       "1951"
      ]
     },
     "execution_count": 151,
     "metadata": {},
     "output_type": "execute_result"
    }
   ],
   "source": [
    "df[(df['depto'] == 'CUNDINAMARCA') & (df['muni'] != 'BOGOTA')].shape[0]"
   ]
  }
 ],
 "metadata": {
  "kernelspec": {
   "display_name": "base",
   "language": "python",
   "name": "python3"
  },
  "language_info": {
   "codemirror_mode": {
    "name": "ipython",
    "version": 3
   },
   "file_extension": ".py",
   "mimetype": "text/x-python",
   "name": "python",
   "nbconvert_exporter": "python",
   "pygments_lexer": "ipython3",
   "version": "3.11.7"
  }
 },
 "nbformat": 4,
 "nbformat_minor": 2
}
