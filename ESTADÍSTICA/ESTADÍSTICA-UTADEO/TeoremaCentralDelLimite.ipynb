{
 "cells": [
  {
   "cell_type": "markdown",
   "metadata": {},
   "source": [
    "# Teorema central del límite\n",
    "\n",
    "No importa si se tiene una variable que no sea normal, si se toman muestras grandes y se calcula el promedio, repitiendo ese promedio, entonces la distribución de los promedios sí es normal.\n",
    "\n",
    "Sean $X_1, X_2, \\cdots, X_n$ observaciones de una variable aleatoria no necesariamente normal con media $\\mu$ y varianza $\\sigma^2$. Entonces, si $n$ es lo suficientemente grande, $\\bar{X}$ es aproximadamente normal con media $\\mu$ y varianza $\\sigma^2/n$. Como consecuencial, la variables $\\frac{\\bar{X} - \\mu}{\\sigma/\\sqrt{n}}$"
   ]
  },
  {
   "cell_type": "markdown",
   "metadata": {},
   "source": []
  }
 ],
 "metadata": {
  "language_info": {
   "name": "python"
  }
 },
 "nbformat": 4,
 "nbformat_minor": 2
}
