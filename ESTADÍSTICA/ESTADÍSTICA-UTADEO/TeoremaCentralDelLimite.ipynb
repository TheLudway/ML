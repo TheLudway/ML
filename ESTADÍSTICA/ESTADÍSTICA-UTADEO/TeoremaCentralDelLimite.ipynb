{
 "cells": [
  {
   "cell_type": "markdown",
   "metadata": {},
   "source": [
    "# Teorema central del límite\n",
    "\n",
    "No importa si se tiene una variable que no sea normal, si se toman muestras grandes y se calcula el promedio, repitiendo ese promedio, entonces la distribución de los promedios sí es normal."
   ]
  },
  {
   "cell_type": "markdown",
   "metadata": {},
   "source": []
  }
 ],
 "metadata": {
  "language_info": {
   "name": "python"
  }
 },
 "nbformat": 4,
 "nbformat_minor": 2
}
