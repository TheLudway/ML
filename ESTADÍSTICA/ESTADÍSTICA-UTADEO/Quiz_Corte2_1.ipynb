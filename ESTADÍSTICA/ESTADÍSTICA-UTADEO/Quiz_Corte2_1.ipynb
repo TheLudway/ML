{
 "cells": [
  {
   "cell_type": "markdown",
   "metadata": {},
   "source": [
    "# Quiz"
   ]
  },
  {
   "cell_type": "code",
   "execution_count": 2,
   "metadata": {},
   "outputs": [],
   "source": [
    "import pandas as pd"
   ]
  },
  {
   "cell_type": "code",
   "execution_count": 3,
   "metadata": {},
   "outputs": [
    {
     "data": {
      "text/html": [
       "<div>\n",
       "<style scoped>\n",
       "    .dataframe tbody tr th:only-of-type {\n",
       "        vertical-align: middle;\n",
       "    }\n",
       "\n",
       "    .dataframe tbody tr th {\n",
       "        vertical-align: top;\n",
       "    }\n",
       "\n",
       "    .dataframe thead th {\n",
       "        text-align: right;\n",
       "    }\n",
       "</style>\n",
       "<table border=\"1\" class=\"dataframe\">\n",
       "  <thead>\n",
       "    <tr style=\"text-align: right;\">\n",
       "      <th></th>\n",
       "      <th>DIRECTORIO</th>\n",
       "      <th>TIP_FOR</th>\n",
       "      <th>P1</th>\n",
       "      <th>P1S1</th>\n",
       "      <th>P2</th>\n",
       "      <th>P2S1</th>\n",
       "      <th>P5</th>\n",
       "      <th>CTL_1</th>\n",
       "      <th>P8R</th>\n",
       "      <th>P9</th>\n",
       "      <th>...</th>\n",
       "      <th>P35</th>\n",
       "      <th>P36R</th>\n",
       "      <th>P37S1</th>\n",
       "      <th>P37S2</th>\n",
       "      <th>P37S3</th>\n",
       "      <th>P37S4</th>\n",
       "      <th>P37S5</th>\n",
       "      <th>P37S6</th>\n",
       "      <th>P37S7</th>\n",
       "      <th>COMPLETA</th>\n",
       "    </tr>\n",
       "  </thead>\n",
       "  <tbody>\n",
       "    <tr>\n",
       "      <th>0</th>\n",
       "      <td>1.0</td>\n",
       "      <td>2.0</td>\n",
       "      <td>85.0</td>\n",
       "      <td>85001.0</td>\n",
       "      <td>1.0</td>\n",
       "      <td>5.0</td>\n",
       "      <td>2.0</td>\n",
       "      <td>1.0</td>\n",
       "      <td>44.0</td>\n",
       "      <td>1.0</td>\n",
       "      <td>...</td>\n",
       "      <td>NaN</td>\n",
       "      <td>NaN</td>\n",
       "      <td>NaN</td>\n",
       "      <td>NaN</td>\n",
       "      <td>NaN</td>\n",
       "      <td>NaN</td>\n",
       "      <td>NaN</td>\n",
       "      <td>NaN</td>\n",
       "      <td>NaN</td>\n",
       "      <td>1.0</td>\n",
       "    </tr>\n",
       "    <tr>\n",
       "      <th>1</th>\n",
       "      <td>2.0</td>\n",
       "      <td>2.0</td>\n",
       "      <td>85.0</td>\n",
       "      <td>85001.0</td>\n",
       "      <td>1.0</td>\n",
       "      <td>5.0</td>\n",
       "      <td>2.0</td>\n",
       "      <td>1.0</td>\n",
       "      <td>33.0</td>\n",
       "      <td>1.0</td>\n",
       "      <td>...</td>\n",
       "      <td>NaN</td>\n",
       "      <td>NaN</td>\n",
       "      <td>NaN</td>\n",
       "      <td>NaN</td>\n",
       "      <td>NaN</td>\n",
       "      <td>NaN</td>\n",
       "      <td>NaN</td>\n",
       "      <td>NaN</td>\n",
       "      <td>NaN</td>\n",
       "      <td>1.0</td>\n",
       "    </tr>\n",
       "    <tr>\n",
       "      <th>2</th>\n",
       "      <td>3.0</td>\n",
       "      <td>2.0</td>\n",
       "      <td>85.0</td>\n",
       "      <td>85001.0</td>\n",
       "      <td>1.0</td>\n",
       "      <td>5.0</td>\n",
       "      <td>2.0</td>\n",
       "      <td>1.0</td>\n",
       "      <td>41.0</td>\n",
       "      <td>1.0</td>\n",
       "      <td>...</td>\n",
       "      <td>NaN</td>\n",
       "      <td>NaN</td>\n",
       "      <td>NaN</td>\n",
       "      <td>NaN</td>\n",
       "      <td>NaN</td>\n",
       "      <td>NaN</td>\n",
       "      <td>NaN</td>\n",
       "      <td>NaN</td>\n",
       "      <td>NaN</td>\n",
       "      <td>1.0</td>\n",
       "    </tr>\n",
       "    <tr>\n",
       "      <th>3</th>\n",
       "      <td>4.0</td>\n",
       "      <td>2.0</td>\n",
       "      <td>85.0</td>\n",
       "      <td>85001.0</td>\n",
       "      <td>1.0</td>\n",
       "      <td>5.0</td>\n",
       "      <td>2.0</td>\n",
       "      <td>1.0</td>\n",
       "      <td>29.0</td>\n",
       "      <td>1.0</td>\n",
       "      <td>...</td>\n",
       "      <td>NaN</td>\n",
       "      <td>NaN</td>\n",
       "      <td>NaN</td>\n",
       "      <td>NaN</td>\n",
       "      <td>NaN</td>\n",
       "      <td>NaN</td>\n",
       "      <td>NaN</td>\n",
       "      <td>NaN</td>\n",
       "      <td>NaN</td>\n",
       "      <td>1.0</td>\n",
       "    </tr>\n",
       "    <tr>\n",
       "      <th>4</th>\n",
       "      <td>5.0</td>\n",
       "      <td>2.0</td>\n",
       "      <td>85.0</td>\n",
       "      <td>85001.0</td>\n",
       "      <td>1.0</td>\n",
       "      <td>5.0</td>\n",
       "      <td>2.0</td>\n",
       "      <td>1.0</td>\n",
       "      <td>30.0</td>\n",
       "      <td>1.0</td>\n",
       "      <td>...</td>\n",
       "      <td>NaN</td>\n",
       "      <td>NaN</td>\n",
       "      <td>NaN</td>\n",
       "      <td>NaN</td>\n",
       "      <td>NaN</td>\n",
       "      <td>NaN</td>\n",
       "      <td>NaN</td>\n",
       "      <td>NaN</td>\n",
       "      <td>NaN</td>\n",
       "      <td>1.0</td>\n",
       "    </tr>\n",
       "    <tr>\n",
       "      <th>...</th>\n",
       "      <td>...</td>\n",
       "      <td>...</td>\n",
       "      <td>...</td>\n",
       "      <td>...</td>\n",
       "      <td>...</td>\n",
       "      <td>...</td>\n",
       "      <td>...</td>\n",
       "      <td>...</td>\n",
       "      <td>...</td>\n",
       "      <td>...</td>\n",
       "      <td>...</td>\n",
       "      <td>...</td>\n",
       "      <td>...</td>\n",
       "      <td>...</td>\n",
       "      <td>...</td>\n",
       "      <td>...</td>\n",
       "      <td>...</td>\n",
       "      <td>...</td>\n",
       "      <td>...</td>\n",
       "      <td>...</td>\n",
       "      <td>...</td>\n",
       "    </tr>\n",
       "    <tr>\n",
       "      <th>6245</th>\n",
       "      <td>7645.0</td>\n",
       "      <td>2.0</td>\n",
       "      <td>76.0</td>\n",
       "      <td>76109.0</td>\n",
       "      <td>1.0</td>\n",
       "      <td>1.0</td>\n",
       "      <td>1.0</td>\n",
       "      <td>1.0</td>\n",
       "      <td>53.0</td>\n",
       "      <td>1.0</td>\n",
       "      <td>...</td>\n",
       "      <td>NaN</td>\n",
       "      <td>NaN</td>\n",
       "      <td>NaN</td>\n",
       "      <td>NaN</td>\n",
       "      <td>NaN</td>\n",
       "      <td>NaN</td>\n",
       "      <td>NaN</td>\n",
       "      <td>NaN</td>\n",
       "      <td>NaN</td>\n",
       "      <td>1.0</td>\n",
       "    </tr>\n",
       "    <tr>\n",
       "      <th>6246</th>\n",
       "      <td>7646.0</td>\n",
       "      <td>2.0</td>\n",
       "      <td>20.0</td>\n",
       "      <td>20001.0</td>\n",
       "      <td>1.0</td>\n",
       "      <td>1.0</td>\n",
       "      <td>1.0</td>\n",
       "      <td>1.0</td>\n",
       "      <td>57.0</td>\n",
       "      <td>2.0</td>\n",
       "      <td>...</td>\n",
       "      <td>NaN</td>\n",
       "      <td>NaN</td>\n",
       "      <td>NaN</td>\n",
       "      <td>NaN</td>\n",
       "      <td>NaN</td>\n",
       "      <td>NaN</td>\n",
       "      <td>NaN</td>\n",
       "      <td>NaN</td>\n",
       "      <td>NaN</td>\n",
       "      <td>1.0</td>\n",
       "    </tr>\n",
       "    <tr>\n",
       "      <th>6247</th>\n",
       "      <td>7647.0</td>\n",
       "      <td>2.0</td>\n",
       "      <td>76.0</td>\n",
       "      <td>76109.0</td>\n",
       "      <td>1.0</td>\n",
       "      <td>1.0</td>\n",
       "      <td>1.0</td>\n",
       "      <td>1.0</td>\n",
       "      <td>51.0</td>\n",
       "      <td>1.0</td>\n",
       "      <td>...</td>\n",
       "      <td>NaN</td>\n",
       "      <td>NaN</td>\n",
       "      <td>NaN</td>\n",
       "      <td>NaN</td>\n",
       "      <td>NaN</td>\n",
       "      <td>NaN</td>\n",
       "      <td>NaN</td>\n",
       "      <td>NaN</td>\n",
       "      <td>NaN</td>\n",
       "      <td>1.0</td>\n",
       "    </tr>\n",
       "    <tr>\n",
       "      <th>6248</th>\n",
       "      <td>NaN</td>\n",
       "      <td>NaN</td>\n",
       "      <td>NaN</td>\n",
       "      <td>NaN</td>\n",
       "      <td>NaN</td>\n",
       "      <td>NaN</td>\n",
       "      <td>NaN</td>\n",
       "      <td>NaN</td>\n",
       "      <td>NaN</td>\n",
       "      <td>NaN</td>\n",
       "      <td>...</td>\n",
       "      <td>NaN</td>\n",
       "      <td>NaN</td>\n",
       "      <td>NaN</td>\n",
       "      <td>NaN</td>\n",
       "      <td>NaN</td>\n",
       "      <td>NaN</td>\n",
       "      <td>NaN</td>\n",
       "      <td>NaN</td>\n",
       "      <td>NaN</td>\n",
       "      <td>NaN</td>\n",
       "    </tr>\n",
       "    <tr>\n",
       "      <th>6249</th>\n",
       "      <td>NaN</td>\n",
       "      <td>NaN</td>\n",
       "      <td>NaN</td>\n",
       "      <td>NaN</td>\n",
       "      <td>NaN</td>\n",
       "      <td>NaN</td>\n",
       "      <td>NaN</td>\n",
       "      <td>NaN</td>\n",
       "      <td>NaN</td>\n",
       "      <td>NaN</td>\n",
       "      <td>...</td>\n",
       "      <td>NaN</td>\n",
       "      <td>NaN</td>\n",
       "      <td>NaN</td>\n",
       "      <td>NaN</td>\n",
       "      <td>NaN</td>\n",
       "      <td>NaN</td>\n",
       "      <td>NaN</td>\n",
       "      <td>NaN</td>\n",
       "      <td>NaN</td>\n",
       "      <td>NaN</td>\n",
       "    </tr>\n",
       "  </tbody>\n",
       "</table>\n",
       "<p>6250 rows × 130 columns</p>\n",
       "</div>"
      ],
      "text/plain": [
       "      DIRECTORIO  TIP_FOR    P1     P1S1   P2  P2S1   P5  CTL_1   P8R   P9  \\\n",
       "0            1.0      2.0  85.0  85001.0  1.0   5.0  2.0    1.0  44.0  1.0   \n",
       "1            2.0      2.0  85.0  85001.0  1.0   5.0  2.0    1.0  33.0  1.0   \n",
       "2            3.0      2.0  85.0  85001.0  1.0   5.0  2.0    1.0  41.0  1.0   \n",
       "3            4.0      2.0  85.0  85001.0  1.0   5.0  2.0    1.0  29.0  1.0   \n",
       "4            5.0      2.0  85.0  85001.0  1.0   5.0  2.0    1.0  30.0  1.0   \n",
       "...          ...      ...   ...      ...  ...   ...  ...    ...   ...  ...   \n",
       "6245      7645.0      2.0  76.0  76109.0  1.0   1.0  1.0    1.0  53.0  1.0   \n",
       "6246      7646.0      2.0  20.0  20001.0  1.0   1.0  1.0    1.0  57.0  2.0   \n",
       "6247      7647.0      2.0  76.0  76109.0  1.0   1.0  1.0    1.0  51.0  1.0   \n",
       "6248         NaN      NaN   NaN      NaN  NaN   NaN  NaN    NaN   NaN  NaN   \n",
       "6249         NaN      NaN   NaN      NaN  NaN   NaN  NaN    NaN   NaN  NaN   \n",
       "\n",
       "      ...  P35  P36R  P37S1  P37S2  P37S3  P37S4  P37S5  P37S6  P37S7  \\\n",
       "0     ...  NaN   NaN    NaN    NaN    NaN    NaN    NaN    NaN    NaN   \n",
       "1     ...  NaN   NaN    NaN    NaN    NaN    NaN    NaN    NaN    NaN   \n",
       "2     ...  NaN   NaN    NaN    NaN    NaN    NaN    NaN    NaN    NaN   \n",
       "3     ...  NaN   NaN    NaN    NaN    NaN    NaN    NaN    NaN    NaN   \n",
       "4     ...  NaN   NaN    NaN    NaN    NaN    NaN    NaN    NaN    NaN   \n",
       "...   ...  ...   ...    ...    ...    ...    ...    ...    ...    ...   \n",
       "6245  ...  NaN   NaN    NaN    NaN    NaN    NaN    NaN    NaN    NaN   \n",
       "6246  ...  NaN   NaN    NaN    NaN    NaN    NaN    NaN    NaN    NaN   \n",
       "6247  ...  NaN   NaN    NaN    NaN    NaN    NaN    NaN    NaN    NaN   \n",
       "6248  ...  NaN   NaN    NaN    NaN    NaN    NaN    NaN    NaN    NaN   \n",
       "6249  ...  NaN   NaN    NaN    NaN    NaN    NaN    NaN    NaN    NaN   \n",
       "\n",
       "      COMPLETA  \n",
       "0          1.0  \n",
       "1          1.0  \n",
       "2          1.0  \n",
       "3          1.0  \n",
       "4          1.0  \n",
       "...        ...  \n",
       "6245       1.0  \n",
       "6246       1.0  \n",
       "6247       1.0  \n",
       "6248       NaN  \n",
       "6249       NaN  \n",
       "\n",
       "[6250 rows x 130 columns]"
      ]
     },
     "execution_count": 3,
     "metadata": {},
     "output_type": "execute_result"
    }
   ],
   "source": [
    "df=pd.read_csv('CHC_base_anonimizada09-09-2021.csv', delimiter=',', encoding = 'unicode_escape' )\n",
    "df"
   ]
  },
  {
   "cell_type": "markdown",
   "metadata": {},
   "source": [
    "## Punto 1: Con respecto a la figura que muestra la distribución de las edades y sexos de los habitantes de calle es falso que:\n",
    "\n",
    "\n",
    "![Texto](P1_1.png)\n",
    "\n",
    "\n",
    "1. <span style=\"color:green\"> Verdadero.</span> Aunque hay menos mujeres habitantes de calle, la distribución de sus edades es muy parecida.\n",
    "2. <span style=\"color:green\"> Verdadero. </span>  La figura es un diagrama de barras.\n",
    "3. <span style=\"color:red\"> Falso. </span> En la figura, el ancho de cada clase es de 10 años.\n",
    "4. <span style=\"color:green\"> Verdadero. </span> El rango de las edades de los habitantes de calle es de 60 años.\n",
    "5. <span style=\"color:green\"> Verdadero. </span> La menor frecuencia de habitantes de calle, tanto en hombre como en mujeres está entre los 65 y 75 años.\n",
    "\n",
    "\n",
    "**En el intervalo de 40 a 50, se muestra que la barra tiene un ancho menor a 10 años, por lo tanto esta es la opción falsa.**"
   ]
  },
  {
   "cell_type": "markdown",
   "metadata": {},
   "source": [
    "## Punto 2: Con respecto a los habitantes de calle que actualmente fuman cigarrillos es falso que\n",
    "\n",
    "1. Aprox. el 53% de los habitantes de calle consumen actualmente cigarrillo\n",
    "2. Hay mayor proporción de hombres habitantes de calle que actualmente fuman que de mujeres habitantes de calle que actualmente no lo hacen.\n",
    "3. Hay mayor variabilidad en las edades de quienes si consumen cigarrillo en la actualidad que entre quienes no\n",
    "4. En promedio, las edades de quienes si fuman cigarrillo se desvian aprox 13.5 años con respecto a su media que es aprox. 38.4 años.\n",
    "5. La mitad de las mujeres habitantes de calle que si fuman tienen 34 años o menos \n"
   ]
  },
  {
   "cell_type": "markdown",
   "metadata": {},
   "source": [
    "### 3) Hay mayor variabilidad en las edades de quienes si consumen cigarrillo en la actualidad que entre quienes no\n",
    "\n",
    "**<span style=\"color:red;\">Falso.</span> La variabilidad de los que sí consumen está dada por $13.54 $ y los que no consumen es $16.42$, es decir, es menor para los que sí consumen.**\n"
   ]
  },
  {
   "cell_type": "code",
   "execution_count": 9,
   "metadata": {},
   "outputs": [
    {
     "data": {
      "text/html": [
       "<div>\n",
       "<style scoped>\n",
       "    .dataframe tbody tr th:only-of-type {\n",
       "        vertical-align: middle;\n",
       "    }\n",
       "\n",
       "    .dataframe tbody tr th {\n",
       "        vertical-align: top;\n",
       "    }\n",
       "\n",
       "    .dataframe thead th {\n",
       "        text-align: right;\n",
       "    }\n",
       "</style>\n",
       "<table border=\"1\" class=\"dataframe\">\n",
       "  <thead>\n",
       "    <tr style=\"text-align: right;\">\n",
       "      <th></th>\n",
       "      <th>std</th>\n",
       "    </tr>\n",
       "    <tr>\n",
       "      <th>P30S1</th>\n",
       "      <th></th>\n",
       "    </tr>\n",
       "  </thead>\n",
       "  <tbody>\n",
       "    <tr>\n",
       "      <th>1.0</th>\n",
       "      <td>13.545572</td>\n",
       "    </tr>\n",
       "    <tr>\n",
       "      <th>2.0</th>\n",
       "      <td>16.422417</td>\n",
       "    </tr>\n",
       "  </tbody>\n",
       "</table>\n",
       "</div>"
      ],
      "text/plain": [
       "             std\n",
       "P30S1           \n",
       "1.0    13.545572\n",
       "2.0    16.422417"
      ]
     },
     "execution_count": 9,
     "metadata": {},
     "output_type": "execute_result"
    }
   ],
   "source": [
    "df.groupby(['P30S1'])['P8R'].aggregate(['std'])\n"
   ]
  },
  {
   "cell_type": "markdown",
   "metadata": {},
   "source": [
    "## Punto 3: Con respecto a la edad y el consumo de marihuana entre habitantes de calle hombres y mujeres es falso que:\n",
    "\n",
    "1. Del total de habitantes de calle el 47.6% son hombre que fuman marihuana.\n",
    "2. Hay 217 mujeres que actualmente consumen marihuana.\n",
    "3. De los que fuman marihuana, aprox. el 91% son hombres.\n",
    "4. De los hombres, aprox. el 46.4% actualmente fuma marihuana.\n",
    "5. El promedio de edad de las mujeres que actualmente fuma marihuana es aprox. 33.8 años."
   ]
  },
  {
   "cell_type": "markdown",
   "metadata": {},
   "source": [
    "### 1) Del total de habitantes de calle el 47.6% son hombre que fuman marihuana.\n",
    "**<span style=\"color:red\"> Falso. </span> Según lo que se ve abajo, los habitantes de la calle hombres que fuman **"
   ]
  },
  {
   "cell_type": "code",
   "execution_count": 41,
   "metadata": {},
   "outputs": [
    {
     "data": {
      "text/html": [
       "<div>\n",
       "<style scoped>\n",
       "    .dataframe tbody tr th:only-of-type {\n",
       "        vertical-align: middle;\n",
       "    }\n",
       "\n",
       "    .dataframe tbody tr th {\n",
       "        vertical-align: top;\n",
       "    }\n",
       "\n",
       "    .dataframe thead th {\n",
       "        text-align: right;\n",
       "    }\n",
       "</style>\n",
       "<table border=\"1\" class=\"dataframe\">\n",
       "  <thead>\n",
       "    <tr style=\"text-align: right;\">\n",
       "      <th>P30S3</th>\n",
       "      <th>1.0</th>\n",
       "      <th>2.0</th>\n",
       "    </tr>\n",
       "    <tr>\n",
       "      <th>P9</th>\n",
       "      <th></th>\n",
       "      <th></th>\n",
       "    </tr>\n",
       "  </thead>\n",
       "  <tbody>\n",
       "    <tr>\n",
       "      <th>1.0</th>\n",
       "      <td>41.18</td>\n",
       "      <td>47.60</td>\n",
       "    </tr>\n",
       "    <tr>\n",
       "      <th>2.0</th>\n",
       "      <td>4.06</td>\n",
       "      <td>7.15</td>\n",
       "    </tr>\n",
       "  </tbody>\n",
       "</table>\n",
       "</div>"
      ],
      "text/plain": [
       "P30S3    1.0    2.0\n",
       "P9                 \n",
       "1.0    41.18  47.60\n",
       "2.0     4.06   7.15"
      ]
     },
     "execution_count": 41,
     "metadata": {},
     "output_type": "execute_result"
    }
   ],
   "source": [
    "pd.crosstab(df['P9'], df['P30S3'],normalize=True).round(4)*100"
   ]
  },
  {
   "cell_type": "code",
   "execution_count": 21,
   "metadata": {},
   "outputs": [
    {
     "data": {
      "text/html": [
       "<div>\n",
       "<style scoped>\n",
       "    .dataframe tbody tr th:only-of-type {\n",
       "        vertical-align: middle;\n",
       "    }\n",
       "\n",
       "    .dataframe tbody tr th {\n",
       "        vertical-align: top;\n",
       "    }\n",
       "\n",
       "    .dataframe thead th {\n",
       "        text-align: right;\n",
       "    }\n",
       "</style>\n",
       "<table border=\"1\" class=\"dataframe\">\n",
       "  <thead>\n",
       "    <tr style=\"text-align: right;\">\n",
       "      <th></th>\n",
       "      <th>count</th>\n",
       "    </tr>\n",
       "    <tr>\n",
       "      <th>P9</th>\n",
       "      <th></th>\n",
       "    </tr>\n",
       "  </thead>\n",
       "  <tbody>\n",
       "    <tr>\n",
       "      <th>1.0</th>\n",
       "      <td>4741</td>\n",
       "    </tr>\n",
       "    <tr>\n",
       "      <th>2.0</th>\n",
       "      <td>599</td>\n",
       "    </tr>\n",
       "  </tbody>\n",
       "</table>\n",
       "</div>"
      ],
      "text/plain": [
       "     count\n",
       "P9        \n",
       "1.0   4741\n",
       "2.0    599"
      ]
     },
     "execution_count": 21,
     "metadata": {},
     "output_type": "execute_result"
    }
   ],
   "source": [
    "df.groupby(['P9'])['P30S3'].aggregate(['count'])"
   ]
  },
  {
   "cell_type": "code",
   "execution_count": 49,
   "metadata": {},
   "outputs": [
    {
     "data": {
      "text/plain": [
       "33.79723502304147"
      ]
     },
     "execution_count": 49,
     "metadata": {},
     "output_type": "execute_result"
    }
   ],
   "source": [
    "df[(df['P9'] == 2) & (df['P30S3'] == 1)]['P8R'].mean()"
   ]
  },
  {
   "cell_type": "code",
   "execution_count": 70,
   "metadata": {},
   "outputs": [
    {
     "name": "stdout",
     "output_type": "stream",
     "text": [
      "39.0\n"
     ]
    },
    {
     "data": {
      "text/plain": [
       "18.0"
      ]
     },
     "execution_count": 70,
     "metadata": {},
     "output_type": "execute_result"
    }
   ],
   "source": [
    "print(df[(df['P9'] == 1)]['P8R'].median())\n",
    "\n",
    "df[(df['P9'] == 2)]['P8R'].quantile(0.05)"
   ]
  },
  {
   "cell_type": "code",
   "execution_count": 80,
   "metadata": {},
   "outputs": [
    {
     "name": "stdout",
     "output_type": "stream",
     "text": [
      "P22\n",
      "1.0     1636\n",
      "7.0     1206\n",
      "5.0      707\n",
      "2.0      373\n",
      "6.0      333\n",
      "11.0     214\n",
      "4.0      102\n",
      "10.0      93\n",
      "3.0       49\n",
      "9.0       27\n",
      "8.0        4\n",
      "Name: count, dtype: int64\n"
     ]
    },
    {
     "data": {
      "text/plain": [
       "P9\n",
       "1.0    93.103448\n",
       "2.0     6.896552\n",
       "Name: proportion, dtype: float64"
      ]
     },
     "execution_count": 80,
     "metadata": {},
     "output_type": "execute_result"
    }
   ],
   "source": [
    "print(df[(df['P9'] == 1)]['P22'].value_counts())\n",
    "\n",
    "df[(df['P22'] == 9)]['P9'].value_counts(normalize=True)*100"
   ]
  },
  {
   "cell_type": "code",
   "execution_count": 94,
   "metadata": {},
   "outputs": [
    {
     "data": {
      "text/html": [
       "<div>\n",
       "<style scoped>\n",
       "    .dataframe tbody tr th:only-of-type {\n",
       "        vertical-align: middle;\n",
       "    }\n",
       "\n",
       "    .dataframe tbody tr th {\n",
       "        vertical-align: top;\n",
       "    }\n",
       "\n",
       "    .dataframe thead th {\n",
       "        text-align: right;\n",
       "    }\n",
       "</style>\n",
       "<table border=\"1\" class=\"dataframe\">\n",
       "  <thead>\n",
       "    <tr style=\"text-align: right;\">\n",
       "      <th>Leer y escribir</th>\n",
       "      <th>1.0</th>\n",
       "      <th>2.0</th>\n",
       "    </tr>\n",
       "    <tr>\n",
       "      <th>Hombre o Mujer</th>\n",
       "      <th></th>\n",
       "      <th></th>\n",
       "    </tr>\n",
       "  </thead>\n",
       "  <tbody>\n",
       "    <tr>\n",
       "      <th>1.0</th>\n",
       "      <td>74.23</td>\n",
       "      <td>14.55</td>\n",
       "    </tr>\n",
       "    <tr>\n",
       "      <th>2.0</th>\n",
       "      <td>8.88</td>\n",
       "      <td>2.34</td>\n",
       "    </tr>\n",
       "  </tbody>\n",
       "</table>\n",
       "</div>"
      ],
      "text/plain": [
       "Leer y escribir    1.0    2.0\n",
       "Hombre o Mujer               \n",
       "1.0              74.23  14.55\n",
       "2.0               8.88   2.34"
      ]
     },
     "execution_count": 94,
     "metadata": {},
     "output_type": "execute_result"
    }
   ],
   "source": [
    "df[(df['P9'] == 2) & (df['P27'] == 1)]['P8R'].mean()    \n",
    "\n",
    "(pd.crosstab(df['P9'], df['P27'],normalize=True).round(4)*100).rename_axis(index='Hombre o Mujer', columns='Leer y escribir')"
   ]
  },
  {
   "cell_type": "code",
   "execution_count": 104,
   "metadata": {},
   "outputs": [
    {
     "data": {
      "text/plain": [
       "P9\n",
       "1.0    89.7\n",
       "2.0    10.3\n",
       "Name: proportion, dtype: float64"
      ]
     },
     "execution_count": 104,
     "metadata": {},
     "output_type": "execute_result"
    }
   ],
   "source": [
    "pd.crosstab(df['P9'], df['P33S3'], normalize=True).rename_axis(index='Hombre/Mujer', columns='Sí/No')\n",
    "\n",
    "df[(df['P33S3'] == 1)]['P9'].value_counts(normalize=True).round(3)*100"
   ]
  },
  {
   "cell_type": "code",
   "execution_count": 24,
   "metadata": {},
   "outputs": [
    {
     "name": "stdout",
     "output_type": "stream",
     "text": [
      "Hombres 0.5357519510651761\n",
      "Mujeres 0.5175292153589316\n"
     ]
    },
    {
     "data": {
      "text/html": [
       "<div>\n",
       "<style scoped>\n",
       "    .dataframe tbody tr th:only-of-type {\n",
       "        vertical-align: middle;\n",
       "    }\n",
       "\n",
       "    .dataframe tbody tr th {\n",
       "        vertical-align: top;\n",
       "    }\n",
       "\n",
       "    .dataframe thead th {\n",
       "        text-align: right;\n",
       "    }\n",
       "</style>\n",
       "<table border=\"1\" class=\"dataframe\">\n",
       "  <thead>\n",
       "    <tr style=\"text-align: right;\">\n",
       "      <th>P30S1</th>\n",
       "      <th>1.0</th>\n",
       "      <th>2.0</th>\n",
       "    </tr>\n",
       "    <tr>\n",
       "      <th>P9</th>\n",
       "      <th></th>\n",
       "      <th></th>\n",
       "    </tr>\n",
       "  </thead>\n",
       "  <tbody>\n",
       "    <tr>\n",
       "      <th>1.0</th>\n",
       "      <td>2540</td>\n",
       "      <td>2201</td>\n",
       "    </tr>\n",
       "    <tr>\n",
       "      <th>2.0</th>\n",
       "      <td>289</td>\n",
       "      <td>310</td>\n",
       "    </tr>\n",
       "  </tbody>\n",
       "</table>\n",
       "</div>"
      ],
      "text/plain": [
       "P30S1   1.0   2.0\n",
       "P9               \n",
       "1.0    2540  2201\n",
       "2.0     289   310"
      ]
     },
     "execution_count": 24,
     "metadata": {},
     "output_type": "execute_result"
    }
   ],
   "source": [
    "df[(df['P30S1'] == 1)]\n",
    "\n",
    "pregunta9 = pd.crosstab(df['P9'], df['P30S1']).to_numpy()\n",
    "print('Hombres', pregunta9[0,0] / (pregunta9[0, 1] + pregunta9[0,0]))\n",
    "print('Mujeres', pregunta9[1, 1] / (pregunta9[1, 1] + pregunta9[1,0]))\n",
    "pd.crosstab(df['P9'], df['P30S1'])"
   ]
  },
  {
   "cell_type": "code",
   "execution_count": 35,
   "metadata": {},
   "outputs": [
    {
     "data": {
      "text/plain": [
       "34.0"
      ]
     },
     "execution_count": 35,
     "metadata": {},
     "output_type": "execute_result"
    }
   ],
   "source": [
    "df.groupby(['P30S1'])['P8R'].aggregate(['std', 'median'])\n",
    "\n",
    "df[(df['P9'] == 2) & (df['P30S1'] == 1)]['P8R'].median()"
   ]
  },
  {
   "cell_type": "code",
   "execution_count": 44,
   "metadata": {},
   "outputs": [
    {
     "name": "stdout",
     "output_type": "stream",
     "text": [
      "Hombres 0.2986711664205864\n",
      "Mujeres 0.2704507512520868\n"
     ]
    },
    {
     "data": {
      "text/plain": [
       "array([[1416, 3325],\n",
       "       [ 162,  437]])"
      ]
     },
     "execution_count": 44,
     "metadata": {},
     "output_type": "execute_result"
    }
   ],
   "source": [
    "A = pd.crosstab(df['P9'], df['P33S3']).to_numpy()\n",
    "print('Hombres', A[0,0] / (A[0, 0] + A[0, 1]))\n",
    "print('Mujeres', A[1,0] / (A[1, 0] + A[1, 1]))\n",
    "A"
   ]
  },
  {
   "cell_type": "code",
   "execution_count": 47,
   "metadata": {},
   "outputs": [
    {
     "data": {
      "text/html": [
       "<div>\n",
       "<style scoped>\n",
       "    .dataframe tbody tr th:only-of-type {\n",
       "        vertical-align: middle;\n",
       "    }\n",
       "\n",
       "    .dataframe tbody tr th {\n",
       "        vertical-align: top;\n",
       "    }\n",
       "\n",
       "    .dataframe thead th {\n",
       "        text-align: right;\n",
       "    }\n",
       "</style>\n",
       "<table border=\"1\" class=\"dataframe\">\n",
       "  <thead>\n",
       "    <tr style=\"text-align: right;\">\n",
       "      <th>P33S3</th>\n",
       "      <th>1.0</th>\n",
       "      <th>2.0</th>\n",
       "    </tr>\n",
       "    <tr>\n",
       "      <th>P9</th>\n",
       "      <th></th>\n",
       "      <th></th>\n",
       "    </tr>\n",
       "  </thead>\n",
       "  <tbody>\n",
       "    <tr>\n",
       "      <th>1.0</th>\n",
       "      <td>26.516854</td>\n",
       "      <td>62.265918</td>\n",
       "    </tr>\n",
       "    <tr>\n",
       "      <th>2.0</th>\n",
       "      <td>3.033708</td>\n",
       "      <td>8.183521</td>\n",
       "    </tr>\n",
       "  </tbody>\n",
       "</table>\n",
       "</div>"
      ],
      "text/plain": [
       "P33S3        1.0        2.0\n",
       "P9                         \n",
       "1.0    26.516854  62.265918\n",
       "2.0     3.033708   8.183521"
      ]
     },
     "execution_count": 47,
     "metadata": {},
     "output_type": "execute_result"
    }
   ],
   "source": [
    "pd.crosstab(df['P9'], df['P33S3'])"
   ]
  },
  {
   "cell_type": "code",
   "execution_count": 53,
   "metadata": {},
   "outputs": [
    {
     "data": {
      "text/html": [
       "<div>\n",
       "<style scoped>\n",
       "    .dataframe tbody tr th:only-of-type {\n",
       "        vertical-align: middle;\n",
       "    }\n",
       "\n",
       "    .dataframe tbody tr th {\n",
       "        vertical-align: top;\n",
       "    }\n",
       "\n",
       "    .dataframe thead th {\n",
       "        text-align: right;\n",
       "    }\n",
       "</style>\n",
       "<table border=\"1\" class=\"dataframe\">\n",
       "  <thead>\n",
       "    <tr style=\"text-align: right;\">\n",
       "      <th></th>\n",
       "      <th></th>\n",
       "      <th>mean</th>\n",
       "    </tr>\n",
       "    <tr>\n",
       "      <th>P33S3</th>\n",
       "      <th>P9</th>\n",
       "      <th></th>\n",
       "    </tr>\n",
       "  </thead>\n",
       "  <tbody>\n",
       "    <tr>\n",
       "      <th rowspan=\"2\" valign=\"top\">1.0</th>\n",
       "      <th>1.0</th>\n",
       "      <td>37.110169</td>\n",
       "    </tr>\n",
       "    <tr>\n",
       "      <th>2.0</th>\n",
       "      <td>36.049383</td>\n",
       "    </tr>\n",
       "    <tr>\n",
       "      <th rowspan=\"2\" valign=\"top\">2.0</th>\n",
       "      <th>1.0</th>\n",
       "      <td>43.717895</td>\n",
       "    </tr>\n",
       "    <tr>\n",
       "      <th>2.0</th>\n",
       "      <td>38.489703</td>\n",
       "    </tr>\n",
       "  </tbody>\n",
       "</table>\n",
       "</div>"
      ],
      "text/plain": [
       "                mean\n",
       "P33S3 P9            \n",
       "1.0   1.0  37.110169\n",
       "      2.0  36.049383\n",
       "2.0   1.0  43.717895\n",
       "      2.0  38.489703"
      ]
     },
     "execution_count": 53,
     "metadata": {},
     "output_type": "execute_result"
    }
   ],
   "source": [
    "df.groupby(['P33S3', 'P9'])['P8R'].aggregate(['mean'])"
   ]
  },
  {
   "cell_type": "code",
   "execution_count": 48,
   "metadata": {},
   "outputs": [
    {
     "data": {
      "text/plain": [
       "P33S3\n",
       "2.0    73.0\n",
       "1.0    27.0\n",
       "Name: proportion, dtype: float64"
      ]
     },
     "execution_count": 48,
     "metadata": {},
     "output_type": "execute_result"
    }
   ],
   "source": [
    "df[(df['P9'] == 2)]['P33S3'].value_counts(normalize=True).round(3)*100"
   ]
  },
  {
   "cell_type": "code",
   "execution_count": 129,
   "metadata": {},
   "outputs": [
    {
     "data": {
      "text/plain": [
       "34.0"
      ]
     },
     "execution_count": 129,
     "metadata": {},
     "output_type": "execute_result"
    }
   ],
   "source": [
    "df[(df['P30S1'] == 1) & (df['P9'] == 2)]['P8R'].median()"
   ]
  },
  {
   "cell_type": "code",
   "execution_count": 169,
   "metadata": {},
   "outputs": [
    {
     "name": "stdout",
     "output_type": "stream",
     "text": [
      "Habitantes de la calle que temen por su vida ordenado por sexo\n",
      " P33_1\n",
      "2.0    53.9\n",
      "1.0    46.1\n",
      "Name: proportion, dtype: float64\n",
      "\n",
      "Mujeres habitantes de calle que temen / no temen por su vida\n",
      " P33_1\n",
      "1.0    326\n",
      "2.0    273\n",
      "Name: count, dtype: int64\n",
      "\n",
      "Mujeres que temen por su vida promedio\n",
      " 37.34662576687116\n",
      "\n",
      "Hombres que temen por su vida promedio\n",
      " 40.38231165184838\n",
      "\n",
      "Hombres que no temen por su vida promedio\n",
      " 42.86213517665131\n",
      "\n",
      "Temen por su vida ordenador por sexo\n",
      " P9\n",
      "1.0    86.8\n",
      "2.0    13.2\n",
      "Name: proportion, dtype: float64\n",
      "\n"
     ]
    }
   ],
   "source": [
    "print('Habitantes de la calle que temen por su vida ordenado por sexo\\n', df['P33_1'].value_counts(normalize=True).round(3)*100, end='\\n\\n')\n",
    "\n",
    "print('Mujeres habitantes de calle que temen / no temen por su vida\\n', df[(df['P9'] == 2)]['P33_1'].value_counts(), end='\\n\\n')\n",
    "\n",
    "print('Mujeres que temen por su vida promedio\\n', df[(df['P9'] == 2) & (df['P33_1'] == 1)]['P8R'].mean(), end='\\n\\n')\n",
    "\n",
    "print('Hombres que temen por su vida promedio\\n', df[(df['P9'] == 1) & (df['P33_1'] == 1)]['P8R'].mean(), end='\\n\\n')\n",
    "\n",
    "print('Hombres que no temen por su vida promedio\\n', df[(df['P9'] == 1) & (df['P33_1'] == 2)]['P8R'].mean(), end='\\n\\n')\n",
    "\n",
    "print('Temen por su vida ordenador por sexo\\n', df[(df['P33_1'] == 1)]['P9'].value_counts(normalize=True).round(3)*100, end='\\n\\n')\n"
   ]
  },
  {
   "cell_type": "code",
   "execution_count": 84,
   "metadata": {},
   "outputs": [
    {
     "data": {
      "text/html": [
       "<div>\n",
       "<style scoped>\n",
       "    .dataframe tbody tr th:only-of-type {\n",
       "        vertical-align: middle;\n",
       "    }\n",
       "\n",
       "    .dataframe tbody tr th {\n",
       "        vertical-align: top;\n",
       "    }\n",
       "\n",
       "    .dataframe thead th {\n",
       "        text-align: right;\n",
       "    }\n",
       "</style>\n",
       "<table border=\"1\" class=\"dataframe\">\n",
       "  <thead>\n",
       "    <tr style=\"text-align: right;\">\n",
       "      <th></th>\n",
       "      <th>mean</th>\n",
       "      <th>std</th>\n",
       "      <th>&lt;lambda_0&gt;</th>\n",
       "      <th>median</th>\n",
       "    </tr>\n",
       "    <tr>\n",
       "      <th>P9</th>\n",
       "      <th></th>\n",
       "      <th></th>\n",
       "      <th></th>\n",
       "      <th></th>\n",
       "    </tr>\n",
       "  </thead>\n",
       "  <tbody>\n",
       "    <tr>\n",
       "      <th>1.0</th>\n",
       "      <td>41.727445</td>\n",
       "      <td>15.338878</td>\n",
       "      <td>75.0</td>\n",
       "      <td>39.0</td>\n",
       "    </tr>\n",
       "    <tr>\n",
       "      <th>2.0</th>\n",
       "      <td>37.829716</td>\n",
       "      <td>14.446570</td>\n",
       "      <td>75.0</td>\n",
       "      <td>36.0</td>\n",
       "    </tr>\n",
       "  </tbody>\n",
       "</table>\n",
       "</div>"
      ],
      "text/plain": [
       "          mean        std  <lambda_0>  median\n",
       "P9                                           \n",
       "1.0  41.727445  15.338878        75.0    39.0\n",
       "2.0  37.829716  14.446570        75.0    36.0"
      ]
     },
     "execution_count": 84,
     "metadata": {},
     "output_type": "execute_result"
    }
   ],
   "source": [
    "df.groupby(['P9'])['P8R'].aggregate(['mean', 'std', lambda x: x.quantile(0.99), 'median'])"
   ]
  },
  {
   "cell_type": "code",
   "execution_count": null,
   "metadata": {},
   "outputs": [],
   "source": []
  },
  {
   "cell_type": "code",
   "execution_count": 172,
   "metadata": {},
   "outputs": [
    {
     "data": {
      "text/plain": [
       "60.0"
      ]
     },
     "execution_count": 172,
     "metadata": {},
     "output_type": "execute_result"
    }
   ],
   "source": [
    "df['P8R'].max() - df['P8R'].min()"
   ]
  }
 ],
 "metadata": {
  "kernelspec": {
   "display_name": "base",
   "language": "python",
   "name": "python3"
  },
  "language_info": {
   "codemirror_mode": {
    "name": "ipython",
    "version": 3
   },
   "file_extension": ".py",
   "mimetype": "text/x-python",
   "name": "python",
   "nbconvert_exporter": "python",
   "pygments_lexer": "ipython3",
   "version": "3.11.7"
  }
 },
 "nbformat": 4,
 "nbformat_minor": 2
}
