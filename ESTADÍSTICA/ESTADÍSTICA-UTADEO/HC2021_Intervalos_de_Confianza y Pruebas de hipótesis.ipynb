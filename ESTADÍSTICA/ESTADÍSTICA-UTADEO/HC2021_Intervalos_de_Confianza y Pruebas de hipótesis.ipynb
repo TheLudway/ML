{
  "cells": [
    {
      "cell_type": "markdown",
      "metadata": {
        "id": "_1CzjYklUmMH"
      },
      "source": [
        "#**Habitantes de Calle 2021**"
      ]
    },
    {
      "cell_type": "markdown",
      "metadata": {
        "id": "VvJWtz7M37LK"
      },
      "source": [
        "Los datos para desarrollar esta actividad corresponden al Censo de Habitantes de Calle - CHC- 2021 que se encuentran en el Archivo Nacional de Datos del DANE.\n",
        "\n",
        "El diccionario de datos se encuentra en:\n",
        "https://microdatos.dane.gov.co/index.php/catalog/720/data-dictionary\n",
        "\n",
        "Los microdatos en formato csv se encuentran en:\n",
        "https://microdatos.dane.gov.co/index.php/catalog/720/get-microdata"
      ]
    },
    {
      "cell_type": "code",
      "execution_count": 1,
      "metadata": {
        "id": "YqATV-Zt1nY8"
      },
      "outputs": [],
      "source": [
        "# 2. Importar la libreria Pandas ;)\n",
        "import pandas as pd"
      ]
    },
    {
      "cell_type": "code",
      "execution_count": 4,
      "metadata": {
        "id": "Oh_MYM_M1ppr"
      },
      "outputs": [
        {
          "data": {
            "text/html": [
              "<div>\n",
              "<style scoped>\n",
              "    .dataframe tbody tr th:only-of-type {\n",
              "        vertical-align: middle;\n",
              "    }\n",
              "\n",
              "    .dataframe tbody tr th {\n",
              "        vertical-align: top;\n",
              "    }\n",
              "\n",
              "    .dataframe thead th {\n",
              "        text-align: right;\n",
              "    }\n",
              "</style>\n",
              "<table border=\"1\" class=\"dataframe\">\n",
              "  <thead>\n",
              "    <tr style=\"text-align: right;\">\n",
              "      <th></th>\n",
              "      <th>DIRECTORIO</th>\n",
              "      <th>TIP_FOR</th>\n",
              "      <th>P1</th>\n",
              "      <th>P1S1</th>\n",
              "      <th>P2</th>\n",
              "      <th>P2S1</th>\n",
              "      <th>P5</th>\n",
              "      <th>CTL_1</th>\n",
              "      <th>P8R</th>\n",
              "      <th>P9</th>\n",
              "      <th>...</th>\n",
              "      <th>P35</th>\n",
              "      <th>P36R</th>\n",
              "      <th>P37S1</th>\n",
              "      <th>P37S2</th>\n",
              "      <th>P37S3</th>\n",
              "      <th>P37S4</th>\n",
              "      <th>P37S5</th>\n",
              "      <th>P37S6</th>\n",
              "      <th>P37S7</th>\n",
              "      <th>COMPLETA</th>\n",
              "    </tr>\n",
              "  </thead>\n",
              "  <tbody>\n",
              "    <tr>\n",
              "      <th>0</th>\n",
              "      <td>1.0</td>\n",
              "      <td>2.0</td>\n",
              "      <td>85.0</td>\n",
              "      <td>85001.0</td>\n",
              "      <td>1.0</td>\n",
              "      <td>5.0</td>\n",
              "      <td>2.0</td>\n",
              "      <td>1.0</td>\n",
              "      <td>44.0</td>\n",
              "      <td>1.0</td>\n",
              "      <td>...</td>\n",
              "      <td>NaN</td>\n",
              "      <td>NaN</td>\n",
              "      <td>NaN</td>\n",
              "      <td>NaN</td>\n",
              "      <td>NaN</td>\n",
              "      <td>NaN</td>\n",
              "      <td>NaN</td>\n",
              "      <td>NaN</td>\n",
              "      <td>NaN</td>\n",
              "      <td>1.0</td>\n",
              "    </tr>\n",
              "    <tr>\n",
              "      <th>1</th>\n",
              "      <td>2.0</td>\n",
              "      <td>2.0</td>\n",
              "      <td>85.0</td>\n",
              "      <td>85001.0</td>\n",
              "      <td>1.0</td>\n",
              "      <td>5.0</td>\n",
              "      <td>2.0</td>\n",
              "      <td>1.0</td>\n",
              "      <td>33.0</td>\n",
              "      <td>1.0</td>\n",
              "      <td>...</td>\n",
              "      <td>NaN</td>\n",
              "      <td>NaN</td>\n",
              "      <td>NaN</td>\n",
              "      <td>NaN</td>\n",
              "      <td>NaN</td>\n",
              "      <td>NaN</td>\n",
              "      <td>NaN</td>\n",
              "      <td>NaN</td>\n",
              "      <td>NaN</td>\n",
              "      <td>1.0</td>\n",
              "    </tr>\n",
              "    <tr>\n",
              "      <th>2</th>\n",
              "      <td>3.0</td>\n",
              "      <td>2.0</td>\n",
              "      <td>85.0</td>\n",
              "      <td>85001.0</td>\n",
              "      <td>1.0</td>\n",
              "      <td>5.0</td>\n",
              "      <td>2.0</td>\n",
              "      <td>1.0</td>\n",
              "      <td>41.0</td>\n",
              "      <td>1.0</td>\n",
              "      <td>...</td>\n",
              "      <td>NaN</td>\n",
              "      <td>NaN</td>\n",
              "      <td>NaN</td>\n",
              "      <td>NaN</td>\n",
              "      <td>NaN</td>\n",
              "      <td>NaN</td>\n",
              "      <td>NaN</td>\n",
              "      <td>NaN</td>\n",
              "      <td>NaN</td>\n",
              "      <td>1.0</td>\n",
              "    </tr>\n",
              "    <tr>\n",
              "      <th>3</th>\n",
              "      <td>4.0</td>\n",
              "      <td>2.0</td>\n",
              "      <td>85.0</td>\n",
              "      <td>85001.0</td>\n",
              "      <td>1.0</td>\n",
              "      <td>5.0</td>\n",
              "      <td>2.0</td>\n",
              "      <td>1.0</td>\n",
              "      <td>29.0</td>\n",
              "      <td>1.0</td>\n",
              "      <td>...</td>\n",
              "      <td>NaN</td>\n",
              "      <td>NaN</td>\n",
              "      <td>NaN</td>\n",
              "      <td>NaN</td>\n",
              "      <td>NaN</td>\n",
              "      <td>NaN</td>\n",
              "      <td>NaN</td>\n",
              "      <td>NaN</td>\n",
              "      <td>NaN</td>\n",
              "      <td>1.0</td>\n",
              "    </tr>\n",
              "    <tr>\n",
              "      <th>4</th>\n",
              "      <td>5.0</td>\n",
              "      <td>2.0</td>\n",
              "      <td>85.0</td>\n",
              "      <td>85001.0</td>\n",
              "      <td>1.0</td>\n",
              "      <td>5.0</td>\n",
              "      <td>2.0</td>\n",
              "      <td>1.0</td>\n",
              "      <td>30.0</td>\n",
              "      <td>1.0</td>\n",
              "      <td>...</td>\n",
              "      <td>NaN</td>\n",
              "      <td>NaN</td>\n",
              "      <td>NaN</td>\n",
              "      <td>NaN</td>\n",
              "      <td>NaN</td>\n",
              "      <td>NaN</td>\n",
              "      <td>NaN</td>\n",
              "      <td>NaN</td>\n",
              "      <td>NaN</td>\n",
              "      <td>1.0</td>\n",
              "    </tr>\n",
              "    <tr>\n",
              "      <th>...</th>\n",
              "      <td>...</td>\n",
              "      <td>...</td>\n",
              "      <td>...</td>\n",
              "      <td>...</td>\n",
              "      <td>...</td>\n",
              "      <td>...</td>\n",
              "      <td>...</td>\n",
              "      <td>...</td>\n",
              "      <td>...</td>\n",
              "      <td>...</td>\n",
              "      <td>...</td>\n",
              "      <td>...</td>\n",
              "      <td>...</td>\n",
              "      <td>...</td>\n",
              "      <td>...</td>\n",
              "      <td>...</td>\n",
              "      <td>...</td>\n",
              "      <td>...</td>\n",
              "      <td>...</td>\n",
              "      <td>...</td>\n",
              "      <td>...</td>\n",
              "    </tr>\n",
              "    <tr>\n",
              "      <th>6245</th>\n",
              "      <td>7645.0</td>\n",
              "      <td>2.0</td>\n",
              "      <td>76.0</td>\n",
              "      <td>76109.0</td>\n",
              "      <td>1.0</td>\n",
              "      <td>1.0</td>\n",
              "      <td>1.0</td>\n",
              "      <td>1.0</td>\n",
              "      <td>53.0</td>\n",
              "      <td>1.0</td>\n",
              "      <td>...</td>\n",
              "      <td>NaN</td>\n",
              "      <td>NaN</td>\n",
              "      <td>NaN</td>\n",
              "      <td>NaN</td>\n",
              "      <td>NaN</td>\n",
              "      <td>NaN</td>\n",
              "      <td>NaN</td>\n",
              "      <td>NaN</td>\n",
              "      <td>NaN</td>\n",
              "      <td>1.0</td>\n",
              "    </tr>\n",
              "    <tr>\n",
              "      <th>6246</th>\n",
              "      <td>7646.0</td>\n",
              "      <td>2.0</td>\n",
              "      <td>20.0</td>\n",
              "      <td>20001.0</td>\n",
              "      <td>1.0</td>\n",
              "      <td>1.0</td>\n",
              "      <td>1.0</td>\n",
              "      <td>1.0</td>\n",
              "      <td>57.0</td>\n",
              "      <td>2.0</td>\n",
              "      <td>...</td>\n",
              "      <td>NaN</td>\n",
              "      <td>NaN</td>\n",
              "      <td>NaN</td>\n",
              "      <td>NaN</td>\n",
              "      <td>NaN</td>\n",
              "      <td>NaN</td>\n",
              "      <td>NaN</td>\n",
              "      <td>NaN</td>\n",
              "      <td>NaN</td>\n",
              "      <td>1.0</td>\n",
              "    </tr>\n",
              "    <tr>\n",
              "      <th>6247</th>\n",
              "      <td>7647.0</td>\n",
              "      <td>2.0</td>\n",
              "      <td>76.0</td>\n",
              "      <td>76109.0</td>\n",
              "      <td>1.0</td>\n",
              "      <td>1.0</td>\n",
              "      <td>1.0</td>\n",
              "      <td>1.0</td>\n",
              "      <td>51.0</td>\n",
              "      <td>1.0</td>\n",
              "      <td>...</td>\n",
              "      <td>NaN</td>\n",
              "      <td>NaN</td>\n",
              "      <td>NaN</td>\n",
              "      <td>NaN</td>\n",
              "      <td>NaN</td>\n",
              "      <td>NaN</td>\n",
              "      <td>NaN</td>\n",
              "      <td>NaN</td>\n",
              "      <td>NaN</td>\n",
              "      <td>1.0</td>\n",
              "    </tr>\n",
              "    <tr>\n",
              "      <th>6248</th>\n",
              "      <td>NaN</td>\n",
              "      <td>NaN</td>\n",
              "      <td>NaN</td>\n",
              "      <td>NaN</td>\n",
              "      <td>NaN</td>\n",
              "      <td>NaN</td>\n",
              "      <td>NaN</td>\n",
              "      <td>NaN</td>\n",
              "      <td>NaN</td>\n",
              "      <td>NaN</td>\n",
              "      <td>...</td>\n",
              "      <td>NaN</td>\n",
              "      <td>NaN</td>\n",
              "      <td>NaN</td>\n",
              "      <td>NaN</td>\n",
              "      <td>NaN</td>\n",
              "      <td>NaN</td>\n",
              "      <td>NaN</td>\n",
              "      <td>NaN</td>\n",
              "      <td>NaN</td>\n",
              "      <td>NaN</td>\n",
              "    </tr>\n",
              "    <tr>\n",
              "      <th>6249</th>\n",
              "      <td>NaN</td>\n",
              "      <td>NaN</td>\n",
              "      <td>NaN</td>\n",
              "      <td>NaN</td>\n",
              "      <td>NaN</td>\n",
              "      <td>NaN</td>\n",
              "      <td>NaN</td>\n",
              "      <td>NaN</td>\n",
              "      <td>NaN</td>\n",
              "      <td>NaN</td>\n",
              "      <td>...</td>\n",
              "      <td>NaN</td>\n",
              "      <td>NaN</td>\n",
              "      <td>NaN</td>\n",
              "      <td>NaN</td>\n",
              "      <td>NaN</td>\n",
              "      <td>NaN</td>\n",
              "      <td>NaN</td>\n",
              "      <td>NaN</td>\n",
              "      <td>NaN</td>\n",
              "      <td>NaN</td>\n",
              "    </tr>\n",
              "  </tbody>\n",
              "</table>\n",
              "<p>6250 rows × 130 columns</p>\n",
              "</div>"
            ],
            "text/plain": [
              "      DIRECTORIO  TIP_FOR    P1     P1S1   P2  P2S1   P5  CTL_1   P8R   P9  \\\n",
              "0            1.0      2.0  85.0  85001.0  1.0   5.0  2.0    1.0  44.0  1.0   \n",
              "1            2.0      2.0  85.0  85001.0  1.0   5.0  2.0    1.0  33.0  1.0   \n",
              "2            3.0      2.0  85.0  85001.0  1.0   5.0  2.0    1.0  41.0  1.0   \n",
              "3            4.0      2.0  85.0  85001.0  1.0   5.0  2.0    1.0  29.0  1.0   \n",
              "4            5.0      2.0  85.0  85001.0  1.0   5.0  2.0    1.0  30.0  1.0   \n",
              "...          ...      ...   ...      ...  ...   ...  ...    ...   ...  ...   \n",
              "6245      7645.0      2.0  76.0  76109.0  1.0   1.0  1.0    1.0  53.0  1.0   \n",
              "6246      7646.0      2.0  20.0  20001.0  1.0   1.0  1.0    1.0  57.0  2.0   \n",
              "6247      7647.0      2.0  76.0  76109.0  1.0   1.0  1.0    1.0  51.0  1.0   \n",
              "6248         NaN      NaN   NaN      NaN  NaN   NaN  NaN    NaN   NaN  NaN   \n",
              "6249         NaN      NaN   NaN      NaN  NaN   NaN  NaN    NaN   NaN  NaN   \n",
              "\n",
              "      ...  P35  P36R  P37S1  P37S2  P37S3  P37S4  P37S5  P37S6  P37S7  \\\n",
              "0     ...  NaN   NaN    NaN    NaN    NaN    NaN    NaN    NaN    NaN   \n",
              "1     ...  NaN   NaN    NaN    NaN    NaN    NaN    NaN    NaN    NaN   \n",
              "2     ...  NaN   NaN    NaN    NaN    NaN    NaN    NaN    NaN    NaN   \n",
              "3     ...  NaN   NaN    NaN    NaN    NaN    NaN    NaN    NaN    NaN   \n",
              "4     ...  NaN   NaN    NaN    NaN    NaN    NaN    NaN    NaN    NaN   \n",
              "...   ...  ...   ...    ...    ...    ...    ...    ...    ...    ...   \n",
              "6245  ...  NaN   NaN    NaN    NaN    NaN    NaN    NaN    NaN    NaN   \n",
              "6246  ...  NaN   NaN    NaN    NaN    NaN    NaN    NaN    NaN    NaN   \n",
              "6247  ...  NaN   NaN    NaN    NaN    NaN    NaN    NaN    NaN    NaN   \n",
              "6248  ...  NaN   NaN    NaN    NaN    NaN    NaN    NaN    NaN    NaN   \n",
              "6249  ...  NaN   NaN    NaN    NaN    NaN    NaN    NaN    NaN    NaN   \n",
              "\n",
              "      COMPLETA  \n",
              "0          1.0  \n",
              "1          1.0  \n",
              "2          1.0  \n",
              "3          1.0  \n",
              "4          1.0  \n",
              "...        ...  \n",
              "6245       1.0  \n",
              "6246       1.0  \n",
              "6247       1.0  \n",
              "6248       NaN  \n",
              "6249       NaN  \n",
              "\n",
              "[6250 rows x 130 columns]"
            ]
          },
          "execution_count": 4,
          "metadata": {},
          "output_type": "execute_result"
        }
      ],
      "source": [
        "# 3. Importar un archivo csv, si el delimitador es tabulación usar /t\n",
        "#df=pd.read_csv('/content/drive/MyDrive/240120 Notebooks/HabitantesCalle2021/CHC_base_anonimizada09-09-2021.csv', delimiter=',', encoding = 'unicode_escape' )\n",
        "df=pd.read_csv('CHC_base_anonimizada09-09-2021.csv', delimiter=',', encoding = 'unicode_escape' )\n",
        "df"
      ]
    },
    {
      "cell_type": "code",
      "execution_count": 8,
      "metadata": {},
      "outputs": [
        {
          "data": {
            "text/plain": [
              "41.290473516750886"
            ]
          },
          "execution_count": 8,
          "metadata": {},
          "output_type": "execute_result"
        }
      ],
      "source": [
        "df['P8R'].mean()"
      ]
    },
    {
      "cell_type": "code",
      "execution_count": 9,
      "metadata": {
        "id": "uWcxBBr416Qj"
      },
      "outputs": [],
      "source": [
        "# 4 Renombrar las variables\n",
        "df['sex']=df['P9'].replace({1: 'hombres', 2:'mujeres'})\n",
        "df['razón'] = df['P22'].replace({1: 'consumo de sustancias psicoactivas', 2: 'gusto personal', 3: 'amenaza o riesgo para la vida', 4: 'Influencia de otras personas', 5: 'dificultades económicas', 6: 'falta de trabajo', 7: 'conflictos o dificultades familiares', 8: 'abuso  sexual', 9: 'siempre he vivido en la calle', 10: 'víctima del conflito armado o desplazado', 11: 'otra'})\n",
        "df['edad']=df['P8R']\n",
        "df['tiempo']=df['P23S1R']\n",
        "df['marihuana'] = df['P30S3'].replace({1: 'Fuma.', 2: 'No fuma'})\n",
        "df['abuso policial'] = df['P33S3'].replace({1: 'si', 2: 'no'})\n",
        "df['teme'] = df['P33_1'].replace({1: 'si', 2: 'no'})"
      ]
    },
    {
      "cell_type": "code",
      "execution_count": 11,
      "metadata": {
        "colab": {
          "base_uri": "https://localhost:8080/",
          "height": 143
        },
        "id": "mi-Kz-Rk4Rmf",
        "outputId": "69ec6bea-538a-45cc-f0ba-d5627dde867f"
      },
      "outputs": [
        {
          "data": {
            "text/html": [
              "<div>\n",
              "<style scoped>\n",
              "    .dataframe tbody tr th:only-of-type {\n",
              "        vertical-align: middle;\n",
              "    }\n",
              "\n",
              "    .dataframe tbody tr th {\n",
              "        vertical-align: top;\n",
              "    }\n",
              "\n",
              "    .dataframe thead th {\n",
              "        text-align: right;\n",
              "    }\n",
              "</style>\n",
              "<table border=\"1\" class=\"dataframe\">\n",
              "  <thead>\n",
              "    <tr style=\"text-align: right;\">\n",
              "      <th></th>\n",
              "      <th>count</th>\n",
              "      <th>mean</th>\n",
              "    </tr>\n",
              "    <tr>\n",
              "      <th>sex</th>\n",
              "      <th></th>\n",
              "      <th></th>\n",
              "    </tr>\n",
              "  </thead>\n",
              "  <tbody>\n",
              "    <tr>\n",
              "      <th>hombres</th>\n",
              "      <td>4744</td>\n",
              "      <td>41.7</td>\n",
              "    </tr>\n",
              "    <tr>\n",
              "      <th>mujeres</th>\n",
              "      <td>599</td>\n",
              "      <td>37.8</td>\n",
              "    </tr>\n",
              "  </tbody>\n",
              "</table>\n",
              "</div>"
            ],
            "text/plain": [
              "         count  mean\n",
              "sex                 \n",
              "hombres   4744  41.7\n",
              "mujeres    599  37.8"
            ]
          },
          "execution_count": 11,
          "metadata": {},
          "output_type": "execute_result"
        }
      ],
      "source": [
        "# 6 La edad promedio de los HC por sexo\n",
        "df.groupby(['sex'])['edad'].aggregate(['count','mean']).round(1)\n",
        "#print ('La edad promedio de los habitantes de calle en Colombia es aprox. 41.7 años')"
      ]
    },
    {
      "cell_type": "code",
      "execution_count": 15,
      "metadata": {
        "colab": {
          "base_uri": "https://localhost:8080/"
        },
        "id": "sJAkKriwQKm4",
        "outputId": "94470576-bd46-413e-ca18-5ecd807f2506"
      },
      "outputs": [
        {
          "name": "stdout",
          "output_type": "stream",
          "text": [
            "Con una confianza del  95.0 % podemos afirmar que la edad promedio de\n",
            "los habitantes de calle hombres en Cúcuta se encuentra entre 36.9  y  38.7 años\n",
            "Esta estimación se hacer con un error de 0.93  años\n",
            "1.959963984540054\n"
          ]
        }
      ],
      "source": [
        "# 7 Intervalo de confianza del 95% para la edad promedio de los habitantes\n",
        "# de calle hombres en el municipo de Cúcuta\n",
        "\n",
        "# Confianza\n",
        "confianza=0.95\n",
        "# Lo que queda en las colas(5%)\n",
        "alpha=1-confianza\n",
        "from scipy.stats import norm\n",
        "import math\n",
        "\n",
        "# z adecuado para eso\n",
        "z=norm.ppf(1-alpha/2,0,1)\n",
        "\n",
        "# Promedio de la edad de los hombres de Cucúta\n",
        "promedio=df['edad'][(df['P1S1']==54001)&(df['sex']=='hombres')].mean()\n",
        "\n",
        "# Desviación estándar de la edad de los hombres en Cucúta.\n",
        "desviacion=df['edad'][(df['P1S1']==54001)&(df['sex']=='hombres')].std()\n",
        "\n",
        "# Cantidad de hombres habitantes de calle en Cucúta.\n",
        "n=df['edad'][(df['P1S1']==54001)&(df['sex']=='hombres')].count()\n",
        "#print(promedio, desviacion,n)\n",
        "LI=promedio-z*desviacion/math.sqrt(n)\n",
        "LS=promedio+z*desviacion/math.sqrt(n)\n",
        "# print(LI,LS)\n",
        "error=z*desviacion/math.sqrt(n)\n",
        "print('Con una confianza del ',confianza*100, '% podemos afirmar que la edad promedio de')\n",
        "print('los habitantes de calle hombres en Cúcuta se encuentra entre',LI.round(1),' y ',LS.round(1), 'años')\n",
        "print('Esta estimación se hacer con un error de',error.round(2),' años')"
      ]
    },
    {
      "cell_type": "markdown",
      "metadata": {
        "id": "eXuPCv8j4rI_"
      },
      "source": [
        "# Para cruzar la información del códigos DANE con los nombres de los muncipios"
      ]
    },
    {
      "cell_type": "code",
      "execution_count": 12,
      "metadata": {
        "id": "oPMVTuwHM6q7"
      },
      "outputs": [],
      "source": [
        "# 9 Para que en la base de HC tengamos los nombres de muncipio\n",
        "df['P1S1']=df['P1S1'].astype(str)\n",
        "df['P1S1'] = df['P1S1'].apply(lambda x: x.replace('.0', ''))\n",
        "df['COD_DANE']=df['P1S1']\n",
        "df2['COD_DANE']=df2['COD_DANE'].astype(float)\n",
        "df['COD_DANE']=df['COD_DANE'].astype(float)\n",
        "df3 = pd.merge(left=df, right=df2, how='left', on='COD_DANE')"
      ]
    },
    {
      "cell_type": "code",
      "execution_count": null,
      "metadata": {
        "id": "ufpIkhSH5MQ5"
      },
      "outputs": [],
      "source": [
        "# 7 Para ver los municipios\n",
        "municipios=df3['muni'].unique()\n",
        "codigos=df3['P1S1'].unique()\n",
        "print(codigos)"
      ]
    },
    {
      "cell_type": "code",
      "execution_count": null,
      "metadata": {
        "id": "0hJr7h7Y5Rex"
      },
      "outputs": [],
      "source": [
        "# 10 Para contar los municipios\n",
        "cuenta=0\n",
        "x=1\n",
        "y=1\n",
        "for i in municipios:\n",
        "  print(i,',')#,end=\" \")\n",
        "  cuenta=cuenta+1\n",
        "print(cuenta)"
      ]
    },
    {
      "cell_type": "code",
      "execution_count": null,
      "metadata": {
        "id": "7iciDHts8ftj"
      },
      "outputs": [],
      "source": [
        "# 11 Solo si quiero ver las variables del dataframe en grupso de 15\n",
        "count=1\n",
        "for i in df.columns:\n",
        "    residuo=count % 15\n",
        "    if residuo!= 0:\n",
        "        print(i,end=\" \")\n",
        "        count=count+1\n",
        "    else:\n",
        "      print(i)\n",
        "      count=count+1"
      ]
    },
    {
      "cell_type": "code",
      "execution_count": null,
      "metadata": {
        "id": "XFm33c7HAoLx"
      },
      "outputs": [],
      "source": [
        "# Para listar los municipios con mas de 9 HC\n",
        "df3['muni'].value_counts().loc[lambda x: x > 9]"
      ]
    },
    {
      "cell_type": "code",
      "execution_count": 18,
      "metadata": {
        "colab": {
          "base_uri": "https://localhost:8080/",
          "height": 457
        },
        "id": "O-kYoQGfQapG",
        "outputId": "7698cb47-4282-4cd5-b8f3-00303dc243d4"
      },
      "outputs": [
        {
          "data": {
            "application/vnd.google.colaboratory.intrinsic+json": {
              "summary": "{\n  \"name\": \"tabla[tabla['mujeres'] > 15]\",\n  \"rows\": 12,\n  \"fields\": [\n    {\n      \"column\": \"muni\",\n      \"properties\": {\n        \"dtype\": \"string\",\n        \"num_unique_values\": 12,\n        \"samples\": [\n          \"Valledupar\",\n          \"Santa Marta\",\n          \"Armenia\"\n        ],\n        \"semantic_type\": \"\",\n        \"description\": \"\"\n      }\n    },\n    {\n      \"column\": \"hombres\",\n      \"properties\": {\n        \"dtype\": \"number\",\n        \"std\": 270,\n        \"min\": 92,\n        \"max\": 918,\n        \"num_unique_values\": 12,\n        \"samples\": [\n          111,\n          166,\n          639\n        ],\n        \"semantic_type\": \"\",\n        \"description\": \"\"\n      }\n    },\n    {\n      \"column\": \"mujeres\",\n      \"properties\": {\n        \"dtype\": \"number\",\n        \"std\": 42,\n        \"min\": 19,\n        \"max\": 173,\n        \"num_unique_values\": 11,\n        \"samples\": [\n          36,\n          53,\n          27\n        ],\n        \"semantic_type\": \"\",\n        \"description\": \"\"\n      }\n    }\n  ]\n}",
              "type": "dataframe"
            },
            "text/html": [
              "\n",
              "  <div id=\"df-4c817734-4f04-4d45-b2fe-f64fa431953e\" class=\"colab-df-container\">\n",
              "    <div>\n",
              "<style scoped>\n",
              "    .dataframe tbody tr th:only-of-type {\n",
              "        vertical-align: middle;\n",
              "    }\n",
              "\n",
              "    .dataframe tbody tr th {\n",
              "        vertical-align: top;\n",
              "    }\n",
              "\n",
              "    .dataframe thead th {\n",
              "        text-align: right;\n",
              "    }\n",
              "</style>\n",
              "<table border=\"1\" class=\"dataframe\">\n",
              "  <thead>\n",
              "    <tr style=\"text-align: right;\">\n",
              "      <th>sex</th>\n",
              "      <th>hombres</th>\n",
              "      <th>mujeres</th>\n",
              "    </tr>\n",
              "    <tr>\n",
              "      <th>muni</th>\n",
              "      <th></th>\n",
              "      <th></th>\n",
              "    </tr>\n",
              "  </thead>\n",
              "  <tbody>\n",
              "    <tr>\n",
              "      <th>Armenia</th>\n",
              "      <td>639</td>\n",
              "      <td>53</td>\n",
              "    </tr>\n",
              "    <tr>\n",
              "      <th>Buenaventura</th>\n",
              "      <td>92</td>\n",
              "      <td>24</td>\n",
              "    </tr>\n",
              "    <tr>\n",
              "      <th>Cartagena de Indias</th>\n",
              "      <td>716</td>\n",
              "      <td>60</td>\n",
              "    </tr>\n",
              "    <tr>\n",
              "      <th>Ibagué</th>\n",
              "      <td>443</td>\n",
              "      <td>34</td>\n",
              "    </tr>\n",
              "    <tr>\n",
              "      <th>Neiva</th>\n",
              "      <td>357</td>\n",
              "      <td>22</td>\n",
              "    </tr>\n",
              "    <tr>\n",
              "      <th>Pasto</th>\n",
              "      <td>172</td>\n",
              "      <td>36</td>\n",
              "    </tr>\n",
              "    <tr>\n",
              "      <th>Pereira</th>\n",
              "      <td>346</td>\n",
              "      <td>23</td>\n",
              "    </tr>\n",
              "    <tr>\n",
              "      <th>Riohacha</th>\n",
              "      <td>228</td>\n",
              "      <td>50</td>\n",
              "    </tr>\n",
              "    <tr>\n",
              "      <th>San José de Cúcuta</th>\n",
              "      <td>918</td>\n",
              "      <td>173</td>\n",
              "    </tr>\n",
              "    <tr>\n",
              "      <th>Santa Marta</th>\n",
              "      <td>166</td>\n",
              "      <td>27</td>\n",
              "    </tr>\n",
              "    <tr>\n",
              "      <th>Valledupar</th>\n",
              "      <td>111</td>\n",
              "      <td>19</td>\n",
              "    </tr>\n",
              "    <tr>\n",
              "      <th>Yopal</th>\n",
              "      <td>124</td>\n",
              "      <td>22</td>\n",
              "    </tr>\n",
              "  </tbody>\n",
              "</table>\n",
              "</div>\n",
              "    <div class=\"colab-df-buttons\">\n",
              "\n",
              "  <div class=\"colab-df-container\">\n",
              "    <button class=\"colab-df-convert\" onclick=\"convertToInteractive('df-4c817734-4f04-4d45-b2fe-f64fa431953e')\"\n",
              "            title=\"Convert this dataframe to an interactive table.\"\n",
              "            style=\"display:none;\">\n",
              "\n",
              "  <svg xmlns=\"http://www.w3.org/2000/svg\" height=\"24px\" viewBox=\"0 -960 960 960\">\n",
              "    <path d=\"M120-120v-720h720v720H120Zm60-500h600v-160H180v160Zm220 220h160v-160H400v160Zm0 220h160v-160H400v160ZM180-400h160v-160H180v160Zm440 0h160v-160H620v160ZM180-180h160v-160H180v160Zm440 0h160v-160H620v160Z\"/>\n",
              "  </svg>\n",
              "    </button>\n",
              "\n",
              "  <style>\n",
              "    .colab-df-container {\n",
              "      display:flex;\n",
              "      gap: 12px;\n",
              "    }\n",
              "\n",
              "    .colab-df-convert {\n",
              "      background-color: #E8F0FE;\n",
              "      border: none;\n",
              "      border-radius: 50%;\n",
              "      cursor: pointer;\n",
              "      display: none;\n",
              "      fill: #1967D2;\n",
              "      height: 32px;\n",
              "      padding: 0 0 0 0;\n",
              "      width: 32px;\n",
              "    }\n",
              "\n",
              "    .colab-df-convert:hover {\n",
              "      background-color: #E2EBFA;\n",
              "      box-shadow: 0px 1px 2px rgba(60, 64, 67, 0.3), 0px 1px 3px 1px rgba(60, 64, 67, 0.15);\n",
              "      fill: #174EA6;\n",
              "    }\n",
              "\n",
              "    .colab-df-buttons div {\n",
              "      margin-bottom: 4px;\n",
              "    }\n",
              "\n",
              "    [theme=dark] .colab-df-convert {\n",
              "      background-color: #3B4455;\n",
              "      fill: #D2E3FC;\n",
              "    }\n",
              "\n",
              "    [theme=dark] .colab-df-convert:hover {\n",
              "      background-color: #434B5C;\n",
              "      box-shadow: 0px 1px 3px 1px rgba(0, 0, 0, 0.15);\n",
              "      filter: drop-shadow(0px 1px 2px rgba(0, 0, 0, 0.3));\n",
              "      fill: #FFFFFF;\n",
              "    }\n",
              "  </style>\n",
              "\n",
              "    <script>\n",
              "      const buttonEl =\n",
              "        document.querySelector('#df-4c817734-4f04-4d45-b2fe-f64fa431953e button.colab-df-convert');\n",
              "      buttonEl.style.display =\n",
              "        google.colab.kernel.accessAllowed ? 'block' : 'none';\n",
              "\n",
              "      async function convertToInteractive(key) {\n",
              "        const element = document.querySelector('#df-4c817734-4f04-4d45-b2fe-f64fa431953e');\n",
              "        const dataTable =\n",
              "          await google.colab.kernel.invokeFunction('convertToInteractive',\n",
              "                                                    [key], {});\n",
              "        if (!dataTable) return;\n",
              "\n",
              "        const docLinkHtml = 'Like what you see? Visit the ' +\n",
              "          '<a target=\"_blank\" href=https://colab.research.google.com/notebooks/data_table.ipynb>data table notebook</a>'\n",
              "          + ' to learn more about interactive tables.';\n",
              "        element.innerHTML = '';\n",
              "        dataTable['output_type'] = 'display_data';\n",
              "        await google.colab.output.renderOutput(dataTable, element);\n",
              "        const docLink = document.createElement('div');\n",
              "        docLink.innerHTML = docLinkHtml;\n",
              "        element.appendChild(docLink);\n",
              "      }\n",
              "    </script>\n",
              "  </div>\n",
              "\n",
              "\n",
              "<div id=\"df-e0a6358c-570c-4278-84b6-a47c2d1fdc51\">\n",
              "  <button class=\"colab-df-quickchart\" onclick=\"quickchart('df-e0a6358c-570c-4278-84b6-a47c2d1fdc51')\"\n",
              "            title=\"Suggest charts\"\n",
              "            style=\"display:none;\">\n",
              "\n",
              "<svg xmlns=\"http://www.w3.org/2000/svg\" height=\"24px\"viewBox=\"0 0 24 24\"\n",
              "     width=\"24px\">\n",
              "    <g>\n",
              "        <path d=\"M19 3H5c-1.1 0-2 .9-2 2v14c0 1.1.9 2 2 2h14c1.1 0 2-.9 2-2V5c0-1.1-.9-2-2-2zM9 17H7v-7h2v7zm4 0h-2V7h2v10zm4 0h-2v-4h2v4z\"/>\n",
              "    </g>\n",
              "</svg>\n",
              "  </button>\n",
              "\n",
              "<style>\n",
              "  .colab-df-quickchart {\n",
              "      --bg-color: #E8F0FE;\n",
              "      --fill-color: #1967D2;\n",
              "      --hover-bg-color: #E2EBFA;\n",
              "      --hover-fill-color: #174EA6;\n",
              "      --disabled-fill-color: #AAA;\n",
              "      --disabled-bg-color: #DDD;\n",
              "  }\n",
              "\n",
              "  [theme=dark] .colab-df-quickchart {\n",
              "      --bg-color: #3B4455;\n",
              "      --fill-color: #D2E3FC;\n",
              "      --hover-bg-color: #434B5C;\n",
              "      --hover-fill-color: #FFFFFF;\n",
              "      --disabled-bg-color: #3B4455;\n",
              "      --disabled-fill-color: #666;\n",
              "  }\n",
              "\n",
              "  .colab-df-quickchart {\n",
              "    background-color: var(--bg-color);\n",
              "    border: none;\n",
              "    border-radius: 50%;\n",
              "    cursor: pointer;\n",
              "    display: none;\n",
              "    fill: var(--fill-color);\n",
              "    height: 32px;\n",
              "    padding: 0;\n",
              "    width: 32px;\n",
              "  }\n",
              "\n",
              "  .colab-df-quickchart:hover {\n",
              "    background-color: var(--hover-bg-color);\n",
              "    box-shadow: 0 1px 2px rgba(60, 64, 67, 0.3), 0 1px 3px 1px rgba(60, 64, 67, 0.15);\n",
              "    fill: var(--button-hover-fill-color);\n",
              "  }\n",
              "\n",
              "  .colab-df-quickchart-complete:disabled,\n",
              "  .colab-df-quickchart-complete:disabled:hover {\n",
              "    background-color: var(--disabled-bg-color);\n",
              "    fill: var(--disabled-fill-color);\n",
              "    box-shadow: none;\n",
              "  }\n",
              "\n",
              "  .colab-df-spinner {\n",
              "    border: 2px solid var(--fill-color);\n",
              "    border-color: transparent;\n",
              "    border-bottom-color: var(--fill-color);\n",
              "    animation:\n",
              "      spin 1s steps(1) infinite;\n",
              "  }\n",
              "\n",
              "  @keyframes spin {\n",
              "    0% {\n",
              "      border-color: transparent;\n",
              "      border-bottom-color: var(--fill-color);\n",
              "      border-left-color: var(--fill-color);\n",
              "    }\n",
              "    20% {\n",
              "      border-color: transparent;\n",
              "      border-left-color: var(--fill-color);\n",
              "      border-top-color: var(--fill-color);\n",
              "    }\n",
              "    30% {\n",
              "      border-color: transparent;\n",
              "      border-left-color: var(--fill-color);\n",
              "      border-top-color: var(--fill-color);\n",
              "      border-right-color: var(--fill-color);\n",
              "    }\n",
              "    40% {\n",
              "      border-color: transparent;\n",
              "      border-right-color: var(--fill-color);\n",
              "      border-top-color: var(--fill-color);\n",
              "    }\n",
              "    60% {\n",
              "      border-color: transparent;\n",
              "      border-right-color: var(--fill-color);\n",
              "    }\n",
              "    80% {\n",
              "      border-color: transparent;\n",
              "      border-right-color: var(--fill-color);\n",
              "      border-bottom-color: var(--fill-color);\n",
              "    }\n",
              "    90% {\n",
              "      border-color: transparent;\n",
              "      border-bottom-color: var(--fill-color);\n",
              "    }\n",
              "  }\n",
              "</style>\n",
              "\n",
              "  <script>\n",
              "    async function quickchart(key) {\n",
              "      const quickchartButtonEl =\n",
              "        document.querySelector('#' + key + ' button');\n",
              "      quickchartButtonEl.disabled = true;  // To prevent multiple clicks.\n",
              "      quickchartButtonEl.classList.add('colab-df-spinner');\n",
              "      try {\n",
              "        const charts = await google.colab.kernel.invokeFunction(\n",
              "            'suggestCharts', [key], {});\n",
              "      } catch (error) {\n",
              "        console.error('Error during call to suggestCharts:', error);\n",
              "      }\n",
              "      quickchartButtonEl.classList.remove('colab-df-spinner');\n",
              "      quickchartButtonEl.classList.add('colab-df-quickchart-complete');\n",
              "    }\n",
              "    (() => {\n",
              "      let quickchartButtonEl =\n",
              "        document.querySelector('#df-e0a6358c-570c-4278-84b6-a47c2d1fdc51 button');\n",
              "      quickchartButtonEl.style.display =\n",
              "        google.colab.kernel.accessAllowed ? 'block' : 'none';\n",
              "    })();\n",
              "  </script>\n",
              "</div>\n",
              "\n",
              "    </div>\n",
              "  </div>\n"
            ],
            "text/plain": [
              "sex                  hombres  mujeres\n",
              "muni                                 \n",
              "Armenia                  639       53\n",
              "Buenaventura              92       24\n",
              "Cartagena de Indias      716       60\n",
              "Ibagué                   443       34\n",
              "Neiva                    357       22\n",
              "Pasto                    172       36\n",
              "Pereira                  346       23\n",
              "Riohacha                 228       50\n",
              "San José de Cúcuta       918      173\n",
              "Santa Marta              166       27\n",
              "Valledupar               111       19\n",
              "Yopal                    124       22"
            ]
          },
          "execution_count": 18,
          "metadata": {},
          "output_type": "execute_result"
        }
      ],
      "source": [
        "# Para filtrar una tabla\n",
        "tabla=pd.crosstab(df3['muni'], df3['sex'],normalize=False)\n",
        "# tabla[tabla.sum(axis=1) > 30] # si ambos suman 30\n",
        "tabla[tabla['mujeres'] > 15]\n"
      ]
    },
    {
      "cell_type": "markdown",
      "metadata": {
        "id": "8oVA1drj5nsn"
      },
      "source": [
        "## Ahora ya se pueden utilizar los nombres de los municipios"
      ]
    },
    {
      "cell_type": "code",
      "execution_count": 19,
      "metadata": {
        "colab": {
          "base_uri": "https://localhost:8080/"
        },
        "id": "WeWI-WnhM6vo",
        "outputId": "c463bcb4-2f07-4884-e65d-f928700b3076"
      },
      "outputs": [
        {
          "name": "stdout",
          "output_type": "stream",
          "text": [
            "40.029411764705884 12.08677036372049 34\n",
            "Con una confianza del  92.0 % podemos afirmar que la edad promedio de\n",
            "los habitantes de calle mujeres en Ibagué se encuetra entre 36.4  y  43.7 años\n",
            "Esta estimación se hacer con un error de 3.63  años\n",
            "34\n"
          ]
        }
      ],
      "source": [
        "# 11 Intervalo de confianza para la edad promedio de los habitantes de calle mujeres en Ibagué\n",
        "confianza=0.92\n",
        "alpha=1-confianza\n",
        "from scipy.stats import norm\n",
        "import math\n",
        "z=norm.ppf(1-alpha/2,0,1)\n",
        "promedio=df3['edad'][(df3['sex']=='mujeres')&(df3['muni']=='Ibagué')].mean()\n",
        "desviacion=df3['edad'][(df3['sex']=='mujeres')&(df3['muni']=='Ibagué')].std()\n",
        "n_mujeres=df3['edad'][(df3['sex']=='mujeres')&(df3['muni']=='Ibagué')].count()\n",
        "print(promedio, desviacion,n_mujeres)\n",
        "LI=promedio-z*desviacion/math.sqrt(n_mujeres)\n",
        "LS=promedio+z*desviacion/math.sqrt(n_mujeres)\n",
        "error=z*desviacion/math.sqrt(n_mujeres)\n",
        "print('Con una confianza del ',confianza*100, '% podemos afirmar que la edad promedio de')\n",
        "print('los habitantes de calle mujeres en Ibagué', 'se encuetra entre',LI.round(1),' y ',LS.round(1), 'años')\n",
        "print('Esta estimación se hacer con un error de',error.round(2),' años')\n",
        "print(n_mujeres)"
      ]
    },
    {
      "cell_type": "code",
      "execution_count": null,
      "metadata": {
        "colab": {
          "base_uri": "https://localhost:8080/"
        },
        "id": "dEBf61OM5wsv",
        "outputId": "e1e9411f-a435-44c2-b307-c4c46ff434fe"
      },
      "outputs": [
        {
          "name": "stdout",
          "output_type": "stream",
          "text": [
            "La siguiente estimación está hecha con muestra pequeña n= 22 :\n",
            "Con una confianza del  95.0 % podemos afirmar que la edad promedio de\n",
            "los habitantes de calle mujeres en Yopal se encuetra entre 22.2  y  28.8 años\n",
            "Esta estimación se hacer con un error de 3.28  años\n"
          ]
        }
      ],
      "source": [
        "# 12 Intervalo de confianza del 95% para la edad promedio de los habitantes\n",
        "# de calle hombres en Yopal (muestra pequeña)\n",
        "n=df3['edad'][(df3['sex']=='mujeres')&(df3['muni']=='Yopal')].count()\n",
        "confianza=0.95\n",
        "alpha=1-confianza\n",
        "from scipy.stats import t\n",
        "import math\n",
        "t=t.ppf(1-alpha/2, n-1)\n",
        "promedio=df3['edad'][(df3['sex']=='mujeres')&(df3['muni']=='Yopal')].mean()\n",
        "desviacion=df3['edad'][(df3['sex']=='mujeres')&(df3['muni']=='Yopal')].std()\n",
        "#print(promedio, desviacion,n)\n",
        "LI=promedio-t*desviacion/math.sqrt(n)\n",
        "LS=promedio+t*desviacion/math.sqrt(n)\n",
        "#print(LI,LS)\n",
        "error=t*desviacion/math.sqrt(n)\n",
        "print('La siguiente estimación está hecha con muestra pequeña n=',n,':')\n",
        "print('Con una confianza del ',confianza*100, '% podemos afirmar que la edad promedio de')\n",
        "print('los habitantes de calle mujeres en Yopal', 'se encuetra entre',LI.round(1),' y ',LS.round(1), 'años')\n",
        "print('Esta estimación se hacer con un error de',error.round(2),' años')"
      ]
    },
    {
      "cell_type": "code",
      "execution_count": 21,
      "metadata": {
        "colab": {
          "base_uri": "https://localhost:8080/"
        },
        "id": "p7sXQ6wRTO93",
        "outputId": "658dd99a-d829-461c-e14a-440703f362b6"
      },
      "outputs": [
        {
          "name": "stdout",
          "output_type": "stream",
          "text": [
            "Esta es una estimación basada en una muestra grande de n= 918\n",
            "Con una confianza del  92.0 % podemos afirmar que el promedio de P23S1R\n",
            "de los habitantes de calle hombres en el municipio de San José de Cúcuta cuya razón para estar en la calle es consumo de sustancias psicoactivas\n",
            "se encuetra entre 6.4  y  7.6 años\n",
            "Esta estimación se hace con un error de estimación de  0.55 años\n"
          ]
        }
      ],
      "source": [
        "# Calcular e interpretar los siguientes intervalos de confianza para la media\n",
        "# El promedio del tiempo en años que llevan en la calle los HOMBRE-MUJER HC en el MUNICIPIO\n",
        "# Que se encuentran en esa condición principalmente por RAZÓN\n",
        "variable='P23S1R'\n",
        "municipio='San José de Cúcuta'\n",
        "sexo='hombres'\n",
        "razon='consumo de sustancias psicoactivas'\n",
        "n=df3[variable][(df3['muni']==municipio)&(df3['sex']==sexo)].count()\n",
        "alpha=1-confianza\n",
        "import math\n",
        "if (n<2):\n",
        "  print('Muy pocos datos para calcular un intervalo de confinaza n es',n)\n",
        "elif (n>=2) & (n<30):\n",
        "  from scipy.stats import t\n",
        "  t=norm.ppf(1-alpha/2,n-1)\n",
        "  promedio=df3[variable][(df3['muni']==municipio)&(df3['sex']==sexo)].mean()\n",
        "  desviacion=df3[variable][(df3['muni']==municipio)&(df3['sex']==sexo)].std()\n",
        "  print('Esta es una estimación basada en una muestra pequeña de n=',n)\n",
        "  LI=promedio-t*desviacion/math.sqrt(n)\n",
        "  LS=promedio+t*desviacion/math.sqrt(n)\n",
        "  error=t*desviacion/math.sqrt(n)\n",
        "  print('Con una confianza del ',confianza*100, '% podemos afirmar que el promedio de',variable)\n",
        "  print('de los habitantes de calle', sexo, 'en el municipio de', municipio, 'cuya razón para estar en la calle es', razon)\n",
        "  print('se encuetra entre',LI.round(1),' y ',LS.round(1), 'años')\n",
        "  print('Esta estimación se hace con un error de estimación',error.round(2),'años')\n",
        "else:\n",
        "  from scipy.stats import norm\n",
        "  z=norm.ppf(1-alpha/2,0,1)\n",
        "  promedio=df3[variable][(df3['muni']==municipio)&(df3['sex']==sexo)].mean()\n",
        "  desviacion=df3[variable][(df3['muni']==municipio)&(df3['sex']==sexo)].std()\n",
        "  print('Esta es una estimación basada en una muestra grande de n=',n)\n",
        "  LI=promedio-z*desviacion/math.sqrt(n)\n",
        "  LS=promedio+z*desviacion/math.sqrt(n)\n",
        "  error=z*desviacion/math.sqrt(n)\n",
        "  print('Con una confianza del ',confianza*100, '% podemos afirmar que el promedio de',variable)\n",
        "  print('de los habitantes de calle', sexo, 'en el municipio de', municipio, 'cuya razón para estar en la calle es', razon)\n",
        "  print('se encuetra entre',LI.round(1),' y ',LS.round(1), 'años')\n",
        "  print('Esta estimación se hace con un error de estimación de ',error.round(2),'años')"
      ]
    },
    {
      "cell_type": "markdown",
      "metadata": {
        "id": "DDh3eWgs6d7V"
      },
      "source": [
        "# Taller sobre intervalos de confianza"
      ]
    },
    {
      "cell_type": "markdown",
      "metadata": {
        "id": "d0VPFlMPNJyL"
      },
      "source": [
        "1.\tMuestre todos los cálculos e interprete un intervalo de confianza del 90 para la edad promedio de las mujeres que empezaron a vivir en la calle por gusto personal.\n",
        "\n"
      ]
    },
    {
      "cell_type": "markdown",
      "metadata": {
        "id": "kqqsKXydNOm0"
      },
      "source": [
        "2.\tCalcule e interprete el margen de error en la estimación del promedio en años que llevan viviendo en la calle las mujeres que actualmente consumen pepas (use alfa=0.05).\n"
      ]
    },
    {
      "cell_type": "markdown",
      "metadata": {
        "id": "6Pig5C6ANQPt"
      },
      "source": [
        "3.\tMuestre todos los cálculos e interprete un intervalo de confianza del 95% de la proporción de hombres que empezaron a vivir en la calle por amenazas o riesgo para la vida o integridad física.\n"
      ]
    },
    {
      "cell_type": "markdown",
      "metadata": {
        "id": "ELAVOZ0aNR7C"
      },
      "source": [
        "4.\tCalcule e interprete el margen de error de la proporción de hombres con problemas mentales o emocionales (use alfa=0.01).\n"
      ]
    },
    {
      "cell_type": "markdown",
      "metadata": {
        "id": "vCzxKjh-NTRp"
      },
      "source": [
        "5.\tMuestre todos los cálculo y halle el tamaño de muestra necesario para estimar la edad promedio de los habitantes de calle con una confianza del 99% y con un error máximo de un año"
      ]
    },
    {
      "cell_type": "markdown",
      "metadata": {
        "id": "hUh19Ia83TpN"
      },
      "source": [
        "##**Prueba de hipótesis**"
      ]
    },
    {
      "cell_type": "markdown",
      "metadata": {
        "id": "H8y9kz3e5VZh"
      },
      "source": [
        "#¿Será que el promedio de la edad de las habitantes de calle mujeres es 35 años?"
      ]
    },
    {
      "cell_type": "markdown",
      "metadata": {
        "id": "aWRnfsdj5jwP"
      },
      "source": [
        "## Prueba de hipótesis <br>\n",
        "\n",
        "1.   Hipótesis nula H0 <br>\n",
        "2.   Hipótesis alternativa Ha <br>\n",
        "3.   Prueba estadística y su valor p <br>\n",
        "4.   Región de rechazo <br>\n",
        "5.   Conclusión\n"
      ]
    },
    {
      "cell_type": "markdown",
      "metadata": {
        "id": "EQ39i-fo5nNN"
      },
      "source": [
        "## Las hipótesis en competencia son la **hipótesis alternativa Ha** (hipótesis de investigación) y la **hipótesis nula H0**(una contradicción de la hipótesis alternativa)"
      ]
    },
    {
      "cell_type": "markdown",
      "metadata": {
        "id": "DVmSIFV87brK"
      },
      "source": [
        "## Posibilidades de conclusión: <br>\n",
        "\n",
        "* Rechazar H0 y concluir que Ha es verdadera\n",
        "* No rechazar H0\n",
        "\n"
      ]
    },
    {
      "cell_type": "markdown",
      "metadata": {
        "id": "yqZ8eJag7SEK"
      },
      "source": [
        "## La decisión de rechazar o no rechazar la hipótesis nula se basa en la información contenida en una muestra aleatoria representativa extraida de la población de interés:\n",
        "\n",
        "*   **Prueba estadística**: un único número calculado a partir de los datos de la muestra\n",
        "*   **Valor p**: una probabilidad calculada a partir de la prueba estadística. **El valor p es la probabilidad de observar una prueba estadística tan extrema o más que el valor observado bajo el supuesto de que H0 es verdadera**\n",
        "\n"
      ]
    },
    {
      "cell_type": "markdown",
      "metadata": {
        "id": "c_POqwsB88Lw"
      },
      "source": [
        "## El conjunto de todos los posibles valores de la prueba estadística se divide en dos regiones. La primera corresponde a los valores que apoyan la hipótesis alternativa y ocasionan el rechazo de H0 **región de rechazo**. El otro corresponde a los valores que apoyan la hipótesis nula y se designa como **región de no rechazo**"
      ]
    },
    {
      "cell_type": "markdown",
      "metadata": {
        "id": "J-8ZPBOi-QVb"
      },
      "source": [
        "![Región_rechazo_1.png](data:image/png;base64,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)"
      ]
    },
    {
      "cell_type": "markdown",
      "metadata": {
        "id": "kOD0dlKT-8ta"
      },
      "source": [
        "## El **error tipo I** es la probabilidad de rechazar la hipótesis nula cuando esta es verdadera.<br>\n",
        "## El **nivel de significancia** para una prueba de hipótesis es: <br>\n",
        "## alpha=P(error tipo I)=P(**rechazar H0 cuando H0 es verdadera**)"
      ]
    },
    {
      "cell_type": "code",
      "execution_count": null,
      "metadata": {
        "colab": {
          "base_uri": "https://localhost:8080/"
        },
        "id": "XvpH-IBn3Xso",
        "outputId": "4e2ae706-1b4a-4299-a178-e2abe4b4d884"
      },
      "outputs": [
        {
          "name": "stdout",
          "output_type": "stream",
          "text": [
            "37.8297161936561 14.446570402957706\n"
          ]
        }
      ],
      "source": [
        "#¿Será que el promedio de la edad de las habitantes de calle mujeres es 35 años?\n",
        "promedio=df['edad'][df['sex']=='mujeres'].mean()\n",
        "desviacion=df['edad'][df['sex']=='mujeres'].std()\n",
        "print(promedio,desviacion)"
      ]
    },
    {
      "cell_type": "markdown",
      "metadata": {
        "id": "5uCtrF9KAACu"
      },
      "source": [
        "## 1. Hipótesis nula<br>\n",
        "##H0: La edad promedio de las habitantes de calle mujeres es de 35 años"
      ]
    },
    {
      "cell_type": "markdown",
      "metadata": {
        "id": "kkm1uqR0AeyH"
      },
      "source": [
        "## 2. Hipótesis alternativa<br>\n",
        "##Ha: La edad promedio de las habitantes de calle mujeres no es de 35 años"
      ]
    },
    {
      "cell_type": "markdown",
      "metadata": {
        "id": "PHtTbRgiAq4k"
      },
      "source": [
        "# 3. Prueba estadística"
      ]
    },
    {
      "cell_type": "code",
      "execution_count": null,
      "metadata": {
        "colab": {
          "base_uri": "https://localhost:8080/"
        },
        "id": "CdRLChEFAwi1",
        "outputId": "e31f8af6-1584-47b6-987a-c97ed6e3a882"
      },
      "outputs": [
        {
          "data": {
            "text/plain": [
              "(4.793928285710761, 599)"
            ]
          },
          "execution_count": 45,
          "metadata": {},
          "output_type": "execute_result"
        }
      ],
      "source": [
        "n=df['edad'][df['sex']=='mujeres'].count()\n",
        "miu=35\n",
        "import math\n",
        "prueba= (promedio-miu)/(desviacion/math.sqrt(n))\n",
        "prueba,n"
      ]
    },
    {
      "cell_type": "markdown",
      "metadata": {
        "id": "WN25y747CJ5u"
      },
      "source": [
        "# 4. Región de rechazo & p-value"
      ]
    },
    {
      "cell_type": "code",
      "execution_count": null,
      "metadata": {
        "colab": {
          "base_uri": "https://localhost:8080/"
        },
        "id": "PEr8diwMB1AI",
        "outputId": "02ab8509-7062-440e-da73-17a065db6fe2"
      },
      "outputs": [
        {
          "name": "stdout",
          "output_type": "stream",
          "text": [
            "Región de rechazo:\n",
            "valores z que sean más pequeños que  -1.959963984540054  o valores z que sean más grandes que  1.959963984540054\n"
          ]
        }
      ],
      "source": [
        "# Región de rechazo\n",
        "confianza=0.95\n",
        "alpha=1-confianza\n",
        "from scipy.stats import norm\n",
        "z=norm.ppf(1-alpha/2,0,1)\n",
        "import math\n",
        "print('Región de rechazo:')\n",
        "print('valores z que sean más pequeños que ', -z, ' o valores z que sean más grandes que ',z)"
      ]
    },
    {
      "cell_type": "markdown",
      "metadata": {
        "id": "_qbB35XZC3Pp"
      },
      "source": [
        "# Valor p"
      ]
    },
    {
      "cell_type": "code",
      "execution_count": null,
      "metadata": {
        "colab": {
          "base_uri": "https://localhost:8080/"
        },
        "id": "IU3Bi-m4C2jA",
        "outputId": "e9e9f700-0ccf-4a50-f2fe-117761bc1e13"
      },
      "outputs": [
        {
          "name": "stdout",
          "output_type": "stream",
          "text": [
            "0.0000016355\n"
          ]
        }
      ],
      "source": [
        "# Valor p\n",
        "from scipy.stats import norm\n",
        "p_value=norm.cdf(-abs(prueba),0,1)+ norm.sf(abs(prueba), 0, 1) # suma de probabilidades de cola a izquierda y derecha respectivamente\n",
        "print(\"{:.10f}\".format(p_value))"
      ]
    },
    {
      "cell_type": "markdown",
      "metadata": {
        "id": "jbDI4ULmE9d-"
      },
      "source": [
        "# 5. Conclusion"
      ]
    },
    {
      "cell_type": "code",
      "execution_count": null,
      "metadata": {
        "colab": {
          "base_uri": "https://localhost:8080/"
        },
        "id": "Knw6cHBCFAcn",
        "outputId": "379f1457-b0cd-45c4-c00a-44f4a5b73857"
      },
      "outputs": [
        {
          "name": "stdout",
          "output_type": "stream",
          "text": [
            "Primera forma de conclusión:\n",
            "Como el valor de la prueba estadística es  4.793928285710761\n",
            "y los valores críticos son: -1.959963984540054  y  1.959963984540054\n",
            "por lo tanto se rechaza H0, es decir, la edad promedio de las habitantes de calle no puede ser 35 años\n"
          ]
        }
      ],
      "source": [
        "print('Primera forma de conclusión:')\n",
        "print('Como el valor de la prueba estadística es ', prueba)\n",
        "print('y los valores críticos son:', -z, ' y ', z)\n",
        "print('por lo tanto se rechaza H0, es decir, la edad promedio de las habitantes de calle no puede ser 35 años')"
      ]
    },
    {
      "cell_type": "code",
      "execution_count": null,
      "metadata": {
        "colab": {
          "base_uri": "https://localhost:8080/"
        },
        "id": "R9C5wfX0GCFz",
        "outputId": "017a8b4f-02f0-4c4f-9d7e-22788c1a537e"
      },
      "outputs": [
        {
          "name": "stdout",
          "output_type": "stream",
          "text": [
            "Segunda forma de conclusión:\n",
            "Como el valor p es  0.0000016355\n",
            "y este valor es inferior a  0.05\n",
            "Por lo tanto, se rechaza H0,  es decir, la edad promedio de las habitantes de calle no puede ser 35 años\n"
          ]
        }
      ],
      "source": [
        "print('Segunda forma de conclusión:')\n",
        "print('Como el valor p es ',\"{:.10f}\".format(p_value))\n",
        "print('y este valor es inferior a ', \"{:.2f}\".format(alpha))\n",
        "print('Por lo tanto, se rechaza H0,  es decir, la edad promedio de las habitantes de calle no puede ser 35 años')"
      ]
    },
    {
      "cell_type": "markdown",
      "metadata": {
        "id": "Z3znhhbtIpF9"
      },
      "source": [
        "## ¿La mitad de los habitantes de calle están allí principalmente por el consumo de drogas?\n",
        "\n"
      ]
    },
    {
      "cell_type": "code",
      "execution_count": null,
      "metadata": {
        "colab": {
          "base_uri": "https://localhost:8080/"
        },
        "id": "L1oh5kM3Ic6N",
        "outputId": "f7d9e076-26ba-43ab-9a75-4dcf2eb717f4"
      },
      "outputs": [
        {
          "data": {
            "text/plain": [
              "razón\n",
              "consumo de sustancias psicoactivas          0.334831\n",
              "conflictos o dificultades familiares        0.256972\n",
              "dificultades económicas                     0.154220\n",
              "gusto personal                              0.077672\n",
              "falta de trabajo                            0.070185\n",
              "otra                                        0.045106\n",
              "Influencia de otras personas                0.022459\n",
              "víctima del conflito armado o desplazado    0.019652\n",
              "amenaza o riesgo para la vida               0.011230\n",
              "siempre he vivido en la calle               0.005428\n",
              "abuso  sexual                               0.002246\n",
              "Name: proportion, dtype: float64"
            ]
          },
          "execution_count": 50,
          "metadata": {},
          "output_type": "execute_result"
        }
      ],
      "source": [
        "df['razón'].value_counts(normalize=True)"
      ]
    },
    {
      "cell_type": "markdown",
      "metadata": {
        "id": "xDy7loLQUpro"
      },
      "source": [
        "### 1. Hipotesis nula: El 50% de los habitantes de calle están allí principalemente por el consumo de drogas\n"
      ]
    },
    {
      "cell_type": "markdown",
      "metadata": {
        "id": "8a-CoF28U__g"
      },
      "source": [
        "### 2. Hipotesis alternativa: El 50% de los habitantes de calle no están allí principalmente por el consumo de drogas"
      ]
    },
    {
      "cell_type": "code",
      "execution_count": null,
      "metadata": {
        "colab": {
          "base_uri": "https://localhost:8080/"
        },
        "id": "ah4szZvZJbW1",
        "outputId": "4c0730bf-ffcc-4224-ee4a-b6694b80a959"
      },
      "outputs": [
        {
          "data": {
            "text/plain": [
              "razón\n",
              "consumo de sustancias psicoactivas          0.334831\n",
              "conflictos o dificultades familiares        0.256972\n",
              "dificultades económicas                     0.154220\n",
              "gusto personal                              0.077672\n",
              "falta de trabajo                            0.070185\n",
              "otra                                        0.045106\n",
              "Influencia de otras personas                0.022459\n",
              "víctima del conflito armado o desplazado    0.019652\n",
              "amenaza o riesgo para la vida               0.011230\n",
              "siempre he vivido en la calle               0.005428\n",
              "abuso  sexual                               0.002246\n",
              "Name: proportion, dtype: float64"
            ]
          },
          "execution_count": 51,
          "metadata": {},
          "output_type": "execute_result"
        }
      ],
      "source": [
        "df.razón.value_counts(normalize=True)"
      ]
    },
    {
      "cell_type": "code",
      "execution_count": null,
      "metadata": {
        "colab": {
          "base_uri": "https://localhost:8080/"
        },
        "id": "q5eH4T3ZUby4",
        "outputId": "92a40b62-1257-436f-9611-ae04f09d3c41"
      },
      "outputs": [
        {
          "name": "stdout",
          "output_type": "stream",
          "text": [
            "0.33483061950215237 1789 5343 1789.0000000000002 3553.9999999999995 El estadístico de prueba es: -24.14638509502824\n"
          ]
        }
      ],
      "source": [
        "# Estadístico de prueba\n",
        "x= df['razón'][df['razón']=='consumo de sustancias psicoactivas'].count()\n",
        "n=df['razón'].count()\n",
        "pe=x/n\n",
        "p0=0.5\n",
        "z=(pe-p0)/math.sqrt(p0*(1-p0)/n)\n",
        "print(pe,x,n,n*pe,(n*(1-pe)),\"El estadístico de prueba es:\",z)\n",
        "\n",
        "\n"
      ]
    },
    {
      "cell_type": "code",
      "execution_count": null,
      "metadata": {
        "colab": {
          "base_uri": "https://localhost:8080/"
        },
        "id": "YQzYuVYkV4mp",
        "outputId": "cd26cf7a-a88e-4ef7-c743-53eedfec0e65"
      },
      "outputs": [
        {
          "name": "stdout",
          "output_type": "stream",
          "text": [
            "0.0000000000\n"
          ]
        }
      ],
      "source": [
        "# Valor p\n",
        "from scipy.stats import norm\n",
        "p_value=norm.cdf(-abs(z),0,1)+ norm.sf(abs(z), 0, 1) # suma de probabilidades de cola a izquierda y derecha respectivamente\n",
        "print(\"{:.10f}\".format(p_value))"
      ]
    },
    {
      "cell_type": "markdown",
      "metadata": {
        "id": "lHMh3R-R35vq"
      },
      "source": [
        "#**IC y pruebas de hipótesis para la diferencia de medias**"
      ]
    },
    {
      "cell_type": "markdown",
      "metadata": {
        "id": "0OMG0oCa6BI5"
      },
      "source": [
        "##**¿Hay diferencia significativa entre la edad promedio de los hombres y mujeres que están en la calle por el consumo de sustancias psicoactivas**"
      ]
    },
    {
      "cell_type": "code",
      "execution_count": null,
      "metadata": {
        "colab": {
          "base_uri": "https://localhost:8080/",
          "height": 143
        },
        "id": "xBdq0jOCQPZ4",
        "outputId": "321b05fe-3888-4f62-bc27-7fea7404339b"
      },
      "outputs": [
        {
          "data": {
            "application/vnd.google.colaboratory.intrinsic+json": {
              "summary": "{\n  \"name\": \"df[df['raz\\u00f3n']=='consumo de sustancias psicoactivas']\",\n  \"rows\": 2,\n  \"fields\": [\n    {\n      \"column\": \"sex\",\n      \"properties\": {\n        \"dtype\": \"string\",\n        \"num_unique_values\": 2,\n        \"samples\": [\n          \"mujeres\",\n          \"hombres\"\n        ],\n        \"semantic_type\": \"\",\n        \"description\": \"\"\n      }\n    },\n    {\n      \"column\": \"mean\",\n      \"properties\": {\n        \"dtype\": \"number\",\n        \"std\": 2.8284271247461903,\n        \"min\": 34.4,\n        \"max\": 38.4,\n        \"num_unique_values\": 2,\n        \"samples\": [\n          34.4,\n          38.4\n        ],\n        \"semantic_type\": \"\",\n        \"description\": \"\"\n      }\n    },\n    {\n      \"column\": \"std\",\n      \"properties\": {\n        \"dtype\": \"number\",\n        \"std\": 1.1313708498984758,\n        \"min\": 11.1,\n        \"max\": 12.7,\n        \"num_unique_values\": 2,\n        \"samples\": [\n          11.1,\n          12.7\n        ],\n        \"semantic_type\": \"\",\n        \"description\": \"\"\n      }\n    },\n    {\n      \"column\": \"count\",\n      \"properties\": {\n        \"dtype\": \"number\",\n        \"std\": 1048,\n        \"min\": 153,\n        \"max\": 1636,\n        \"num_unique_values\": 2,\n        \"samples\": [\n          153,\n          1636\n        ],\n        \"semantic_type\": \"\",\n        \"description\": \"\"\n      }\n    }\n  ]\n}",
              "type": "dataframe"
            },
            "text/html": [
              "\n",
              "  <div id=\"df-acb61f85-f733-492a-b5d9-8f9277491b7c\" class=\"colab-df-container\">\n",
              "    <div>\n",
              "<style scoped>\n",
              "    .dataframe tbody tr th:only-of-type {\n",
              "        vertical-align: middle;\n",
              "    }\n",
              "\n",
              "    .dataframe tbody tr th {\n",
              "        vertical-align: top;\n",
              "    }\n",
              "\n",
              "    .dataframe thead th {\n",
              "        text-align: right;\n",
              "    }\n",
              "</style>\n",
              "<table border=\"1\" class=\"dataframe\">\n",
              "  <thead>\n",
              "    <tr style=\"text-align: right;\">\n",
              "      <th></th>\n",
              "      <th>mean</th>\n",
              "      <th>std</th>\n",
              "      <th>count</th>\n",
              "    </tr>\n",
              "    <tr>\n",
              "      <th>sex</th>\n",
              "      <th></th>\n",
              "      <th></th>\n",
              "      <th></th>\n",
              "    </tr>\n",
              "  </thead>\n",
              "  <tbody>\n",
              "    <tr>\n",
              "      <th>hombres</th>\n",
              "      <td>38.4</td>\n",
              "      <td>12.7</td>\n",
              "      <td>1636</td>\n",
              "    </tr>\n",
              "    <tr>\n",
              "      <th>mujeres</th>\n",
              "      <td>34.4</td>\n",
              "      <td>11.1</td>\n",
              "      <td>153</td>\n",
              "    </tr>\n",
              "  </tbody>\n",
              "</table>\n",
              "</div>\n",
              "    <div class=\"colab-df-buttons\">\n",
              "\n",
              "  <div class=\"colab-df-container\">\n",
              "    <button class=\"colab-df-convert\" onclick=\"convertToInteractive('df-acb61f85-f733-492a-b5d9-8f9277491b7c')\"\n",
              "            title=\"Convert this dataframe to an interactive table.\"\n",
              "            style=\"display:none;\">\n",
              "\n",
              "  <svg xmlns=\"http://www.w3.org/2000/svg\" height=\"24px\" viewBox=\"0 -960 960 960\">\n",
              "    <path d=\"M120-120v-720h720v720H120Zm60-500h600v-160H180v160Zm220 220h160v-160H400v160Zm0 220h160v-160H400v160ZM180-400h160v-160H180v160Zm440 0h160v-160H620v160ZM180-180h160v-160H180v160Zm440 0h160v-160H620v160Z\"/>\n",
              "  </svg>\n",
              "    </button>\n",
              "\n",
              "  <style>\n",
              "    .colab-df-container {\n",
              "      display:flex;\n",
              "      gap: 12px;\n",
              "    }\n",
              "\n",
              "    .colab-df-convert {\n",
              "      background-color: #E8F0FE;\n",
              "      border: none;\n",
              "      border-radius: 50%;\n",
              "      cursor: pointer;\n",
              "      display: none;\n",
              "      fill: #1967D2;\n",
              "      height: 32px;\n",
              "      padding: 0 0 0 0;\n",
              "      width: 32px;\n",
              "    }\n",
              "\n",
              "    .colab-df-convert:hover {\n",
              "      background-color: #E2EBFA;\n",
              "      box-shadow: 0px 1px 2px rgba(60, 64, 67, 0.3), 0px 1px 3px 1px rgba(60, 64, 67, 0.15);\n",
              "      fill: #174EA6;\n",
              "    }\n",
              "\n",
              "    .colab-df-buttons div {\n",
              "      margin-bottom: 4px;\n",
              "    }\n",
              "\n",
              "    [theme=dark] .colab-df-convert {\n",
              "      background-color: #3B4455;\n",
              "      fill: #D2E3FC;\n",
              "    }\n",
              "\n",
              "    [theme=dark] .colab-df-convert:hover {\n",
              "      background-color: #434B5C;\n",
              "      box-shadow: 0px 1px 3px 1px rgba(0, 0, 0, 0.15);\n",
              "      filter: drop-shadow(0px 1px 2px rgba(0, 0, 0, 0.3));\n",
              "      fill: #FFFFFF;\n",
              "    }\n",
              "  </style>\n",
              "\n",
              "    <script>\n",
              "      const buttonEl =\n",
              "        document.querySelector('#df-acb61f85-f733-492a-b5d9-8f9277491b7c button.colab-df-convert');\n",
              "      buttonEl.style.display =\n",
              "        google.colab.kernel.accessAllowed ? 'block' : 'none';\n",
              "\n",
              "      async function convertToInteractive(key) {\n",
              "        const element = document.querySelector('#df-acb61f85-f733-492a-b5d9-8f9277491b7c');\n",
              "        const dataTable =\n",
              "          await google.colab.kernel.invokeFunction('convertToInteractive',\n",
              "                                                    [key], {});\n",
              "        if (!dataTable) return;\n",
              "\n",
              "        const docLinkHtml = 'Like what you see? Visit the ' +\n",
              "          '<a target=\"_blank\" href=https://colab.research.google.com/notebooks/data_table.ipynb>data table notebook</a>'\n",
              "          + ' to learn more about interactive tables.';\n",
              "        element.innerHTML = '';\n",
              "        dataTable['output_type'] = 'display_data';\n",
              "        await google.colab.output.renderOutput(dataTable, element);\n",
              "        const docLink = document.createElement('div');\n",
              "        docLink.innerHTML = docLinkHtml;\n",
              "        element.appendChild(docLink);\n",
              "      }\n",
              "    </script>\n",
              "  </div>\n",
              "\n",
              "\n",
              "<div id=\"df-010fbfbe-c8c6-4f1c-9ac2-fcc92aa683f7\">\n",
              "  <button class=\"colab-df-quickchart\" onclick=\"quickchart('df-010fbfbe-c8c6-4f1c-9ac2-fcc92aa683f7')\"\n",
              "            title=\"Suggest charts\"\n",
              "            style=\"display:none;\">\n",
              "\n",
              "<svg xmlns=\"http://www.w3.org/2000/svg\" height=\"24px\"viewBox=\"0 0 24 24\"\n",
              "     width=\"24px\">\n",
              "    <g>\n",
              "        <path d=\"M19 3H5c-1.1 0-2 .9-2 2v14c0 1.1.9 2 2 2h14c1.1 0 2-.9 2-2V5c0-1.1-.9-2-2-2zM9 17H7v-7h2v7zm4 0h-2V7h2v10zm4 0h-2v-4h2v4z\"/>\n",
              "    </g>\n",
              "</svg>\n",
              "  </button>\n",
              "\n",
              "<style>\n",
              "  .colab-df-quickchart {\n",
              "      --bg-color: #E8F0FE;\n",
              "      --fill-color: #1967D2;\n",
              "      --hover-bg-color: #E2EBFA;\n",
              "      --hover-fill-color: #174EA6;\n",
              "      --disabled-fill-color: #AAA;\n",
              "      --disabled-bg-color: #DDD;\n",
              "  }\n",
              "\n",
              "  [theme=dark] .colab-df-quickchart {\n",
              "      --bg-color: #3B4455;\n",
              "      --fill-color: #D2E3FC;\n",
              "      --hover-bg-color: #434B5C;\n",
              "      --hover-fill-color: #FFFFFF;\n",
              "      --disabled-bg-color: #3B4455;\n",
              "      --disabled-fill-color: #666;\n",
              "  }\n",
              "\n",
              "  .colab-df-quickchart {\n",
              "    background-color: var(--bg-color);\n",
              "    border: none;\n",
              "    border-radius: 50%;\n",
              "    cursor: pointer;\n",
              "    display: none;\n",
              "    fill: var(--fill-color);\n",
              "    height: 32px;\n",
              "    padding: 0;\n",
              "    width: 32px;\n",
              "  }\n",
              "\n",
              "  .colab-df-quickchart:hover {\n",
              "    background-color: var(--hover-bg-color);\n",
              "    box-shadow: 0 1px 2px rgba(60, 64, 67, 0.3), 0 1px 3px 1px rgba(60, 64, 67, 0.15);\n",
              "    fill: var(--button-hover-fill-color);\n",
              "  }\n",
              "\n",
              "  .colab-df-quickchart-complete:disabled,\n",
              "  .colab-df-quickchart-complete:disabled:hover {\n",
              "    background-color: var(--disabled-bg-color);\n",
              "    fill: var(--disabled-fill-color);\n",
              "    box-shadow: none;\n",
              "  }\n",
              "\n",
              "  .colab-df-spinner {\n",
              "    border: 2px solid var(--fill-color);\n",
              "    border-color: transparent;\n",
              "    border-bottom-color: var(--fill-color);\n",
              "    animation:\n",
              "      spin 1s steps(1) infinite;\n",
              "  }\n",
              "\n",
              "  @keyframes spin {\n",
              "    0% {\n",
              "      border-color: transparent;\n",
              "      border-bottom-color: var(--fill-color);\n",
              "      border-left-color: var(--fill-color);\n",
              "    }\n",
              "    20% {\n",
              "      border-color: transparent;\n",
              "      border-left-color: var(--fill-color);\n",
              "      border-top-color: var(--fill-color);\n",
              "    }\n",
              "    30% {\n",
              "      border-color: transparent;\n",
              "      border-left-color: var(--fill-color);\n",
              "      border-top-color: var(--fill-color);\n",
              "      border-right-color: var(--fill-color);\n",
              "    }\n",
              "    40% {\n",
              "      border-color: transparent;\n",
              "      border-right-color: var(--fill-color);\n",
              "      border-top-color: var(--fill-color);\n",
              "    }\n",
              "    60% {\n",
              "      border-color: transparent;\n",
              "      border-right-color: var(--fill-color);\n",
              "    }\n",
              "    80% {\n",
              "      border-color: transparent;\n",
              "      border-right-color: var(--fill-color);\n",
              "      border-bottom-color: var(--fill-color);\n",
              "    }\n",
              "    90% {\n",
              "      border-color: transparent;\n",
              "      border-bottom-color: var(--fill-color);\n",
              "    }\n",
              "  }\n",
              "</style>\n",
              "\n",
              "  <script>\n",
              "    async function quickchart(key) {\n",
              "      const quickchartButtonEl =\n",
              "        document.querySelector('#' + key + ' button');\n",
              "      quickchartButtonEl.disabled = true;  // To prevent multiple clicks.\n",
              "      quickchartButtonEl.classList.add('colab-df-spinner');\n",
              "      try {\n",
              "        const charts = await google.colab.kernel.invokeFunction(\n",
              "            'suggestCharts', [key], {});\n",
              "      } catch (error) {\n",
              "        console.error('Error during call to suggestCharts:', error);\n",
              "      }\n",
              "      quickchartButtonEl.classList.remove('colab-df-spinner');\n",
              "      quickchartButtonEl.classList.add('colab-df-quickchart-complete');\n",
              "    }\n",
              "    (() => {\n",
              "      let quickchartButtonEl =\n",
              "        document.querySelector('#df-010fbfbe-c8c6-4f1c-9ac2-fcc92aa683f7 button');\n",
              "      quickchartButtonEl.style.display =\n",
              "        google.colab.kernel.accessAllowed ? 'block' : 'none';\n",
              "    })();\n",
              "  </script>\n",
              "</div>\n",
              "\n",
              "    </div>\n",
              "  </div>\n"
            ],
            "text/plain": [
              "         mean   std  count\n",
              "sex                       \n",
              "hombres  38.4  12.7   1636\n",
              "mujeres  34.4  11.1    153"
            ]
          },
          "execution_count": 54,
          "metadata": {},
          "output_type": "execute_result"
        }
      ],
      "source": [
        "df[df['razón']=='consumo de sustancias psicoactivas'].groupby(['sex'])['edad'].aggregate(['mean','std','count']).round(1)"
      ]
    },
    {
      "cell_type": "code",
      "execution_count": 22,
      "metadata": {
        "colab": {
          "base_uri": "https://localhost:8080/",
          "height": 465
        },
        "id": "WI8sFClOfVnL",
        "outputId": "0ab2f20e-a1e9-4b86-9b4a-b6e1373b8b3e"
      },
      "outputs": [
        {
          "data": {
            "image/png": "[encoded data removed]",
            "text/plain": [
              "<Figure size 1500x500 with 1 Axes>"
            ]
          },
          "metadata": {},
          "output_type": "display_data"
        }
      ],
      "source": [
        "import seaborn as sns\n",
        "import matplotlib.pyplot as plt\n",
        "fig, ax = plt.subplots(figsize=(15,5))\n",
        "sns.histplot( df['edad'][(df['razón']=='consumo de sustancias psicoactivas')&(df['sex']=='hombres')] ,bins=7, color=\"yellow\", label=\"Hombres\",kde=True)\n",
        "sns.histplot( df['edad'][(df['razón']=='consumo de sustancias psicoactivas')&(df['sex']=='mujeres')] ,bins=7, color=\"blue\", label=\"Mujeres\",kde=True)\n",
        "ax.set_xlabel(\"fertilidad\")\n",
        "plt.legend();"
      ]
    },
    {
      "cell_type": "code",
      "execution_count": 25,
      "metadata": {
        "colab": {
          "base_uri": "https://localhost:8080/",
          "height": 426
        },
        "id": "0hhBvcfc4GNS",
        "outputId": "ce0707de-37f9-4984-9bc3-da67f789d8a6"
      },
      "outputs": [
        {
          "data": {
            "application/vnd.google.colaboratory.intrinsic+json": {
              "summary": "{\n  \"name\": \"df\",\n  \"rows\": 11,\n  \"fields\": [\n    {\n      \"column\": \"raz\\u00f3n\",\n      \"properties\": {\n        \"dtype\": \"string\",\n        \"num_unique_values\": 11,\n        \"samples\": [\n          \"dificultades econ\\u00f3micas\",\n          \"Influencia de otras personas\",\n          \"siempre he vivido en la calle\"\n        ],\n        \"semantic_type\": \"\",\n        \"description\": \"\"\n      }\n    },\n    {\n      \"column\": \"hombres\",\n      \"properties\": {\n        \"dtype\": \"number\",\n        \"std\": 3.977276363634702,\n        \"min\": 35.8,\n        \"max\": 47.3,\n        \"num_unique_values\": 11,\n        \"samples\": [\n          45.6,\n          37.3,\n          47.3\n        ],\n        \"semantic_type\": \"\",\n        \"description\": \"\"\n      }\n    },\n    {\n      \"column\": \"mujeres\",\n      \"properties\": {\n        \"dtype\": \"number\",\n        \"std\": 5.074212881190182,\n        \"min\": 30.0,\n        \"max\": 46.8,\n        \"num_unique_values\": 11,\n        \"samples\": [\n          36.3,\n          36.7,\n          30.0\n        ],\n        \"semantic_type\": \"\",\n        \"description\": \"\"\n      }\n    }\n  ]\n}",
              "type": "dataframe"
            },
            "text/html": [
              "\n",
              "  <div id=\"df-03a506b4-78be-4c52-8d4f-5a79760f792a\" class=\"colab-df-container\">\n",
              "    <div>\n",
              "<style scoped>\n",
              "    .dataframe tbody tr th:only-of-type {\n",
              "        vertical-align: middle;\n",
              "    }\n",
              "\n",
              "    .dataframe tbody tr th {\n",
              "        vertical-align: top;\n",
              "    }\n",
              "\n",
              "    .dataframe thead th {\n",
              "        text-align: right;\n",
              "    }\n",
              "</style>\n",
              "<table border=\"1\" class=\"dataframe\">\n",
              "  <thead>\n",
              "    <tr style=\"text-align: right;\">\n",
              "      <th>sex</th>\n",
              "      <th>hombres</th>\n",
              "      <th>mujeres</th>\n",
              "    </tr>\n",
              "    <tr>\n",
              "      <th>razón</th>\n",
              "      <th></th>\n",
              "      <th></th>\n",
              "    </tr>\n",
              "  </thead>\n",
              "  <tbody>\n",
              "    <tr>\n",
              "      <th>Influencia de otras personas</th>\n",
              "      <td>37.3</td>\n",
              "      <td>36.7</td>\n",
              "    </tr>\n",
              "    <tr>\n",
              "      <th>abuso  sexual</th>\n",
              "      <td>35.8</td>\n",
              "      <td>39.6</td>\n",
              "    </tr>\n",
              "    <tr>\n",
              "      <th>amenaza o riesgo para la vida</th>\n",
              "      <td>42.4</td>\n",
              "      <td>42.1</td>\n",
              "    </tr>\n",
              "    <tr>\n",
              "      <th>conflictos o dificultades familiares</th>\n",
              "      <td>41.9</td>\n",
              "      <td>37.9</td>\n",
              "    </tr>\n",
              "    <tr>\n",
              "      <th>consumo de sustancias psicoactivas</th>\n",
              "      <td>38.4</td>\n",
              "      <td>34.4</td>\n",
              "    </tr>\n",
              "    <tr>\n",
              "      <th>dificultades económicas</th>\n",
              "      <td>45.6</td>\n",
              "      <td>36.3</td>\n",
              "    </tr>\n",
              "    <tr>\n",
              "      <th>falta de trabajo</th>\n",
              "      <td>46.0</td>\n",
              "      <td>40.2</td>\n",
              "    </tr>\n",
              "    <tr>\n",
              "      <th>gusto personal</th>\n",
              "      <td>41.7</td>\n",
              "      <td>43.4</td>\n",
              "    </tr>\n",
              "    <tr>\n",
              "      <th>otra</th>\n",
              "      <td>46.6</td>\n",
              "      <td>46.2</td>\n",
              "    </tr>\n",
              "    <tr>\n",
              "      <th>siempre he vivido en la calle</th>\n",
              "      <td>47.3</td>\n",
              "      <td>30.0</td>\n",
              "    </tr>\n",
              "    <tr>\n",
              "      <th>víctima del conflito armado o desplazado</th>\n",
              "      <td>45.1</td>\n",
              "      <td>46.8</td>\n",
              "    </tr>\n",
              "  </tbody>\n",
              "</table>\n",
              "</div>\n",
              "    <div class=\"colab-df-buttons\">\n",
              "\n",
              "  <div class=\"colab-df-container\">\n",
              "    <button class=\"colab-df-convert\" onclick=\"convertToInteractive('df-03a506b4-78be-4c52-8d4f-5a79760f792a')\"\n",
              "            title=\"Convert this dataframe to an interactive table.\"\n",
              "            style=\"display:none;\">\n",
              "\n",
              "  <svg xmlns=\"http://www.w3.org/2000/svg\" height=\"24px\" viewBox=\"0 -960 960 960\">\n",
              "    <path d=\"M120-120v-720h720v720H120Zm60-500h600v-160H180v160Zm220 220h160v-160H400v160Zm0 220h160v-160H400v160ZM180-400h160v-160H180v160Zm440 0h160v-160H620v160ZM180-180h160v-160H180v160Zm440 0h160v-160H620v160Z\"/>\n",
              "  </svg>\n",
              "    </button>\n",
              "\n",
              "  <style>\n",
              "    .colab-df-container {\n",
              "      display:flex;\n",
              "      gap: 12px;\n",
              "    }\n",
              "\n",
              "    .colab-df-convert {\n",
              "      background-color: #E8F0FE;\n",
              "      border: none;\n",
              "      border-radius: 50%;\n",
              "      cursor: pointer;\n",
              "      display: none;\n",
              "      fill: #1967D2;\n",
              "      height: 32px;\n",
              "      padding: 0 0 0 0;\n",
              "      width: 32px;\n",
              "    }\n",
              "\n",
              "    .colab-df-convert:hover {\n",
              "      background-color: #E2EBFA;\n",
              "      box-shadow: 0px 1px 2px rgba(60, 64, 67, 0.3), 0px 1px 3px 1px rgba(60, 64, 67, 0.15);\n",
              "      fill: #174EA6;\n",
              "    }\n",
              "\n",
              "    .colab-df-buttons div {\n",
              "      margin-bottom: 4px;\n",
              "    }\n",
              "\n",
              "    [theme=dark] .colab-df-convert {\n",
              "      background-color: #3B4455;\n",
              "      fill: #D2E3FC;\n",
              "    }\n",
              "\n",
              "    [theme=dark] .colab-df-convert:hover {\n",
              "      background-color: #434B5C;\n",
              "      box-shadow: 0px 1px 3px 1px rgba(0, 0, 0, 0.15);\n",
              "      filter: drop-shadow(0px 1px 2px rgba(0, 0, 0, 0.3));\n",
              "      fill: #FFFFFF;\n",
              "    }\n",
              "  </style>\n",
              "\n",
              "    <script>\n",
              "      const buttonEl =\n",
              "        document.querySelector('#df-03a506b4-78be-4c52-8d4f-5a79760f792a button.colab-df-convert');\n",
              "      buttonEl.style.display =\n",
              "        google.colab.kernel.accessAllowed ? 'block' : 'none';\n",
              "\n",
              "      async function convertToInteractive(key) {\n",
              "        const element = document.querySelector('#df-03a506b4-78be-4c52-8d4f-5a79760f792a');\n",
              "        const dataTable =\n",
              "          await google.colab.kernel.invokeFunction('convertToInteractive',\n",
              "                                                    [key], {});\n",
              "        if (!dataTable) return;\n",
              "\n",
              "        const docLinkHtml = 'Like what you see? Visit the ' +\n",
              "          '<a target=\"_blank\" href=https://colab.research.google.com/notebooks/data_table.ipynb>data table notebook</a>'\n",
              "          + ' to learn more about interactive tables.';\n",
              "        element.innerHTML = '';\n",
              "        dataTable['output_type'] = 'display_data';\n",
              "        await google.colab.output.renderOutput(dataTable, element);\n",
              "        const docLink = document.createElement('div');\n",
              "        docLink.innerHTML = docLinkHtml;\n",
              "        element.appendChild(docLink);\n",
              "      }\n",
              "    </script>\n",
              "  </div>\n",
              "\n",
              "\n",
              "<div id=\"df-dcaa68a2-65bd-4d4d-a4f5-dd9753ff8769\">\n",
              "  <button class=\"colab-df-quickchart\" onclick=\"quickchart('df-dcaa68a2-65bd-4d4d-a4f5-dd9753ff8769')\"\n",
              "            title=\"Suggest charts\"\n",
              "            style=\"display:none;\">\n",
              "\n",
              "<svg xmlns=\"http://www.w3.org/2000/svg\" height=\"24px\"viewBox=\"0 0 24 24\"\n",
              "     width=\"24px\">\n",
              "    <g>\n",
              "        <path d=\"M19 3H5c-1.1 0-2 .9-2 2v14c0 1.1.9 2 2 2h14c1.1 0 2-.9 2-2V5c0-1.1-.9-2-2-2zM9 17H7v-7h2v7zm4 0h-2V7h2v10zm4 0h-2v-4h2v4z\"/>\n",
              "    </g>\n",
              "</svg>\n",
              "  </button>\n",
              "\n",
              "<style>\n",
              "  .colab-df-quickchart {\n",
              "      --bg-color: #E8F0FE;\n",
              "      --fill-color: #1967D2;\n",
              "      --hover-bg-color: #E2EBFA;\n",
              "      --hover-fill-color: #174EA6;\n",
              "      --disabled-fill-color: #AAA;\n",
              "      --disabled-bg-color: #DDD;\n",
              "  }\n",
              "\n",
              "  [theme=dark] .colab-df-quickchart {\n",
              "      --bg-color: #3B4455;\n",
              "      --fill-color: #D2E3FC;\n",
              "      --hover-bg-color: #434B5C;\n",
              "      --hover-fill-color: #FFFFFF;\n",
              "      --disabled-bg-color: #3B4455;\n",
              "      --disabled-fill-color: #666;\n",
              "  }\n",
              "\n",
              "  .colab-df-quickchart {\n",
              "    background-color: var(--bg-color);\n",
              "    border: none;\n",
              "    border-radius: 50%;\n",
              "    cursor: pointer;\n",
              "    display: none;\n",
              "    fill: var(--fill-color);\n",
              "    height: 32px;\n",
              "    padding: 0;\n",
              "    width: 32px;\n",
              "  }\n",
              "\n",
              "  .colab-df-quickchart:hover {\n",
              "    background-color: var(--hover-bg-color);\n",
              "    box-shadow: 0 1px 2px rgba(60, 64, 67, 0.3), 0 1px 3px 1px rgba(60, 64, 67, 0.15);\n",
              "    fill: var(--button-hover-fill-color);\n",
              "  }\n",
              "\n",
              "  .colab-df-quickchart-complete:disabled,\n",
              "  .colab-df-quickchart-complete:disabled:hover {\n",
              "    background-color: var(--disabled-bg-color);\n",
              "    fill: var(--disabled-fill-color);\n",
              "    box-shadow: none;\n",
              "  }\n",
              "\n",
              "  .colab-df-spinner {\n",
              "    border: 2px solid var(--fill-color);\n",
              "    border-color: transparent;\n",
              "    border-bottom-color: var(--fill-color);\n",
              "    animation:\n",
              "      spin 1s steps(1) infinite;\n",
              "  }\n",
              "\n",
              "  @keyframes spin {\n",
              "    0% {\n",
              "      border-color: transparent;\n",
              "      border-bottom-color: var(--fill-color);\n",
              "      border-left-color: var(--fill-color);\n",
              "    }\n",
              "    20% {\n",
              "      border-color: transparent;\n",
              "      border-left-color: var(--fill-color);\n",
              "      border-top-color: var(--fill-color);\n",
              "    }\n",
              "    30% {\n",
              "      border-color: transparent;\n",
              "      border-left-color: var(--fill-color);\n",
              "      border-top-color: var(--fill-color);\n",
              "      border-right-color: var(--fill-color);\n",
              "    }\n",
              "    40% {\n",
              "      border-color: transparent;\n",
              "      border-right-color: var(--fill-color);\n",
              "      border-top-color: var(--fill-color);\n",
              "    }\n",
              "    60% {\n",
              "      border-color: transparent;\n",
              "      border-right-color: var(--fill-color);\n",
              "    }\n",
              "    80% {\n",
              "      border-color: transparent;\n",
              "      border-right-color: var(--fill-color);\n",
              "      border-bottom-color: var(--fill-color);\n",
              "    }\n",
              "    90% {\n",
              "      border-color: transparent;\n",
              "      border-bottom-color: var(--fill-color);\n",
              "    }\n",
              "  }\n",
              "</style>\n",
              "\n",
              "  <script>\n",
              "    async function quickchart(key) {\n",
              "      const quickchartButtonEl =\n",
              "        document.querySelector('#' + key + ' button');\n",
              "      quickchartButtonEl.disabled = true;  // To prevent multiple clicks.\n",
              "      quickchartButtonEl.classList.add('colab-df-spinner');\n",
              "      try {\n",
              "        const charts = await google.colab.kernel.invokeFunction(\n",
              "            'suggestCharts', [key], {});\n",
              "      } catch (error) {\n",
              "        console.error('Error during call to suggestCharts:', error);\n",
              "      }\n",
              "      quickchartButtonEl.classList.remove('colab-df-spinner');\n",
              "      quickchartButtonEl.classList.add('colab-df-quickchart-complete');\n",
              "    }\n",
              "    (() => {\n",
              "      let quickchartButtonEl =\n",
              "        document.querySelector('#df-dcaa68a2-65bd-4d4d-a4f5-dd9753ff8769 button');\n",
              "      quickchartButtonEl.style.display =\n",
              "        google.colab.kernel.accessAllowed ? 'block' : 'none';\n",
              "    })();\n",
              "  </script>\n",
              "</div>\n",
              "\n",
              "    </div>\n",
              "  </div>\n"
            ],
            "text/plain": [
              "sex                                       hombres  mujeres\n",
              "razón                                                     \n",
              "Influencia de otras personas                 37.3     36.7\n",
              "abuso  sexual                                35.8     39.6\n",
              "amenaza o riesgo para la vida                42.4     42.1\n",
              "conflictos o dificultades familiares         41.9     37.9\n",
              "consumo de sustancias psicoactivas           38.4     34.4\n",
              "dificultades económicas                      45.6     36.3\n",
              "falta de trabajo                             46.0     40.2\n",
              "gusto personal                               41.7     43.4\n",
              "otra                                         46.6     46.2\n",
              "siempre he vivido en la calle                47.3     30.0\n",
              "víctima del conflito armado o desplazado     45.1     46.8"
            ]
          },
          "execution_count": 25,
          "metadata": {},
          "output_type": "execute_result"
        }
      ],
      "source": [
        "df.pivot_table(index='razón',columns='sex',values='edad',aggfunc='mean').round(1)"
      ]
    },
    {
      "cell_type": "markdown",
      "metadata": {
        "id": "2Yiq06bv7T-I"
      },
      "source": [
        "## **IC para la diferencia de medias**"
      ]
    },
    {
      "cell_type": "code",
      "execution_count": 30,
      "metadata": {
        "colab": {
          "base_uri": "https://localhost:8080/"
        },
        "id": "Ts0-IOPX6NL0",
        "outputId": "1afd00a0-c0a8-44db-b078-b7dabc18c21b"
      },
      "outputs": [
        {
          "name": "stdout",
          "output_type": "stream",
          "text": [
            "hombres:  38.369804400978 12.726943374908982 1636\n",
            "mujeres:  34.40522875816993 11.095540775996415 153\n"
          ]
        }
      ],
      "source": [
        "promedio1=df['edad'][(df['sex']=='hombres')&(df['razón']=='consumo de sustancias psicoactivas')].mean()\n",
        "desviacion1=df['edad'][(df['sex']=='hombres')&(df['razón']=='consumo de sustancias psicoactivas')].std()\n",
        "n1=df['edad'][(df['sex']=='hombres')&(df['razón']=='consumo de sustancias psicoactivas')].count()\n",
        "promedio2=df['edad'][(df['sex']=='mujeres')&(df['razón']=='consumo de sustancias psicoactivas')].mean()\n",
        "desviacion2=df['edad'][(df['sex']=='mujeres')&(df['razón']=='consumo de sustancias psicoactivas')].std()\n",
        "n2=df['edad'][(df['sex']=='mujeres')&(df['razón']=='consumo de sustancias psicoactivas')].count()\n",
        "print('hombres: ', promedio1, desviacion1,n1)\n",
        "print('mujeres: ', promedio2, desviacion2,n2)"
      ]
    },
    {
      "cell_type": "code",
      "execution_count": 31,
      "metadata": {
        "colab": {
          "base_uri": "https://localhost:8080/"
        },
        "id": "cOFWv20r7YBv",
        "outputId": "283e6e67-951e-4c6a-fe1a-4ed22d3be8d6"
      },
      "outputs": [
        {
          "data": {
            "text/plain": [
              "1.959963984540054"
            ]
          },
          "execution_count": 31,
          "metadata": {},
          "output_type": "execute_result"
        }
      ],
      "source": [
        "confianza=0.95\n",
        "alpha=1-confianza\n",
        "from scipy.stats import norm\n",
        "z=norm.ppf(1-alpha/2,0,1)\n",
        "import math\n",
        "z"
      ]
    },
    {
      "cell_type": "code",
      "execution_count": 32,
      "metadata": {
        "colab": {
          "base_uri": "https://localhost:8080/"
        },
        "id": "xRTRHT0i7mWa",
        "outputId": "85d3e33d-b047-4523-85cc-569c259a4314"
      },
      "outputs": [
        {
          "name": "stdout",
          "output_type": "stream",
          "text": [
            "2.1 5.8\n"
          ]
        }
      ],
      "source": [
        "LI=(promedio1-promedio2)-z*math.sqrt(desviacion1**2/n1+desviacion2**2/n2)\n",
        "LS=(promedio1-promedio2)+z*math.sqrt(desviacion1**2/n1+desviacion2**2/n2)\n",
        "print(LI.round(1),LS.round(1))"
      ]
    },
    {
      "cell_type": "markdown",
      "metadata": {
        "id": "jSq-G4Ut8rLx"
      },
      "source": [
        "Conclusión por medio del IC: como el IC del 95% no contiene al cero, asumimos que existe diferencia significativa entre la edad promedio de hombres y mujeres cuya principal razón para estar en la calle es el consumo de sustancias psicoactivas."
      ]
    },
    {
      "cell_type": "markdown",
      "metadata": {
        "id": "fze7iIOI9u99"
      },
      "source": [
        "## Prueba de hipótesis"
      ]
    },
    {
      "cell_type": "markdown",
      "metadata": {
        "id": "WsISxd7Z9yfM"
      },
      "source": [
        "### 1. Hipótesis nula<br>\n",
        "###H0: La edad promedio de los habitantes de calle hombres y mujeres que están en la calle por el consumo de sustancias psicoactivas es la misma."
      ]
    },
    {
      "cell_type": "markdown",
      "metadata": {
        "id": "n_hbyF7p-O9a"
      },
      "source": [
        "### 2. Hipótesis alternativa<br>\n",
        "### Ha: La edad promedio de las habitantes de calle hombres y mujeres que están en la calle por el consumo de sustancias psicoactivas no es la misma"
      ]
    },
    {
      "cell_type": "markdown",
      "metadata": {
        "id": "3WUP1-K3-dKJ"
      },
      "source": [
        "### 3. Prueba estadística"
      ]
    },
    {
      "cell_type": "code",
      "execution_count": 33,
      "metadata": {
        "colab": {
          "base_uri": "https://localhost:8080/"
        },
        "id": "a1Ve4A-7-ctq",
        "outputId": "cad8d0cf-29b0-479e-82e1-9495d6c0b02b"
      },
      "outputs": [
        {
          "name": "stdout",
          "output_type": "stream",
          "text": [
            "3.7229085639916075\n"
          ]
        }
      ],
      "source": [
        "sp2=((n1-1)*desviacion1**2+(n2-1)*desviacion2**2)/(n1+n2-2)\n",
        "tc=(promedio1-promedio2)/math.sqrt(sp2*(1/n1+1/n2))\n",
        "print(tc)"
      ]
    },
    {
      "cell_type": "markdown",
      "metadata": {
        "id": "q198Cahi_xp_"
      },
      "source": [
        "### 3. Región de rechazo"
      ]
    },
    {
      "cell_type": "code",
      "execution_count": 34,
      "metadata": {
        "colab": {
          "base_uri": "https://localhost:8080/"
        },
        "id": "Ow0hP2BzACwY",
        "outputId": "702b9e46-14c0-4ceb-918a-1f2dd5abce3a"
      },
      "outputs": [
        {
          "name": "stdout",
          "output_type": "stream",
          "text": [
            "Región de rechazo:\n",
            "valores t que sean más pequeños que  -1.9612923849278272  o valores t que sean más grandes que  1.9612923849278272\n"
          ]
        }
      ],
      "source": [
        "confianza=0.95\n",
        "alpha=1-confianza\n",
        "from scipy.stats import t\n",
        "tcritico=t.ppf(1-alpha/2,n1+n2-2)\n",
        "import math\n",
        "print('Región de rechazo:')\n",
        "print('valores t que sean más pequeños que ', -tcritico, ' o valores t que sean más grandes que ',tcritico)"
      ]
    },
    {
      "cell_type": "markdown",
      "metadata": {
        "id": "1JS-JYO5AgeL"
      },
      "source": [
        "### Valor p"
      ]
    },
    {
      "cell_type": "code",
      "execution_count": 35,
      "metadata": {
        "colab": {
          "base_uri": "https://localhost:8080/"
        },
        "id": "rOcoPScKAm-x",
        "outputId": "20beadb4-cf59-4ad6-c094-28a87512e9c7"
      },
      "outputs": [
        {
          "name": "stdout",
          "output_type": "stream",
          "text": [
            "0.0002030426\n"
          ]
        }
      ],
      "source": [
        "from scipy.stats import t\n",
        "p_value=t.cdf(-abs(tc),df=n1+n2-2) +t.sf(abs(tc)  ,df=n1+n2-2)# suma de probabilidades de cola a izquierda y derecha respectivamente\n",
        "print(\"{:.10f}\".format(p_value))"
      ]
    },
    {
      "cell_type": "markdown",
      "metadata": {
        "id": "2YkHoemFHUwK"
      },
      "source": [
        "### Conclusión"
      ]
    },
    {
      "cell_type": "code",
      "execution_count": 36,
      "metadata": {
        "colab": {
          "base_uri": "https://localhost:8080/"
        },
        "id": "jyd4V5VAHWq3",
        "outputId": "e0976f46-6e3a-45d6-c084-209c4a3c15fb"
      },
      "outputs": [
        {
          "name": "stdout",
          "output_type": "stream",
          "text": [
            "Primera forma de conclusión:\n",
            "Como el valor de la prueba estadística es  3.72291\n",
            "y los valores críticos son: -1.9612923849278272  y  1.9612923849278272\n",
            "con una confianza del  95.0 % no se rechaza H0, es decir, la edad promedio de las habitantes de calle hombres y mujeres que estan en la calle\n",
            "por consumo de sustancias no es significativamente diferente\n"
          ]
        }
      ],
      "source": [
        "print('Primera forma de conclusión:')\n",
        "print('Como el valor de la prueba estadística es ', tc.round(5))\n",
        "print('y los valores críticos son:', -tcritico, ' y ', tcritico)\n",
        "print('con una confianza del ', confianza*100, '% no se rechaza H0, es decir, la edad promedio de las habitantes de calle hombres y mujeres que estan en la calle')\n",
        "print('por consumo de sustancias no es significativamente diferente')"
      ]
    },
    {
      "cell_type": "code",
      "execution_count": 37,
      "metadata": {
        "colab": {
          "base_uri": "https://localhost:8080/"
        },
        "id": "36jbq-PqIW-T",
        "outputId": "89d43bea-ef7e-4323-b7b5-abff5b94316f"
      },
      "outputs": [
        {
          "name": "stdout",
          "output_type": "stream",
          "text": [
            "Segunda forma de conclusión:\n",
            "Como el valor p es  0.0002030426\n",
            "y este valor es superior a  0.05\n",
            "no se rechaza H0,  es decir, la edad promedio de las habitantes de calle hombres y mujeres que estan en la calle\n",
            "por consumo de sustancias no es significativamente diferente\n"
          ]
        }
      ],
      "source": [
        "print('Segunda forma de conclusión:')\n",
        "print('Como el valor p es ',\"{:.10f}\".format(p_value))\n",
        "print('y este valor es superior a ', \"{:.2f}\".format(alpha))\n",
        "print('no se rechaza H0,  es decir, la edad promedio de las habitantes de calle hombres y mujeres que estan en la calle')\n",
        "print('por consumo de sustancias no es significativamente diferente')"
      ]
    }
  ],
  "metadata": {
    "colab": {
      "provenance": []
    },
    "kernelspec": {
      "display_name": "Python 3",
      "name": "python3"
    },
    "language_info": {
      "codemirror_mode": {
        "name": "ipython",
        "version": 3
      },
      "file_extension": ".py",
      "mimetype": "text/x-python",
      "name": "python",
      "nbconvert_exporter": "python",
      "pygments_lexer": "ipython3",
      "version": "3.11.7"
    }
  },
  "nbformat": 4,
  "nbformat_minor": 0
}
