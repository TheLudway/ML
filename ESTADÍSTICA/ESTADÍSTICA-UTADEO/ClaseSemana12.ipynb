{
 "cells": [
  {
   "cell_type": "markdown",
   "metadata": {},
   "source": [
    "# Ejemplo 5.1\n",
    " Calcule la función de distribución de la situación inicial y expresar las siguientes probabilidades en términos de ella.\n",
    "\n",
    " a. Probabilidad de obtener tres respuestas correctas o menos.\n",
    "\n",
    " b. Probabilidad de obtener menos de tres respuestas correctas.\n",
    "\n",
    " c. Probabilidad de obtener exactamente tres respuestas correctas.\n",
    " \n",
    " d. Probabilidad de aprobar el examen."
   ]
  },
  {
   "cell_type": "code",
   "execution_count": 1,
   "metadata": {},
   "outputs": [],
   "source": [
    "import math\n",
    "import numpy as np\n",
    "import matplotlib.pyplot as plt"
   ]
  },
  {
   "cell_type": "markdown",
   "metadata": {},
   "source": [
    "Teniendo en cuenta que hay5 preguntas con 4 opciones de respuesta, entonces se sabe que se va a obtener una distribución de probabilidad binomial, representanda como:\n",
    "$$\n",
    "P(X = x) = \\begin{pmatrix} n \\\\ x \\end{pmatrix} \\cdot p^x (1 - P)^{n-x}\n",
    "$$\n",
    "Teniendo en cuenta que la probabilidad para asertar en cada pregunta es la misma. Se puede entonces tener los valores de cada probabilidad para cada $x\\in\\{0, 1, \\cdots, 5\\}$ "
   ]
  },
  {
   "cell_type": "code",
   "execution_count": 8,
   "metadata": {},
   "outputs": [
    {
     "name": "stdout",
     "output_type": "stream",
     "text": [
      "La probabilidad de obtener 0 respuesta/s correctas es 0.2373046875\n",
      "La probabilidad de obtener 1 respuesta/s correctas es 0.3955078125\n",
      "La probabilidad de obtener 2 respuesta/s correctas es 0.263671875\n",
      "La probabilidad de obtener 3 respuesta/s correctas es 0.087890625\n",
      "La probabilidad de obtener 4 respuesta/s correctas es 0.0146484375\n",
      "La probabilidad de obtener 5 respuesta/s correctas es 0.0009765625\n"
     ]
    }
   ],
   "source": [
    "P_x = [math.comb(5, x)*0.25**x*(1-0.25)**(5-x) for x in range(6)]\n",
    "P_x\n",
    "for i in range(len(P_x)):\n",
    "    print(f\"La probabilidad de obtener {i} respuesta/s correctas es {P_x[i]}\")"
   ]
  },
  {
   "cell_type": "markdown",
   "metadata": {},
   "source": [
    "Se tienen entonces que la lista `P_x` tiene el conjunto de las probabilidades para cada respuesta correcta. Teniendo eso en cuenta se puede dar solución a los puntos 1 al 5.\n",
    "\n",
    "### Probabilidad de obtener tres respuestas correctas o menos\n",
    "Se tienen que sumar las probabilidades desde el 0 hasta el 3. Por lo tanto, esto se escribe tal que:"
   ]
  },
  {
   "cell_type": "code",
   "execution_count": 9,
   "metadata": {},
   "outputs": [
    {
     "data": {
      "text/plain": [
       "0.984375"
      ]
     },
     "execution_count": 9,
     "metadata": {},
     "output_type": "execute_result"
    }
   ],
   "source": [
    "sum(P_x[0:4])"
   ]
  }
 ],
 "metadata": {
  "kernelspec": {
   "display_name": "base",
   "language": "python",
   "name": "python3"
  },
  "language_info": {
   "codemirror_mode": {
    "name": "ipython",
    "version": 3
   },
   "file_extension": ".py",
   "mimetype": "text/x-python",
   "name": "python",
   "nbconvert_exporter": "python",
   "pygments_lexer": "ipython3",
   "version": "3.11.7"
  }
 },
 "nbformat": 4,
 "nbformat_minor": 2
}
