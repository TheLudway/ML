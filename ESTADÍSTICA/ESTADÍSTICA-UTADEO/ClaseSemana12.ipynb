{
 "cells": [
  {
   "cell_type": "markdown",
   "metadata": {},
   "source": [
    "# Ejemplo 5.1\n",
    " Calcule la función de distribución de la situación inicial y expresar las siguientes probabilidades en términos de ella.\n",
    "\n",
    " a. Probabilidad de obtener tres respuestas correctas o menos.\n",
    "\n",
    " b. Probabilidad de obtener menos de tres respuestas correctas.\n",
    "\n",
    " c. Probabilidad de obtener exactamente tres respuestas correctas.\n",
    " \n",
    " d. Probabilidad de aprobar el examen."
   ]
  },
  {
   "cell_type": "code",
   "execution_count": null,
   "metadata": {
    "vscode": {
     "languageId": "plaintext"
    }
   },
   "outputs": [],
   "source": []
  }
 ],
 "metadata": {
  "language_info": {
   "name": "python"
  }
 },
 "nbformat": 4,
 "nbformat_minor": 2
}
