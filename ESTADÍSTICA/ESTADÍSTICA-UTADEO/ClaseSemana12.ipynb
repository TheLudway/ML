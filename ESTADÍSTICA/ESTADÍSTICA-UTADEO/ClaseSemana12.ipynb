{
 "cells": [
  {
   "cell_type": "markdown",
   "metadata": {},
   "source": [
    "# Ejemplo 5.1\n",
    " Calcule la función de distribución de la situación inicial y expresar las siguientes probabilidades en términos de ella.\n",
    "\n",
    " a. Probabilidad de obtener tres respuestas correctas o menos.\n",
    "\n",
    " b. Probabilidad de obtener menos de tres respuestas correctas.\n",
    "\n",
    " c. Probabilidad de obtener exactamente tres respuestas correctas.\n",
    " \n",
    " d. Probabilidad de aprobar el examen."
   ]
  },
  {
   "cell_type": "code",
   "execution_count": 1,
   "metadata": {},
   "outputs": [],
   "source": [
    "import math\n",
    "import numpy as np\n",
    "import matplotlib.pyplot as plt"
   ]
  },
  {
   "cell_type": "markdown",
   "metadata": {},
   "source": [
    "Teniendo en cuenta que hay5 preguntas con 4 opciones de respuesta, entonces se sabe que se va a obtener una distribución de probabilidad binomial, representanda como:\n",
    "$$\n",
    "P(X = x) = \\begin{pmatrix} n \\\\ x \\end{pmatrix} \\cdot p^x (1 - P)^{n-x}\n",
    "$$\n",
    "Teniendo en cuenta que la probabilidad para asertar en cada "
   ]
  }
 ],
 "metadata": {
  "kernelspec": {
   "display_name": "base",
   "language": "python",
   "name": "python3"
  },
  "language_info": {
   "codemirror_mode": {
    "name": "ipython",
    "version": 3
   },
   "file_extension": ".py",
   "mimetype": "text/x-python",
   "name": "python",
   "nbconvert_exporter": "python",
   "pygments_lexer": "ipython3",
   "version": "3.11.7"
  }
 },
 "nbformat": 4,
 "nbformat_minor": 2
}
