{
 "cells": [
  {
   "cell_type": "markdown",
   "metadata": {},
   "source": [
    "# Ejemplo 5.1\n",
    " Calcule la función de distribución de la situación inicial y expresar las siguientes probabilidades en términos de ella.\n",
    "\n",
    " a. Probabilidad de obtener tres respuestas correctas o menos.\n",
    "\n",
    " b. Probabilidad de obtener menos de tres respuestas correctas.\n",
    "\n",
    " c. Probabilidad de obtener exactamente tres respuestas correctas.\n",
    " \n",
    " d. Probabilidad de aprobar el examen."
   ]
  },
  {
   "cell_type": "code",
   "execution_count": 1,
   "metadata": {},
   "outputs": [],
   "source": [
    "import math\n",
    "import numpy as np\n",
    "import matplotlib.pyplot as plt"
   ]
  },
  {
   "cell_type": "markdown",
   "metadata": {},
   "source": [
    "Teniendo en cuenta que hay5 preguntas con 4 opciones de respuesta, entonces se sabe que se va a obtener una distribución de probabilidad binomial, representanda como:\n",
    "$$\n",
    "P(X = x) = \\begin{pmatrix} n \\\\ x \\end{pmatrix} \\cdot p^x (1 - P)^{n-x}\n",
    "$$\n",
    "Teniendo en cuenta que la probabilidad para asertar en cada pregunta es la misma. Se puede entonces tener los valores de cada probabilidad para cada $x\\in\\{0, 1, \\cdots, 5\\}$ "
   ]
  },
  {
   "cell_type": "code",
   "execution_count": 8,
   "metadata": {},
   "outputs": [
    {
     "name": "stdout",
     "output_type": "stream",
     "text": [
      "La probabilidad de obtener 0 respuesta/s correctas es 0.2373046875\n",
      "La probabilidad de obtener 1 respuesta/s correctas es 0.3955078125\n",
      "La probabilidad de obtener 2 respuesta/s correctas es 0.263671875\n",
      "La probabilidad de obtener 3 respuesta/s correctas es 0.087890625\n",
      "La probabilidad de obtener 4 respuesta/s correctas es 0.0146484375\n",
      "La probabilidad de obtener 5 respuesta/s correctas es 0.0009765625\n"
     ]
    }
   ],
   "source": [
    "P_x = [math.comb(5, x)*0.25**x*(1-0.25)**(5-x) for x in range(6)]\n",
    "P_x\n",
    "for i in range(len(P_x)):\n",
    "    print(f\"La probabilidad de obtener {i} respuesta/s correctas es {P_x[i]}\")"
   ]
  },
  {
   "cell_type": "markdown",
   "metadata": {},
   "source": [
    "Se tienen entonces que la lista `P_x` tiene el conjunto de las probabilidades para cada respuesta correcta. Teniendo eso en cuenta se puede dar solución a los puntos 1 al 5.\n",
    "\n",
    "### a. Probabilidad de obtener tres respuestas correctas o menos\n",
    "Se tienen que sumar las probabilidades desde el 0 hasta el 3. Por lo tanto, esto se escribe tal que:"
   ]
  },
  {
   "cell_type": "code",
   "execution_count": 12,
   "metadata": {},
   "outputs": [
    {
     "data": {
      "text/plain": [
       "0.984375"
      ]
     },
     "execution_count": 12,
     "metadata": {},
     "output_type": "execute_result"
    }
   ],
   "source": [
    "sum(P_x[0:4])"
   ]
  },
  {
   "cell_type": "markdown",
   "metadata": {},
   "source": [
    "Se puede interpretar como que hay un 98% de probabilidad de sacar 3 respuestas correctas o menos en el examen. "
   ]
  },
  {
   "cell_type": "markdown",
   "metadata": {},
   "source": [
    "### b. Probabilidad de obtener menos de tres respuestas correctas.\n",
    "En este caso tenemos que el intervalo no incluye al 3 propio, entonces tenemos que marcar intervalo de la suma como $[0, 2]$, así entonces, en *python* queda como:"
   ]
  },
  {
   "cell_type": "code",
   "execution_count": 10,
   "metadata": {},
   "outputs": [
    {
     "data": {
      "text/plain": [
       "0.896484375"
      ]
     },
     "execution_count": 10,
     "metadata": {},
     "output_type": "execute_result"
    }
   ],
   "source": [
    "sum(P_x[0:3])"
   ]
  },
  {
   "cell_type": "markdown",
   "metadata": {},
   "source": [
    "Es decir, la probabilidad de obtener menos de tres respuestas correctas en el examen es del 89%."
   ]
  },
  {
   "cell_type": "markdown",
   "metadata": {},
   "source": [
    "### c. Probabilidad de obtener exactamente tres respuestas correctas\n",
    "Únicamente se axede al index de la lista."
   ]
  },
  {
   "cell_type": "code",
   "execution_count": null,
   "metadata": {},
   "outputs": [
    {
     "data": {
      "text/plain": [
       "0.087890625"
      ]
     },
     "execution_count": 14,
     "metadata": {},
     "output_type": "execute_result"
    }
   ],
   "source": [
    "P_x[3]"
   ]
  },
  {
   "cell_type": "markdown",
   "metadata": {},
   "source": [
    "Es decir, hay un 8.7% de probabilidad de sacar exactamente 3 respuestas correctas."
   ]
  },
  {
   "cell_type": "markdown",
   "metadata": {},
   "source": [
    "### d. Probabilidad de aprobar el examen\n",
    "Se pasa con una nota de 3, 4 o 5. Entonces, basta con suma desde 3 hasta 5 las probabilidades, por parte:"
   ]
  },
  {
   "cell_type": "code",
   "execution_count": 15,
   "metadata": {},
   "outputs": [
    {
     "data": {
      "text/plain": [
       "0.103515625"
      ]
     },
     "execution_count": 15,
     "metadata": {},
     "output_type": "execute_result"
    }
   ],
   "source": [
    "sum(P_x[3:6])"
   ]
  },
  {
   "cell_type": "markdown",
   "metadata": {},
   "source": [
    "Es decir, hay un 10% de chance para pasar el parcial."
   ]
  },
  {
   "cell_type": "code",
   "execution_count": null,
   "metadata": {},
   "outputs": [],
   "source": []
  }
 ],
 "metadata": {
  "kernelspec": {
   "display_name": "base",
   "language": "python",
   "name": "python3"
  },
  "language_info": {
   "codemirror_mode": {
    "name": "ipython",
    "version": 3
   },
   "file_extension": ".py",
   "mimetype": "text/x-python",
   "name": "python",
   "nbconvert_exporter": "python",
   "pygments_lexer": "ipython3",
   "version": "3.11.7"
  }
 },
 "nbformat": 4,
 "nbformat_minor": 2
}
